{
  "nbformat": 4,
  "nbformat_minor": 0,
  "metadata": {
    "colab": {
      "provenance": [],
      "toc_visible": true,
      "include_colab_link": true
    },
    "kernelspec": {
      "name": "python3",
      "display_name": "Python 3"
    }
  },
  "cells": [
    {
      "cell_type": "markdown",
      "metadata": {
        "id": "view-in-github",
        "colab_type": "text"
      },
      "source": [
        "<a href=\"https://colab.research.google.com/github/batiukmaks/Machine-Learning-Labs/blob/main/labs/lab-1/workbook_numpy_arrays.ipynb\" target=\"_parent\"><img src=\"https://colab.research.google.com/assets/colab-badge.svg\" alt=\"Open In Colab\"/></a>"
      ]
    },
    {
      "cell_type": "markdown",
      "metadata": {
        "id": "ATz_mp1zIQ20"
      },
      "source": [
        "Автор Тимчишин Віталій"
      ]
    },
    {
      "cell_type": "markdown",
      "metadata": {
        "id": "SLBl984sE4q3"
      },
      "source": [
        "Run the following hidden code to get few helper functions\n",
        "\n",
        "* `visualize_array(arr)` -- visualizes array\n",
        "* `how_broadcast(arr1, arr2)` -- visualizes how arrays `arr1` and `arr2` are broadcasted together."
      ]
    },
    {
      "cell_type": "code",
      "metadata": {
        "id": "lqUcDhM6Y-xl",
        "cellView": "form"
      },
      "source": [
        "#@title Helper Functions\n",
        "\n",
        "str_style = '''\n",
        "<style>\n",
        "table {\n",
        "  border-collapse: collapse;\n",
        "}\n",
        "\n",
        "td {\n",
        "  border: 3px solid #666666;\n",
        "  min-width:30px;\n",
        "  height: 30px;\n",
        "  position: relative;\n",
        "  text-align:center;\n",
        "  color: #474747;\n",
        "  font-size:20px;\n",
        "  font-weight: bolder;\n",
        "  padding: 19px;\n",
        "}\n",
        "\n",
        ".up{\n",
        "  position: absolute;\n",
        "  right: 0;\n",
        "  top: 0;\n",
        "  background: white;\n",
        "  text-align: right;\n",
        "  font-size: 16px;\n",
        "  font-family: Courier;\n",
        "  font-weight: bolder;\n",
        "  color: blue;\n",
        "  opacity: 1.0;\n",
        "  background-color:rgba(0, 0, 0, 0.0);\n",
        "}\n",
        "\n",
        ".down{\n",
        "  position: absolute;\n",
        "  right: 0;\n",
        "  bottom: 0;\n",
        "  background: white;\n",
        "  text-align: right;\n",
        "  font-size: 16px;\n",
        "  font-family: Courier;\n",
        "  font-weight: bolder;\n",
        "  color: red;\n",
        "  opacity: 0.9;\n",
        "  background-color:rgba(0, 0, 0, 0.0);\n",
        "}\n",
        "</style>\n",
        "'''\n",
        "\n",
        "#background-color:rgba(0, 0, 0, 0.0);\n",
        "\n",
        "def enclose_element(element, idx_up, idx_down):\n",
        "  return ('\\t<td>' + str(element) + '<span class=\"up\">'\n",
        "                   + str(idx_up)  + '</span><span class=\"down\">'\n",
        "                   + str(idx_down) + '</span></td>')\n",
        "\n",
        "def horizontal_tbl(array, color):\n",
        "  result = '<table bgcolor=\"' + color + '\"><tr>\\n'\n",
        "  max_count = len(array)\n",
        "  for idx, e in enumerate(array):\n",
        "    result += enclose_element(e, idx, idx - max_count) + '\\n'\n",
        "  result += '</tr></table>\\n'\n",
        "  return result\n",
        "\n",
        "def vertical_tbl(array, color):\n",
        "  result = '<table bgcolor=\"' + color + '\">\\n'\n",
        "  max_count = len(array)\n",
        "  for idx, e in enumerate(array):\n",
        "    result += '<tr>' + enclose_element(e, idx, idx - max_count) + '</tr>\\n'\n",
        "  result += '</table>\\n'\n",
        "  return result\n",
        "\n",
        "def recursive_tbl(array, parity, max_levels, level=0, color_A=[150,200,255], color_B=[75, 100, 170]):\n",
        "  if len(array.shape) == 1:\n",
        "    return horizontal_tbl(array, \"\".join([\"%02x\" % int(c) for c in color_A]))\n",
        "  mix = np.array(color_A) * (level/max_levels) + np.array(color_B) * (1.0 - level/max_levels)\n",
        "  color = \"\".join([\"%02x\" % int(c) for c in mix])\n",
        "  if parity:\n",
        "    return horizontal_tbl([recursive_tbl(x, not parity, max_levels, level+1, color_A, color_B) for x in array], color)\n",
        "  else:\n",
        "    return vertical_tbl([recursive_tbl(x, not parity, max_levels, level+1, color_A, color_B) for x in array], color)\n",
        "\n",
        "def array_to_html(array):\n",
        "  return str_style + recursive_tbl(array, len(array.shape) % 2, len(array.shape)-1)\n",
        "\n",
        "def visualize_array(array):\n",
        "  array_str = array_to_html(array)\n",
        "  import IPython\n",
        "  from google.colab import output\n",
        "  display(IPython.display.HTML(array_str))\n",
        "\n",
        "str_style_bigtbl = '''\n",
        "<style>\n",
        ".bigtable {\n",
        "  border-collapse: collapse;\n",
        "}\n",
        "\n",
        ".bigtd {\n",
        "  border: 3px solid #ffd4d3ff;\n",
        "  min-width:30px;\n",
        "  height: 30px;\n",
        "  position: relative;\n",
        "  text-align:center;\n",
        "  color: #474747;\n",
        "  font-size:20px;\n",
        "  font-weight: bolder;\n",
        "  padding: 19px;\n",
        "}\n",
        "\n",
        "</style>\n",
        "'''\n",
        "\n",
        "def envelope_tbl(lst):\n",
        "  result = '<table class=\"bigtable\">\\n'\n",
        "  for row in lst:\n",
        "    result += '<tr>\\n\\t'\n",
        "    for e in row:\n",
        "      if isinstance(e, dict):\n",
        "        result += '<td class=\"bigtd\" '\n",
        "        for key in e:\n",
        "          if key != 'text':\n",
        "            result += str(key) + '=\"' + str(e[key]) + '\" '\n",
        "        result += '>' + str(e['text']) + '</td>'\n",
        "      else:\n",
        "        result += '<td class=\"bigtd\">' + str(e) + '</td>'\n",
        "    result += '\\n</tr>\\n'\n",
        "  result += '</table>'\n",
        "  return result\n",
        "\n",
        "def draw_tbl(lst):\n",
        "  result = envelope_tbl(lst)\n",
        "  import IPython\n",
        "  from google.colab import output\n",
        "  display(IPython.display.HTML(str_style_bigtbl + result))\n",
        "\n",
        "\n",
        "def how_broadcast(a, b):\n",
        "  x, y = np.broadcast_arrays(a, b)\n",
        "  draw_tbl([[{'text': 'ORIGINAL ARRAYS', 'colspan':2}],\n",
        "            [array_to_html(a), array_to_html(b)],\n",
        "            [{'text': 'BROADCASTED', 'colspan':2}],\n",
        "            [array_to_html(x), array_to_html(y)]])"
      ],
      "execution_count": 5,
      "outputs": []
    },
    {
      "cell_type": "markdown",
      "metadata": {
        "id": "tLOmS8llR-UM"
      },
      "source": [
        "#Beginner"
      ]
    },
    {
      "cell_type": "markdown",
      "metadata": {
        "id": "WdeAk7T7Gubx"
      },
      "source": [
        "##1. Import numpy as np and see the version"
      ]
    },
    {
      "cell_type": "markdown",
      "metadata": {
        "id": "vHCgxwI_HM3Z"
      },
      "source": [
        "**Problem:**\n",
        "Import numpy as “np” and print the version number."
      ]
    },
    {
      "cell_type": "code",
      "metadata": {
        "id": "JsYrxTWsGubz"
      },
      "source": [
        "# Enter your code here\n",
        "import numpy as np"
      ],
      "execution_count": null,
      "outputs": []
    },
    {
      "cell_type": "code",
      "metadata": {
        "id": "bq7CLWBuGub4",
        "colab": {
          "base_uri": "https://localhost:8080/"
        },
        "outputId": "a3101673-3a0a-45e3-ec1b-f4d15ee81966"
      },
      "source": [
        "#@title ###Solution (double-click to see the source code)\n",
        "import numpy as np\n",
        "print(np.__version__)"
      ],
      "execution_count": null,
      "outputs": [
        {
          "output_type": "stream",
          "name": "stdout",
          "text": [
            "1.25.2\n"
          ]
        }
      ]
    },
    {
      "cell_type": "markdown",
      "metadata": {
        "id": "x8_Gd_SOGub7"
      },
      "source": [
        "##2. How to create a 1D array?\n"
      ]
    },
    {
      "cell_type": "markdown",
      "metadata": {
        "id": "_yxf32rgHwF5"
      },
      "source": [
        "**Problem:**\n",
        "Create a 1D array of numbers from 0 to 9"
      ]
    },
    {
      "cell_type": "code",
      "metadata": {
        "id": "JuUiYkN9Gub8",
        "colab": {
          "base_uri": "https://localhost:8080/",
          "height": 91
        },
        "outputId": "b28e4bdc-993a-467a-dcba-87e633cce3a6"
      },
      "source": [
        "import numpy as np\n",
        "\n",
        "# Enter your code here\n",
        "a = np.arange(10)\n",
        "\n",
        "# Visualization\n",
        "visualize_array(a)"
      ],
      "execution_count": null,
      "outputs": [
        {
          "output_type": "display_data",
          "data": {
            "text/plain": [
              "<IPython.core.display.HTML object>"
            ],
            "text/html": [
              "\n",
              "<style>\n",
              "table {\n",
              "  border-collapse: collapse;\n",
              "}\n",
              "\n",
              "td {\n",
              "  border: 3px solid #666666;\n",
              "  min-width:30px;\n",
              "  height: 30px;\n",
              "  position: relative;\n",
              "  text-align:center;\n",
              "  color: #474747;\n",
              "  font-size:20px;\n",
              "  font-weight: bolder;\n",
              "  padding: 19px;\n",
              "}\n",
              "\n",
              ".up{\n",
              "  position: absolute;\n",
              "  right: 0;\n",
              "  top: 0;\n",
              "  background: white;\n",
              "  text-align: right;\n",
              "  font-size: 16px;\n",
              "  font-family: Courier;\n",
              "  font-weight: bolder;\n",
              "  color: blue;\n",
              "  opacity: 1.0;\n",
              "  background-color:rgba(0, 0, 0, 0.0);\n",
              "}\n",
              "\n",
              ".down{\n",
              "  position: absolute;\n",
              "  right: 0;\n",
              "  bottom: 0;\n",
              "  background: white;\n",
              "  text-align: right;\n",
              "  font-size: 16px;\n",
              "  font-family: Courier;\n",
              "  font-weight: bolder;\n",
              "  color: red;\n",
              "  opacity: 0.9;\n",
              "  background-color:rgba(0, 0, 0, 0.0);\n",
              "}\n",
              "</style>\n",
              "<table bgcolor=\"96c8ff\"><tr>\n",
              "\t<td>0<span class=\"up\">0</span><span class=\"down\">-10</span></td>\n",
              "\t<td>1<span class=\"up\">1</span><span class=\"down\">-9</span></td>\n",
              "\t<td>2<span class=\"up\">2</span><span class=\"down\">-8</span></td>\n",
              "\t<td>3<span class=\"up\">3</span><span class=\"down\">-7</span></td>\n",
              "\t<td>4<span class=\"up\">4</span><span class=\"down\">-6</span></td>\n",
              "\t<td>5<span class=\"up\">5</span><span class=\"down\">-5</span></td>\n",
              "\t<td>6<span class=\"up\">6</span><span class=\"down\">-4</span></td>\n",
              "\t<td>7<span class=\"up\">7</span><span class=\"down\">-3</span></td>\n",
              "\t<td>8<span class=\"up\">8</span><span class=\"down\">-2</span></td>\n",
              "\t<td>9<span class=\"up\">9</span><span class=\"down\">-1</span></td>\n",
              "</tr></table>\n"
            ]
          },
          "metadata": {}
        }
      ]
    },
    {
      "cell_type": "code",
      "metadata": {
        "id": "cuPfPtqFGub_",
        "cellView": "form",
        "colab": {
          "base_uri": "https://localhost:8080/",
          "height": 91
        },
        "outputId": "17d83581-5da1-4e6f-f32c-538769dadbb7"
      },
      "source": [
        "#@title ###Solution (double-click to see the source code)\n",
        "import numpy as np\n",
        "\n",
        "# Solution\n",
        "a = np.arange(10)\n",
        "\n",
        "# Visualization\n",
        "visualize_array(a)"
      ],
      "execution_count": null,
      "outputs": [
        {
          "output_type": "display_data",
          "data": {
            "text/html": [
              "\n",
              "<style>\n",
              "table {\n",
              "  border-collapse: collapse;\n",
              "}\n",
              "\n",
              "td {\n",
              "  border: 3px solid #666666;\n",
              "  min-width:30px;\n",
              "  height: 30px;\n",
              "  position: relative; \n",
              "  text-align:center; \n",
              "  color: #474747;\n",
              "  font-size:20px;\n",
              "  font-weight: bolder;\n",
              "  padding: 19px;\n",
              "}\n",
              "\n",
              ".up{\n",
              "  position: absolute; \n",
              "  right: 0;\n",
              "  top: 0;\n",
              "  background: white;\n",
              "  text-align: right;\n",
              "  font-size: 16px;\n",
              "  font-family: Courier;\n",
              "  font-weight: bolder;\n",
              "  color: blue;\n",
              "  opacity: 1.0;\n",
              "  background-color:rgba(0, 0, 0, 0.0);\n",
              "}\n",
              "\n",
              ".down{\n",
              "  position: absolute; \n",
              "  right: 0;\n",
              "  bottom: 0;\n",
              "  background: white;\n",
              "  text-align: right;\n",
              "  font-size: 16px;\n",
              "  font-family: Courier;\n",
              "  font-weight: bolder;\n",
              "  color: red;\n",
              "  opacity: 0.9;\n",
              "  background-color:rgba(0, 0, 0, 0.0);\n",
              "}\n",
              "</style>\n",
              "<table bgcolor=\"96c8ff\"><tr>\n",
              "\t<td>0<span class=\"up\">0</span><span class=\"down\">-10</span></td>\n",
              "\t<td>1<span class=\"up\">1</span><span class=\"down\">-9</span></td>\n",
              "\t<td>2<span class=\"up\">2</span><span class=\"down\">-8</span></td>\n",
              "\t<td>3<span class=\"up\">3</span><span class=\"down\">-7</span></td>\n",
              "\t<td>4<span class=\"up\">4</span><span class=\"down\">-6</span></td>\n",
              "\t<td>5<span class=\"up\">5</span><span class=\"down\">-5</span></td>\n",
              "\t<td>6<span class=\"up\">6</span><span class=\"down\">-4</span></td>\n",
              "\t<td>7<span class=\"up\">7</span><span class=\"down\">-3</span></td>\n",
              "\t<td>8<span class=\"up\">8</span><span class=\"down\">-2</span></td>\n",
              "\t<td>9<span class=\"up\">9</span><span class=\"down\">-1</span></td>\n",
              "</tr></table>\n"
            ],
            "text/plain": [
              "<IPython.core.display.HTML object>"
            ]
          },
          "metadata": {
            "tags": []
          }
        }
      ]
    },
    {
      "cell_type": "markdown",
      "metadata": {
        "id": "OtleUkZHGucB"
      },
      "source": [
        "##3. How to create a boolean array?"
      ]
    },
    {
      "cell_type": "markdown",
      "metadata": {
        "id": "kTA1WHjHp7EL"
      },
      "source": [
        "**Problem:**\n",
        "Create a 3x3 numpy array of all True’s"
      ]
    },
    {
      "cell_type": "code",
      "metadata": {
        "id": "ngtPYmVrGucC",
        "colab": {
          "base_uri": "https://localhost:8080/",
          "height": 365
        },
        "outputId": "d13d1c47-5dd6-4b55-a8d7-e1db30a0b143"
      },
      "source": [
        "import numpy as np\n",
        "\n",
        "# Enter your code here\n",
        "arr = np.full((3, 3), True)\n",
        "\n",
        "# Visualization\n",
        "visualize_array(arr)"
      ],
      "execution_count": null,
      "outputs": [
        {
          "output_type": "display_data",
          "data": {
            "text/plain": [
              "<IPython.core.display.HTML object>"
            ],
            "text/html": [
              "\n",
              "<style>\n",
              "table {\n",
              "  border-collapse: collapse;\n",
              "}\n",
              "\n",
              "td {\n",
              "  border: 3px solid #666666;\n",
              "  min-width:30px;\n",
              "  height: 30px;\n",
              "  position: relative;\n",
              "  text-align:center;\n",
              "  color: #474747;\n",
              "  font-size:20px;\n",
              "  font-weight: bolder;\n",
              "  padding: 19px;\n",
              "}\n",
              "\n",
              ".up{\n",
              "  position: absolute;\n",
              "  right: 0;\n",
              "  top: 0;\n",
              "  background: white;\n",
              "  text-align: right;\n",
              "  font-size: 16px;\n",
              "  font-family: Courier;\n",
              "  font-weight: bolder;\n",
              "  color: blue;\n",
              "  opacity: 1.0;\n",
              "  background-color:rgba(0, 0, 0, 0.0);\n",
              "}\n",
              "\n",
              ".down{\n",
              "  position: absolute;\n",
              "  right: 0;\n",
              "  bottom: 0;\n",
              "  background: white;\n",
              "  text-align: right;\n",
              "  font-size: 16px;\n",
              "  font-family: Courier;\n",
              "  font-weight: bolder;\n",
              "  color: red;\n",
              "  opacity: 0.9;\n",
              "  background-color:rgba(0, 0, 0, 0.0);\n",
              "}\n",
              "</style>\n",
              "<table bgcolor=\"4b64aa\">\n",
              "<tr>\t<td><table bgcolor=\"96c8ff\"><tr>\n",
              "\t<td>True<span class=\"up\">0</span><span class=\"down\">-3</span></td>\n",
              "\t<td>True<span class=\"up\">1</span><span class=\"down\">-2</span></td>\n",
              "\t<td>True<span class=\"up\">2</span><span class=\"down\">-1</span></td>\n",
              "</tr></table>\n",
              "<span class=\"up\">0</span><span class=\"down\">-3</span></td></tr>\n",
              "<tr>\t<td><table bgcolor=\"96c8ff\"><tr>\n",
              "\t<td>True<span class=\"up\">0</span><span class=\"down\">-3</span></td>\n",
              "\t<td>True<span class=\"up\">1</span><span class=\"down\">-2</span></td>\n",
              "\t<td>True<span class=\"up\">2</span><span class=\"down\">-1</span></td>\n",
              "</tr></table>\n",
              "<span class=\"up\">1</span><span class=\"down\">-2</span></td></tr>\n",
              "<tr>\t<td><table bgcolor=\"96c8ff\"><tr>\n",
              "\t<td>True<span class=\"up\">0</span><span class=\"down\">-3</span></td>\n",
              "\t<td>True<span class=\"up\">1</span><span class=\"down\">-2</span></td>\n",
              "\t<td>True<span class=\"up\">2</span><span class=\"down\">-1</span></td>\n",
              "</tr></table>\n",
              "<span class=\"up\">2</span><span class=\"down\">-1</span></td></tr>\n",
              "</table>\n"
            ]
          },
          "metadata": {}
        }
      ]
    },
    {
      "cell_type": "code",
      "metadata": {
        "id": "npwUBfk5GucF",
        "cellView": "form",
        "colab": {
          "base_uri": "https://localhost:8080/",
          "height": 365
        },
        "outputId": "3d8aa257-bfd0-4c02-e337-390911330029"
      },
      "source": [
        "#@title ###Solution A (double-click to see the source code)\n",
        "\n",
        "import numpy as np\n",
        "\n",
        "# Solution\n",
        "arr = np.full((3, 3), True, dtype=bool)\n",
        "\n",
        "# Visualization\n",
        "visualize_array(arr)"
      ],
      "execution_count": null,
      "outputs": [
        {
          "output_type": "display_data",
          "data": {
            "text/html": [
              "\n",
              "<style>\n",
              "table {\n",
              "  border-collapse: collapse;\n",
              "}\n",
              "\n",
              "td {\n",
              "  border: 3px solid #666666;\n",
              "  min-width:30px;\n",
              "  height: 30px;\n",
              "  position: relative; \n",
              "  text-align:center; \n",
              "  color: #474747;\n",
              "  font-size:20px;\n",
              "  font-weight: bolder;\n",
              "  padding: 19px;\n",
              "}\n",
              "\n",
              ".up{\n",
              "  position: absolute; \n",
              "  right: 0;\n",
              "  top: 0;\n",
              "  background: white;\n",
              "  text-align: right;\n",
              "  font-size: 16px;\n",
              "  font-family: Courier;\n",
              "  font-weight: bolder;\n",
              "  color: blue;\n",
              "  opacity: 1.0;\n",
              "  background-color:rgba(0, 0, 0, 0.0);\n",
              "}\n",
              "\n",
              ".down{\n",
              "  position: absolute; \n",
              "  right: 0;\n",
              "  bottom: 0;\n",
              "  background: white;\n",
              "  text-align: right;\n",
              "  font-size: 16px;\n",
              "  font-family: Courier;\n",
              "  font-weight: bolder;\n",
              "  color: red;\n",
              "  opacity: 0.9;\n",
              "  background-color:rgba(0, 0, 0, 0.0);\n",
              "}\n",
              "</style>\n",
              "<table bgcolor=\"4b64aa\">\n",
              "<tr>\t<td><table bgcolor=\"96c8ff\"><tr>\n",
              "\t<td>True<span class=\"up\">0</span><span class=\"down\">-3</span></td>\n",
              "\t<td>True<span class=\"up\">1</span><span class=\"down\">-2</span></td>\n",
              "\t<td>True<span class=\"up\">2</span><span class=\"down\">-1</span></td>\n",
              "</tr></table>\n",
              "<span class=\"up\">0</span><span class=\"down\">-3</span></td></tr>\n",
              "<tr>\t<td><table bgcolor=\"96c8ff\"><tr>\n",
              "\t<td>True<span class=\"up\">0</span><span class=\"down\">-3</span></td>\n",
              "\t<td>True<span class=\"up\">1</span><span class=\"down\">-2</span></td>\n",
              "\t<td>True<span class=\"up\">2</span><span class=\"down\">-1</span></td>\n",
              "</tr></table>\n",
              "<span class=\"up\">1</span><span class=\"down\">-2</span></td></tr>\n",
              "<tr>\t<td><table bgcolor=\"96c8ff\"><tr>\n",
              "\t<td>True<span class=\"up\">0</span><span class=\"down\">-3</span></td>\n",
              "\t<td>True<span class=\"up\">1</span><span class=\"down\">-2</span></td>\n",
              "\t<td>True<span class=\"up\">2</span><span class=\"down\">-1</span></td>\n",
              "</tr></table>\n",
              "<span class=\"up\">2</span><span class=\"down\">-1</span></td></tr>\n",
              "</table>\n"
            ],
            "text/plain": [
              "<IPython.core.display.HTML object>"
            ]
          },
          "metadata": {
            "tags": []
          }
        }
      ]
    },
    {
      "cell_type": "code",
      "metadata": {
        "id": "rDfLd80RpqsC",
        "cellView": "form"
      },
      "source": [
        "#@title ###Solution B (double-click to see the source code)\n",
        "\n",
        "import numpy as np\n",
        "\n",
        "# Solution\n",
        "arr = np.ones((3,3), dtype=bool)\n",
        "\n",
        "visualize_array(arr)"
      ],
      "execution_count": null,
      "outputs": []
    },
    {
      "cell_type": "markdown",
      "metadata": {
        "id": "YjkYxBZdGucH"
      },
      "source": [
        "##4. How to extract items that satisfy a given condition from 1D array?"
      ]
    },
    {
      "cell_type": "markdown",
      "metadata": {
        "id": "XaUh5uuZrAUo"
      },
      "source": [
        "**Problem:**\n",
        "Extract all odd numbers from numpy.array."
      ]
    },
    {
      "cell_type": "code",
      "metadata": {
        "id": "XdYyA1FiGucI",
        "colab": {
          "base_uri": "https://localhost:8080/",
          "height": 201
        },
        "outputId": "f5abc274-b5c5-4655-96c1-27d149e3100f"
      },
      "source": [
        "import numpy as np\n",
        "\n",
        "# Input\n",
        "arr = np.array([0, 1, 2, 3, 4, 5, 6, 7, 8, 9])\n",
        "\n",
        "# Enter your code here\n",
        "result = arr[1::2]\n",
        "\n",
        "# Visualize\n",
        "print('INPUT:')\n",
        "visualize_array(arr)\n",
        "print('OUTPUT:')\n",
        "visualize_array(result)"
      ],
      "execution_count": null,
      "outputs": [
        {
          "output_type": "stream",
          "name": "stdout",
          "text": [
            "INPUT:\n"
          ]
        },
        {
          "output_type": "display_data",
          "data": {
            "text/plain": [
              "<IPython.core.display.HTML object>"
            ],
            "text/html": [
              "\n",
              "<style>\n",
              "table {\n",
              "  border-collapse: collapse;\n",
              "}\n",
              "\n",
              "td {\n",
              "  border: 3px solid #666666;\n",
              "  min-width:30px;\n",
              "  height: 30px;\n",
              "  position: relative;\n",
              "  text-align:center;\n",
              "  color: #474747;\n",
              "  font-size:20px;\n",
              "  font-weight: bolder;\n",
              "  padding: 19px;\n",
              "}\n",
              "\n",
              ".up{\n",
              "  position: absolute;\n",
              "  right: 0;\n",
              "  top: 0;\n",
              "  background: white;\n",
              "  text-align: right;\n",
              "  font-size: 16px;\n",
              "  font-family: Courier;\n",
              "  font-weight: bolder;\n",
              "  color: blue;\n",
              "  opacity: 1.0;\n",
              "  background-color:rgba(0, 0, 0, 0.0);\n",
              "}\n",
              "\n",
              ".down{\n",
              "  position: absolute;\n",
              "  right: 0;\n",
              "  bottom: 0;\n",
              "  background: white;\n",
              "  text-align: right;\n",
              "  font-size: 16px;\n",
              "  font-family: Courier;\n",
              "  font-weight: bolder;\n",
              "  color: red;\n",
              "  opacity: 0.9;\n",
              "  background-color:rgba(0, 0, 0, 0.0);\n",
              "}\n",
              "</style>\n",
              "<table bgcolor=\"96c8ff\"><tr>\n",
              "\t<td>0<span class=\"up\">0</span><span class=\"down\">-10</span></td>\n",
              "\t<td>1<span class=\"up\">1</span><span class=\"down\">-9</span></td>\n",
              "\t<td>2<span class=\"up\">2</span><span class=\"down\">-8</span></td>\n",
              "\t<td>3<span class=\"up\">3</span><span class=\"down\">-7</span></td>\n",
              "\t<td>4<span class=\"up\">4</span><span class=\"down\">-6</span></td>\n",
              "\t<td>5<span class=\"up\">5</span><span class=\"down\">-5</span></td>\n",
              "\t<td>6<span class=\"up\">6</span><span class=\"down\">-4</span></td>\n",
              "\t<td>7<span class=\"up\">7</span><span class=\"down\">-3</span></td>\n",
              "\t<td>8<span class=\"up\">8</span><span class=\"down\">-2</span></td>\n",
              "\t<td>9<span class=\"up\">9</span><span class=\"down\">-1</span></td>\n",
              "</tr></table>\n"
            ]
          },
          "metadata": {}
        },
        {
          "output_type": "stream",
          "name": "stdout",
          "text": [
            "OUTPUT:\n"
          ]
        },
        {
          "output_type": "display_data",
          "data": {
            "text/plain": [
              "<IPython.core.display.HTML object>"
            ],
            "text/html": [
              "\n",
              "<style>\n",
              "table {\n",
              "  border-collapse: collapse;\n",
              "}\n",
              "\n",
              "td {\n",
              "  border: 3px solid #666666;\n",
              "  min-width:30px;\n",
              "  height: 30px;\n",
              "  position: relative;\n",
              "  text-align:center;\n",
              "  color: #474747;\n",
              "  font-size:20px;\n",
              "  font-weight: bolder;\n",
              "  padding: 19px;\n",
              "}\n",
              "\n",
              ".up{\n",
              "  position: absolute;\n",
              "  right: 0;\n",
              "  top: 0;\n",
              "  background: white;\n",
              "  text-align: right;\n",
              "  font-size: 16px;\n",
              "  font-family: Courier;\n",
              "  font-weight: bolder;\n",
              "  color: blue;\n",
              "  opacity: 1.0;\n",
              "  background-color:rgba(0, 0, 0, 0.0);\n",
              "}\n",
              "\n",
              ".down{\n",
              "  position: absolute;\n",
              "  right: 0;\n",
              "  bottom: 0;\n",
              "  background: white;\n",
              "  text-align: right;\n",
              "  font-size: 16px;\n",
              "  font-family: Courier;\n",
              "  font-weight: bolder;\n",
              "  color: red;\n",
              "  opacity: 0.9;\n",
              "  background-color:rgba(0, 0, 0, 0.0);\n",
              "}\n",
              "</style>\n",
              "<table bgcolor=\"96c8ff\"><tr>\n",
              "\t<td>1<span class=\"up\">0</span><span class=\"down\">-5</span></td>\n",
              "\t<td>3<span class=\"up\">1</span><span class=\"down\">-4</span></td>\n",
              "\t<td>5<span class=\"up\">2</span><span class=\"down\">-3</span></td>\n",
              "\t<td>7<span class=\"up\">3</span><span class=\"down\">-2</span></td>\n",
              "\t<td>9<span class=\"up\">4</span><span class=\"down\">-1</span></td>\n",
              "</tr></table>\n"
            ]
          },
          "metadata": {}
        }
      ]
    },
    {
      "cell_type": "code",
      "metadata": {
        "id": "DiI7owH4GucL",
        "cellView": "form",
        "colab": {
          "base_uri": "https://localhost:8080/",
          "height": 199
        },
        "outputId": "93970f14-5e1f-41f7-c6f0-df0f3c121068"
      },
      "source": [
        "#@title ###Solution (double-click to see the source code)\n",
        "\n",
        "import numpy as np\n",
        "\n",
        "# Input\n",
        "arr = np.array([0, 1, 2, 3, 4, 5, 6, 7, 8, 9])\n",
        "\n",
        "# Solution\n",
        "result = arr[arr % 2 == 1]\n",
        "\n",
        "# Visualize\n",
        "print('INPUT:')\n",
        "visualize_array(arr)\n",
        "print('OUTPUT:')\n",
        "visualize_array(result)"
      ],
      "execution_count": null,
      "outputs": [
        {
          "output_type": "stream",
          "text": [
            "INPUT:\n"
          ],
          "name": "stdout"
        },
        {
          "output_type": "display_data",
          "data": {
            "text/html": [
              "\n",
              "<style>\n",
              "table {\n",
              "  border-collapse: collapse;\n",
              "}\n",
              "\n",
              "td {\n",
              "  border: 3px solid #666666;\n",
              "  min-width:30px;\n",
              "  height: 30px;\n",
              "  position: relative; \n",
              "  text-align:center; \n",
              "  color: #474747;\n",
              "  font-size:20px;\n",
              "  font-weight: bolder;\n",
              "  padding: 19px;\n",
              "}\n",
              "\n",
              ".up{\n",
              "  position: absolute; \n",
              "  right: 0;\n",
              "  top: 0;\n",
              "  background: white;\n",
              "  text-align: right;\n",
              "  font-size: 16px;\n",
              "  font-family: Courier;\n",
              "  font-weight: bolder;\n",
              "  color: blue;\n",
              "  opacity: 1.0;\n",
              "  background-color:rgba(0, 0, 0, 0.0);\n",
              "}\n",
              "\n",
              ".down{\n",
              "  position: absolute; \n",
              "  right: 0;\n",
              "  bottom: 0;\n",
              "  background: white;\n",
              "  text-align: right;\n",
              "  font-size: 16px;\n",
              "  font-family: Courier;\n",
              "  font-weight: bolder;\n",
              "  color: red;\n",
              "  opacity: 0.9;\n",
              "  background-color:rgba(0, 0, 0, 0.0);\n",
              "}\n",
              "</style>\n",
              "<table bgcolor=\"96c8ff\"><tr>\n",
              "\t<td>0<span class=\"up\">0</span><span class=\"down\">-10</span></td>\n",
              "\t<td>1<span class=\"up\">1</span><span class=\"down\">-9</span></td>\n",
              "\t<td>2<span class=\"up\">2</span><span class=\"down\">-8</span></td>\n",
              "\t<td>3<span class=\"up\">3</span><span class=\"down\">-7</span></td>\n",
              "\t<td>4<span class=\"up\">4</span><span class=\"down\">-6</span></td>\n",
              "\t<td>5<span class=\"up\">5</span><span class=\"down\">-5</span></td>\n",
              "\t<td>6<span class=\"up\">6</span><span class=\"down\">-4</span></td>\n",
              "\t<td>7<span class=\"up\">7</span><span class=\"down\">-3</span></td>\n",
              "\t<td>8<span class=\"up\">8</span><span class=\"down\">-2</span></td>\n",
              "\t<td>9<span class=\"up\">9</span><span class=\"down\">-1</span></td>\n",
              "</tr></table>\n"
            ],
            "text/plain": [
              "<IPython.core.display.HTML object>"
            ]
          },
          "metadata": {
            "tags": []
          }
        },
        {
          "output_type": "stream",
          "text": [
            "OUTPUT:\n"
          ],
          "name": "stdout"
        },
        {
          "output_type": "display_data",
          "data": {
            "text/html": [
              "\n",
              "<style>\n",
              "table {\n",
              "  border-collapse: collapse;\n",
              "}\n",
              "\n",
              "td {\n",
              "  border: 3px solid #666666;\n",
              "  min-width:30px;\n",
              "  height: 30px;\n",
              "  position: relative; \n",
              "  text-align:center; \n",
              "  color: #474747;\n",
              "  font-size:20px;\n",
              "  font-weight: bolder;\n",
              "  padding: 19px;\n",
              "}\n",
              "\n",
              ".up{\n",
              "  position: absolute; \n",
              "  right: 0;\n",
              "  top: 0;\n",
              "  background: white;\n",
              "  text-align: right;\n",
              "  font-size: 16px;\n",
              "  font-family: Courier;\n",
              "  font-weight: bolder;\n",
              "  color: blue;\n",
              "  opacity: 1.0;\n",
              "  background-color:rgba(0, 0, 0, 0.0);\n",
              "}\n",
              "\n",
              ".down{\n",
              "  position: absolute; \n",
              "  right: 0;\n",
              "  bottom: 0;\n",
              "  background: white;\n",
              "  text-align: right;\n",
              "  font-size: 16px;\n",
              "  font-family: Courier;\n",
              "  font-weight: bolder;\n",
              "  color: red;\n",
              "  opacity: 0.9;\n",
              "  background-color:rgba(0, 0, 0, 0.0);\n",
              "}\n",
              "</style>\n",
              "<table bgcolor=\"96c8ff\"><tr>\n",
              "\t<td>1<span class=\"up\">0</span><span class=\"down\">-5</span></td>\n",
              "\t<td>3<span class=\"up\">1</span><span class=\"down\">-4</span></td>\n",
              "\t<td>5<span class=\"up\">2</span><span class=\"down\">-3</span></td>\n",
              "\t<td>7<span class=\"up\">3</span><span class=\"down\">-2</span></td>\n",
              "\t<td>9<span class=\"up\">4</span><span class=\"down\">-1</span></td>\n",
              "</tr></table>\n"
            ],
            "text/plain": [
              "<IPython.core.display.HTML object>"
            ]
          },
          "metadata": {
            "tags": []
          }
        }
      ]
    },
    {
      "cell_type": "markdown",
      "metadata": {
        "id": "1Xau_-6iGucN"
      },
      "source": [
        "##5. How to replace items that satisfy a condition with another value in numpy array?"
      ]
    },
    {
      "cell_type": "markdown",
      "metadata": {
        "id": "V6Cnp9_dwNt0"
      },
      "source": [
        "**Problem:**\n",
        "Replace all odd numbers in numpy.array with -1"
      ]
    },
    {
      "cell_type": "code",
      "metadata": {
        "id": "t-K4juTVGucO",
        "colab": {
          "base_uri": "https://localhost:8080/",
          "height": 201
        },
        "outputId": "9237d960-c3ce-405a-8aef-5691797545b3"
      },
      "source": [
        "import numpy as np\n",
        "\n",
        "# Input\n",
        "arr = np.array([0, 1, 2, 3, 4, 5, 6, 7, 8, 9])\n",
        "# Visualize\n",
        "print('INPUT:')\n",
        "visualize_array(arr)\n",
        "\n",
        "# Enter your code here\n",
        "arr[arr % 2 == 1] = -1\n",
        "\n",
        "# Visualize\n",
        "print('OUTPUT:')\n",
        "visualize_array(arr)"
      ],
      "execution_count": null,
      "outputs": [
        {
          "output_type": "stream",
          "name": "stdout",
          "text": [
            "INPUT:\n"
          ]
        },
        {
          "output_type": "display_data",
          "data": {
            "text/plain": [
              "<IPython.core.display.HTML object>"
            ],
            "text/html": [
              "\n",
              "<style>\n",
              "table {\n",
              "  border-collapse: collapse;\n",
              "}\n",
              "\n",
              "td {\n",
              "  border: 3px solid #666666;\n",
              "  min-width:30px;\n",
              "  height: 30px;\n",
              "  position: relative;\n",
              "  text-align:center;\n",
              "  color: #474747;\n",
              "  font-size:20px;\n",
              "  font-weight: bolder;\n",
              "  padding: 19px;\n",
              "}\n",
              "\n",
              ".up{\n",
              "  position: absolute;\n",
              "  right: 0;\n",
              "  top: 0;\n",
              "  background: white;\n",
              "  text-align: right;\n",
              "  font-size: 16px;\n",
              "  font-family: Courier;\n",
              "  font-weight: bolder;\n",
              "  color: blue;\n",
              "  opacity: 1.0;\n",
              "  background-color:rgba(0, 0, 0, 0.0);\n",
              "}\n",
              "\n",
              ".down{\n",
              "  position: absolute;\n",
              "  right: 0;\n",
              "  bottom: 0;\n",
              "  background: white;\n",
              "  text-align: right;\n",
              "  font-size: 16px;\n",
              "  font-family: Courier;\n",
              "  font-weight: bolder;\n",
              "  color: red;\n",
              "  opacity: 0.9;\n",
              "  background-color:rgba(0, 0, 0, 0.0);\n",
              "}\n",
              "</style>\n",
              "<table bgcolor=\"96c8ff\"><tr>\n",
              "\t<td>0<span class=\"up\">0</span><span class=\"down\">-10</span></td>\n",
              "\t<td>1<span class=\"up\">1</span><span class=\"down\">-9</span></td>\n",
              "\t<td>2<span class=\"up\">2</span><span class=\"down\">-8</span></td>\n",
              "\t<td>3<span class=\"up\">3</span><span class=\"down\">-7</span></td>\n",
              "\t<td>4<span class=\"up\">4</span><span class=\"down\">-6</span></td>\n",
              "\t<td>5<span class=\"up\">5</span><span class=\"down\">-5</span></td>\n",
              "\t<td>6<span class=\"up\">6</span><span class=\"down\">-4</span></td>\n",
              "\t<td>7<span class=\"up\">7</span><span class=\"down\">-3</span></td>\n",
              "\t<td>8<span class=\"up\">8</span><span class=\"down\">-2</span></td>\n",
              "\t<td>9<span class=\"up\">9</span><span class=\"down\">-1</span></td>\n",
              "</tr></table>\n"
            ]
          },
          "metadata": {}
        },
        {
          "output_type": "stream",
          "name": "stdout",
          "text": [
            "OUTPUT:\n"
          ]
        },
        {
          "output_type": "display_data",
          "data": {
            "text/plain": [
              "<IPython.core.display.HTML object>"
            ],
            "text/html": [
              "\n",
              "<style>\n",
              "table {\n",
              "  border-collapse: collapse;\n",
              "}\n",
              "\n",
              "td {\n",
              "  border: 3px solid #666666;\n",
              "  min-width:30px;\n",
              "  height: 30px;\n",
              "  position: relative;\n",
              "  text-align:center;\n",
              "  color: #474747;\n",
              "  font-size:20px;\n",
              "  font-weight: bolder;\n",
              "  padding: 19px;\n",
              "}\n",
              "\n",
              ".up{\n",
              "  position: absolute;\n",
              "  right: 0;\n",
              "  top: 0;\n",
              "  background: white;\n",
              "  text-align: right;\n",
              "  font-size: 16px;\n",
              "  font-family: Courier;\n",
              "  font-weight: bolder;\n",
              "  color: blue;\n",
              "  opacity: 1.0;\n",
              "  background-color:rgba(0, 0, 0, 0.0);\n",
              "}\n",
              "\n",
              ".down{\n",
              "  position: absolute;\n",
              "  right: 0;\n",
              "  bottom: 0;\n",
              "  background: white;\n",
              "  text-align: right;\n",
              "  font-size: 16px;\n",
              "  font-family: Courier;\n",
              "  font-weight: bolder;\n",
              "  color: red;\n",
              "  opacity: 0.9;\n",
              "  background-color:rgba(0, 0, 0, 0.0);\n",
              "}\n",
              "</style>\n",
              "<table bgcolor=\"96c8ff\"><tr>\n",
              "\t<td>0<span class=\"up\">0</span><span class=\"down\">-10</span></td>\n",
              "\t<td>-1<span class=\"up\">1</span><span class=\"down\">-9</span></td>\n",
              "\t<td>2<span class=\"up\">2</span><span class=\"down\">-8</span></td>\n",
              "\t<td>-1<span class=\"up\">3</span><span class=\"down\">-7</span></td>\n",
              "\t<td>4<span class=\"up\">4</span><span class=\"down\">-6</span></td>\n",
              "\t<td>-1<span class=\"up\">5</span><span class=\"down\">-5</span></td>\n",
              "\t<td>6<span class=\"up\">6</span><span class=\"down\">-4</span></td>\n",
              "\t<td>-1<span class=\"up\">7</span><span class=\"down\">-3</span></td>\n",
              "\t<td>8<span class=\"up\">8</span><span class=\"down\">-2</span></td>\n",
              "\t<td>-1<span class=\"up\">9</span><span class=\"down\">-1</span></td>\n",
              "</tr></table>\n"
            ]
          },
          "metadata": {}
        }
      ]
    },
    {
      "cell_type": "code",
      "metadata": {
        "id": "bS6AKVIcGucQ",
        "cellView": "form",
        "colab": {
          "base_uri": "https://localhost:8080/",
          "height": 199
        },
        "outputId": "bde39a21-1973-4cc5-dd08-1be67ca048f6"
      },
      "source": [
        "#@title ###Solution (double-click to see the source code)\n",
        "\n",
        "import numpy as np\n",
        "\n",
        "# Input\n",
        "arr = np.array([0, 1, 2, 3, 4, 5, 6, 7, 8, 9])\n",
        "# Visualize\n",
        "print('INPUT:')\n",
        "visualize_array(arr)\n",
        "\n",
        "# Solution\n",
        "arr[arr % 2 == 1] = -1\n",
        "\n",
        "# Visualize\n",
        "print('OUTPUT:')\n",
        "visualize_array(arr)"
      ],
      "execution_count": null,
      "outputs": [
        {
          "output_type": "stream",
          "text": [
            "INPUT:\n"
          ],
          "name": "stdout"
        },
        {
          "output_type": "display_data",
          "data": {
            "text/html": [
              "\n",
              "<style>\n",
              "table {\n",
              "  border-collapse: collapse;\n",
              "}\n",
              "\n",
              "td {\n",
              "  border: 3px solid #666666;\n",
              "  min-width:30px;\n",
              "  height: 30px;\n",
              "  position: relative; \n",
              "  text-align:center; \n",
              "  color: #474747;\n",
              "  font-size:20px;\n",
              "  font-weight: bolder;\n",
              "  padding: 19px;\n",
              "}\n",
              "\n",
              ".up{\n",
              "  position: absolute; \n",
              "  right: 0;\n",
              "  top: 0;\n",
              "  background: white;\n",
              "  text-align: right;\n",
              "  font-size: 16px;\n",
              "  font-family: Courier;\n",
              "  font-weight: bolder;\n",
              "  color: blue;\n",
              "  opacity: 1.0;\n",
              "  background-color:rgba(0, 0, 0, 0.0);\n",
              "}\n",
              "\n",
              ".down{\n",
              "  position: absolute; \n",
              "  right: 0;\n",
              "  bottom: 0;\n",
              "  background: white;\n",
              "  text-align: right;\n",
              "  font-size: 16px;\n",
              "  font-family: Courier;\n",
              "  font-weight: bolder;\n",
              "  color: red;\n",
              "  opacity: 0.9;\n",
              "  background-color:rgba(0, 0, 0, 0.0);\n",
              "}\n",
              "</style>\n",
              "<table bgcolor=\"96c8ff\"><tr>\n",
              "\t<td>0<span class=\"up\">0</span><span class=\"down\">-10</span></td>\n",
              "\t<td>1<span class=\"up\">1</span><span class=\"down\">-9</span></td>\n",
              "\t<td>2<span class=\"up\">2</span><span class=\"down\">-8</span></td>\n",
              "\t<td>3<span class=\"up\">3</span><span class=\"down\">-7</span></td>\n",
              "\t<td>4<span class=\"up\">4</span><span class=\"down\">-6</span></td>\n",
              "\t<td>5<span class=\"up\">5</span><span class=\"down\">-5</span></td>\n",
              "\t<td>6<span class=\"up\">6</span><span class=\"down\">-4</span></td>\n",
              "\t<td>7<span class=\"up\">7</span><span class=\"down\">-3</span></td>\n",
              "\t<td>8<span class=\"up\">8</span><span class=\"down\">-2</span></td>\n",
              "\t<td>9<span class=\"up\">9</span><span class=\"down\">-1</span></td>\n",
              "</tr></table>\n"
            ],
            "text/plain": [
              "<IPython.core.display.HTML object>"
            ]
          },
          "metadata": {
            "tags": []
          }
        },
        {
          "output_type": "stream",
          "text": [
            "OUTPUT:\n"
          ],
          "name": "stdout"
        },
        {
          "output_type": "display_data",
          "data": {
            "text/html": [
              "\n",
              "<style>\n",
              "table {\n",
              "  border-collapse: collapse;\n",
              "}\n",
              "\n",
              "td {\n",
              "  border: 3px solid #666666;\n",
              "  min-width:30px;\n",
              "  height: 30px;\n",
              "  position: relative; \n",
              "  text-align:center; \n",
              "  color: #474747;\n",
              "  font-size:20px;\n",
              "  font-weight: bolder;\n",
              "  padding: 19px;\n",
              "}\n",
              "\n",
              ".up{\n",
              "  position: absolute; \n",
              "  right: 0;\n",
              "  top: 0;\n",
              "  background: white;\n",
              "  text-align: right;\n",
              "  font-size: 16px;\n",
              "  font-family: Courier;\n",
              "  font-weight: bolder;\n",
              "  color: blue;\n",
              "  opacity: 1.0;\n",
              "  background-color:rgba(0, 0, 0, 0.0);\n",
              "}\n",
              "\n",
              ".down{\n",
              "  position: absolute; \n",
              "  right: 0;\n",
              "  bottom: 0;\n",
              "  background: white;\n",
              "  text-align: right;\n",
              "  font-size: 16px;\n",
              "  font-family: Courier;\n",
              "  font-weight: bolder;\n",
              "  color: red;\n",
              "  opacity: 0.9;\n",
              "  background-color:rgba(0, 0, 0, 0.0);\n",
              "}\n",
              "</style>\n",
              "<table bgcolor=\"96c8ff\"><tr>\n",
              "\t<td>0<span class=\"up\">0</span><span class=\"down\">-10</span></td>\n",
              "\t<td>-1<span class=\"up\">1</span><span class=\"down\">-9</span></td>\n",
              "\t<td>2<span class=\"up\">2</span><span class=\"down\">-8</span></td>\n",
              "\t<td>-1<span class=\"up\">3</span><span class=\"down\">-7</span></td>\n",
              "\t<td>4<span class=\"up\">4</span><span class=\"down\">-6</span></td>\n",
              "\t<td>-1<span class=\"up\">5</span><span class=\"down\">-5</span></td>\n",
              "\t<td>6<span class=\"up\">6</span><span class=\"down\">-4</span></td>\n",
              "\t<td>-1<span class=\"up\">7</span><span class=\"down\">-3</span></td>\n",
              "\t<td>8<span class=\"up\">8</span><span class=\"down\">-2</span></td>\n",
              "\t<td>-1<span class=\"up\">9</span><span class=\"down\">-1</span></td>\n",
              "</tr></table>\n"
            ],
            "text/plain": [
              "<IPython.core.display.HTML object>"
            ]
          },
          "metadata": {
            "tags": []
          }
        }
      ]
    },
    {
      "cell_type": "markdown",
      "metadata": {
        "id": "Ho98pO7dGucV"
      },
      "source": [
        "##6. How to reshape an array?"
      ]
    },
    {
      "cell_type": "markdown",
      "metadata": {
        "id": "YNOXqqfo40GF"
      },
      "source": [
        "**Problem:**\n",
        "Convert a 1D array to a 2D array with 2 rows."
      ]
    },
    {
      "cell_type": "code",
      "metadata": {
        "id": "Y0FNzACqGucW",
        "colab": {
          "base_uri": "https://localhost:8080/",
          "height": 360
        },
        "outputId": "69eaeacf-fcc9-46e6-e256-07ef9cf408da"
      },
      "source": [
        "import numpy as np\n",
        "\n",
        "# Input\n",
        "arr = np.arange(10)\n",
        "\n",
        "# Enter your code here\n",
        "result = arr.reshape((2, 5))\n",
        "\n",
        "# Visualize\n",
        "print('INPUT:')\n",
        "visualize_array(arr)\n",
        "print('OUTPUT:')\n",
        "visualize_array(result)"
      ],
      "execution_count": null,
      "outputs": [
        {
          "output_type": "stream",
          "name": "stdout",
          "text": [
            "INPUT:\n"
          ]
        },
        {
          "output_type": "display_data",
          "data": {
            "text/plain": [
              "<IPython.core.display.HTML object>"
            ],
            "text/html": [
              "\n",
              "<style>\n",
              "table {\n",
              "  border-collapse: collapse;\n",
              "}\n",
              "\n",
              "td {\n",
              "  border: 3px solid #666666;\n",
              "  min-width:30px;\n",
              "  height: 30px;\n",
              "  position: relative;\n",
              "  text-align:center;\n",
              "  color: #474747;\n",
              "  font-size:20px;\n",
              "  font-weight: bolder;\n",
              "  padding: 19px;\n",
              "}\n",
              "\n",
              ".up{\n",
              "  position: absolute;\n",
              "  right: 0;\n",
              "  top: 0;\n",
              "  background: white;\n",
              "  text-align: right;\n",
              "  font-size: 16px;\n",
              "  font-family: Courier;\n",
              "  font-weight: bolder;\n",
              "  color: blue;\n",
              "  opacity: 1.0;\n",
              "  background-color:rgba(0, 0, 0, 0.0);\n",
              "}\n",
              "\n",
              ".down{\n",
              "  position: absolute;\n",
              "  right: 0;\n",
              "  bottom: 0;\n",
              "  background: white;\n",
              "  text-align: right;\n",
              "  font-size: 16px;\n",
              "  font-family: Courier;\n",
              "  font-weight: bolder;\n",
              "  color: red;\n",
              "  opacity: 0.9;\n",
              "  background-color:rgba(0, 0, 0, 0.0);\n",
              "}\n",
              "</style>\n",
              "<table bgcolor=\"96c8ff\"><tr>\n",
              "\t<td>0<span class=\"up\">0</span><span class=\"down\">-10</span></td>\n",
              "\t<td>1<span class=\"up\">1</span><span class=\"down\">-9</span></td>\n",
              "\t<td>2<span class=\"up\">2</span><span class=\"down\">-8</span></td>\n",
              "\t<td>3<span class=\"up\">3</span><span class=\"down\">-7</span></td>\n",
              "\t<td>4<span class=\"up\">4</span><span class=\"down\">-6</span></td>\n",
              "\t<td>5<span class=\"up\">5</span><span class=\"down\">-5</span></td>\n",
              "\t<td>6<span class=\"up\">6</span><span class=\"down\">-4</span></td>\n",
              "\t<td>7<span class=\"up\">7</span><span class=\"down\">-3</span></td>\n",
              "\t<td>8<span class=\"up\">8</span><span class=\"down\">-2</span></td>\n",
              "\t<td>9<span class=\"up\">9</span><span class=\"down\">-1</span></td>\n",
              "</tr></table>\n"
            ]
          },
          "metadata": {}
        },
        {
          "output_type": "stream",
          "name": "stdout",
          "text": [
            "OUTPUT:\n"
          ]
        },
        {
          "output_type": "display_data",
          "data": {
            "text/plain": [
              "<IPython.core.display.HTML object>"
            ],
            "text/html": [
              "\n",
              "<style>\n",
              "table {\n",
              "  border-collapse: collapse;\n",
              "}\n",
              "\n",
              "td {\n",
              "  border: 3px solid #666666;\n",
              "  min-width:30px;\n",
              "  height: 30px;\n",
              "  position: relative;\n",
              "  text-align:center;\n",
              "  color: #474747;\n",
              "  font-size:20px;\n",
              "  font-weight: bolder;\n",
              "  padding: 19px;\n",
              "}\n",
              "\n",
              ".up{\n",
              "  position: absolute;\n",
              "  right: 0;\n",
              "  top: 0;\n",
              "  background: white;\n",
              "  text-align: right;\n",
              "  font-size: 16px;\n",
              "  font-family: Courier;\n",
              "  font-weight: bolder;\n",
              "  color: blue;\n",
              "  opacity: 1.0;\n",
              "  background-color:rgba(0, 0, 0, 0.0);\n",
              "}\n",
              "\n",
              ".down{\n",
              "  position: absolute;\n",
              "  right: 0;\n",
              "  bottom: 0;\n",
              "  background: white;\n",
              "  text-align: right;\n",
              "  font-size: 16px;\n",
              "  font-family: Courier;\n",
              "  font-weight: bolder;\n",
              "  color: red;\n",
              "  opacity: 0.9;\n",
              "  background-color:rgba(0, 0, 0, 0.0);\n",
              "}\n",
              "</style>\n",
              "<table bgcolor=\"4b64aa\">\n",
              "<tr>\t<td><table bgcolor=\"96c8ff\"><tr>\n",
              "\t<td>0<span class=\"up\">0</span><span class=\"down\">-5</span></td>\n",
              "\t<td>1<span class=\"up\">1</span><span class=\"down\">-4</span></td>\n",
              "\t<td>2<span class=\"up\">2</span><span class=\"down\">-3</span></td>\n",
              "\t<td>3<span class=\"up\">3</span><span class=\"down\">-2</span></td>\n",
              "\t<td>4<span class=\"up\">4</span><span class=\"down\">-1</span></td>\n",
              "</tr></table>\n",
              "<span class=\"up\">0</span><span class=\"down\">-2</span></td></tr>\n",
              "<tr>\t<td><table bgcolor=\"96c8ff\"><tr>\n",
              "\t<td>5<span class=\"up\">0</span><span class=\"down\">-5</span></td>\n",
              "\t<td>6<span class=\"up\">1</span><span class=\"down\">-4</span></td>\n",
              "\t<td>7<span class=\"up\">2</span><span class=\"down\">-3</span></td>\n",
              "\t<td>8<span class=\"up\">3</span><span class=\"down\">-2</span></td>\n",
              "\t<td>9<span class=\"up\">4</span><span class=\"down\">-1</span></td>\n",
              "</tr></table>\n",
              "<span class=\"up\">1</span><span class=\"down\">-1</span></td></tr>\n",
              "</table>\n"
            ]
          },
          "metadata": {}
        }
      ]
    },
    {
      "cell_type": "code",
      "metadata": {
        "id": "1lhfYR0qGucX",
        "cellView": "form",
        "colab": {
          "base_uri": "https://localhost:8080/",
          "height": 358
        },
        "outputId": "575086a2-2969-4816-af78-ef39ce6b7a3e"
      },
      "source": [
        "#@title ###Solution (double-click to see the source code)\n",
        "\n",
        "import numpy as np\n",
        "\n",
        "# Input\n",
        "arr = np.arange(10)\n",
        "\n",
        "# Solution\n",
        "result = arr.reshape(2, -1) # Setting to -1 automatically decides the number of cols\n",
        "\n",
        "# Visualize\n",
        "print('INPUT:')\n",
        "visualize_array(arr)\n",
        "print('OUTPUT:')\n",
        "visualize_array(result)"
      ],
      "execution_count": null,
      "outputs": [
        {
          "output_type": "stream",
          "text": [
            "INPUT:\n"
          ],
          "name": "stdout"
        },
        {
          "output_type": "display_data",
          "data": {
            "text/html": [
              "\n",
              "<style>\n",
              "table {\n",
              "  border-collapse: collapse;\n",
              "}\n",
              "\n",
              "td {\n",
              "  border: 3px solid #666666;\n",
              "  min-width:30px;\n",
              "  height: 30px;\n",
              "  position: relative; \n",
              "  text-align:center; \n",
              "  color: #474747;\n",
              "  font-size:20px;\n",
              "  font-weight: bolder;\n",
              "  padding: 19px;\n",
              "}\n",
              "\n",
              ".up{\n",
              "  position: absolute; \n",
              "  right: 0;\n",
              "  top: 0;\n",
              "  background: white;\n",
              "  text-align: right;\n",
              "  font-size: 16px;\n",
              "  font-family: Courier;\n",
              "  font-weight: bolder;\n",
              "  color: blue;\n",
              "  opacity: 1.0;\n",
              "  background-color:rgba(0, 0, 0, 0.0);\n",
              "}\n",
              "\n",
              ".down{\n",
              "  position: absolute; \n",
              "  right: 0;\n",
              "  bottom: 0;\n",
              "  background: white;\n",
              "  text-align: right;\n",
              "  font-size: 16px;\n",
              "  font-family: Courier;\n",
              "  font-weight: bolder;\n",
              "  color: red;\n",
              "  opacity: 0.9;\n",
              "  background-color:rgba(0, 0, 0, 0.0);\n",
              "}\n",
              "</style>\n",
              "<table bgcolor=\"96c8ff\"><tr>\n",
              "\t<td>0<span class=\"up\">0</span><span class=\"down\">-10</span></td>\n",
              "\t<td>1<span class=\"up\">1</span><span class=\"down\">-9</span></td>\n",
              "\t<td>2<span class=\"up\">2</span><span class=\"down\">-8</span></td>\n",
              "\t<td>3<span class=\"up\">3</span><span class=\"down\">-7</span></td>\n",
              "\t<td>4<span class=\"up\">4</span><span class=\"down\">-6</span></td>\n",
              "\t<td>5<span class=\"up\">5</span><span class=\"down\">-5</span></td>\n",
              "\t<td>6<span class=\"up\">6</span><span class=\"down\">-4</span></td>\n",
              "\t<td>7<span class=\"up\">7</span><span class=\"down\">-3</span></td>\n",
              "\t<td>8<span class=\"up\">8</span><span class=\"down\">-2</span></td>\n",
              "\t<td>9<span class=\"up\">9</span><span class=\"down\">-1</span></td>\n",
              "</tr></table>\n"
            ],
            "text/plain": [
              "<IPython.core.display.HTML object>"
            ]
          },
          "metadata": {
            "tags": []
          }
        },
        {
          "output_type": "stream",
          "text": [
            "OUTPUT:\n"
          ],
          "name": "stdout"
        },
        {
          "output_type": "display_data",
          "data": {
            "text/html": [
              "\n",
              "<style>\n",
              "table {\n",
              "  border-collapse: collapse;\n",
              "}\n",
              "\n",
              "td {\n",
              "  border: 3px solid #666666;\n",
              "  min-width:30px;\n",
              "  height: 30px;\n",
              "  position: relative; \n",
              "  text-align:center; \n",
              "  color: #474747;\n",
              "  font-size:20px;\n",
              "  font-weight: bolder;\n",
              "  padding: 19px;\n",
              "}\n",
              "\n",
              ".up{\n",
              "  position: absolute; \n",
              "  right: 0;\n",
              "  top: 0;\n",
              "  background: white;\n",
              "  text-align: right;\n",
              "  font-size: 16px;\n",
              "  font-family: Courier;\n",
              "  font-weight: bolder;\n",
              "  color: blue;\n",
              "  opacity: 1.0;\n",
              "  background-color:rgba(0, 0, 0, 0.0);\n",
              "}\n",
              "\n",
              ".down{\n",
              "  position: absolute; \n",
              "  right: 0;\n",
              "  bottom: 0;\n",
              "  background: white;\n",
              "  text-align: right;\n",
              "  font-size: 16px;\n",
              "  font-family: Courier;\n",
              "  font-weight: bolder;\n",
              "  color: red;\n",
              "  opacity: 0.9;\n",
              "  background-color:rgba(0, 0, 0, 0.0);\n",
              "}\n",
              "</style>\n",
              "<table bgcolor=\"4b64aa\">\n",
              "<tr>\t<td><table bgcolor=\"96c8ff\"><tr>\n",
              "\t<td>0<span class=\"up\">0</span><span class=\"down\">-5</span></td>\n",
              "\t<td>1<span class=\"up\">1</span><span class=\"down\">-4</span></td>\n",
              "\t<td>2<span class=\"up\">2</span><span class=\"down\">-3</span></td>\n",
              "\t<td>3<span class=\"up\">3</span><span class=\"down\">-2</span></td>\n",
              "\t<td>4<span class=\"up\">4</span><span class=\"down\">-1</span></td>\n",
              "</tr></table>\n",
              "<span class=\"up\">0</span><span class=\"down\">-2</span></td></tr>\n",
              "<tr>\t<td><table bgcolor=\"96c8ff\"><tr>\n",
              "\t<td>5<span class=\"up\">0</span><span class=\"down\">-5</span></td>\n",
              "\t<td>6<span class=\"up\">1</span><span class=\"down\">-4</span></td>\n",
              "\t<td>7<span class=\"up\">2</span><span class=\"down\">-3</span></td>\n",
              "\t<td>8<span class=\"up\">3</span><span class=\"down\">-2</span></td>\n",
              "\t<td>9<span class=\"up\">4</span><span class=\"down\">-1</span></td>\n",
              "</tr></table>\n",
              "<span class=\"up\">1</span><span class=\"down\">-1</span></td></tr>\n",
              "</table>\n"
            ],
            "text/plain": [
              "<IPython.core.display.HTML object>"
            ]
          },
          "metadata": {
            "tags": []
          }
        }
      ]
    },
    {
      "cell_type": "markdown",
      "metadata": {
        "id": "j6ADk17mGuei"
      },
      "source": [
        "##7. How to compute the mean, median, standard deviation of a numpy array?"
      ]
    },
    {
      "cell_type": "markdown",
      "metadata": {
        "id": "uIBSbhItLV4y"
      },
      "source": [
        "**Problem:**\n",
        "Find the mean, median, standard deviation of given 1D array."
      ]
    },
    {
      "cell_type": "code",
      "metadata": {
        "id": "VGr4TM6eGuej",
        "colab": {
          "base_uri": "https://localhost:8080/",
          "height": 127
        },
        "outputId": "fce12d26-51f9-4f31-8f31-24246c70331a"
      },
      "source": [
        "import numpy as np\n",
        "\n",
        "# Input\n",
        "arr = np.array([1,2,3,4,5,6,7,8,9,10])\n",
        "\n",
        "# Enter your code here\n",
        "mu = arr.mean(axis=0)\n",
        "med = np.median(arr, axis=0)\n",
        "sd = np.std(arr, axis=0)\n",
        "\n",
        "# Output\n",
        "visualize_array(arr)\n",
        "print('RESULT:')\n",
        "print(\"mean = \", mu, \"; median = \", med, \"; deviation = \", sd)"
      ],
      "execution_count": null,
      "outputs": [
        {
          "output_type": "display_data",
          "data": {
            "text/plain": [
              "<IPython.core.display.HTML object>"
            ],
            "text/html": [
              "\n",
              "<style>\n",
              "table {\n",
              "  border-collapse: collapse;\n",
              "}\n",
              "\n",
              "td {\n",
              "  border: 3px solid #666666;\n",
              "  min-width:30px;\n",
              "  height: 30px;\n",
              "  position: relative;\n",
              "  text-align:center;\n",
              "  color: #474747;\n",
              "  font-size:20px;\n",
              "  font-weight: bolder;\n",
              "  padding: 19px;\n",
              "}\n",
              "\n",
              ".up{\n",
              "  position: absolute;\n",
              "  right: 0;\n",
              "  top: 0;\n",
              "  background: white;\n",
              "  text-align: right;\n",
              "  font-size: 16px;\n",
              "  font-family: Courier;\n",
              "  font-weight: bolder;\n",
              "  color: blue;\n",
              "  opacity: 1.0;\n",
              "  background-color:rgba(0, 0, 0, 0.0);\n",
              "}\n",
              "\n",
              ".down{\n",
              "  position: absolute;\n",
              "  right: 0;\n",
              "  bottom: 0;\n",
              "  background: white;\n",
              "  text-align: right;\n",
              "  font-size: 16px;\n",
              "  font-family: Courier;\n",
              "  font-weight: bolder;\n",
              "  color: red;\n",
              "  opacity: 0.9;\n",
              "  background-color:rgba(0, 0, 0, 0.0);\n",
              "}\n",
              "</style>\n",
              "<table bgcolor=\"96c8ff\"><tr>\n",
              "\t<td>1<span class=\"up\">0</span><span class=\"down\">-10</span></td>\n",
              "\t<td>2<span class=\"up\">1</span><span class=\"down\">-9</span></td>\n",
              "\t<td>3<span class=\"up\">2</span><span class=\"down\">-8</span></td>\n",
              "\t<td>4<span class=\"up\">3</span><span class=\"down\">-7</span></td>\n",
              "\t<td>5<span class=\"up\">4</span><span class=\"down\">-6</span></td>\n",
              "\t<td>6<span class=\"up\">5</span><span class=\"down\">-5</span></td>\n",
              "\t<td>7<span class=\"up\">6</span><span class=\"down\">-4</span></td>\n",
              "\t<td>8<span class=\"up\">7</span><span class=\"down\">-3</span></td>\n",
              "\t<td>9<span class=\"up\">8</span><span class=\"down\">-2</span></td>\n",
              "\t<td>10<span class=\"up\">9</span><span class=\"down\">-1</span></td>\n",
              "</tr></table>\n"
            ]
          },
          "metadata": {}
        },
        {
          "output_type": "stream",
          "name": "stdout",
          "text": [
            "RESULT:\n",
            "mean =  5.5 ; median =  5.5 ; deviation =  2.8722813232690143\n"
          ]
        }
      ]
    },
    {
      "cell_type": "code",
      "metadata": {
        "id": "IU4NgOPAGuek",
        "cellView": "form",
        "colab": {
          "base_uri": "https://localhost:8080/",
          "height": 125
        },
        "outputId": "1d772bf1-6940-4ac3-c45f-37a359d59081"
      },
      "source": [
        "#@title ###Solution (double-click to see the source code)\n",
        "\n",
        "import numpy as np\n",
        "\n",
        "# Input\n",
        "arr = np.array([1,2,3,4,5,6,7,8,9,10])\n",
        "\n",
        "# Solution\n",
        "mu, med, sd = np.mean(arr), np.median(arr), np.std(arr)\n",
        "\n",
        "# Output\n",
        "visualize_array(arr)\n",
        "print('RESULT:')\n",
        "print(\"mean = \", mu, \"; median = \", med, \"; deviation = \", sd)"
      ],
      "execution_count": null,
      "outputs": [
        {
          "output_type": "display_data",
          "data": {
            "text/html": [
              "\n",
              "<style>\n",
              "table {\n",
              "  border-collapse: collapse;\n",
              "}\n",
              "\n",
              "td {\n",
              "  border: 3px solid #666666;\n",
              "  min-width:30px;\n",
              "  height: 30px;\n",
              "  position: relative; \n",
              "  text-align:center; \n",
              "  color: #474747;\n",
              "  font-size:20px;\n",
              "  font-weight: bolder;\n",
              "  padding: 19px;\n",
              "}\n",
              "\n",
              ".up{\n",
              "  position: absolute; \n",
              "  right: 0;\n",
              "  top: 0;\n",
              "  background: white;\n",
              "  text-align: right;\n",
              "  font-size: 16px;\n",
              "  font-family: Courier;\n",
              "  font-weight: bolder;\n",
              "  color: blue;\n",
              "  opacity: 1.0;\n",
              "  background-color:rgba(0, 0, 0, 0.0);\n",
              "}\n",
              "\n",
              ".down{\n",
              "  position: absolute; \n",
              "  right: 0;\n",
              "  bottom: 0;\n",
              "  background: white;\n",
              "  text-align: right;\n",
              "  font-size: 16px;\n",
              "  font-family: Courier;\n",
              "  font-weight: bolder;\n",
              "  color: red;\n",
              "  opacity: 0.9;\n",
              "  background-color:rgba(0, 0, 0, 0.0);\n",
              "}\n",
              "</style>\n",
              "<table bgcolor=\"96c8ff\"><tr>\n",
              "\t<td>1<span class=\"up\">0</span><span class=\"down\">-10</span></td>\n",
              "\t<td>2<span class=\"up\">1</span><span class=\"down\">-9</span></td>\n",
              "\t<td>3<span class=\"up\">2</span><span class=\"down\">-8</span></td>\n",
              "\t<td>4<span class=\"up\">3</span><span class=\"down\">-7</span></td>\n",
              "\t<td>5<span class=\"up\">4</span><span class=\"down\">-6</span></td>\n",
              "\t<td>6<span class=\"up\">5</span><span class=\"down\">-5</span></td>\n",
              "\t<td>7<span class=\"up\">6</span><span class=\"down\">-4</span></td>\n",
              "\t<td>8<span class=\"up\">7</span><span class=\"down\">-3</span></td>\n",
              "\t<td>9<span class=\"up\">8</span><span class=\"down\">-2</span></td>\n",
              "\t<td>10<span class=\"up\">9</span><span class=\"down\">-1</span></td>\n",
              "</tr></table>\n"
            ],
            "text/plain": [
              "<IPython.core.display.HTML object>"
            ]
          },
          "metadata": {
            "tags": []
          }
        },
        {
          "output_type": "stream",
          "text": [
            "RESULT:\n",
            "mean =  5.5 ; median =  5.5 ; deviation =  2.8722813232690143\n"
          ],
          "name": "stdout"
        }
      ]
    },
    {
      "cell_type": "markdown",
      "metadata": {
        "id": "O70AdXlmGuer"
      },
      "source": [
        "##8. How to find the percentile scores of a numpy array?\n"
      ]
    },
    {
      "cell_type": "markdown",
      "metadata": {
        "id": "xAdWtJB_Vqz5"
      },
      "source": [
        "**Problem:**\n",
        "Find the 5th and 95th percentile of given array."
      ]
    },
    {
      "cell_type": "code",
      "metadata": {
        "id": "W2mdKguyGuer",
        "colab": {
          "base_uri": "https://localhost:8080/",
          "height": 201
        },
        "outputId": "ce5f6aa1-921e-4250-fa8a-64575660e776"
      },
      "source": [
        "import numpy as np\n",
        "\n",
        "# Input\n",
        "arr = np.array([1,2,3,4,5,6,7,8,9,10])\n",
        "percentiles = [5, 95]\n",
        "\n",
        "# Enter your code here\n",
        "result = np.percentile(arr, q=percentiles)\n",
        "\n",
        "# Output\n",
        "print('INPUT:')\n",
        "visualize_array(arr)\n",
        "print('OUTPUT:')\n",
        "visualize_array(result.round(2))"
      ],
      "execution_count": null,
      "outputs": [
        {
          "output_type": "stream",
          "name": "stdout",
          "text": [
            "INPUT:\n"
          ]
        },
        {
          "output_type": "display_data",
          "data": {
            "text/plain": [
              "<IPython.core.display.HTML object>"
            ],
            "text/html": [
              "\n",
              "<style>\n",
              "table {\n",
              "  border-collapse: collapse;\n",
              "}\n",
              "\n",
              "td {\n",
              "  border: 3px solid #666666;\n",
              "  min-width:30px;\n",
              "  height: 30px;\n",
              "  position: relative;\n",
              "  text-align:center;\n",
              "  color: #474747;\n",
              "  font-size:20px;\n",
              "  font-weight: bolder;\n",
              "  padding: 19px;\n",
              "}\n",
              "\n",
              ".up{\n",
              "  position: absolute;\n",
              "  right: 0;\n",
              "  top: 0;\n",
              "  background: white;\n",
              "  text-align: right;\n",
              "  font-size: 16px;\n",
              "  font-family: Courier;\n",
              "  font-weight: bolder;\n",
              "  color: blue;\n",
              "  opacity: 1.0;\n",
              "  background-color:rgba(0, 0, 0, 0.0);\n",
              "}\n",
              "\n",
              ".down{\n",
              "  position: absolute;\n",
              "  right: 0;\n",
              "  bottom: 0;\n",
              "  background: white;\n",
              "  text-align: right;\n",
              "  font-size: 16px;\n",
              "  font-family: Courier;\n",
              "  font-weight: bolder;\n",
              "  color: red;\n",
              "  opacity: 0.9;\n",
              "  background-color:rgba(0, 0, 0, 0.0);\n",
              "}\n",
              "</style>\n",
              "<table bgcolor=\"96c8ff\"><tr>\n",
              "\t<td>1<span class=\"up\">0</span><span class=\"down\">-10</span></td>\n",
              "\t<td>2<span class=\"up\">1</span><span class=\"down\">-9</span></td>\n",
              "\t<td>3<span class=\"up\">2</span><span class=\"down\">-8</span></td>\n",
              "\t<td>4<span class=\"up\">3</span><span class=\"down\">-7</span></td>\n",
              "\t<td>5<span class=\"up\">4</span><span class=\"down\">-6</span></td>\n",
              "\t<td>6<span class=\"up\">5</span><span class=\"down\">-5</span></td>\n",
              "\t<td>7<span class=\"up\">6</span><span class=\"down\">-4</span></td>\n",
              "\t<td>8<span class=\"up\">7</span><span class=\"down\">-3</span></td>\n",
              "\t<td>9<span class=\"up\">8</span><span class=\"down\">-2</span></td>\n",
              "\t<td>10<span class=\"up\">9</span><span class=\"down\">-1</span></td>\n",
              "</tr></table>\n"
            ]
          },
          "metadata": {}
        },
        {
          "output_type": "stream",
          "name": "stdout",
          "text": [
            "OUTPUT:\n"
          ]
        },
        {
          "output_type": "display_data",
          "data": {
            "text/plain": [
              "<IPython.core.display.HTML object>"
            ],
            "text/html": [
              "\n",
              "<style>\n",
              "table {\n",
              "  border-collapse: collapse;\n",
              "}\n",
              "\n",
              "td {\n",
              "  border: 3px solid #666666;\n",
              "  min-width:30px;\n",
              "  height: 30px;\n",
              "  position: relative;\n",
              "  text-align:center;\n",
              "  color: #474747;\n",
              "  font-size:20px;\n",
              "  font-weight: bolder;\n",
              "  padding: 19px;\n",
              "}\n",
              "\n",
              ".up{\n",
              "  position: absolute;\n",
              "  right: 0;\n",
              "  top: 0;\n",
              "  background: white;\n",
              "  text-align: right;\n",
              "  font-size: 16px;\n",
              "  font-family: Courier;\n",
              "  font-weight: bolder;\n",
              "  color: blue;\n",
              "  opacity: 1.0;\n",
              "  background-color:rgba(0, 0, 0, 0.0);\n",
              "}\n",
              "\n",
              ".down{\n",
              "  position: absolute;\n",
              "  right: 0;\n",
              "  bottom: 0;\n",
              "  background: white;\n",
              "  text-align: right;\n",
              "  font-size: 16px;\n",
              "  font-family: Courier;\n",
              "  font-weight: bolder;\n",
              "  color: red;\n",
              "  opacity: 0.9;\n",
              "  background-color:rgba(0, 0, 0, 0.0);\n",
              "}\n",
              "</style>\n",
              "<table bgcolor=\"96c8ff\"><tr>\n",
              "\t<td>1.45<span class=\"up\">0</span><span class=\"down\">-2</span></td>\n",
              "\t<td>9.55<span class=\"up\">1</span><span class=\"down\">-1</span></td>\n",
              "</tr></table>\n"
            ]
          },
          "metadata": {}
        }
      ]
    },
    {
      "cell_type": "code",
      "metadata": {
        "id": "wCp_fOBDGuet",
        "cellView": "form",
        "colab": {
          "base_uri": "https://localhost:8080/",
          "height": 199
        },
        "outputId": "d761ade0-70b2-4973-f1a0-e0cad8aa8b17"
      },
      "source": [
        "#@title ###Solution (double-click to see the source code)\n",
        "import numpy as np\n",
        "\n",
        "# Input\n",
        "arr = np.array([1,2,3,4,5,6,7,8,9,10])\n",
        "percentiles = [5, 95]\n",
        "\n",
        "# Solution\n",
        "result = np.percentile(arr, q=percentiles)\n",
        "\n",
        "# Output\n",
        "print('INPUT:')\n",
        "visualize_array(arr)\n",
        "print('OUTPUT:')\n",
        "visualize_array(result.round(2))"
      ],
      "execution_count": null,
      "outputs": [
        {
          "output_type": "stream",
          "text": [
            "INPUT:\n"
          ],
          "name": "stdout"
        },
        {
          "output_type": "display_data",
          "data": {
            "text/html": [
              "\n",
              "<style>\n",
              "table {\n",
              "  border-collapse: collapse;\n",
              "}\n",
              "\n",
              "td {\n",
              "  border: 3px solid #666666;\n",
              "  min-width:30px;\n",
              "  height: 30px;\n",
              "  position: relative; \n",
              "  text-align:center; \n",
              "  color: #474747;\n",
              "  font-size:20px;\n",
              "  font-weight: bolder;\n",
              "  padding: 19px;\n",
              "}\n",
              "\n",
              ".up{\n",
              "  position: absolute; \n",
              "  right: 0;\n",
              "  top: 0;\n",
              "  background: white;\n",
              "  text-align: right;\n",
              "  font-size: 16px;\n",
              "  font-family: Courier;\n",
              "  font-weight: bolder;\n",
              "  color: blue;\n",
              "  opacity: 1.0;\n",
              "  background-color:rgba(0, 0, 0, 0.0);\n",
              "}\n",
              "\n",
              ".down{\n",
              "  position: absolute; \n",
              "  right: 0;\n",
              "  bottom: 0;\n",
              "  background: white;\n",
              "  text-align: right;\n",
              "  font-size: 16px;\n",
              "  font-family: Courier;\n",
              "  font-weight: bolder;\n",
              "  color: red;\n",
              "  opacity: 0.9;\n",
              "  background-color:rgba(0, 0, 0, 0.0);\n",
              "}\n",
              "</style>\n",
              "<table bgcolor=\"96c8ff\"><tr>\n",
              "\t<td>1<span class=\"up\">0</span><span class=\"down\">-10</span></td>\n",
              "\t<td>2<span class=\"up\">1</span><span class=\"down\">-9</span></td>\n",
              "\t<td>3<span class=\"up\">2</span><span class=\"down\">-8</span></td>\n",
              "\t<td>4<span class=\"up\">3</span><span class=\"down\">-7</span></td>\n",
              "\t<td>5<span class=\"up\">4</span><span class=\"down\">-6</span></td>\n",
              "\t<td>6<span class=\"up\">5</span><span class=\"down\">-5</span></td>\n",
              "\t<td>7<span class=\"up\">6</span><span class=\"down\">-4</span></td>\n",
              "\t<td>8<span class=\"up\">7</span><span class=\"down\">-3</span></td>\n",
              "\t<td>9<span class=\"up\">8</span><span class=\"down\">-2</span></td>\n",
              "\t<td>10<span class=\"up\">9</span><span class=\"down\">-1</span></td>\n",
              "</tr></table>\n"
            ],
            "text/plain": [
              "<IPython.core.display.HTML object>"
            ]
          },
          "metadata": {
            "tags": []
          }
        },
        {
          "output_type": "stream",
          "text": [
            "OUTPUT:\n"
          ],
          "name": "stdout"
        },
        {
          "output_type": "display_data",
          "data": {
            "text/html": [
              "\n",
              "<style>\n",
              "table {\n",
              "  border-collapse: collapse;\n",
              "}\n",
              "\n",
              "td {\n",
              "  border: 3px solid #666666;\n",
              "  min-width:30px;\n",
              "  height: 30px;\n",
              "  position: relative; \n",
              "  text-align:center; \n",
              "  color: #474747;\n",
              "  font-size:20px;\n",
              "  font-weight: bolder;\n",
              "  padding: 19px;\n",
              "}\n",
              "\n",
              ".up{\n",
              "  position: absolute; \n",
              "  right: 0;\n",
              "  top: 0;\n",
              "  background: white;\n",
              "  text-align: right;\n",
              "  font-size: 16px;\n",
              "  font-family: Courier;\n",
              "  font-weight: bolder;\n",
              "  color: blue;\n",
              "  opacity: 1.0;\n",
              "  background-color:rgba(0, 0, 0, 0.0);\n",
              "}\n",
              "\n",
              ".down{\n",
              "  position: absolute; \n",
              "  right: 0;\n",
              "  bottom: 0;\n",
              "  background: white;\n",
              "  text-align: right;\n",
              "  font-size: 16px;\n",
              "  font-family: Courier;\n",
              "  font-weight: bolder;\n",
              "  color: red;\n",
              "  opacity: 0.9;\n",
              "  background-color:rgba(0, 0, 0, 0.0);\n",
              "}\n",
              "</style>\n",
              "<table bgcolor=\"96c8ff\"><tr>\n",
              "\t<td>1.45<span class=\"up\">0</span><span class=\"down\">-2</span></td>\n",
              "\t<td>9.55<span class=\"up\">1</span><span class=\"down\">-1</span></td>\n",
              "</tr></table>\n"
            ],
            "text/plain": [
              "<IPython.core.display.HTML object>"
            ]
          },
          "metadata": {
            "tags": []
          }
        }
      ]
    },
    {
      "cell_type": "markdown",
      "metadata": {
        "id": "CZOJ8I5uGufQ"
      },
      "source": [
        "##9. How to find the most frequent value in a numpy array?\n",
        "\n",
        "\n"
      ]
    },
    {
      "cell_type": "markdown",
      "metadata": {
        "id": "RZNdworA3end"
      },
      "source": [
        "**Problem:**\n",
        "Find the most frequent value in the given array."
      ]
    },
    {
      "cell_type": "code",
      "metadata": {
        "id": "_LcR6Uy4GufQ",
        "colab": {
          "base_uri": "https://localhost:8080/",
          "height": 145
        },
        "outputId": "6066fdc8-2c74-43cb-8b2d-c52a3e6c44bc"
      },
      "source": [
        "import numpy as np\n",
        "\n",
        "# Input:\n",
        "arr = np.array([3, 4, 2, 1, 1, 1, 2, 3, 1, 3])\n",
        "\n",
        "# Enter your code here\n",
        "vals, counts = np.unique(arr, return_counts=True)\n",
        "result = vals[np.argmax(counts)]\n",
        "\n",
        "# Output\n",
        "print('INPUT:')\n",
        "visualize_array(arr)\n",
        "print('MOST FREQUENT VALUE:')\n",
        "print(result)"
      ],
      "execution_count": null,
      "outputs": [
        {
          "output_type": "stream",
          "name": "stdout",
          "text": [
            "INPUT:\n"
          ]
        },
        {
          "output_type": "display_data",
          "data": {
            "text/plain": [
              "<IPython.core.display.HTML object>"
            ],
            "text/html": [
              "\n",
              "<style>\n",
              "table {\n",
              "  border-collapse: collapse;\n",
              "}\n",
              "\n",
              "td {\n",
              "  border: 3px solid #666666;\n",
              "  min-width:30px;\n",
              "  height: 30px;\n",
              "  position: relative;\n",
              "  text-align:center;\n",
              "  color: #474747;\n",
              "  font-size:20px;\n",
              "  font-weight: bolder;\n",
              "  padding: 19px;\n",
              "}\n",
              "\n",
              ".up{\n",
              "  position: absolute;\n",
              "  right: 0;\n",
              "  top: 0;\n",
              "  background: white;\n",
              "  text-align: right;\n",
              "  font-size: 16px;\n",
              "  font-family: Courier;\n",
              "  font-weight: bolder;\n",
              "  color: blue;\n",
              "  opacity: 1.0;\n",
              "  background-color:rgba(0, 0, 0, 0.0);\n",
              "}\n",
              "\n",
              ".down{\n",
              "  position: absolute;\n",
              "  right: 0;\n",
              "  bottom: 0;\n",
              "  background: white;\n",
              "  text-align: right;\n",
              "  font-size: 16px;\n",
              "  font-family: Courier;\n",
              "  font-weight: bolder;\n",
              "  color: red;\n",
              "  opacity: 0.9;\n",
              "  background-color:rgba(0, 0, 0, 0.0);\n",
              "}\n",
              "</style>\n",
              "<table bgcolor=\"96c8ff\"><tr>\n",
              "\t<td>3<span class=\"up\">0</span><span class=\"down\">-10</span></td>\n",
              "\t<td>4<span class=\"up\">1</span><span class=\"down\">-9</span></td>\n",
              "\t<td>2<span class=\"up\">2</span><span class=\"down\">-8</span></td>\n",
              "\t<td>1<span class=\"up\">3</span><span class=\"down\">-7</span></td>\n",
              "\t<td>1<span class=\"up\">4</span><span class=\"down\">-6</span></td>\n",
              "\t<td>1<span class=\"up\">5</span><span class=\"down\">-5</span></td>\n",
              "\t<td>2<span class=\"up\">6</span><span class=\"down\">-4</span></td>\n",
              "\t<td>3<span class=\"up\">7</span><span class=\"down\">-3</span></td>\n",
              "\t<td>1<span class=\"up\">8</span><span class=\"down\">-2</span></td>\n",
              "\t<td>3<span class=\"up\">9</span><span class=\"down\">-1</span></td>\n",
              "</tr></table>\n"
            ]
          },
          "metadata": {}
        },
        {
          "output_type": "stream",
          "name": "stdout",
          "text": [
            "MOST FREQUENT VALUE:\n",
            "1\n"
          ]
        }
      ]
    },
    {
      "cell_type": "code",
      "source": [
        "counts, vals"
      ],
      "metadata": {
        "id": "h49dlbVRKloo",
        "outputId": "e8e06f99-5275-46bb-f0d4-4099774d8f29",
        "colab": {
          "base_uri": "https://localhost:8080/"
        }
      },
      "execution_count": null,
      "outputs": [
        {
          "output_type": "execute_result",
          "data": {
            "text/plain": [
              "(array([4, 2, 3, 1]), array([1, 2, 3, 4]))"
            ]
          },
          "metadata": {},
          "execution_count": 27
        }
      ]
    },
    {
      "cell_type": "code",
      "metadata": {
        "id": "PQzAmgudGufQ",
        "colab": {
          "base_uri": "https://localhost:8080/",
          "height": 145
        },
        "outputId": "07695bbf-8f49-45a1-a3b7-e5baab513549",
        "cellView": "form"
      },
      "source": [
        "#@title ###Solution (double-click to see the source code)\n",
        "\n",
        "import numpy as np\n",
        "\n",
        "# Input:\n",
        "arr = np.array([3, 4, 2, 1, 1, 1, 2, 3, 1, 3])\n",
        "\n",
        "# Solution:\n",
        "vals, counts = np.unique(arr, return_counts=True)\n",
        "result = vals[np.argmax(counts)]\n",
        "\n",
        "# Output\n",
        "print('INPUT:')\n",
        "visualize_array(arr)\n",
        "print('MOST FREQUENT VALUE:')\n",
        "print(result)"
      ],
      "execution_count": null,
      "outputs": [
        {
          "output_type": "stream",
          "name": "stdout",
          "text": [
            "INPUT:\n"
          ]
        },
        {
          "output_type": "display_data",
          "data": {
            "text/plain": [
              "<IPython.core.display.HTML object>"
            ],
            "text/html": [
              "\n",
              "<style>\n",
              "table {\n",
              "  border-collapse: collapse;\n",
              "}\n",
              "\n",
              "td {\n",
              "  border: 3px solid #666666;\n",
              "  min-width:30px;\n",
              "  height: 30px;\n",
              "  position: relative;\n",
              "  text-align:center;\n",
              "  color: #474747;\n",
              "  font-size:20px;\n",
              "  font-weight: bolder;\n",
              "  padding: 19px;\n",
              "}\n",
              "\n",
              ".up{\n",
              "  position: absolute;\n",
              "  right: 0;\n",
              "  top: 0;\n",
              "  background: white;\n",
              "  text-align: right;\n",
              "  font-size: 16px;\n",
              "  font-family: Courier;\n",
              "  font-weight: bolder;\n",
              "  color: blue;\n",
              "  opacity: 1.0;\n",
              "  background-color:rgba(0, 0, 0, 0.0);\n",
              "}\n",
              "\n",
              ".down{\n",
              "  position: absolute;\n",
              "  right: 0;\n",
              "  bottom: 0;\n",
              "  background: white;\n",
              "  text-align: right;\n",
              "  font-size: 16px;\n",
              "  font-family: Courier;\n",
              "  font-weight: bolder;\n",
              "  color: red;\n",
              "  opacity: 0.9;\n",
              "  background-color:rgba(0, 0, 0, 0.0);\n",
              "}\n",
              "</style>\n",
              "<table bgcolor=\"96c8ff\"><tr>\n",
              "\t<td>3<span class=\"up\">0</span><span class=\"down\">-10</span></td>\n",
              "\t<td>4<span class=\"up\">1</span><span class=\"down\">-9</span></td>\n",
              "\t<td>2<span class=\"up\">2</span><span class=\"down\">-8</span></td>\n",
              "\t<td>1<span class=\"up\">3</span><span class=\"down\">-7</span></td>\n",
              "\t<td>1<span class=\"up\">4</span><span class=\"down\">-6</span></td>\n",
              "\t<td>1<span class=\"up\">5</span><span class=\"down\">-5</span></td>\n",
              "\t<td>2<span class=\"up\">6</span><span class=\"down\">-4</span></td>\n",
              "\t<td>3<span class=\"up\">7</span><span class=\"down\">-3</span></td>\n",
              "\t<td>1<span class=\"up\">8</span><span class=\"down\">-2</span></td>\n",
              "\t<td>3<span class=\"up\">9</span><span class=\"down\">-1</span></td>\n",
              "</tr></table>\n"
            ]
          },
          "metadata": {}
        },
        {
          "output_type": "stream",
          "name": "stdout",
          "text": [
            "MOST FREQUENT VALUE:\n",
            "1\n"
          ]
        }
      ]
    },
    {
      "cell_type": "markdown",
      "metadata": {
        "id": "YiNMBxl8SAiz"
      },
      "source": [
        "#Intermediate"
      ]
    },
    {
      "cell_type": "markdown",
      "metadata": {
        "id": "86EgQATpGucR"
      },
      "source": [
        "##1. How to replace items that satisfy a condition without affecting the original array?"
      ]
    },
    {
      "cell_type": "markdown",
      "metadata": {
        "id": "vc0CICWh0m6c"
      },
      "source": [
        "**Problem:**\n",
        "Replace all odd numbers in `arr` with -1 without changing `arr`"
      ]
    },
    {
      "cell_type": "code",
      "metadata": {
        "id": "etsioKd3GucS",
        "colab": {
          "base_uri": "https://localhost:8080/",
          "height": 201
        },
        "outputId": "fd8982cf-876d-4871-fad2-74a1667e5ce5"
      },
      "source": [
        "import numpy as np\n",
        "\n",
        "# Input\n",
        "arr = np.array([0, 1, 2, 3, 4, 5, 6, 7, 8, 9])\n",
        "\n",
        "# Enter your code here\n",
        "out = np.where(arr % 2 == 1, -1, arr)\n",
        "\n",
        "# Output\n",
        "print('arr:')\n",
        "visualize_array(arr)\n",
        "print('out:')\n",
        "visualize_array(out)"
      ],
      "execution_count": null,
      "outputs": [
        {
          "output_type": "stream",
          "name": "stdout",
          "text": [
            "arr:\n"
          ]
        },
        {
          "output_type": "display_data",
          "data": {
            "text/plain": [
              "<IPython.core.display.HTML object>"
            ],
            "text/html": [
              "\n",
              "<style>\n",
              "table {\n",
              "  border-collapse: collapse;\n",
              "}\n",
              "\n",
              "td {\n",
              "  border: 3px solid #666666;\n",
              "  min-width:30px;\n",
              "  height: 30px;\n",
              "  position: relative;\n",
              "  text-align:center;\n",
              "  color: #474747;\n",
              "  font-size:20px;\n",
              "  font-weight: bolder;\n",
              "  padding: 19px;\n",
              "}\n",
              "\n",
              ".up{\n",
              "  position: absolute;\n",
              "  right: 0;\n",
              "  top: 0;\n",
              "  background: white;\n",
              "  text-align: right;\n",
              "  font-size: 16px;\n",
              "  font-family: Courier;\n",
              "  font-weight: bolder;\n",
              "  color: blue;\n",
              "  opacity: 1.0;\n",
              "  background-color:rgba(0, 0, 0, 0.0);\n",
              "}\n",
              "\n",
              ".down{\n",
              "  position: absolute;\n",
              "  right: 0;\n",
              "  bottom: 0;\n",
              "  background: white;\n",
              "  text-align: right;\n",
              "  font-size: 16px;\n",
              "  font-family: Courier;\n",
              "  font-weight: bolder;\n",
              "  color: red;\n",
              "  opacity: 0.9;\n",
              "  background-color:rgba(0, 0, 0, 0.0);\n",
              "}\n",
              "</style>\n",
              "<table bgcolor=\"96c8ff\"><tr>\n",
              "\t<td>0<span class=\"up\">0</span><span class=\"down\">-10</span></td>\n",
              "\t<td>1<span class=\"up\">1</span><span class=\"down\">-9</span></td>\n",
              "\t<td>2<span class=\"up\">2</span><span class=\"down\">-8</span></td>\n",
              "\t<td>3<span class=\"up\">3</span><span class=\"down\">-7</span></td>\n",
              "\t<td>4<span class=\"up\">4</span><span class=\"down\">-6</span></td>\n",
              "\t<td>5<span class=\"up\">5</span><span class=\"down\">-5</span></td>\n",
              "\t<td>6<span class=\"up\">6</span><span class=\"down\">-4</span></td>\n",
              "\t<td>7<span class=\"up\">7</span><span class=\"down\">-3</span></td>\n",
              "\t<td>8<span class=\"up\">8</span><span class=\"down\">-2</span></td>\n",
              "\t<td>9<span class=\"up\">9</span><span class=\"down\">-1</span></td>\n",
              "</tr></table>\n"
            ]
          },
          "metadata": {}
        },
        {
          "output_type": "stream",
          "name": "stdout",
          "text": [
            "out:\n"
          ]
        },
        {
          "output_type": "display_data",
          "data": {
            "text/plain": [
              "<IPython.core.display.HTML object>"
            ],
            "text/html": [
              "\n",
              "<style>\n",
              "table {\n",
              "  border-collapse: collapse;\n",
              "}\n",
              "\n",
              "td {\n",
              "  border: 3px solid #666666;\n",
              "  min-width:30px;\n",
              "  height: 30px;\n",
              "  position: relative;\n",
              "  text-align:center;\n",
              "  color: #474747;\n",
              "  font-size:20px;\n",
              "  font-weight: bolder;\n",
              "  padding: 19px;\n",
              "}\n",
              "\n",
              ".up{\n",
              "  position: absolute;\n",
              "  right: 0;\n",
              "  top: 0;\n",
              "  background: white;\n",
              "  text-align: right;\n",
              "  font-size: 16px;\n",
              "  font-family: Courier;\n",
              "  font-weight: bolder;\n",
              "  color: blue;\n",
              "  opacity: 1.0;\n",
              "  background-color:rgba(0, 0, 0, 0.0);\n",
              "}\n",
              "\n",
              ".down{\n",
              "  position: absolute;\n",
              "  right: 0;\n",
              "  bottom: 0;\n",
              "  background: white;\n",
              "  text-align: right;\n",
              "  font-size: 16px;\n",
              "  font-family: Courier;\n",
              "  font-weight: bolder;\n",
              "  color: red;\n",
              "  opacity: 0.9;\n",
              "  background-color:rgba(0, 0, 0, 0.0);\n",
              "}\n",
              "</style>\n",
              "<table bgcolor=\"96c8ff\"><tr>\n",
              "\t<td>0<span class=\"up\">0</span><span class=\"down\">-10</span></td>\n",
              "\t<td>-1<span class=\"up\">1</span><span class=\"down\">-9</span></td>\n",
              "\t<td>2<span class=\"up\">2</span><span class=\"down\">-8</span></td>\n",
              "\t<td>-1<span class=\"up\">3</span><span class=\"down\">-7</span></td>\n",
              "\t<td>4<span class=\"up\">4</span><span class=\"down\">-6</span></td>\n",
              "\t<td>-1<span class=\"up\">5</span><span class=\"down\">-5</span></td>\n",
              "\t<td>6<span class=\"up\">6</span><span class=\"down\">-4</span></td>\n",
              "\t<td>-1<span class=\"up\">7</span><span class=\"down\">-3</span></td>\n",
              "\t<td>8<span class=\"up\">8</span><span class=\"down\">-2</span></td>\n",
              "\t<td>-1<span class=\"up\">9</span><span class=\"down\">-1</span></td>\n",
              "</tr></table>\n"
            ]
          },
          "metadata": {}
        }
      ]
    },
    {
      "cell_type": "code",
      "metadata": {
        "id": "qdleyALdGucU",
        "cellView": "form",
        "colab": {
          "base_uri": "https://localhost:8080/",
          "height": 196
        },
        "outputId": "278a35f4-bee3-4d78-d05b-7bf8bf931b71"
      },
      "source": [
        "#@title Solution (double click to see the source code)\n",
        "import numpy as np\n",
        "\n",
        "# Input\n",
        "arr = np.array([0, 1, 2, 3, 4, 5, 6, 7, 8, 9]) #@param\n",
        "\n",
        "# Solution\n",
        "out = np.where(arr % 2 == 1, -1, arr)\n",
        "\n",
        "# Output\n",
        "print('arr:')\n",
        "visualize_array(arr)\n",
        "print('out:')\n",
        "visualize_array(out)"
      ],
      "execution_count": null,
      "outputs": [
        {
          "output_type": "stream",
          "text": [
            "arr:\n"
          ],
          "name": "stdout"
        },
        {
          "output_type": "display_data",
          "data": {
            "text/html": [
              "\n",
              "<style>\n",
              "table {\n",
              "  border-collapse: collapse;\n",
              "}\n",
              "\n",
              "td {\n",
              "  border: 3px solid #666666;\n",
              "  min-width:30px;\n",
              "  height: 30px;\n",
              "  position: relative; \n",
              "  text-align:center; \n",
              "  color: #474747;\n",
              "  font-size:20px;\n",
              "  font-weight: bolder;\n",
              "  padding: 19px;\n",
              "}\n",
              "\n",
              ".up{\n",
              "  position: absolute; \n",
              "  right: 0;\n",
              "  top: 0;\n",
              "  background: white;\n",
              "  text-align: right;\n",
              "  font-size: 16px;\n",
              "  font-family: Courier;\n",
              "  font-weight: bolder;\n",
              "  color: blue;\n",
              "  opacity: 1.0;\n",
              "  background-color:rgba(0, 0, 0, 0.0);\n",
              "}\n",
              "\n",
              ".down{\n",
              "  position: absolute; \n",
              "  right: 0;\n",
              "  bottom: 0;\n",
              "  background: white;\n",
              "  text-align: right;\n",
              "  font-size: 16px;\n",
              "  font-family: Courier;\n",
              "  font-weight: bolder;\n",
              "  color: red;\n",
              "  opacity: 0.9;\n",
              "  background-color:rgba(0, 0, 0, 0.0);\n",
              "}\n",
              "</style>\n",
              "<table bgcolor=\"96c8ff\"><tr>\n",
              "\t<td>0<span class=\"up\">0</span><span class=\"down\">-10</span></td>\n",
              "\t<td>1<span class=\"up\">1</span><span class=\"down\">-9</span></td>\n",
              "\t<td>2<span class=\"up\">2</span><span class=\"down\">-8</span></td>\n",
              "\t<td>3<span class=\"up\">3</span><span class=\"down\">-7</span></td>\n",
              "\t<td>4<span class=\"up\">4</span><span class=\"down\">-6</span></td>\n",
              "\t<td>5<span class=\"up\">5</span><span class=\"down\">-5</span></td>\n",
              "\t<td>6<span class=\"up\">6</span><span class=\"down\">-4</span></td>\n",
              "\t<td>7<span class=\"up\">7</span><span class=\"down\">-3</span></td>\n",
              "\t<td>8<span class=\"up\">8</span><span class=\"down\">-2</span></td>\n",
              "\t<td>9<span class=\"up\">9</span><span class=\"down\">-1</span></td>\n",
              "</tr></table>\n"
            ],
            "text/plain": [
              "<IPython.core.display.HTML object>"
            ]
          },
          "metadata": {
            "tags": []
          }
        },
        {
          "output_type": "stream",
          "text": [
            "out:\n"
          ],
          "name": "stdout"
        },
        {
          "output_type": "display_data",
          "data": {
            "text/html": [
              "\n",
              "<style>\n",
              "table {\n",
              "  border-collapse: collapse;\n",
              "}\n",
              "\n",
              "td {\n",
              "  border: 3px solid #666666;\n",
              "  min-width:30px;\n",
              "  height: 30px;\n",
              "  position: relative; \n",
              "  text-align:center; \n",
              "  color: #474747;\n",
              "  font-size:20px;\n",
              "  font-weight: bolder;\n",
              "  padding: 19px;\n",
              "}\n",
              "\n",
              ".up{\n",
              "  position: absolute; \n",
              "  right: 0;\n",
              "  top: 0;\n",
              "  background: white;\n",
              "  text-align: right;\n",
              "  font-size: 16px;\n",
              "  font-family: Courier;\n",
              "  font-weight: bolder;\n",
              "  color: blue;\n",
              "  opacity: 1.0;\n",
              "  background-color:rgba(0, 0, 0, 0.0);\n",
              "}\n",
              "\n",
              ".down{\n",
              "  position: absolute; \n",
              "  right: 0;\n",
              "  bottom: 0;\n",
              "  background: white;\n",
              "  text-align: right;\n",
              "  font-size: 16px;\n",
              "  font-family: Courier;\n",
              "  font-weight: bolder;\n",
              "  color: red;\n",
              "  opacity: 0.9;\n",
              "  background-color:rgba(0, 0, 0, 0.0);\n",
              "}\n",
              "</style>\n",
              "<table bgcolor=\"96c8ff\"><tr>\n",
              "\t<td>0<span class=\"up\">0</span><span class=\"down\">-10</span></td>\n",
              "\t<td>-1<span class=\"up\">1</span><span class=\"down\">-9</span></td>\n",
              "\t<td>2<span class=\"up\">2</span><span class=\"down\">-8</span></td>\n",
              "\t<td>-1<span class=\"up\">3</span><span class=\"down\">-7</span></td>\n",
              "\t<td>4<span class=\"up\">4</span><span class=\"down\">-6</span></td>\n",
              "\t<td>-1<span class=\"up\">5</span><span class=\"down\">-5</span></td>\n",
              "\t<td>6<span class=\"up\">6</span><span class=\"down\">-4</span></td>\n",
              "\t<td>-1<span class=\"up\">7</span><span class=\"down\">-3</span></td>\n",
              "\t<td>8<span class=\"up\">8</span><span class=\"down\">-2</span></td>\n",
              "\t<td>-1<span class=\"up\">9</span><span class=\"down\">-1</span></td>\n",
              "</tr></table>\n"
            ],
            "text/plain": [
              "<IPython.core.display.HTML object>"
            ]
          },
          "metadata": {
            "tags": []
          }
        }
      ]
    },
    {
      "cell_type": "markdown",
      "metadata": {
        "id": "myGydaXKGucZ"
      },
      "source": [
        "##2. How to stack two arrays vertically?"
      ]
    },
    {
      "cell_type": "markdown",
      "metadata": {
        "id": "UVFPwA_SIxx-"
      },
      "source": [
        "**Problem:**\n",
        "Stack arrays a and b vertically"
      ]
    },
    {
      "cell_type": "code",
      "metadata": {
        "id": "nG07uKoIGucZ",
        "colab": {
          "base_uri": "https://localhost:8080/",
          "height": 814
        },
        "outputId": "0a260e1a-33d7-4e4d-d3f7-390bd67e862a"
      },
      "source": [
        "import numpy as np\n",
        "\n",
        "# Input\n",
        "a = np.arange(10).reshape(2,-1)\n",
        "b = np.repeat(1, 10).reshape(2,-1)\n",
        "\n",
        "# Enter your code here\n",
        "out = np.stack([a, b], axis=1)\n",
        "\n",
        "# Output\n",
        "print('array a:')\n",
        "visualize_array(a)\n",
        "print('array b:')\n",
        "visualize_array(b)\n",
        "print('stacked:')\n",
        "visualize_array(out)"
      ],
      "execution_count": null,
      "outputs": [
        {
          "output_type": "stream",
          "name": "stdout",
          "text": [
            "array a:\n"
          ]
        },
        {
          "output_type": "display_data",
          "data": {
            "text/plain": [
              "<IPython.core.display.HTML object>"
            ],
            "text/html": [
              "\n",
              "<style>\n",
              "table {\n",
              "  border-collapse: collapse;\n",
              "}\n",
              "\n",
              "td {\n",
              "  border: 3px solid #666666;\n",
              "  min-width:30px;\n",
              "  height: 30px;\n",
              "  position: relative;\n",
              "  text-align:center;\n",
              "  color: #474747;\n",
              "  font-size:20px;\n",
              "  font-weight: bolder;\n",
              "  padding: 19px;\n",
              "}\n",
              "\n",
              ".up{\n",
              "  position: absolute;\n",
              "  right: 0;\n",
              "  top: 0;\n",
              "  background: white;\n",
              "  text-align: right;\n",
              "  font-size: 16px;\n",
              "  font-family: Courier;\n",
              "  font-weight: bolder;\n",
              "  color: blue;\n",
              "  opacity: 1.0;\n",
              "  background-color:rgba(0, 0, 0, 0.0);\n",
              "}\n",
              "\n",
              ".down{\n",
              "  position: absolute;\n",
              "  right: 0;\n",
              "  bottom: 0;\n",
              "  background: white;\n",
              "  text-align: right;\n",
              "  font-size: 16px;\n",
              "  font-family: Courier;\n",
              "  font-weight: bolder;\n",
              "  color: red;\n",
              "  opacity: 0.9;\n",
              "  background-color:rgba(0, 0, 0, 0.0);\n",
              "}\n",
              "</style>\n",
              "<table bgcolor=\"4b64aa\">\n",
              "<tr>\t<td><table bgcolor=\"96c8ff\"><tr>\n",
              "\t<td>0<span class=\"up\">0</span><span class=\"down\">-5</span></td>\n",
              "\t<td>1<span class=\"up\">1</span><span class=\"down\">-4</span></td>\n",
              "\t<td>2<span class=\"up\">2</span><span class=\"down\">-3</span></td>\n",
              "\t<td>3<span class=\"up\">3</span><span class=\"down\">-2</span></td>\n",
              "\t<td>4<span class=\"up\">4</span><span class=\"down\">-1</span></td>\n",
              "</tr></table>\n",
              "<span class=\"up\">0</span><span class=\"down\">-2</span></td></tr>\n",
              "<tr>\t<td><table bgcolor=\"96c8ff\"><tr>\n",
              "\t<td>5<span class=\"up\">0</span><span class=\"down\">-5</span></td>\n",
              "\t<td>6<span class=\"up\">1</span><span class=\"down\">-4</span></td>\n",
              "\t<td>7<span class=\"up\">2</span><span class=\"down\">-3</span></td>\n",
              "\t<td>8<span class=\"up\">3</span><span class=\"down\">-2</span></td>\n",
              "\t<td>9<span class=\"up\">4</span><span class=\"down\">-1</span></td>\n",
              "</tr></table>\n",
              "<span class=\"up\">1</span><span class=\"down\">-1</span></td></tr>\n",
              "</table>\n"
            ]
          },
          "metadata": {}
        },
        {
          "output_type": "stream",
          "name": "stdout",
          "text": [
            "array b:\n"
          ]
        },
        {
          "output_type": "display_data",
          "data": {
            "text/plain": [
              "<IPython.core.display.HTML object>"
            ],
            "text/html": [
              "\n",
              "<style>\n",
              "table {\n",
              "  border-collapse: collapse;\n",
              "}\n",
              "\n",
              "td {\n",
              "  border: 3px solid #666666;\n",
              "  min-width:30px;\n",
              "  height: 30px;\n",
              "  position: relative;\n",
              "  text-align:center;\n",
              "  color: #474747;\n",
              "  font-size:20px;\n",
              "  font-weight: bolder;\n",
              "  padding: 19px;\n",
              "}\n",
              "\n",
              ".up{\n",
              "  position: absolute;\n",
              "  right: 0;\n",
              "  top: 0;\n",
              "  background: white;\n",
              "  text-align: right;\n",
              "  font-size: 16px;\n",
              "  font-family: Courier;\n",
              "  font-weight: bolder;\n",
              "  color: blue;\n",
              "  opacity: 1.0;\n",
              "  background-color:rgba(0, 0, 0, 0.0);\n",
              "}\n",
              "\n",
              ".down{\n",
              "  position: absolute;\n",
              "  right: 0;\n",
              "  bottom: 0;\n",
              "  background: white;\n",
              "  text-align: right;\n",
              "  font-size: 16px;\n",
              "  font-family: Courier;\n",
              "  font-weight: bolder;\n",
              "  color: red;\n",
              "  opacity: 0.9;\n",
              "  background-color:rgba(0, 0, 0, 0.0);\n",
              "}\n",
              "</style>\n",
              "<table bgcolor=\"4b64aa\">\n",
              "<tr>\t<td><table bgcolor=\"96c8ff\"><tr>\n",
              "\t<td>1<span class=\"up\">0</span><span class=\"down\">-5</span></td>\n",
              "\t<td>1<span class=\"up\">1</span><span class=\"down\">-4</span></td>\n",
              "\t<td>1<span class=\"up\">2</span><span class=\"down\">-3</span></td>\n",
              "\t<td>1<span class=\"up\">3</span><span class=\"down\">-2</span></td>\n",
              "\t<td>1<span class=\"up\">4</span><span class=\"down\">-1</span></td>\n",
              "</tr></table>\n",
              "<span class=\"up\">0</span><span class=\"down\">-2</span></td></tr>\n",
              "<tr>\t<td><table bgcolor=\"96c8ff\"><tr>\n",
              "\t<td>1<span class=\"up\">0</span><span class=\"down\">-5</span></td>\n",
              "\t<td>1<span class=\"up\">1</span><span class=\"down\">-4</span></td>\n",
              "\t<td>1<span class=\"up\">2</span><span class=\"down\">-3</span></td>\n",
              "\t<td>1<span class=\"up\">3</span><span class=\"down\">-2</span></td>\n",
              "\t<td>1<span class=\"up\">4</span><span class=\"down\">-1</span></td>\n",
              "</tr></table>\n",
              "<span class=\"up\">1</span><span class=\"down\">-1</span></td></tr>\n",
              "</table>\n"
            ]
          },
          "metadata": {}
        },
        {
          "output_type": "stream",
          "name": "stdout",
          "text": [
            "stacked:\n"
          ]
        },
        {
          "output_type": "display_data",
          "data": {
            "text/plain": [
              "<IPython.core.display.HTML object>"
            ],
            "text/html": [
              "\n",
              "<style>\n",
              "table {\n",
              "  border-collapse: collapse;\n",
              "}\n",
              "\n",
              "td {\n",
              "  border: 3px solid #666666;\n",
              "  min-width:30px;\n",
              "  height: 30px;\n",
              "  position: relative;\n",
              "  text-align:center;\n",
              "  color: #474747;\n",
              "  font-size:20px;\n",
              "  font-weight: bolder;\n",
              "  padding: 19px;\n",
              "}\n",
              "\n",
              ".up{\n",
              "  position: absolute;\n",
              "  right: 0;\n",
              "  top: 0;\n",
              "  background: white;\n",
              "  text-align: right;\n",
              "  font-size: 16px;\n",
              "  font-family: Courier;\n",
              "  font-weight: bolder;\n",
              "  color: blue;\n",
              "  opacity: 1.0;\n",
              "  background-color:rgba(0, 0, 0, 0.0);\n",
              "}\n",
              "\n",
              ".down{\n",
              "  position: absolute;\n",
              "  right: 0;\n",
              "  bottom: 0;\n",
              "  background: white;\n",
              "  text-align: right;\n",
              "  font-size: 16px;\n",
              "  font-family: Courier;\n",
              "  font-weight: bolder;\n",
              "  color: red;\n",
              "  opacity: 0.9;\n",
              "  background-color:rgba(0, 0, 0, 0.0);\n",
              "}\n",
              "</style>\n",
              "<table bgcolor=\"4b64aa\"><tr>\n",
              "\t<td><table bgcolor=\"7096d4\">\n",
              "<tr>\t<td><table bgcolor=\"96c8ff\"><tr>\n",
              "\t<td>0<span class=\"up\">0</span><span class=\"down\">-5</span></td>\n",
              "\t<td>1<span class=\"up\">1</span><span class=\"down\">-4</span></td>\n",
              "\t<td>2<span class=\"up\">2</span><span class=\"down\">-3</span></td>\n",
              "\t<td>3<span class=\"up\">3</span><span class=\"down\">-2</span></td>\n",
              "\t<td>4<span class=\"up\">4</span><span class=\"down\">-1</span></td>\n",
              "</tr></table>\n",
              "<span class=\"up\">0</span><span class=\"down\">-2</span></td></tr>\n",
              "<tr>\t<td><table bgcolor=\"96c8ff\"><tr>\n",
              "\t<td>1<span class=\"up\">0</span><span class=\"down\">-5</span></td>\n",
              "\t<td>1<span class=\"up\">1</span><span class=\"down\">-4</span></td>\n",
              "\t<td>1<span class=\"up\">2</span><span class=\"down\">-3</span></td>\n",
              "\t<td>1<span class=\"up\">3</span><span class=\"down\">-2</span></td>\n",
              "\t<td>1<span class=\"up\">4</span><span class=\"down\">-1</span></td>\n",
              "</tr></table>\n",
              "<span class=\"up\">1</span><span class=\"down\">-1</span></td></tr>\n",
              "</table>\n",
              "<span class=\"up\">0</span><span class=\"down\">-2</span></td>\n",
              "\t<td><table bgcolor=\"7096d4\">\n",
              "<tr>\t<td><table bgcolor=\"96c8ff\"><tr>\n",
              "\t<td>5<span class=\"up\">0</span><span class=\"down\">-5</span></td>\n",
              "\t<td>6<span class=\"up\">1</span><span class=\"down\">-4</span></td>\n",
              "\t<td>7<span class=\"up\">2</span><span class=\"down\">-3</span></td>\n",
              "\t<td>8<span class=\"up\">3</span><span class=\"down\">-2</span></td>\n",
              "\t<td>9<span class=\"up\">4</span><span class=\"down\">-1</span></td>\n",
              "</tr></table>\n",
              "<span class=\"up\">0</span><span class=\"down\">-2</span></td></tr>\n",
              "<tr>\t<td><table bgcolor=\"96c8ff\"><tr>\n",
              "\t<td>1<span class=\"up\">0</span><span class=\"down\">-5</span></td>\n",
              "\t<td>1<span class=\"up\">1</span><span class=\"down\">-4</span></td>\n",
              "\t<td>1<span class=\"up\">2</span><span class=\"down\">-3</span></td>\n",
              "\t<td>1<span class=\"up\">3</span><span class=\"down\">-2</span></td>\n",
              "\t<td>1<span class=\"up\">4</span><span class=\"down\">-1</span></td>\n",
              "</tr></table>\n",
              "<span class=\"up\">1</span><span class=\"down\">-1</span></td></tr>\n",
              "</table>\n",
              "<span class=\"up\">1</span><span class=\"down\">-1</span></td>\n",
              "</tr></table>\n"
            ]
          },
          "metadata": {}
        }
      ]
    },
    {
      "cell_type": "code",
      "metadata": {
        "id": "PImUWMo9Gucc",
        "cellView": "form",
        "colab": {
          "base_uri": "https://localhost:8080/",
          "height": 1000
        },
        "outputId": "c49ed3f7-89cf-4734-8ed1-a30f72f40e4d"
      },
      "source": [
        "#@title Solution A (double click to see the source code)\n",
        "\n",
        "import numpy as np\n",
        "\n",
        "# Input\n",
        "a = np.arange(10).reshape(2,-1)     #@param\n",
        "b = np.repeat(1, 10).reshape(2,-1)  #@param\n",
        "\n",
        "# Solution\n",
        "out = np.concatenate([a, b], axis=0)\n",
        "\n",
        "# Output\n",
        "print('array a:')\n",
        "visualize_array(a)\n",
        "print('array b:')\n",
        "visualize_array(b)\n",
        "print('stacked:')\n",
        "visualize_array(out)"
      ],
      "execution_count": null,
      "outputs": [
        {
          "output_type": "stream",
          "name": "stdout",
          "text": [
            "array a:\n"
          ]
        },
        {
          "output_type": "display_data",
          "data": {
            "text/plain": [
              "<IPython.core.display.HTML object>"
            ],
            "text/html": [
              "\n",
              "<style>\n",
              "table {\n",
              "  border-collapse: collapse;\n",
              "}\n",
              "\n",
              "td {\n",
              "  border: 3px solid #666666;\n",
              "  min-width:30px;\n",
              "  height: 30px;\n",
              "  position: relative;\n",
              "  text-align:center;\n",
              "  color: #474747;\n",
              "  font-size:20px;\n",
              "  font-weight: bolder;\n",
              "  padding: 19px;\n",
              "}\n",
              "\n",
              ".up{\n",
              "  position: absolute;\n",
              "  right: 0;\n",
              "  top: 0;\n",
              "  background: white;\n",
              "  text-align: right;\n",
              "  font-size: 16px;\n",
              "  font-family: Courier;\n",
              "  font-weight: bolder;\n",
              "  color: blue;\n",
              "  opacity: 1.0;\n",
              "  background-color:rgba(0, 0, 0, 0.0);\n",
              "}\n",
              "\n",
              ".down{\n",
              "  position: absolute;\n",
              "  right: 0;\n",
              "  bottom: 0;\n",
              "  background: white;\n",
              "  text-align: right;\n",
              "  font-size: 16px;\n",
              "  font-family: Courier;\n",
              "  font-weight: bolder;\n",
              "  color: red;\n",
              "  opacity: 0.9;\n",
              "  background-color:rgba(0, 0, 0, 0.0);\n",
              "}\n",
              "</style>\n",
              "<table bgcolor=\"4b64aa\">\n",
              "<tr>\t<td><table bgcolor=\"96c8ff\"><tr>\n",
              "\t<td>0<span class=\"up\">0</span><span class=\"down\">-5</span></td>\n",
              "\t<td>1<span class=\"up\">1</span><span class=\"down\">-4</span></td>\n",
              "\t<td>2<span class=\"up\">2</span><span class=\"down\">-3</span></td>\n",
              "\t<td>3<span class=\"up\">3</span><span class=\"down\">-2</span></td>\n",
              "\t<td>4<span class=\"up\">4</span><span class=\"down\">-1</span></td>\n",
              "</tr></table>\n",
              "<span class=\"up\">0</span><span class=\"down\">-2</span></td></tr>\n",
              "<tr>\t<td><table bgcolor=\"96c8ff\"><tr>\n",
              "\t<td>5<span class=\"up\">0</span><span class=\"down\">-5</span></td>\n",
              "\t<td>6<span class=\"up\">1</span><span class=\"down\">-4</span></td>\n",
              "\t<td>7<span class=\"up\">2</span><span class=\"down\">-3</span></td>\n",
              "\t<td>8<span class=\"up\">3</span><span class=\"down\">-2</span></td>\n",
              "\t<td>9<span class=\"up\">4</span><span class=\"down\">-1</span></td>\n",
              "</tr></table>\n",
              "<span class=\"up\">1</span><span class=\"down\">-1</span></td></tr>\n",
              "</table>\n"
            ]
          },
          "metadata": {}
        },
        {
          "output_type": "stream",
          "name": "stdout",
          "text": [
            "array b:\n"
          ]
        },
        {
          "output_type": "display_data",
          "data": {
            "text/plain": [
              "<IPython.core.display.HTML object>"
            ],
            "text/html": [
              "\n",
              "<style>\n",
              "table {\n",
              "  border-collapse: collapse;\n",
              "}\n",
              "\n",
              "td {\n",
              "  border: 3px solid #666666;\n",
              "  min-width:30px;\n",
              "  height: 30px;\n",
              "  position: relative;\n",
              "  text-align:center;\n",
              "  color: #474747;\n",
              "  font-size:20px;\n",
              "  font-weight: bolder;\n",
              "  padding: 19px;\n",
              "}\n",
              "\n",
              ".up{\n",
              "  position: absolute;\n",
              "  right: 0;\n",
              "  top: 0;\n",
              "  background: white;\n",
              "  text-align: right;\n",
              "  font-size: 16px;\n",
              "  font-family: Courier;\n",
              "  font-weight: bolder;\n",
              "  color: blue;\n",
              "  opacity: 1.0;\n",
              "  background-color:rgba(0, 0, 0, 0.0);\n",
              "}\n",
              "\n",
              ".down{\n",
              "  position: absolute;\n",
              "  right: 0;\n",
              "  bottom: 0;\n",
              "  background: white;\n",
              "  text-align: right;\n",
              "  font-size: 16px;\n",
              "  font-family: Courier;\n",
              "  font-weight: bolder;\n",
              "  color: red;\n",
              "  opacity: 0.9;\n",
              "  background-color:rgba(0, 0, 0, 0.0);\n",
              "}\n",
              "</style>\n",
              "<table bgcolor=\"4b64aa\">\n",
              "<tr>\t<td><table bgcolor=\"96c8ff\"><tr>\n",
              "\t<td>1<span class=\"up\">0</span><span class=\"down\">-5</span></td>\n",
              "\t<td>1<span class=\"up\">1</span><span class=\"down\">-4</span></td>\n",
              "\t<td>1<span class=\"up\">2</span><span class=\"down\">-3</span></td>\n",
              "\t<td>1<span class=\"up\">3</span><span class=\"down\">-2</span></td>\n",
              "\t<td>1<span class=\"up\">4</span><span class=\"down\">-1</span></td>\n",
              "</tr></table>\n",
              "<span class=\"up\">0</span><span class=\"down\">-2</span></td></tr>\n",
              "<tr>\t<td><table bgcolor=\"96c8ff\"><tr>\n",
              "\t<td>1<span class=\"up\">0</span><span class=\"down\">-5</span></td>\n",
              "\t<td>1<span class=\"up\">1</span><span class=\"down\">-4</span></td>\n",
              "\t<td>1<span class=\"up\">2</span><span class=\"down\">-3</span></td>\n",
              "\t<td>1<span class=\"up\">3</span><span class=\"down\">-2</span></td>\n",
              "\t<td>1<span class=\"up\">4</span><span class=\"down\">-1</span></td>\n",
              "</tr></table>\n",
              "<span class=\"up\">1</span><span class=\"down\">-1</span></td></tr>\n",
              "</table>\n"
            ]
          },
          "metadata": {}
        },
        {
          "output_type": "stream",
          "name": "stdout",
          "text": [
            "stacked:\n"
          ]
        },
        {
          "output_type": "display_data",
          "data": {
            "text/plain": [
              "<IPython.core.display.HTML object>"
            ],
            "text/html": [
              "\n",
              "<style>\n",
              "table {\n",
              "  border-collapse: collapse;\n",
              "}\n",
              "\n",
              "td {\n",
              "  border: 3px solid #666666;\n",
              "  min-width:30px;\n",
              "  height: 30px;\n",
              "  position: relative;\n",
              "  text-align:center;\n",
              "  color: #474747;\n",
              "  font-size:20px;\n",
              "  font-weight: bolder;\n",
              "  padding: 19px;\n",
              "}\n",
              "\n",
              ".up{\n",
              "  position: absolute;\n",
              "  right: 0;\n",
              "  top: 0;\n",
              "  background: white;\n",
              "  text-align: right;\n",
              "  font-size: 16px;\n",
              "  font-family: Courier;\n",
              "  font-weight: bolder;\n",
              "  color: blue;\n",
              "  opacity: 1.0;\n",
              "  background-color:rgba(0, 0, 0, 0.0);\n",
              "}\n",
              "\n",
              ".down{\n",
              "  position: absolute;\n",
              "  right: 0;\n",
              "  bottom: 0;\n",
              "  background: white;\n",
              "  text-align: right;\n",
              "  font-size: 16px;\n",
              "  font-family: Courier;\n",
              "  font-weight: bolder;\n",
              "  color: red;\n",
              "  opacity: 0.9;\n",
              "  background-color:rgba(0, 0, 0, 0.0);\n",
              "}\n",
              "</style>\n",
              "<table bgcolor=\"4b64aa\">\n",
              "<tr>\t<td><table bgcolor=\"96c8ff\"><tr>\n",
              "\t<td>0<span class=\"up\">0</span><span class=\"down\">-5</span></td>\n",
              "\t<td>1<span class=\"up\">1</span><span class=\"down\">-4</span></td>\n",
              "\t<td>2<span class=\"up\">2</span><span class=\"down\">-3</span></td>\n",
              "\t<td>3<span class=\"up\">3</span><span class=\"down\">-2</span></td>\n",
              "\t<td>4<span class=\"up\">4</span><span class=\"down\">-1</span></td>\n",
              "</tr></table>\n",
              "<span class=\"up\">0</span><span class=\"down\">-4</span></td></tr>\n",
              "<tr>\t<td><table bgcolor=\"96c8ff\"><tr>\n",
              "\t<td>5<span class=\"up\">0</span><span class=\"down\">-5</span></td>\n",
              "\t<td>6<span class=\"up\">1</span><span class=\"down\">-4</span></td>\n",
              "\t<td>7<span class=\"up\">2</span><span class=\"down\">-3</span></td>\n",
              "\t<td>8<span class=\"up\">3</span><span class=\"down\">-2</span></td>\n",
              "\t<td>9<span class=\"up\">4</span><span class=\"down\">-1</span></td>\n",
              "</tr></table>\n",
              "<span class=\"up\">1</span><span class=\"down\">-3</span></td></tr>\n",
              "<tr>\t<td><table bgcolor=\"96c8ff\"><tr>\n",
              "\t<td>1<span class=\"up\">0</span><span class=\"down\">-5</span></td>\n",
              "\t<td>1<span class=\"up\">1</span><span class=\"down\">-4</span></td>\n",
              "\t<td>1<span class=\"up\">2</span><span class=\"down\">-3</span></td>\n",
              "\t<td>1<span class=\"up\">3</span><span class=\"down\">-2</span></td>\n",
              "\t<td>1<span class=\"up\">4</span><span class=\"down\">-1</span></td>\n",
              "</tr></table>\n",
              "<span class=\"up\">2</span><span class=\"down\">-2</span></td></tr>\n",
              "<tr>\t<td><table bgcolor=\"96c8ff\"><tr>\n",
              "\t<td>1<span class=\"up\">0</span><span class=\"down\">-5</span></td>\n",
              "\t<td>1<span class=\"up\">1</span><span class=\"down\">-4</span></td>\n",
              "\t<td>1<span class=\"up\">2</span><span class=\"down\">-3</span></td>\n",
              "\t<td>1<span class=\"up\">3</span><span class=\"down\">-2</span></td>\n",
              "\t<td>1<span class=\"up\">4</span><span class=\"down\">-1</span></td>\n",
              "</tr></table>\n",
              "<span class=\"up\">3</span><span class=\"down\">-1</span></td></tr>\n",
              "</table>\n"
            ]
          },
          "metadata": {}
        }
      ]
    },
    {
      "cell_type": "code",
      "metadata": {
        "id": "wgvG1s7TGucf",
        "cellView": "form",
        "colab": {
          "base_uri": "https://localhost:8080/",
          "height": 1000
        },
        "outputId": "0f82b684-fc7f-46aa-e03b-fdf2a171ea4e"
      },
      "source": [
        "#@title Solution B (double click to see the source code)\n",
        "\n",
        "import numpy as np\n",
        "\n",
        "# Input\n",
        "a = np.arange(10).reshape(2,-1)    #@param\n",
        "b = np.repeat(1, 10).reshape(2,-1) #@param\n",
        "\n",
        "# Solution\n",
        "out = np.vstack([a, b])\n",
        "\n",
        "# Output\n",
        "print('array a:')\n",
        "visualize_array(a)\n",
        "print('array b:')\n",
        "visualize_array(b)\n",
        "print('stacked:')\n",
        "visualize_array(out)"
      ],
      "execution_count": null,
      "outputs": [
        {
          "output_type": "stream",
          "name": "stdout",
          "text": [
            "array a:\n"
          ]
        },
        {
          "output_type": "display_data",
          "data": {
            "text/plain": [
              "<IPython.core.display.HTML object>"
            ],
            "text/html": [
              "\n",
              "<style>\n",
              "table {\n",
              "  border-collapse: collapse;\n",
              "}\n",
              "\n",
              "td {\n",
              "  border: 3px solid #666666;\n",
              "  min-width:30px;\n",
              "  height: 30px;\n",
              "  position: relative;\n",
              "  text-align:center;\n",
              "  color: #474747;\n",
              "  font-size:20px;\n",
              "  font-weight: bolder;\n",
              "  padding: 19px;\n",
              "}\n",
              "\n",
              ".up{\n",
              "  position: absolute;\n",
              "  right: 0;\n",
              "  top: 0;\n",
              "  background: white;\n",
              "  text-align: right;\n",
              "  font-size: 16px;\n",
              "  font-family: Courier;\n",
              "  font-weight: bolder;\n",
              "  color: blue;\n",
              "  opacity: 1.0;\n",
              "  background-color:rgba(0, 0, 0, 0.0);\n",
              "}\n",
              "\n",
              ".down{\n",
              "  position: absolute;\n",
              "  right: 0;\n",
              "  bottom: 0;\n",
              "  background: white;\n",
              "  text-align: right;\n",
              "  font-size: 16px;\n",
              "  font-family: Courier;\n",
              "  font-weight: bolder;\n",
              "  color: red;\n",
              "  opacity: 0.9;\n",
              "  background-color:rgba(0, 0, 0, 0.0);\n",
              "}\n",
              "</style>\n",
              "<table bgcolor=\"4b64aa\">\n",
              "<tr>\t<td><table bgcolor=\"96c8ff\"><tr>\n",
              "\t<td>0<span class=\"up\">0</span><span class=\"down\">-5</span></td>\n",
              "\t<td>1<span class=\"up\">1</span><span class=\"down\">-4</span></td>\n",
              "\t<td>2<span class=\"up\">2</span><span class=\"down\">-3</span></td>\n",
              "\t<td>3<span class=\"up\">3</span><span class=\"down\">-2</span></td>\n",
              "\t<td>4<span class=\"up\">4</span><span class=\"down\">-1</span></td>\n",
              "</tr></table>\n",
              "<span class=\"up\">0</span><span class=\"down\">-2</span></td></tr>\n",
              "<tr>\t<td><table bgcolor=\"96c8ff\"><tr>\n",
              "\t<td>5<span class=\"up\">0</span><span class=\"down\">-5</span></td>\n",
              "\t<td>6<span class=\"up\">1</span><span class=\"down\">-4</span></td>\n",
              "\t<td>7<span class=\"up\">2</span><span class=\"down\">-3</span></td>\n",
              "\t<td>8<span class=\"up\">3</span><span class=\"down\">-2</span></td>\n",
              "\t<td>9<span class=\"up\">4</span><span class=\"down\">-1</span></td>\n",
              "</tr></table>\n",
              "<span class=\"up\">1</span><span class=\"down\">-1</span></td></tr>\n",
              "</table>\n"
            ]
          },
          "metadata": {}
        },
        {
          "output_type": "stream",
          "name": "stdout",
          "text": [
            "array b:\n"
          ]
        },
        {
          "output_type": "display_data",
          "data": {
            "text/plain": [
              "<IPython.core.display.HTML object>"
            ],
            "text/html": [
              "\n",
              "<style>\n",
              "table {\n",
              "  border-collapse: collapse;\n",
              "}\n",
              "\n",
              "td {\n",
              "  border: 3px solid #666666;\n",
              "  min-width:30px;\n",
              "  height: 30px;\n",
              "  position: relative;\n",
              "  text-align:center;\n",
              "  color: #474747;\n",
              "  font-size:20px;\n",
              "  font-weight: bolder;\n",
              "  padding: 19px;\n",
              "}\n",
              "\n",
              ".up{\n",
              "  position: absolute;\n",
              "  right: 0;\n",
              "  top: 0;\n",
              "  background: white;\n",
              "  text-align: right;\n",
              "  font-size: 16px;\n",
              "  font-family: Courier;\n",
              "  font-weight: bolder;\n",
              "  color: blue;\n",
              "  opacity: 1.0;\n",
              "  background-color:rgba(0, 0, 0, 0.0);\n",
              "}\n",
              "\n",
              ".down{\n",
              "  position: absolute;\n",
              "  right: 0;\n",
              "  bottom: 0;\n",
              "  background: white;\n",
              "  text-align: right;\n",
              "  font-size: 16px;\n",
              "  font-family: Courier;\n",
              "  font-weight: bolder;\n",
              "  color: red;\n",
              "  opacity: 0.9;\n",
              "  background-color:rgba(0, 0, 0, 0.0);\n",
              "}\n",
              "</style>\n",
              "<table bgcolor=\"4b64aa\">\n",
              "<tr>\t<td><table bgcolor=\"96c8ff\"><tr>\n",
              "\t<td>1<span class=\"up\">0</span><span class=\"down\">-5</span></td>\n",
              "\t<td>1<span class=\"up\">1</span><span class=\"down\">-4</span></td>\n",
              "\t<td>1<span class=\"up\">2</span><span class=\"down\">-3</span></td>\n",
              "\t<td>1<span class=\"up\">3</span><span class=\"down\">-2</span></td>\n",
              "\t<td>1<span class=\"up\">4</span><span class=\"down\">-1</span></td>\n",
              "</tr></table>\n",
              "<span class=\"up\">0</span><span class=\"down\">-2</span></td></tr>\n",
              "<tr>\t<td><table bgcolor=\"96c8ff\"><tr>\n",
              "\t<td>1<span class=\"up\">0</span><span class=\"down\">-5</span></td>\n",
              "\t<td>1<span class=\"up\">1</span><span class=\"down\">-4</span></td>\n",
              "\t<td>1<span class=\"up\">2</span><span class=\"down\">-3</span></td>\n",
              "\t<td>1<span class=\"up\">3</span><span class=\"down\">-2</span></td>\n",
              "\t<td>1<span class=\"up\">4</span><span class=\"down\">-1</span></td>\n",
              "</tr></table>\n",
              "<span class=\"up\">1</span><span class=\"down\">-1</span></td></tr>\n",
              "</table>\n"
            ]
          },
          "metadata": {}
        },
        {
          "output_type": "stream",
          "name": "stdout",
          "text": [
            "stacked:\n"
          ]
        },
        {
          "output_type": "display_data",
          "data": {
            "text/plain": [
              "<IPython.core.display.HTML object>"
            ],
            "text/html": [
              "\n",
              "<style>\n",
              "table {\n",
              "  border-collapse: collapse;\n",
              "}\n",
              "\n",
              "td {\n",
              "  border: 3px solid #666666;\n",
              "  min-width:30px;\n",
              "  height: 30px;\n",
              "  position: relative;\n",
              "  text-align:center;\n",
              "  color: #474747;\n",
              "  font-size:20px;\n",
              "  font-weight: bolder;\n",
              "  padding: 19px;\n",
              "}\n",
              "\n",
              ".up{\n",
              "  position: absolute;\n",
              "  right: 0;\n",
              "  top: 0;\n",
              "  background: white;\n",
              "  text-align: right;\n",
              "  font-size: 16px;\n",
              "  font-family: Courier;\n",
              "  font-weight: bolder;\n",
              "  color: blue;\n",
              "  opacity: 1.0;\n",
              "  background-color:rgba(0, 0, 0, 0.0);\n",
              "}\n",
              "\n",
              ".down{\n",
              "  position: absolute;\n",
              "  right: 0;\n",
              "  bottom: 0;\n",
              "  background: white;\n",
              "  text-align: right;\n",
              "  font-size: 16px;\n",
              "  font-family: Courier;\n",
              "  font-weight: bolder;\n",
              "  color: red;\n",
              "  opacity: 0.9;\n",
              "  background-color:rgba(0, 0, 0, 0.0);\n",
              "}\n",
              "</style>\n",
              "<table bgcolor=\"4b64aa\">\n",
              "<tr>\t<td><table bgcolor=\"96c8ff\"><tr>\n",
              "\t<td>0<span class=\"up\">0</span><span class=\"down\">-5</span></td>\n",
              "\t<td>1<span class=\"up\">1</span><span class=\"down\">-4</span></td>\n",
              "\t<td>2<span class=\"up\">2</span><span class=\"down\">-3</span></td>\n",
              "\t<td>3<span class=\"up\">3</span><span class=\"down\">-2</span></td>\n",
              "\t<td>4<span class=\"up\">4</span><span class=\"down\">-1</span></td>\n",
              "</tr></table>\n",
              "<span class=\"up\">0</span><span class=\"down\">-4</span></td></tr>\n",
              "<tr>\t<td><table bgcolor=\"96c8ff\"><tr>\n",
              "\t<td>5<span class=\"up\">0</span><span class=\"down\">-5</span></td>\n",
              "\t<td>6<span class=\"up\">1</span><span class=\"down\">-4</span></td>\n",
              "\t<td>7<span class=\"up\">2</span><span class=\"down\">-3</span></td>\n",
              "\t<td>8<span class=\"up\">3</span><span class=\"down\">-2</span></td>\n",
              "\t<td>9<span class=\"up\">4</span><span class=\"down\">-1</span></td>\n",
              "</tr></table>\n",
              "<span class=\"up\">1</span><span class=\"down\">-3</span></td></tr>\n",
              "<tr>\t<td><table bgcolor=\"96c8ff\"><tr>\n",
              "\t<td>1<span class=\"up\">0</span><span class=\"down\">-5</span></td>\n",
              "\t<td>1<span class=\"up\">1</span><span class=\"down\">-4</span></td>\n",
              "\t<td>1<span class=\"up\">2</span><span class=\"down\">-3</span></td>\n",
              "\t<td>1<span class=\"up\">3</span><span class=\"down\">-2</span></td>\n",
              "\t<td>1<span class=\"up\">4</span><span class=\"down\">-1</span></td>\n",
              "</tr></table>\n",
              "<span class=\"up\">2</span><span class=\"down\">-2</span></td></tr>\n",
              "<tr>\t<td><table bgcolor=\"96c8ff\"><tr>\n",
              "\t<td>1<span class=\"up\">0</span><span class=\"down\">-5</span></td>\n",
              "\t<td>1<span class=\"up\">1</span><span class=\"down\">-4</span></td>\n",
              "\t<td>1<span class=\"up\">2</span><span class=\"down\">-3</span></td>\n",
              "\t<td>1<span class=\"up\">3</span><span class=\"down\">-2</span></td>\n",
              "\t<td>1<span class=\"up\">4</span><span class=\"down\">-1</span></td>\n",
              "</tr></table>\n",
              "<span class=\"up\">3</span><span class=\"down\">-1</span></td></tr>\n",
              "</table>\n"
            ]
          },
          "metadata": {}
        }
      ]
    },
    {
      "cell_type": "code",
      "metadata": {
        "id": "NXkDu9epGuci",
        "cellView": "form",
        "colab": {
          "base_uri": "https://localhost:8080/",
          "height": 1000
        },
        "outputId": "a54cf606-f24e-4e46-e127-ce229253d10d"
      },
      "source": [
        "#@title Solution C (double click to see the source code)\n",
        "\n",
        "import numpy as np\n",
        "\n",
        "# Input\n",
        "a = np.arange(10).reshape(2,-1)    #@param\n",
        "b = np.repeat(1, 10).reshape(2,-1) #@param\n",
        "\n",
        "# Solution\n",
        "out = np.r_[a, b]\n",
        "\n",
        "# Output\n",
        "print('array a:')\n",
        "visualize_array(a)\n",
        "print('array b:')\n",
        "visualize_array(b)\n",
        "print('stacked:')\n",
        "visualize_array(out)"
      ],
      "execution_count": null,
      "outputs": [
        {
          "output_type": "stream",
          "name": "stdout",
          "text": [
            "array a:\n"
          ]
        },
        {
          "output_type": "display_data",
          "data": {
            "text/plain": [
              "<IPython.core.display.HTML object>"
            ],
            "text/html": [
              "\n",
              "<style>\n",
              "table {\n",
              "  border-collapse: collapse;\n",
              "}\n",
              "\n",
              "td {\n",
              "  border: 3px solid #666666;\n",
              "  min-width:30px;\n",
              "  height: 30px;\n",
              "  position: relative;\n",
              "  text-align:center;\n",
              "  color: #474747;\n",
              "  font-size:20px;\n",
              "  font-weight: bolder;\n",
              "  padding: 19px;\n",
              "}\n",
              "\n",
              ".up{\n",
              "  position: absolute;\n",
              "  right: 0;\n",
              "  top: 0;\n",
              "  background: white;\n",
              "  text-align: right;\n",
              "  font-size: 16px;\n",
              "  font-family: Courier;\n",
              "  font-weight: bolder;\n",
              "  color: blue;\n",
              "  opacity: 1.0;\n",
              "  background-color:rgba(0, 0, 0, 0.0);\n",
              "}\n",
              "\n",
              ".down{\n",
              "  position: absolute;\n",
              "  right: 0;\n",
              "  bottom: 0;\n",
              "  background: white;\n",
              "  text-align: right;\n",
              "  font-size: 16px;\n",
              "  font-family: Courier;\n",
              "  font-weight: bolder;\n",
              "  color: red;\n",
              "  opacity: 0.9;\n",
              "  background-color:rgba(0, 0, 0, 0.0);\n",
              "}\n",
              "</style>\n",
              "<table bgcolor=\"4b64aa\">\n",
              "<tr>\t<td><table bgcolor=\"96c8ff\"><tr>\n",
              "\t<td>0<span class=\"up\">0</span><span class=\"down\">-5</span></td>\n",
              "\t<td>1<span class=\"up\">1</span><span class=\"down\">-4</span></td>\n",
              "\t<td>2<span class=\"up\">2</span><span class=\"down\">-3</span></td>\n",
              "\t<td>3<span class=\"up\">3</span><span class=\"down\">-2</span></td>\n",
              "\t<td>4<span class=\"up\">4</span><span class=\"down\">-1</span></td>\n",
              "</tr></table>\n",
              "<span class=\"up\">0</span><span class=\"down\">-2</span></td></tr>\n",
              "<tr>\t<td><table bgcolor=\"96c8ff\"><tr>\n",
              "\t<td>5<span class=\"up\">0</span><span class=\"down\">-5</span></td>\n",
              "\t<td>6<span class=\"up\">1</span><span class=\"down\">-4</span></td>\n",
              "\t<td>7<span class=\"up\">2</span><span class=\"down\">-3</span></td>\n",
              "\t<td>8<span class=\"up\">3</span><span class=\"down\">-2</span></td>\n",
              "\t<td>9<span class=\"up\">4</span><span class=\"down\">-1</span></td>\n",
              "</tr></table>\n",
              "<span class=\"up\">1</span><span class=\"down\">-1</span></td></tr>\n",
              "</table>\n"
            ]
          },
          "metadata": {}
        },
        {
          "output_type": "stream",
          "name": "stdout",
          "text": [
            "array b:\n"
          ]
        },
        {
          "output_type": "display_data",
          "data": {
            "text/plain": [
              "<IPython.core.display.HTML object>"
            ],
            "text/html": [
              "\n",
              "<style>\n",
              "table {\n",
              "  border-collapse: collapse;\n",
              "}\n",
              "\n",
              "td {\n",
              "  border: 3px solid #666666;\n",
              "  min-width:30px;\n",
              "  height: 30px;\n",
              "  position: relative;\n",
              "  text-align:center;\n",
              "  color: #474747;\n",
              "  font-size:20px;\n",
              "  font-weight: bolder;\n",
              "  padding: 19px;\n",
              "}\n",
              "\n",
              ".up{\n",
              "  position: absolute;\n",
              "  right: 0;\n",
              "  top: 0;\n",
              "  background: white;\n",
              "  text-align: right;\n",
              "  font-size: 16px;\n",
              "  font-family: Courier;\n",
              "  font-weight: bolder;\n",
              "  color: blue;\n",
              "  opacity: 1.0;\n",
              "  background-color:rgba(0, 0, 0, 0.0);\n",
              "}\n",
              "\n",
              ".down{\n",
              "  position: absolute;\n",
              "  right: 0;\n",
              "  bottom: 0;\n",
              "  background: white;\n",
              "  text-align: right;\n",
              "  font-size: 16px;\n",
              "  font-family: Courier;\n",
              "  font-weight: bolder;\n",
              "  color: red;\n",
              "  opacity: 0.9;\n",
              "  background-color:rgba(0, 0, 0, 0.0);\n",
              "}\n",
              "</style>\n",
              "<table bgcolor=\"4b64aa\">\n",
              "<tr>\t<td><table bgcolor=\"96c8ff\"><tr>\n",
              "\t<td>1<span class=\"up\">0</span><span class=\"down\">-5</span></td>\n",
              "\t<td>1<span class=\"up\">1</span><span class=\"down\">-4</span></td>\n",
              "\t<td>1<span class=\"up\">2</span><span class=\"down\">-3</span></td>\n",
              "\t<td>1<span class=\"up\">3</span><span class=\"down\">-2</span></td>\n",
              "\t<td>1<span class=\"up\">4</span><span class=\"down\">-1</span></td>\n",
              "</tr></table>\n",
              "<span class=\"up\">0</span><span class=\"down\">-2</span></td></tr>\n",
              "<tr>\t<td><table bgcolor=\"96c8ff\"><tr>\n",
              "\t<td>1<span class=\"up\">0</span><span class=\"down\">-5</span></td>\n",
              "\t<td>1<span class=\"up\">1</span><span class=\"down\">-4</span></td>\n",
              "\t<td>1<span class=\"up\">2</span><span class=\"down\">-3</span></td>\n",
              "\t<td>1<span class=\"up\">3</span><span class=\"down\">-2</span></td>\n",
              "\t<td>1<span class=\"up\">4</span><span class=\"down\">-1</span></td>\n",
              "</tr></table>\n",
              "<span class=\"up\">1</span><span class=\"down\">-1</span></td></tr>\n",
              "</table>\n"
            ]
          },
          "metadata": {}
        },
        {
          "output_type": "stream",
          "name": "stdout",
          "text": [
            "stacked:\n"
          ]
        },
        {
          "output_type": "display_data",
          "data": {
            "text/plain": [
              "<IPython.core.display.HTML object>"
            ],
            "text/html": [
              "\n",
              "<style>\n",
              "table {\n",
              "  border-collapse: collapse;\n",
              "}\n",
              "\n",
              "td {\n",
              "  border: 3px solid #666666;\n",
              "  min-width:30px;\n",
              "  height: 30px;\n",
              "  position: relative;\n",
              "  text-align:center;\n",
              "  color: #474747;\n",
              "  font-size:20px;\n",
              "  font-weight: bolder;\n",
              "  padding: 19px;\n",
              "}\n",
              "\n",
              ".up{\n",
              "  position: absolute;\n",
              "  right: 0;\n",
              "  top: 0;\n",
              "  background: white;\n",
              "  text-align: right;\n",
              "  font-size: 16px;\n",
              "  font-family: Courier;\n",
              "  font-weight: bolder;\n",
              "  color: blue;\n",
              "  opacity: 1.0;\n",
              "  background-color:rgba(0, 0, 0, 0.0);\n",
              "}\n",
              "\n",
              ".down{\n",
              "  position: absolute;\n",
              "  right: 0;\n",
              "  bottom: 0;\n",
              "  background: white;\n",
              "  text-align: right;\n",
              "  font-size: 16px;\n",
              "  font-family: Courier;\n",
              "  font-weight: bolder;\n",
              "  color: red;\n",
              "  opacity: 0.9;\n",
              "  background-color:rgba(0, 0, 0, 0.0);\n",
              "}\n",
              "</style>\n",
              "<table bgcolor=\"4b64aa\">\n",
              "<tr>\t<td><table bgcolor=\"96c8ff\"><tr>\n",
              "\t<td>0<span class=\"up\">0</span><span class=\"down\">-5</span></td>\n",
              "\t<td>1<span class=\"up\">1</span><span class=\"down\">-4</span></td>\n",
              "\t<td>2<span class=\"up\">2</span><span class=\"down\">-3</span></td>\n",
              "\t<td>3<span class=\"up\">3</span><span class=\"down\">-2</span></td>\n",
              "\t<td>4<span class=\"up\">4</span><span class=\"down\">-1</span></td>\n",
              "</tr></table>\n",
              "<span class=\"up\">0</span><span class=\"down\">-4</span></td></tr>\n",
              "<tr>\t<td><table bgcolor=\"96c8ff\"><tr>\n",
              "\t<td>5<span class=\"up\">0</span><span class=\"down\">-5</span></td>\n",
              "\t<td>6<span class=\"up\">1</span><span class=\"down\">-4</span></td>\n",
              "\t<td>7<span class=\"up\">2</span><span class=\"down\">-3</span></td>\n",
              "\t<td>8<span class=\"up\">3</span><span class=\"down\">-2</span></td>\n",
              "\t<td>9<span class=\"up\">4</span><span class=\"down\">-1</span></td>\n",
              "</tr></table>\n",
              "<span class=\"up\">1</span><span class=\"down\">-3</span></td></tr>\n",
              "<tr>\t<td><table bgcolor=\"96c8ff\"><tr>\n",
              "\t<td>1<span class=\"up\">0</span><span class=\"down\">-5</span></td>\n",
              "\t<td>1<span class=\"up\">1</span><span class=\"down\">-4</span></td>\n",
              "\t<td>1<span class=\"up\">2</span><span class=\"down\">-3</span></td>\n",
              "\t<td>1<span class=\"up\">3</span><span class=\"down\">-2</span></td>\n",
              "\t<td>1<span class=\"up\">4</span><span class=\"down\">-1</span></td>\n",
              "</tr></table>\n",
              "<span class=\"up\">2</span><span class=\"down\">-2</span></td></tr>\n",
              "<tr>\t<td><table bgcolor=\"96c8ff\"><tr>\n",
              "\t<td>1<span class=\"up\">0</span><span class=\"down\">-5</span></td>\n",
              "\t<td>1<span class=\"up\">1</span><span class=\"down\">-4</span></td>\n",
              "\t<td>1<span class=\"up\">2</span><span class=\"down\">-3</span></td>\n",
              "\t<td>1<span class=\"up\">3</span><span class=\"down\">-2</span></td>\n",
              "\t<td>1<span class=\"up\">4</span><span class=\"down\">-1</span></td>\n",
              "</tr></table>\n",
              "<span class=\"up\">3</span><span class=\"down\">-1</span></td></tr>\n",
              "</table>\n"
            ]
          },
          "metadata": {}
        }
      ]
    },
    {
      "cell_type": "markdown",
      "metadata": {
        "id": "ZKslOAjrGucj"
      },
      "source": [
        "##3. How to stack two arrays horizontally?"
      ]
    },
    {
      "cell_type": "markdown",
      "metadata": {
        "id": "atyjuvJj7NVa"
      },
      "source": [
        "**Problem:**\n",
        "Stack the arrays a and b horizontally."
      ]
    },
    {
      "cell_type": "code",
      "metadata": {
        "id": "SCuAjmbJGuck",
        "colab": {
          "base_uri": "https://localhost:8080/",
          "height": 770
        },
        "outputId": "0c1d746b-90ea-4a35-a691-6f792bdd38a2"
      },
      "source": [
        "import numpy as np\n",
        "\n",
        "# Input\n",
        "a = np.arange(10).reshape(2,-1)\n",
        "b = np.repeat(1, 10).reshape(2,-1)\n",
        "\n",
        "# Enter your code here\n",
        "out = np.hstack([a, b])\n",
        "\n",
        "# Output\n",
        "print('array a:')\n",
        "visualize_array(a)\n",
        "print('array b:')\n",
        "visualize_array(b)\n",
        "print('stacked:')\n",
        "visualize_array(out)"
      ],
      "execution_count": null,
      "outputs": [
        {
          "output_type": "stream",
          "name": "stdout",
          "text": [
            "array a:\n"
          ]
        },
        {
          "output_type": "display_data",
          "data": {
            "text/plain": [
              "<IPython.core.display.HTML object>"
            ],
            "text/html": [
              "\n",
              "<style>\n",
              "table {\n",
              "  border-collapse: collapse;\n",
              "}\n",
              "\n",
              "td {\n",
              "  border: 3px solid #666666;\n",
              "  min-width:30px;\n",
              "  height: 30px;\n",
              "  position: relative;\n",
              "  text-align:center;\n",
              "  color: #474747;\n",
              "  font-size:20px;\n",
              "  font-weight: bolder;\n",
              "  padding: 19px;\n",
              "}\n",
              "\n",
              ".up{\n",
              "  position: absolute;\n",
              "  right: 0;\n",
              "  top: 0;\n",
              "  background: white;\n",
              "  text-align: right;\n",
              "  font-size: 16px;\n",
              "  font-family: Courier;\n",
              "  font-weight: bolder;\n",
              "  color: blue;\n",
              "  opacity: 1.0;\n",
              "  background-color:rgba(0, 0, 0, 0.0);\n",
              "}\n",
              "\n",
              ".down{\n",
              "  position: absolute;\n",
              "  right: 0;\n",
              "  bottom: 0;\n",
              "  background: white;\n",
              "  text-align: right;\n",
              "  font-size: 16px;\n",
              "  font-family: Courier;\n",
              "  font-weight: bolder;\n",
              "  color: red;\n",
              "  opacity: 0.9;\n",
              "  background-color:rgba(0, 0, 0, 0.0);\n",
              "}\n",
              "</style>\n",
              "<table bgcolor=\"4b64aa\">\n",
              "<tr>\t<td><table bgcolor=\"96c8ff\"><tr>\n",
              "\t<td>0<span class=\"up\">0</span><span class=\"down\">-5</span></td>\n",
              "\t<td>1<span class=\"up\">1</span><span class=\"down\">-4</span></td>\n",
              "\t<td>2<span class=\"up\">2</span><span class=\"down\">-3</span></td>\n",
              "\t<td>3<span class=\"up\">3</span><span class=\"down\">-2</span></td>\n",
              "\t<td>4<span class=\"up\">4</span><span class=\"down\">-1</span></td>\n",
              "</tr></table>\n",
              "<span class=\"up\">0</span><span class=\"down\">-2</span></td></tr>\n",
              "<tr>\t<td><table bgcolor=\"96c8ff\"><tr>\n",
              "\t<td>5<span class=\"up\">0</span><span class=\"down\">-5</span></td>\n",
              "\t<td>6<span class=\"up\">1</span><span class=\"down\">-4</span></td>\n",
              "\t<td>7<span class=\"up\">2</span><span class=\"down\">-3</span></td>\n",
              "\t<td>8<span class=\"up\">3</span><span class=\"down\">-2</span></td>\n",
              "\t<td>9<span class=\"up\">4</span><span class=\"down\">-1</span></td>\n",
              "</tr></table>\n",
              "<span class=\"up\">1</span><span class=\"down\">-1</span></td></tr>\n",
              "</table>\n"
            ]
          },
          "metadata": {}
        },
        {
          "output_type": "stream",
          "name": "stdout",
          "text": [
            "array b:\n"
          ]
        },
        {
          "output_type": "display_data",
          "data": {
            "text/plain": [
              "<IPython.core.display.HTML object>"
            ],
            "text/html": [
              "\n",
              "<style>\n",
              "table {\n",
              "  border-collapse: collapse;\n",
              "}\n",
              "\n",
              "td {\n",
              "  border: 3px solid #666666;\n",
              "  min-width:30px;\n",
              "  height: 30px;\n",
              "  position: relative;\n",
              "  text-align:center;\n",
              "  color: #474747;\n",
              "  font-size:20px;\n",
              "  font-weight: bolder;\n",
              "  padding: 19px;\n",
              "}\n",
              "\n",
              ".up{\n",
              "  position: absolute;\n",
              "  right: 0;\n",
              "  top: 0;\n",
              "  background: white;\n",
              "  text-align: right;\n",
              "  font-size: 16px;\n",
              "  font-family: Courier;\n",
              "  font-weight: bolder;\n",
              "  color: blue;\n",
              "  opacity: 1.0;\n",
              "  background-color:rgba(0, 0, 0, 0.0);\n",
              "}\n",
              "\n",
              ".down{\n",
              "  position: absolute;\n",
              "  right: 0;\n",
              "  bottom: 0;\n",
              "  background: white;\n",
              "  text-align: right;\n",
              "  font-size: 16px;\n",
              "  font-family: Courier;\n",
              "  font-weight: bolder;\n",
              "  color: red;\n",
              "  opacity: 0.9;\n",
              "  background-color:rgba(0, 0, 0, 0.0);\n",
              "}\n",
              "</style>\n",
              "<table bgcolor=\"4b64aa\">\n",
              "<tr>\t<td><table bgcolor=\"96c8ff\"><tr>\n",
              "\t<td>1<span class=\"up\">0</span><span class=\"down\">-5</span></td>\n",
              "\t<td>1<span class=\"up\">1</span><span class=\"down\">-4</span></td>\n",
              "\t<td>1<span class=\"up\">2</span><span class=\"down\">-3</span></td>\n",
              "\t<td>1<span class=\"up\">3</span><span class=\"down\">-2</span></td>\n",
              "\t<td>1<span class=\"up\">4</span><span class=\"down\">-1</span></td>\n",
              "</tr></table>\n",
              "<span class=\"up\">0</span><span class=\"down\">-2</span></td></tr>\n",
              "<tr>\t<td><table bgcolor=\"96c8ff\"><tr>\n",
              "\t<td>1<span class=\"up\">0</span><span class=\"down\">-5</span></td>\n",
              "\t<td>1<span class=\"up\">1</span><span class=\"down\">-4</span></td>\n",
              "\t<td>1<span class=\"up\">2</span><span class=\"down\">-3</span></td>\n",
              "\t<td>1<span class=\"up\">3</span><span class=\"down\">-2</span></td>\n",
              "\t<td>1<span class=\"up\">4</span><span class=\"down\">-1</span></td>\n",
              "</tr></table>\n",
              "<span class=\"up\">1</span><span class=\"down\">-1</span></td></tr>\n",
              "</table>\n"
            ]
          },
          "metadata": {}
        },
        {
          "output_type": "stream",
          "name": "stdout",
          "text": [
            "stacked:\n"
          ]
        },
        {
          "output_type": "display_data",
          "data": {
            "text/plain": [
              "<IPython.core.display.HTML object>"
            ],
            "text/html": [
              "\n",
              "<style>\n",
              "table {\n",
              "  border-collapse: collapse;\n",
              "}\n",
              "\n",
              "td {\n",
              "  border: 3px solid #666666;\n",
              "  min-width:30px;\n",
              "  height: 30px;\n",
              "  position: relative;\n",
              "  text-align:center;\n",
              "  color: #474747;\n",
              "  font-size:20px;\n",
              "  font-weight: bolder;\n",
              "  padding: 19px;\n",
              "}\n",
              "\n",
              ".up{\n",
              "  position: absolute;\n",
              "  right: 0;\n",
              "  top: 0;\n",
              "  background: white;\n",
              "  text-align: right;\n",
              "  font-size: 16px;\n",
              "  font-family: Courier;\n",
              "  font-weight: bolder;\n",
              "  color: blue;\n",
              "  opacity: 1.0;\n",
              "  background-color:rgba(0, 0, 0, 0.0);\n",
              "}\n",
              "\n",
              ".down{\n",
              "  position: absolute;\n",
              "  right: 0;\n",
              "  bottom: 0;\n",
              "  background: white;\n",
              "  text-align: right;\n",
              "  font-size: 16px;\n",
              "  font-family: Courier;\n",
              "  font-weight: bolder;\n",
              "  color: red;\n",
              "  opacity: 0.9;\n",
              "  background-color:rgba(0, 0, 0, 0.0);\n",
              "}\n",
              "</style>\n",
              "<table bgcolor=\"4b64aa\">\n",
              "<tr>\t<td><table bgcolor=\"96c8ff\"><tr>\n",
              "\t<td>0<span class=\"up\">0</span><span class=\"down\">-10</span></td>\n",
              "\t<td>1<span class=\"up\">1</span><span class=\"down\">-9</span></td>\n",
              "\t<td>2<span class=\"up\">2</span><span class=\"down\">-8</span></td>\n",
              "\t<td>3<span class=\"up\">3</span><span class=\"down\">-7</span></td>\n",
              "\t<td>4<span class=\"up\">4</span><span class=\"down\">-6</span></td>\n",
              "\t<td>1<span class=\"up\">5</span><span class=\"down\">-5</span></td>\n",
              "\t<td>1<span class=\"up\">6</span><span class=\"down\">-4</span></td>\n",
              "\t<td>1<span class=\"up\">7</span><span class=\"down\">-3</span></td>\n",
              "\t<td>1<span class=\"up\">8</span><span class=\"down\">-2</span></td>\n",
              "\t<td>1<span class=\"up\">9</span><span class=\"down\">-1</span></td>\n",
              "</tr></table>\n",
              "<span class=\"up\">0</span><span class=\"down\">-2</span></td></tr>\n",
              "<tr>\t<td><table bgcolor=\"96c8ff\"><tr>\n",
              "\t<td>5<span class=\"up\">0</span><span class=\"down\">-10</span></td>\n",
              "\t<td>6<span class=\"up\">1</span><span class=\"down\">-9</span></td>\n",
              "\t<td>7<span class=\"up\">2</span><span class=\"down\">-8</span></td>\n",
              "\t<td>8<span class=\"up\">3</span><span class=\"down\">-7</span></td>\n",
              "\t<td>9<span class=\"up\">4</span><span class=\"down\">-6</span></td>\n",
              "\t<td>1<span class=\"up\">5</span><span class=\"down\">-5</span></td>\n",
              "\t<td>1<span class=\"up\">6</span><span class=\"down\">-4</span></td>\n",
              "\t<td>1<span class=\"up\">7</span><span class=\"down\">-3</span></td>\n",
              "\t<td>1<span class=\"up\">8</span><span class=\"down\">-2</span></td>\n",
              "\t<td>1<span class=\"up\">9</span><span class=\"down\">-1</span></td>\n",
              "</tr></table>\n",
              "<span class=\"up\">1</span><span class=\"down\">-1</span></td></tr>\n",
              "</table>\n"
            ]
          },
          "metadata": {}
        }
      ]
    },
    {
      "cell_type": "code",
      "metadata": {
        "cellView": "form",
        "id": "RrOy6XCOnIvI",
        "colab": {
          "base_uri": "https://localhost:8080/",
          "height": 750
        },
        "outputId": "eace4e74-2168-4a21-b313-8e2771b03920"
      },
      "source": [
        "#@title Solution A (double click to see the source code)\n",
        "\n",
        "import numpy as np\n",
        "\n",
        "# Input\n",
        "a = np.arange(10).reshape(2,-1)     #@param\n",
        "b = np.repeat(1, 10).reshape(2,-1)  #@param\n",
        "\n",
        "# Solution\n",
        "out = np.concatenate([a, b], axis=1)\n",
        "\n",
        "# Output\n",
        "print('array a:')\n",
        "visualize_array(a)\n",
        "print('array b:')\n",
        "visualize_array(b)\n",
        "print('stacked:')\n",
        "visualize_array(out)"
      ],
      "execution_count": null,
      "outputs": [
        {
          "output_type": "stream",
          "text": [
            "array a:\n"
          ],
          "name": "stdout"
        },
        {
          "output_type": "display_data",
          "data": {
            "text/html": [
              "\n",
              "<style>\n",
              "table {\n",
              "  border-collapse: collapse;\n",
              "}\n",
              "\n",
              "td {\n",
              "  border: 3px solid #666666;\n",
              "  min-width:30px;\n",
              "  height: 30px;\n",
              "  position: relative; \n",
              "  text-align:center; \n",
              "  color: #474747;\n",
              "  font-size:20px;\n",
              "  font-weight: bolder;\n",
              "  padding: 19px;\n",
              "}\n",
              "\n",
              ".up{\n",
              "  position: absolute; \n",
              "  right: 0;\n",
              "  top: 0;\n",
              "  background: white;\n",
              "  text-align: right;\n",
              "  font-size: 16px;\n",
              "  font-family: Courier;\n",
              "  font-weight: bolder;\n",
              "  color: blue;\n",
              "  opacity: 1.0;\n",
              "  background-color:rgba(0, 0, 0, 0.0);\n",
              "}\n",
              "\n",
              ".down{\n",
              "  position: absolute; \n",
              "  right: 0;\n",
              "  bottom: 0;\n",
              "  background: white;\n",
              "  text-align: right;\n",
              "  font-size: 16px;\n",
              "  font-family: Courier;\n",
              "  font-weight: bolder;\n",
              "  color: red;\n",
              "  opacity: 0.9;\n",
              "  background-color:rgba(0, 0, 0, 0.0);\n",
              "}\n",
              "</style>\n",
              "<table bgcolor=\"4b64aa\">\n",
              "<tr>\t<td><table bgcolor=\"96c8ff\"><tr>\n",
              "\t<td>0<span class=\"up\">0</span><span class=\"down\">-5</span></td>\n",
              "\t<td>1<span class=\"up\">1</span><span class=\"down\">-4</span></td>\n",
              "\t<td>2<span class=\"up\">2</span><span class=\"down\">-3</span></td>\n",
              "\t<td>3<span class=\"up\">3</span><span class=\"down\">-2</span></td>\n",
              "\t<td>4<span class=\"up\">4</span><span class=\"down\">-1</span></td>\n",
              "</tr></table>\n",
              "<span class=\"up\">0</span><span class=\"down\">-2</span></td></tr>\n",
              "<tr>\t<td><table bgcolor=\"96c8ff\"><tr>\n",
              "\t<td>5<span class=\"up\">0</span><span class=\"down\">-5</span></td>\n",
              "\t<td>6<span class=\"up\">1</span><span class=\"down\">-4</span></td>\n",
              "\t<td>7<span class=\"up\">2</span><span class=\"down\">-3</span></td>\n",
              "\t<td>8<span class=\"up\">3</span><span class=\"down\">-2</span></td>\n",
              "\t<td>9<span class=\"up\">4</span><span class=\"down\">-1</span></td>\n",
              "</tr></table>\n",
              "<span class=\"up\">1</span><span class=\"down\">-1</span></td></tr>\n",
              "</table>\n"
            ],
            "text/plain": [
              "<IPython.core.display.HTML object>"
            ]
          },
          "metadata": {
            "tags": []
          }
        },
        {
          "output_type": "stream",
          "text": [
            "array b:\n"
          ],
          "name": "stdout"
        },
        {
          "output_type": "display_data",
          "data": {
            "text/html": [
              "\n",
              "<style>\n",
              "table {\n",
              "  border-collapse: collapse;\n",
              "}\n",
              "\n",
              "td {\n",
              "  border: 3px solid #666666;\n",
              "  min-width:30px;\n",
              "  height: 30px;\n",
              "  position: relative; \n",
              "  text-align:center; \n",
              "  color: #474747;\n",
              "  font-size:20px;\n",
              "  font-weight: bolder;\n",
              "  padding: 19px;\n",
              "}\n",
              "\n",
              ".up{\n",
              "  position: absolute; \n",
              "  right: 0;\n",
              "  top: 0;\n",
              "  background: white;\n",
              "  text-align: right;\n",
              "  font-size: 16px;\n",
              "  font-family: Courier;\n",
              "  font-weight: bolder;\n",
              "  color: blue;\n",
              "  opacity: 1.0;\n",
              "  background-color:rgba(0, 0, 0, 0.0);\n",
              "}\n",
              "\n",
              ".down{\n",
              "  position: absolute; \n",
              "  right: 0;\n",
              "  bottom: 0;\n",
              "  background: white;\n",
              "  text-align: right;\n",
              "  font-size: 16px;\n",
              "  font-family: Courier;\n",
              "  font-weight: bolder;\n",
              "  color: red;\n",
              "  opacity: 0.9;\n",
              "  background-color:rgba(0, 0, 0, 0.0);\n",
              "}\n",
              "</style>\n",
              "<table bgcolor=\"4b64aa\">\n",
              "<tr>\t<td><table bgcolor=\"96c8ff\"><tr>\n",
              "\t<td>1<span class=\"up\">0</span><span class=\"down\">-5</span></td>\n",
              "\t<td>1<span class=\"up\">1</span><span class=\"down\">-4</span></td>\n",
              "\t<td>1<span class=\"up\">2</span><span class=\"down\">-3</span></td>\n",
              "\t<td>1<span class=\"up\">3</span><span class=\"down\">-2</span></td>\n",
              "\t<td>1<span class=\"up\">4</span><span class=\"down\">-1</span></td>\n",
              "</tr></table>\n",
              "<span class=\"up\">0</span><span class=\"down\">-2</span></td></tr>\n",
              "<tr>\t<td><table bgcolor=\"96c8ff\"><tr>\n",
              "\t<td>1<span class=\"up\">0</span><span class=\"down\">-5</span></td>\n",
              "\t<td>1<span class=\"up\">1</span><span class=\"down\">-4</span></td>\n",
              "\t<td>1<span class=\"up\">2</span><span class=\"down\">-3</span></td>\n",
              "\t<td>1<span class=\"up\">3</span><span class=\"down\">-2</span></td>\n",
              "\t<td>1<span class=\"up\">4</span><span class=\"down\">-1</span></td>\n",
              "</tr></table>\n",
              "<span class=\"up\">1</span><span class=\"down\">-1</span></td></tr>\n",
              "</table>\n"
            ],
            "text/plain": [
              "<IPython.core.display.HTML object>"
            ]
          },
          "metadata": {
            "tags": []
          }
        },
        {
          "output_type": "stream",
          "text": [
            "stacked:\n"
          ],
          "name": "stdout"
        },
        {
          "output_type": "display_data",
          "data": {
            "text/html": [
              "\n",
              "<style>\n",
              "table {\n",
              "  border-collapse: collapse;\n",
              "}\n",
              "\n",
              "td {\n",
              "  border: 3px solid #666666;\n",
              "  min-width:30px;\n",
              "  height: 30px;\n",
              "  position: relative; \n",
              "  text-align:center; \n",
              "  color: #474747;\n",
              "  font-size:20px;\n",
              "  font-weight: bolder;\n",
              "  padding: 19px;\n",
              "}\n",
              "\n",
              ".up{\n",
              "  position: absolute; \n",
              "  right: 0;\n",
              "  top: 0;\n",
              "  background: white;\n",
              "  text-align: right;\n",
              "  font-size: 16px;\n",
              "  font-family: Courier;\n",
              "  font-weight: bolder;\n",
              "  color: blue;\n",
              "  opacity: 1.0;\n",
              "  background-color:rgba(0, 0, 0, 0.0);\n",
              "}\n",
              "\n",
              ".down{\n",
              "  position: absolute; \n",
              "  right: 0;\n",
              "  bottom: 0;\n",
              "  background: white;\n",
              "  text-align: right;\n",
              "  font-size: 16px;\n",
              "  font-family: Courier;\n",
              "  font-weight: bolder;\n",
              "  color: red;\n",
              "  opacity: 0.9;\n",
              "  background-color:rgba(0, 0, 0, 0.0);\n",
              "}\n",
              "</style>\n",
              "<table bgcolor=\"4b64aa\">\n",
              "<tr>\t<td><table bgcolor=\"96c8ff\"><tr>\n",
              "\t<td>0<span class=\"up\">0</span><span class=\"down\">-10</span></td>\n",
              "\t<td>1<span class=\"up\">1</span><span class=\"down\">-9</span></td>\n",
              "\t<td>2<span class=\"up\">2</span><span class=\"down\">-8</span></td>\n",
              "\t<td>3<span class=\"up\">3</span><span class=\"down\">-7</span></td>\n",
              "\t<td>4<span class=\"up\">4</span><span class=\"down\">-6</span></td>\n",
              "\t<td>1<span class=\"up\">5</span><span class=\"down\">-5</span></td>\n",
              "\t<td>1<span class=\"up\">6</span><span class=\"down\">-4</span></td>\n",
              "\t<td>1<span class=\"up\">7</span><span class=\"down\">-3</span></td>\n",
              "\t<td>1<span class=\"up\">8</span><span class=\"down\">-2</span></td>\n",
              "\t<td>1<span class=\"up\">9</span><span class=\"down\">-1</span></td>\n",
              "</tr></table>\n",
              "<span class=\"up\">0</span><span class=\"down\">-2</span></td></tr>\n",
              "<tr>\t<td><table bgcolor=\"96c8ff\"><tr>\n",
              "\t<td>5<span class=\"up\">0</span><span class=\"down\">-10</span></td>\n",
              "\t<td>6<span class=\"up\">1</span><span class=\"down\">-9</span></td>\n",
              "\t<td>7<span class=\"up\">2</span><span class=\"down\">-8</span></td>\n",
              "\t<td>8<span class=\"up\">3</span><span class=\"down\">-7</span></td>\n",
              "\t<td>9<span class=\"up\">4</span><span class=\"down\">-6</span></td>\n",
              "\t<td>1<span class=\"up\">5</span><span class=\"down\">-5</span></td>\n",
              "\t<td>1<span class=\"up\">6</span><span class=\"down\">-4</span></td>\n",
              "\t<td>1<span class=\"up\">7</span><span class=\"down\">-3</span></td>\n",
              "\t<td>1<span class=\"up\">8</span><span class=\"down\">-2</span></td>\n",
              "\t<td>1<span class=\"up\">9</span><span class=\"down\">-1</span></td>\n",
              "</tr></table>\n",
              "<span class=\"up\">1</span><span class=\"down\">-1</span></td></tr>\n",
              "</table>\n"
            ],
            "text/plain": [
              "<IPython.core.display.HTML object>"
            ]
          },
          "metadata": {
            "tags": []
          }
        }
      ]
    },
    {
      "cell_type": "code",
      "metadata": {
        "cellView": "form",
        "id": "SALv7EgYnIvS"
      },
      "source": [
        "#@title Solution B (double click to see the source code)\n",
        "\n",
        "import numpy as np\n",
        "\n",
        "# Input\n",
        "a = np.arange(10).reshape(2,-1)    #@param\n",
        "b = np.repeat(1, 10).reshape(2,-1) #@param\n",
        "\n",
        "# Solution\n",
        "out = np.hstack([a, b])\n",
        "\n",
        "# Output\n",
        "print('array a:')\n",
        "visualize_array(a)\n",
        "print('array b:')\n",
        "visualize_array(b)\n",
        "print('stacked:')\n",
        "visualize_array(out)"
      ],
      "execution_count": null,
      "outputs": []
    },
    {
      "cell_type": "code",
      "metadata": {
        "cellView": "form",
        "id": "fnKYStoOnIvX"
      },
      "source": [
        "#@title Solution C (double click to see the source code)\n",
        "\n",
        "import numpy as np\n",
        "\n",
        "# Input\n",
        "a = np.arange(10).reshape(2,-1)    #@param\n",
        "b = np.repeat(1, 10).reshape(2,-1) #@param\n",
        "\n",
        "# Solution\n",
        "out = np.c_[a, b]\n",
        "\n",
        "# Output\n",
        "print('array a:')\n",
        "visualize_array(a)\n",
        "print('array b:')\n",
        "visualize_array(b)\n",
        "print('stacked:')\n",
        "visualize_array(out)"
      ],
      "execution_count": null,
      "outputs": []
    },
    {
      "cell_type": "markdown",
      "metadata": {
        "id": "7W2jUpLgGucu"
      },
      "source": [
        "##4. How to generate custom sequences in numpy without hardcoding?"
      ]
    },
    {
      "cell_type": "markdown",
      "metadata": {
        "id": "ZHsDNyL38miY"
      },
      "source": [
        "**Problem:**\n",
        "Create the following pattern without hardcoding. Use only numpy functions and the given array."
      ]
    },
    {
      "cell_type": "code",
      "metadata": {
        "id": "7JjnyM8iGucv",
        "colab": {
          "base_uri": "https://localhost:8080/",
          "height": 201
        },
        "outputId": "333120ad-3e1f-4688-c573-2f2153601bd2"
      },
      "source": [
        "import numpy as np\n",
        "\n",
        "# Input\n",
        "a = np.array([1,2,3])\n",
        "\n",
        "# Enter your code here\n",
        "out = np.hstack((np.repeat(a, a.shape[0]), np.tile(a, a.shape[0])))\n",
        "\n",
        "# Output\n",
        "print('a:')\n",
        "visualize_array(a)\n",
        "print('out:')\n",
        "visualize_array(out)"
      ],
      "execution_count": null,
      "outputs": [
        {
          "output_type": "stream",
          "name": "stdout",
          "text": [
            "a:\n"
          ]
        },
        {
          "output_type": "display_data",
          "data": {
            "text/plain": [
              "<IPython.core.display.HTML object>"
            ],
            "text/html": [
              "\n",
              "<style>\n",
              "table {\n",
              "  border-collapse: collapse;\n",
              "}\n",
              "\n",
              "td {\n",
              "  border: 3px solid #666666;\n",
              "  min-width:30px;\n",
              "  height: 30px;\n",
              "  position: relative;\n",
              "  text-align:center;\n",
              "  color: #474747;\n",
              "  font-size:20px;\n",
              "  font-weight: bolder;\n",
              "  padding: 19px;\n",
              "}\n",
              "\n",
              ".up{\n",
              "  position: absolute;\n",
              "  right: 0;\n",
              "  top: 0;\n",
              "  background: white;\n",
              "  text-align: right;\n",
              "  font-size: 16px;\n",
              "  font-family: Courier;\n",
              "  font-weight: bolder;\n",
              "  color: blue;\n",
              "  opacity: 1.0;\n",
              "  background-color:rgba(0, 0, 0, 0.0);\n",
              "}\n",
              "\n",
              ".down{\n",
              "  position: absolute;\n",
              "  right: 0;\n",
              "  bottom: 0;\n",
              "  background: white;\n",
              "  text-align: right;\n",
              "  font-size: 16px;\n",
              "  font-family: Courier;\n",
              "  font-weight: bolder;\n",
              "  color: red;\n",
              "  opacity: 0.9;\n",
              "  background-color:rgba(0, 0, 0, 0.0);\n",
              "}\n",
              "</style>\n",
              "<table bgcolor=\"96c8ff\"><tr>\n",
              "\t<td>1<span class=\"up\">0</span><span class=\"down\">-3</span></td>\n",
              "\t<td>2<span class=\"up\">1</span><span class=\"down\">-2</span></td>\n",
              "\t<td>3<span class=\"up\">2</span><span class=\"down\">-1</span></td>\n",
              "</tr></table>\n"
            ]
          },
          "metadata": {}
        },
        {
          "output_type": "stream",
          "name": "stdout",
          "text": [
            "out:\n"
          ]
        },
        {
          "output_type": "display_data",
          "data": {
            "text/plain": [
              "<IPython.core.display.HTML object>"
            ],
            "text/html": [
              "\n",
              "<style>\n",
              "table {\n",
              "  border-collapse: collapse;\n",
              "}\n",
              "\n",
              "td {\n",
              "  border: 3px solid #666666;\n",
              "  min-width:30px;\n",
              "  height: 30px;\n",
              "  position: relative;\n",
              "  text-align:center;\n",
              "  color: #474747;\n",
              "  font-size:20px;\n",
              "  font-weight: bolder;\n",
              "  padding: 19px;\n",
              "}\n",
              "\n",
              ".up{\n",
              "  position: absolute;\n",
              "  right: 0;\n",
              "  top: 0;\n",
              "  background: white;\n",
              "  text-align: right;\n",
              "  font-size: 16px;\n",
              "  font-family: Courier;\n",
              "  font-weight: bolder;\n",
              "  color: blue;\n",
              "  opacity: 1.0;\n",
              "  background-color:rgba(0, 0, 0, 0.0);\n",
              "}\n",
              "\n",
              ".down{\n",
              "  position: absolute;\n",
              "  right: 0;\n",
              "  bottom: 0;\n",
              "  background: white;\n",
              "  text-align: right;\n",
              "  font-size: 16px;\n",
              "  font-family: Courier;\n",
              "  font-weight: bolder;\n",
              "  color: red;\n",
              "  opacity: 0.9;\n",
              "  background-color:rgba(0, 0, 0, 0.0);\n",
              "}\n",
              "</style>\n",
              "<table bgcolor=\"96c8ff\"><tr>\n",
              "\t<td>1<span class=\"up\">0</span><span class=\"down\">-18</span></td>\n",
              "\t<td>1<span class=\"up\">1</span><span class=\"down\">-17</span></td>\n",
              "\t<td>1<span class=\"up\">2</span><span class=\"down\">-16</span></td>\n",
              "\t<td>2<span class=\"up\">3</span><span class=\"down\">-15</span></td>\n",
              "\t<td>2<span class=\"up\">4</span><span class=\"down\">-14</span></td>\n",
              "\t<td>2<span class=\"up\">5</span><span class=\"down\">-13</span></td>\n",
              "\t<td>3<span class=\"up\">6</span><span class=\"down\">-12</span></td>\n",
              "\t<td>3<span class=\"up\">7</span><span class=\"down\">-11</span></td>\n",
              "\t<td>3<span class=\"up\">8</span><span class=\"down\">-10</span></td>\n",
              "\t<td>1<span class=\"up\">9</span><span class=\"down\">-9</span></td>\n",
              "\t<td>2<span class=\"up\">10</span><span class=\"down\">-8</span></td>\n",
              "\t<td>3<span class=\"up\">11</span><span class=\"down\">-7</span></td>\n",
              "\t<td>1<span class=\"up\">12</span><span class=\"down\">-6</span></td>\n",
              "\t<td>2<span class=\"up\">13</span><span class=\"down\">-5</span></td>\n",
              "\t<td>3<span class=\"up\">14</span><span class=\"down\">-4</span></td>\n",
              "\t<td>1<span class=\"up\">15</span><span class=\"down\">-3</span></td>\n",
              "\t<td>2<span class=\"up\">16</span><span class=\"down\">-2</span></td>\n",
              "\t<td>3<span class=\"up\">17</span><span class=\"down\">-1</span></td>\n",
              "</tr></table>\n"
            ]
          },
          "metadata": {}
        }
      ]
    },
    {
      "cell_type": "code",
      "metadata": {
        "id": "i8bkLAD3Gucy",
        "cellView": "form",
        "colab": {
          "base_uri": "https://localhost:8080/",
          "height": 196
        },
        "outputId": "a16a57ab-11c1-4058-d5ea-da89e95065a9"
      },
      "source": [
        "#@title Solution (double click to see the source code)\n",
        "\n",
        "import numpy as np\n",
        "\n",
        "# Input\n",
        "a = np.array([1,2,3]) #@param\n",
        "\n",
        "# Solution\n",
        "out = np.r_[np.repeat(a, 3), np.tile(a, 3)]\n",
        "\n",
        "# Output\n",
        "print('a:')\n",
        "visualize_array(a)\n",
        "print('out:')\n",
        "visualize_array(out)"
      ],
      "execution_count": null,
      "outputs": [
        {
          "output_type": "stream",
          "text": [
            "a:\n"
          ],
          "name": "stdout"
        },
        {
          "output_type": "display_data",
          "data": {
            "text/html": [
              "\n",
              "<style>\n",
              "table {\n",
              "  border-collapse: collapse;\n",
              "}\n",
              "\n",
              "td {\n",
              "  border: 3px solid #666666;\n",
              "  min-width:30px;\n",
              "  height: 30px;\n",
              "  position: relative; \n",
              "  text-align:center; \n",
              "  color: #474747;\n",
              "  font-size:20px;\n",
              "  font-weight: bolder;\n",
              "  padding: 19px;\n",
              "}\n",
              "\n",
              ".up{\n",
              "  position: absolute; \n",
              "  right: 0;\n",
              "  top: 0;\n",
              "  background: white;\n",
              "  text-align: right;\n",
              "  font-size: 16px;\n",
              "  font-family: Courier;\n",
              "  font-weight: bolder;\n",
              "  color: blue;\n",
              "  opacity: 1.0;\n",
              "  background-color:rgba(0, 0, 0, 0.0);\n",
              "}\n",
              "\n",
              ".down{\n",
              "  position: absolute; \n",
              "  right: 0;\n",
              "  bottom: 0;\n",
              "  background: white;\n",
              "  text-align: right;\n",
              "  font-size: 16px;\n",
              "  font-family: Courier;\n",
              "  font-weight: bolder;\n",
              "  color: red;\n",
              "  opacity: 0.9;\n",
              "  background-color:rgba(0, 0, 0, 0.0);\n",
              "}\n",
              "</style>\n",
              "<table bgcolor=\"96c8ff\"><tr>\n",
              "\t<td>1<span class=\"up\">0</span><span class=\"down\">-3</span></td>\n",
              "\t<td>2<span class=\"up\">1</span><span class=\"down\">-2</span></td>\n",
              "\t<td>3<span class=\"up\">2</span><span class=\"down\">-1</span></td>\n",
              "</tr></table>\n"
            ],
            "text/plain": [
              "<IPython.core.display.HTML object>"
            ]
          },
          "metadata": {
            "tags": []
          }
        },
        {
          "output_type": "stream",
          "text": [
            "out:\n"
          ],
          "name": "stdout"
        },
        {
          "output_type": "display_data",
          "data": {
            "text/html": [
              "\n",
              "<style>\n",
              "table {\n",
              "  border-collapse: collapse;\n",
              "}\n",
              "\n",
              "td {\n",
              "  border: 3px solid #666666;\n",
              "  min-width:30px;\n",
              "  height: 30px;\n",
              "  position: relative; \n",
              "  text-align:center; \n",
              "  color: #474747;\n",
              "  font-size:20px;\n",
              "  font-weight: bolder;\n",
              "  padding: 19px;\n",
              "}\n",
              "\n",
              ".up{\n",
              "  position: absolute; \n",
              "  right: 0;\n",
              "  top: 0;\n",
              "  background: white;\n",
              "  text-align: right;\n",
              "  font-size: 16px;\n",
              "  font-family: Courier;\n",
              "  font-weight: bolder;\n",
              "  color: blue;\n",
              "  opacity: 1.0;\n",
              "  background-color:rgba(0, 0, 0, 0.0);\n",
              "}\n",
              "\n",
              ".down{\n",
              "  position: absolute; \n",
              "  right: 0;\n",
              "  bottom: 0;\n",
              "  background: white;\n",
              "  text-align: right;\n",
              "  font-size: 16px;\n",
              "  font-family: Courier;\n",
              "  font-weight: bolder;\n",
              "  color: red;\n",
              "  opacity: 0.9;\n",
              "  background-color:rgba(0, 0, 0, 0.0);\n",
              "}\n",
              "</style>\n",
              "<table bgcolor=\"96c8ff\"><tr>\n",
              "\t<td>1<span class=\"up\">0</span><span class=\"down\">-18</span></td>\n",
              "\t<td>1<span class=\"up\">1</span><span class=\"down\">-17</span></td>\n",
              "\t<td>1<span class=\"up\">2</span><span class=\"down\">-16</span></td>\n",
              "\t<td>2<span class=\"up\">3</span><span class=\"down\">-15</span></td>\n",
              "\t<td>2<span class=\"up\">4</span><span class=\"down\">-14</span></td>\n",
              "\t<td>2<span class=\"up\">5</span><span class=\"down\">-13</span></td>\n",
              "\t<td>3<span class=\"up\">6</span><span class=\"down\">-12</span></td>\n",
              "\t<td>3<span class=\"up\">7</span><span class=\"down\">-11</span></td>\n",
              "\t<td>3<span class=\"up\">8</span><span class=\"down\">-10</span></td>\n",
              "\t<td>1<span class=\"up\">9</span><span class=\"down\">-9</span></td>\n",
              "\t<td>2<span class=\"up\">10</span><span class=\"down\">-8</span></td>\n",
              "\t<td>3<span class=\"up\">11</span><span class=\"down\">-7</span></td>\n",
              "\t<td>1<span class=\"up\">12</span><span class=\"down\">-6</span></td>\n",
              "\t<td>2<span class=\"up\">13</span><span class=\"down\">-5</span></td>\n",
              "\t<td>3<span class=\"up\">14</span><span class=\"down\">-4</span></td>\n",
              "\t<td>1<span class=\"up\">15</span><span class=\"down\">-3</span></td>\n",
              "\t<td>2<span class=\"up\">16</span><span class=\"down\">-2</span></td>\n",
              "\t<td>3<span class=\"up\">17</span><span class=\"down\">-1</span></td>\n",
              "</tr></table>\n"
            ],
            "text/plain": [
              "<IPython.core.display.HTML object>"
            ]
          },
          "metadata": {
            "tags": []
          }
        }
      ]
    },
    {
      "cell_type": "markdown",
      "metadata": {
        "id": "rOdQyUlMGuc1"
      },
      "source": [
        "##5. How to get the common items between two python numpy arrays?"
      ]
    },
    {
      "cell_type": "markdown",
      "metadata": {
        "id": "3fj14R22_GHJ"
      },
      "source": [
        "**Problem:**\n",
        "Get the common items between a and b"
      ]
    },
    {
      "cell_type": "code",
      "metadata": {
        "id": "ilc43BS9Gudk",
        "colab": {
          "base_uri": "https://localhost:8080/",
          "height": 293
        },
        "outputId": "3d3a410b-ceeb-404c-dab8-d53d0807ef9a"
      },
      "source": [
        "import numpy as np\n",
        "\n",
        "# Input\n",
        "a = np.array([1,2,3,2,3,4,3,4,5,6])\n",
        "b = np.array([7,2,10,2,7,4,9,4,9,8])\n",
        "\n",
        "# Enter your code here\n",
        "out = np.intersect1d(a, b)\n",
        "\n",
        "# Output\n",
        "print('a:')\n",
        "visualize_array(a)\n",
        "print('b:')\n",
        "visualize_array(b)\n",
        "print('out:')\n",
        "visualize_array(out)"
      ],
      "execution_count": null,
      "outputs": [
        {
          "output_type": "stream",
          "name": "stdout",
          "text": [
            "a:\n"
          ]
        },
        {
          "output_type": "display_data",
          "data": {
            "text/plain": [
              "<IPython.core.display.HTML object>"
            ],
            "text/html": [
              "\n",
              "<style>\n",
              "table {\n",
              "  border-collapse: collapse;\n",
              "}\n",
              "\n",
              "td {\n",
              "  border: 3px solid #666666;\n",
              "  min-width:30px;\n",
              "  height: 30px;\n",
              "  position: relative;\n",
              "  text-align:center;\n",
              "  color: #474747;\n",
              "  font-size:20px;\n",
              "  font-weight: bolder;\n",
              "  padding: 19px;\n",
              "}\n",
              "\n",
              ".up{\n",
              "  position: absolute;\n",
              "  right: 0;\n",
              "  top: 0;\n",
              "  background: white;\n",
              "  text-align: right;\n",
              "  font-size: 16px;\n",
              "  font-family: Courier;\n",
              "  font-weight: bolder;\n",
              "  color: blue;\n",
              "  opacity: 1.0;\n",
              "  background-color:rgba(0, 0, 0, 0.0);\n",
              "}\n",
              "\n",
              ".down{\n",
              "  position: absolute;\n",
              "  right: 0;\n",
              "  bottom: 0;\n",
              "  background: white;\n",
              "  text-align: right;\n",
              "  font-size: 16px;\n",
              "  font-family: Courier;\n",
              "  font-weight: bolder;\n",
              "  color: red;\n",
              "  opacity: 0.9;\n",
              "  background-color:rgba(0, 0, 0, 0.0);\n",
              "}\n",
              "</style>\n",
              "<table bgcolor=\"96c8ff\"><tr>\n",
              "\t<td>1<span class=\"up\">0</span><span class=\"down\">-10</span></td>\n",
              "\t<td>2<span class=\"up\">1</span><span class=\"down\">-9</span></td>\n",
              "\t<td>3<span class=\"up\">2</span><span class=\"down\">-8</span></td>\n",
              "\t<td>2<span class=\"up\">3</span><span class=\"down\">-7</span></td>\n",
              "\t<td>3<span class=\"up\">4</span><span class=\"down\">-6</span></td>\n",
              "\t<td>4<span class=\"up\">5</span><span class=\"down\">-5</span></td>\n",
              "\t<td>3<span class=\"up\">6</span><span class=\"down\">-4</span></td>\n",
              "\t<td>4<span class=\"up\">7</span><span class=\"down\">-3</span></td>\n",
              "\t<td>5<span class=\"up\">8</span><span class=\"down\">-2</span></td>\n",
              "\t<td>6<span class=\"up\">9</span><span class=\"down\">-1</span></td>\n",
              "</tr></table>\n"
            ]
          },
          "metadata": {}
        },
        {
          "output_type": "stream",
          "name": "stdout",
          "text": [
            "b:\n"
          ]
        },
        {
          "output_type": "display_data",
          "data": {
            "text/plain": [
              "<IPython.core.display.HTML object>"
            ],
            "text/html": [
              "\n",
              "<style>\n",
              "table {\n",
              "  border-collapse: collapse;\n",
              "}\n",
              "\n",
              "td {\n",
              "  border: 3px solid #666666;\n",
              "  min-width:30px;\n",
              "  height: 30px;\n",
              "  position: relative;\n",
              "  text-align:center;\n",
              "  color: #474747;\n",
              "  font-size:20px;\n",
              "  font-weight: bolder;\n",
              "  padding: 19px;\n",
              "}\n",
              "\n",
              ".up{\n",
              "  position: absolute;\n",
              "  right: 0;\n",
              "  top: 0;\n",
              "  background: white;\n",
              "  text-align: right;\n",
              "  font-size: 16px;\n",
              "  font-family: Courier;\n",
              "  font-weight: bolder;\n",
              "  color: blue;\n",
              "  opacity: 1.0;\n",
              "  background-color:rgba(0, 0, 0, 0.0);\n",
              "}\n",
              "\n",
              ".down{\n",
              "  position: absolute;\n",
              "  right: 0;\n",
              "  bottom: 0;\n",
              "  background: white;\n",
              "  text-align: right;\n",
              "  font-size: 16px;\n",
              "  font-family: Courier;\n",
              "  font-weight: bolder;\n",
              "  color: red;\n",
              "  opacity: 0.9;\n",
              "  background-color:rgba(0, 0, 0, 0.0);\n",
              "}\n",
              "</style>\n",
              "<table bgcolor=\"96c8ff\"><tr>\n",
              "\t<td>7<span class=\"up\">0</span><span class=\"down\">-10</span></td>\n",
              "\t<td>2<span class=\"up\">1</span><span class=\"down\">-9</span></td>\n",
              "\t<td>10<span class=\"up\">2</span><span class=\"down\">-8</span></td>\n",
              "\t<td>2<span class=\"up\">3</span><span class=\"down\">-7</span></td>\n",
              "\t<td>7<span class=\"up\">4</span><span class=\"down\">-6</span></td>\n",
              "\t<td>4<span class=\"up\">5</span><span class=\"down\">-5</span></td>\n",
              "\t<td>9<span class=\"up\">6</span><span class=\"down\">-4</span></td>\n",
              "\t<td>4<span class=\"up\">7</span><span class=\"down\">-3</span></td>\n",
              "\t<td>9<span class=\"up\">8</span><span class=\"down\">-2</span></td>\n",
              "\t<td>8<span class=\"up\">9</span><span class=\"down\">-1</span></td>\n",
              "</tr></table>\n"
            ]
          },
          "metadata": {}
        },
        {
          "output_type": "stream",
          "name": "stdout",
          "text": [
            "out:\n"
          ]
        },
        {
          "output_type": "display_data",
          "data": {
            "text/plain": [
              "<IPython.core.display.HTML object>"
            ],
            "text/html": [
              "\n",
              "<style>\n",
              "table {\n",
              "  border-collapse: collapse;\n",
              "}\n",
              "\n",
              "td {\n",
              "  border: 3px solid #666666;\n",
              "  min-width:30px;\n",
              "  height: 30px;\n",
              "  position: relative;\n",
              "  text-align:center;\n",
              "  color: #474747;\n",
              "  font-size:20px;\n",
              "  font-weight: bolder;\n",
              "  padding: 19px;\n",
              "}\n",
              "\n",
              ".up{\n",
              "  position: absolute;\n",
              "  right: 0;\n",
              "  top: 0;\n",
              "  background: white;\n",
              "  text-align: right;\n",
              "  font-size: 16px;\n",
              "  font-family: Courier;\n",
              "  font-weight: bolder;\n",
              "  color: blue;\n",
              "  opacity: 1.0;\n",
              "  background-color:rgba(0, 0, 0, 0.0);\n",
              "}\n",
              "\n",
              ".down{\n",
              "  position: absolute;\n",
              "  right: 0;\n",
              "  bottom: 0;\n",
              "  background: white;\n",
              "  text-align: right;\n",
              "  font-size: 16px;\n",
              "  font-family: Courier;\n",
              "  font-weight: bolder;\n",
              "  color: red;\n",
              "  opacity: 0.9;\n",
              "  background-color:rgba(0, 0, 0, 0.0);\n",
              "}\n",
              "</style>\n",
              "<table bgcolor=\"96c8ff\"><tr>\n",
              "\t<td>2<span class=\"up\">0</span><span class=\"down\">-2</span></td>\n",
              "\t<td>4<span class=\"up\">1</span><span class=\"down\">-1</span></td>\n",
              "</tr></table>\n"
            ]
          },
          "metadata": {}
        }
      ]
    },
    {
      "cell_type": "code",
      "metadata": {
        "id": "SyDcaBy-Gudm",
        "cellView": "form",
        "colab": {
          "base_uri": "https://localhost:8080/",
          "height": 286
        },
        "outputId": "0a19bef9-4ed1-40fd-dcde-f91c8f96931f"
      },
      "source": [
        "#@title Solution (double click to see the source code)\n",
        "\n",
        "import numpy as np\n",
        "\n",
        "# Input\n",
        "a = np.array([1,2,3,2,3,4,3,4,5,6])  #@param\n",
        "b = np.array([7,2,10,2,7,4,9,4,9,8]) #@param\n",
        "\n",
        "#Solution\n",
        "out = np.intersect1d(a,b)\n",
        "\n",
        "# Output\n",
        "print('a:')\n",
        "visualize_array(a)\n",
        "print('b:')\n",
        "visualize_array(b)\n",
        "print('out:')\n",
        "visualize_array(out)"
      ],
      "execution_count": null,
      "outputs": [
        {
          "output_type": "stream",
          "text": [
            "a:\n"
          ],
          "name": "stdout"
        },
        {
          "output_type": "display_data",
          "data": {
            "text/html": [
              "\n",
              "<style>\n",
              "table {\n",
              "  border-collapse: collapse;\n",
              "}\n",
              "\n",
              "td {\n",
              "  border: 3px solid #666666;\n",
              "  min-width:30px;\n",
              "  height: 30px;\n",
              "  position: relative; \n",
              "  text-align:center; \n",
              "  color: #474747;\n",
              "  font-size:20px;\n",
              "  font-weight: bolder;\n",
              "  padding: 19px;\n",
              "}\n",
              "\n",
              ".up{\n",
              "  position: absolute; \n",
              "  right: 0;\n",
              "  top: 0;\n",
              "  background: white;\n",
              "  text-align: right;\n",
              "  font-size: 16px;\n",
              "  font-family: Courier;\n",
              "  font-weight: bolder;\n",
              "  color: blue;\n",
              "  opacity: 1.0;\n",
              "  background-color:rgba(0, 0, 0, 0.0);\n",
              "}\n",
              "\n",
              ".down{\n",
              "  position: absolute; \n",
              "  right: 0;\n",
              "  bottom: 0;\n",
              "  background: white;\n",
              "  text-align: right;\n",
              "  font-size: 16px;\n",
              "  font-family: Courier;\n",
              "  font-weight: bolder;\n",
              "  color: red;\n",
              "  opacity: 0.9;\n",
              "  background-color:rgba(0, 0, 0, 0.0);\n",
              "}\n",
              "</style>\n",
              "<table bgcolor=\"96c8ff\"><tr>\n",
              "\t<td>1<span class=\"up\">0</span><span class=\"down\">-10</span></td>\n",
              "\t<td>2<span class=\"up\">1</span><span class=\"down\">-9</span></td>\n",
              "\t<td>3<span class=\"up\">2</span><span class=\"down\">-8</span></td>\n",
              "\t<td>2<span class=\"up\">3</span><span class=\"down\">-7</span></td>\n",
              "\t<td>3<span class=\"up\">4</span><span class=\"down\">-6</span></td>\n",
              "\t<td>4<span class=\"up\">5</span><span class=\"down\">-5</span></td>\n",
              "\t<td>3<span class=\"up\">6</span><span class=\"down\">-4</span></td>\n",
              "\t<td>4<span class=\"up\">7</span><span class=\"down\">-3</span></td>\n",
              "\t<td>5<span class=\"up\">8</span><span class=\"down\">-2</span></td>\n",
              "\t<td>6<span class=\"up\">9</span><span class=\"down\">-1</span></td>\n",
              "</tr></table>\n"
            ],
            "text/plain": [
              "<IPython.core.display.HTML object>"
            ]
          },
          "metadata": {
            "tags": []
          }
        },
        {
          "output_type": "stream",
          "text": [
            "b:\n"
          ],
          "name": "stdout"
        },
        {
          "output_type": "display_data",
          "data": {
            "text/html": [
              "\n",
              "<style>\n",
              "table {\n",
              "  border-collapse: collapse;\n",
              "}\n",
              "\n",
              "td {\n",
              "  border: 3px solid #666666;\n",
              "  min-width:30px;\n",
              "  height: 30px;\n",
              "  position: relative; \n",
              "  text-align:center; \n",
              "  color: #474747;\n",
              "  font-size:20px;\n",
              "  font-weight: bolder;\n",
              "  padding: 19px;\n",
              "}\n",
              "\n",
              ".up{\n",
              "  position: absolute; \n",
              "  right: 0;\n",
              "  top: 0;\n",
              "  background: white;\n",
              "  text-align: right;\n",
              "  font-size: 16px;\n",
              "  font-family: Courier;\n",
              "  font-weight: bolder;\n",
              "  color: blue;\n",
              "  opacity: 1.0;\n",
              "  background-color:rgba(0, 0, 0, 0.0);\n",
              "}\n",
              "\n",
              ".down{\n",
              "  position: absolute; \n",
              "  right: 0;\n",
              "  bottom: 0;\n",
              "  background: white;\n",
              "  text-align: right;\n",
              "  font-size: 16px;\n",
              "  font-family: Courier;\n",
              "  font-weight: bolder;\n",
              "  color: red;\n",
              "  opacity: 0.9;\n",
              "  background-color:rgba(0, 0, 0, 0.0);\n",
              "}\n",
              "</style>\n",
              "<table bgcolor=\"96c8ff\"><tr>\n",
              "\t<td>7<span class=\"up\">0</span><span class=\"down\">-10</span></td>\n",
              "\t<td>2<span class=\"up\">1</span><span class=\"down\">-9</span></td>\n",
              "\t<td>10<span class=\"up\">2</span><span class=\"down\">-8</span></td>\n",
              "\t<td>2<span class=\"up\">3</span><span class=\"down\">-7</span></td>\n",
              "\t<td>7<span class=\"up\">4</span><span class=\"down\">-6</span></td>\n",
              "\t<td>4<span class=\"up\">5</span><span class=\"down\">-5</span></td>\n",
              "\t<td>9<span class=\"up\">6</span><span class=\"down\">-4</span></td>\n",
              "\t<td>4<span class=\"up\">7</span><span class=\"down\">-3</span></td>\n",
              "\t<td>9<span class=\"up\">8</span><span class=\"down\">-2</span></td>\n",
              "\t<td>8<span class=\"up\">9</span><span class=\"down\">-1</span></td>\n",
              "</tr></table>\n"
            ],
            "text/plain": [
              "<IPython.core.display.HTML object>"
            ]
          },
          "metadata": {
            "tags": []
          }
        },
        {
          "output_type": "stream",
          "text": [
            "out:\n"
          ],
          "name": "stdout"
        },
        {
          "output_type": "display_data",
          "data": {
            "text/html": [
              "\n",
              "<style>\n",
              "table {\n",
              "  border-collapse: collapse;\n",
              "}\n",
              "\n",
              "td {\n",
              "  border: 3px solid #666666;\n",
              "  min-width:30px;\n",
              "  height: 30px;\n",
              "  position: relative; \n",
              "  text-align:center; \n",
              "  color: #474747;\n",
              "  font-size:20px;\n",
              "  font-weight: bolder;\n",
              "  padding: 19px;\n",
              "}\n",
              "\n",
              ".up{\n",
              "  position: absolute; \n",
              "  right: 0;\n",
              "  top: 0;\n",
              "  background: white;\n",
              "  text-align: right;\n",
              "  font-size: 16px;\n",
              "  font-family: Courier;\n",
              "  font-weight: bolder;\n",
              "  color: blue;\n",
              "  opacity: 1.0;\n",
              "  background-color:rgba(0, 0, 0, 0.0);\n",
              "}\n",
              "\n",
              ".down{\n",
              "  position: absolute; \n",
              "  right: 0;\n",
              "  bottom: 0;\n",
              "  background: white;\n",
              "  text-align: right;\n",
              "  font-size: 16px;\n",
              "  font-family: Courier;\n",
              "  font-weight: bolder;\n",
              "  color: red;\n",
              "  opacity: 0.9;\n",
              "  background-color:rgba(0, 0, 0, 0.0);\n",
              "}\n",
              "</style>\n",
              "<table bgcolor=\"96c8ff\"><tr>\n",
              "\t<td>2<span class=\"up\">0</span><span class=\"down\">-2</span></td>\n",
              "\t<td>4<span class=\"up\">1</span><span class=\"down\">-1</span></td>\n",
              "</tr></table>\n"
            ],
            "text/plain": [
              "<IPython.core.display.HTML object>"
            ]
          },
          "metadata": {
            "tags": []
          }
        }
      ]
    },
    {
      "cell_type": "markdown",
      "metadata": {
        "id": "63s0Eb6WGudo"
      },
      "source": [
        "##6. How to remove from one array those items that exist in another?"
      ]
    },
    {
      "cell_type": "markdown",
      "metadata": {
        "id": "M5kZ8w9EB0OV"
      },
      "source": [
        "**Problem:**\n",
        "From array `a` remove all items present in array `b`."
      ]
    },
    {
      "cell_type": "code",
      "metadata": {
        "id": "uuxF0PPFGudo",
        "colab": {
          "base_uri": "https://localhost:8080/",
          "height": 293
        },
        "outputId": "cfa72d0c-8128-4fc2-da32-9a86ad8468fd"
      },
      "source": [
        "import numpy as np\n",
        "\n",
        "# Input\n",
        "a = np.array([1,2,3,4,5])\n",
        "b = np.array([5,6,7,8,9])\n",
        "\n",
        "# Enter your code here\n",
        "out = np.setdiff1d(a, b)\n",
        "\n",
        "# Output\n",
        "print('a:')\n",
        "visualize_array(a)\n",
        "print('b:')\n",
        "visualize_array(b)\n",
        "print('out:')\n",
        "visualize_array(out)"
      ],
      "execution_count": null,
      "outputs": [
        {
          "output_type": "stream",
          "name": "stdout",
          "text": [
            "a:\n"
          ]
        },
        {
          "output_type": "display_data",
          "data": {
            "text/plain": [
              "<IPython.core.display.HTML object>"
            ],
            "text/html": [
              "\n",
              "<style>\n",
              "table {\n",
              "  border-collapse: collapse;\n",
              "}\n",
              "\n",
              "td {\n",
              "  border: 3px solid #666666;\n",
              "  min-width:30px;\n",
              "  height: 30px;\n",
              "  position: relative;\n",
              "  text-align:center;\n",
              "  color: #474747;\n",
              "  font-size:20px;\n",
              "  font-weight: bolder;\n",
              "  padding: 19px;\n",
              "}\n",
              "\n",
              ".up{\n",
              "  position: absolute;\n",
              "  right: 0;\n",
              "  top: 0;\n",
              "  background: white;\n",
              "  text-align: right;\n",
              "  font-size: 16px;\n",
              "  font-family: Courier;\n",
              "  font-weight: bolder;\n",
              "  color: blue;\n",
              "  opacity: 1.0;\n",
              "  background-color:rgba(0, 0, 0, 0.0);\n",
              "}\n",
              "\n",
              ".down{\n",
              "  position: absolute;\n",
              "  right: 0;\n",
              "  bottom: 0;\n",
              "  background: white;\n",
              "  text-align: right;\n",
              "  font-size: 16px;\n",
              "  font-family: Courier;\n",
              "  font-weight: bolder;\n",
              "  color: red;\n",
              "  opacity: 0.9;\n",
              "  background-color:rgba(0, 0, 0, 0.0);\n",
              "}\n",
              "</style>\n",
              "<table bgcolor=\"96c8ff\"><tr>\n",
              "\t<td>1<span class=\"up\">0</span><span class=\"down\">-5</span></td>\n",
              "\t<td>2<span class=\"up\">1</span><span class=\"down\">-4</span></td>\n",
              "\t<td>3<span class=\"up\">2</span><span class=\"down\">-3</span></td>\n",
              "\t<td>4<span class=\"up\">3</span><span class=\"down\">-2</span></td>\n",
              "\t<td>5<span class=\"up\">4</span><span class=\"down\">-1</span></td>\n",
              "</tr></table>\n"
            ]
          },
          "metadata": {}
        },
        {
          "output_type": "stream",
          "name": "stdout",
          "text": [
            "b:\n"
          ]
        },
        {
          "output_type": "display_data",
          "data": {
            "text/plain": [
              "<IPython.core.display.HTML object>"
            ],
            "text/html": [
              "\n",
              "<style>\n",
              "table {\n",
              "  border-collapse: collapse;\n",
              "}\n",
              "\n",
              "td {\n",
              "  border: 3px solid #666666;\n",
              "  min-width:30px;\n",
              "  height: 30px;\n",
              "  position: relative;\n",
              "  text-align:center;\n",
              "  color: #474747;\n",
              "  font-size:20px;\n",
              "  font-weight: bolder;\n",
              "  padding: 19px;\n",
              "}\n",
              "\n",
              ".up{\n",
              "  position: absolute;\n",
              "  right: 0;\n",
              "  top: 0;\n",
              "  background: white;\n",
              "  text-align: right;\n",
              "  font-size: 16px;\n",
              "  font-family: Courier;\n",
              "  font-weight: bolder;\n",
              "  color: blue;\n",
              "  opacity: 1.0;\n",
              "  background-color:rgba(0, 0, 0, 0.0);\n",
              "}\n",
              "\n",
              ".down{\n",
              "  position: absolute;\n",
              "  right: 0;\n",
              "  bottom: 0;\n",
              "  background: white;\n",
              "  text-align: right;\n",
              "  font-size: 16px;\n",
              "  font-family: Courier;\n",
              "  font-weight: bolder;\n",
              "  color: red;\n",
              "  opacity: 0.9;\n",
              "  background-color:rgba(0, 0, 0, 0.0);\n",
              "}\n",
              "</style>\n",
              "<table bgcolor=\"96c8ff\"><tr>\n",
              "\t<td>5<span class=\"up\">0</span><span class=\"down\">-5</span></td>\n",
              "\t<td>6<span class=\"up\">1</span><span class=\"down\">-4</span></td>\n",
              "\t<td>7<span class=\"up\">2</span><span class=\"down\">-3</span></td>\n",
              "\t<td>8<span class=\"up\">3</span><span class=\"down\">-2</span></td>\n",
              "\t<td>9<span class=\"up\">4</span><span class=\"down\">-1</span></td>\n",
              "</tr></table>\n"
            ]
          },
          "metadata": {}
        },
        {
          "output_type": "stream",
          "name": "stdout",
          "text": [
            "out:\n"
          ]
        },
        {
          "output_type": "display_data",
          "data": {
            "text/plain": [
              "<IPython.core.display.HTML object>"
            ],
            "text/html": [
              "\n",
              "<style>\n",
              "table {\n",
              "  border-collapse: collapse;\n",
              "}\n",
              "\n",
              "td {\n",
              "  border: 3px solid #666666;\n",
              "  min-width:30px;\n",
              "  height: 30px;\n",
              "  position: relative;\n",
              "  text-align:center;\n",
              "  color: #474747;\n",
              "  font-size:20px;\n",
              "  font-weight: bolder;\n",
              "  padding: 19px;\n",
              "}\n",
              "\n",
              ".up{\n",
              "  position: absolute;\n",
              "  right: 0;\n",
              "  top: 0;\n",
              "  background: white;\n",
              "  text-align: right;\n",
              "  font-size: 16px;\n",
              "  font-family: Courier;\n",
              "  font-weight: bolder;\n",
              "  color: blue;\n",
              "  opacity: 1.0;\n",
              "  background-color:rgba(0, 0, 0, 0.0);\n",
              "}\n",
              "\n",
              ".down{\n",
              "  position: absolute;\n",
              "  right: 0;\n",
              "  bottom: 0;\n",
              "  background: white;\n",
              "  text-align: right;\n",
              "  font-size: 16px;\n",
              "  font-family: Courier;\n",
              "  font-weight: bolder;\n",
              "  color: red;\n",
              "  opacity: 0.9;\n",
              "  background-color:rgba(0, 0, 0, 0.0);\n",
              "}\n",
              "</style>\n",
              "<table bgcolor=\"96c8ff\"><tr>\n",
              "\t<td>1<span class=\"up\">0</span><span class=\"down\">-4</span></td>\n",
              "\t<td>2<span class=\"up\">1</span><span class=\"down\">-3</span></td>\n",
              "\t<td>3<span class=\"up\">2</span><span class=\"down\">-2</span></td>\n",
              "\t<td>4<span class=\"up\">3</span><span class=\"down\">-1</span></td>\n",
              "</tr></table>\n"
            ]
          },
          "metadata": {}
        }
      ]
    },
    {
      "cell_type": "code",
      "metadata": {
        "cellView": "form",
        "id": "vpf8SDtuGF0L",
        "colab": {
          "base_uri": "https://localhost:8080/",
          "height": 286
        },
        "outputId": "88a0df21-b6b8-4bf7-a610-e08be1226a09"
      },
      "source": [
        "#@title Solution (double click to see the source code)\n",
        "\n",
        "import numpy as np\n",
        "\n",
        "# Input\n",
        "a = np.array([1,2,3,4,5]) #@param\n",
        "b = np.array([5,6,7,8,9]) #@param\n",
        "\n",
        "#Solution\n",
        "out = np.setdiff1d(a,b)\n",
        "\n",
        "# Output\n",
        "print('a:')\n",
        "visualize_array(a)\n",
        "print('b:')\n",
        "visualize_array(b)\n",
        "print('out:')\n",
        "visualize_array(out)"
      ],
      "execution_count": null,
      "outputs": [
        {
          "output_type": "stream",
          "text": [
            "a:\n"
          ],
          "name": "stdout"
        },
        {
          "output_type": "display_data",
          "data": {
            "text/html": [
              "\n",
              "<style>\n",
              "table {\n",
              "  border-collapse: collapse;\n",
              "}\n",
              "\n",
              "td {\n",
              "  border: 3px solid #666666;\n",
              "  min-width:30px;\n",
              "  height: 30px;\n",
              "  position: relative; \n",
              "  text-align:center; \n",
              "  color: #474747;\n",
              "  font-size:20px;\n",
              "  font-weight: bolder;\n",
              "  padding: 19px;\n",
              "}\n",
              "\n",
              ".up{\n",
              "  position: absolute; \n",
              "  right: 0;\n",
              "  top: 0;\n",
              "  background: white;\n",
              "  text-align: right;\n",
              "  font-size: 16px;\n",
              "  font-family: Courier;\n",
              "  font-weight: bolder;\n",
              "  color: blue;\n",
              "  opacity: 1.0;\n",
              "  background-color:rgba(0, 0, 0, 0.0);\n",
              "}\n",
              "\n",
              ".down{\n",
              "  position: absolute; \n",
              "  right: 0;\n",
              "  bottom: 0;\n",
              "  background: white;\n",
              "  text-align: right;\n",
              "  font-size: 16px;\n",
              "  font-family: Courier;\n",
              "  font-weight: bolder;\n",
              "  color: red;\n",
              "  opacity: 0.9;\n",
              "  background-color:rgba(0, 0, 0, 0.0);\n",
              "}\n",
              "</style>\n",
              "<table bgcolor=\"96c8ff\"><tr>\n",
              "\t<td>1<span class=\"up\">0</span><span class=\"down\">-5</span></td>\n",
              "\t<td>2<span class=\"up\">1</span><span class=\"down\">-4</span></td>\n",
              "\t<td>3<span class=\"up\">2</span><span class=\"down\">-3</span></td>\n",
              "\t<td>4<span class=\"up\">3</span><span class=\"down\">-2</span></td>\n",
              "\t<td>5<span class=\"up\">4</span><span class=\"down\">-1</span></td>\n",
              "</tr></table>\n"
            ],
            "text/plain": [
              "<IPython.core.display.HTML object>"
            ]
          },
          "metadata": {
            "tags": []
          }
        },
        {
          "output_type": "stream",
          "text": [
            "b:\n"
          ],
          "name": "stdout"
        },
        {
          "output_type": "display_data",
          "data": {
            "text/html": [
              "\n",
              "<style>\n",
              "table {\n",
              "  border-collapse: collapse;\n",
              "}\n",
              "\n",
              "td {\n",
              "  border: 3px solid #666666;\n",
              "  min-width:30px;\n",
              "  height: 30px;\n",
              "  position: relative; \n",
              "  text-align:center; \n",
              "  color: #474747;\n",
              "  font-size:20px;\n",
              "  font-weight: bolder;\n",
              "  padding: 19px;\n",
              "}\n",
              "\n",
              ".up{\n",
              "  position: absolute; \n",
              "  right: 0;\n",
              "  top: 0;\n",
              "  background: white;\n",
              "  text-align: right;\n",
              "  font-size: 16px;\n",
              "  font-family: Courier;\n",
              "  font-weight: bolder;\n",
              "  color: blue;\n",
              "  opacity: 1.0;\n",
              "  background-color:rgba(0, 0, 0, 0.0);\n",
              "}\n",
              "\n",
              ".down{\n",
              "  position: absolute; \n",
              "  right: 0;\n",
              "  bottom: 0;\n",
              "  background: white;\n",
              "  text-align: right;\n",
              "  font-size: 16px;\n",
              "  font-family: Courier;\n",
              "  font-weight: bolder;\n",
              "  color: red;\n",
              "  opacity: 0.9;\n",
              "  background-color:rgba(0, 0, 0, 0.0);\n",
              "}\n",
              "</style>\n",
              "<table bgcolor=\"96c8ff\"><tr>\n",
              "\t<td>5<span class=\"up\">0</span><span class=\"down\">-5</span></td>\n",
              "\t<td>6<span class=\"up\">1</span><span class=\"down\">-4</span></td>\n",
              "\t<td>7<span class=\"up\">2</span><span class=\"down\">-3</span></td>\n",
              "\t<td>8<span class=\"up\">3</span><span class=\"down\">-2</span></td>\n",
              "\t<td>9<span class=\"up\">4</span><span class=\"down\">-1</span></td>\n",
              "</tr></table>\n"
            ],
            "text/plain": [
              "<IPython.core.display.HTML object>"
            ]
          },
          "metadata": {
            "tags": []
          }
        },
        {
          "output_type": "stream",
          "text": [
            "out:\n"
          ],
          "name": "stdout"
        },
        {
          "output_type": "display_data",
          "data": {
            "text/html": [
              "\n",
              "<style>\n",
              "table {\n",
              "  border-collapse: collapse;\n",
              "}\n",
              "\n",
              "td {\n",
              "  border: 3px solid #666666;\n",
              "  min-width:30px;\n",
              "  height: 30px;\n",
              "  position: relative; \n",
              "  text-align:center; \n",
              "  color: #474747;\n",
              "  font-size:20px;\n",
              "  font-weight: bolder;\n",
              "  padding: 19px;\n",
              "}\n",
              "\n",
              ".up{\n",
              "  position: absolute; \n",
              "  right: 0;\n",
              "  top: 0;\n",
              "  background: white;\n",
              "  text-align: right;\n",
              "  font-size: 16px;\n",
              "  font-family: Courier;\n",
              "  font-weight: bolder;\n",
              "  color: blue;\n",
              "  opacity: 1.0;\n",
              "  background-color:rgba(0, 0, 0, 0.0);\n",
              "}\n",
              "\n",
              ".down{\n",
              "  position: absolute; \n",
              "  right: 0;\n",
              "  bottom: 0;\n",
              "  background: white;\n",
              "  text-align: right;\n",
              "  font-size: 16px;\n",
              "  font-family: Courier;\n",
              "  font-weight: bolder;\n",
              "  color: red;\n",
              "  opacity: 0.9;\n",
              "  background-color:rgba(0, 0, 0, 0.0);\n",
              "}\n",
              "</style>\n",
              "<table bgcolor=\"96c8ff\"><tr>\n",
              "\t<td>1<span class=\"up\">0</span><span class=\"down\">-4</span></td>\n",
              "\t<td>2<span class=\"up\">1</span><span class=\"down\">-3</span></td>\n",
              "\t<td>3<span class=\"up\">2</span><span class=\"down\">-2</span></td>\n",
              "\t<td>4<span class=\"up\">3</span><span class=\"down\">-1</span></td>\n",
              "</tr></table>\n"
            ],
            "text/plain": [
              "<IPython.core.display.HTML object>"
            ]
          },
          "metadata": {
            "tags": []
          }
        }
      ]
    },
    {
      "cell_type": "markdown",
      "metadata": {
        "id": "Emot7SyrGudr"
      },
      "source": [
        "##7. How to get the positions where elements of two arrays match?"
      ]
    },
    {
      "cell_type": "markdown",
      "metadata": {
        "id": "uef__2XCI5al"
      },
      "source": [
        "**Problem:**\n",
        "Get the positions where elements of `a` and `b` match."
      ]
    },
    {
      "cell_type": "code",
      "metadata": {
        "id": "-81rB_ryGudr",
        "colab": {
          "base_uri": "https://localhost:8080/",
          "height": 293
        },
        "outputId": "0568de31-0966-4a11-bc08-1cebfe24ec44"
      },
      "source": [
        "import numpy as np\n",
        "\n",
        "# Input\n",
        "a = np.array([1,2,3,2,3,4,3,4,5,6])\n",
        "b = np.array([7,2,10,2,7,4,9,4,9,8])\n",
        "\n",
        "# Enter your code here\n",
        "out = np.where(a == b)[0]\n",
        "\n",
        "# Output\n",
        "print('a:')\n",
        "visualize_array(a)\n",
        "print('b:')\n",
        "visualize_array(b)\n",
        "print('out:')\n",
        "visualize_array(out)"
      ],
      "execution_count": null,
      "outputs": [
        {
          "output_type": "stream",
          "name": "stdout",
          "text": [
            "a:\n"
          ]
        },
        {
          "output_type": "display_data",
          "data": {
            "text/plain": [
              "<IPython.core.display.HTML object>"
            ],
            "text/html": [
              "\n",
              "<style>\n",
              "table {\n",
              "  border-collapse: collapse;\n",
              "}\n",
              "\n",
              "td {\n",
              "  border: 3px solid #666666;\n",
              "  min-width:30px;\n",
              "  height: 30px;\n",
              "  position: relative;\n",
              "  text-align:center;\n",
              "  color: #474747;\n",
              "  font-size:20px;\n",
              "  font-weight: bolder;\n",
              "  padding: 19px;\n",
              "}\n",
              "\n",
              ".up{\n",
              "  position: absolute;\n",
              "  right: 0;\n",
              "  top: 0;\n",
              "  background: white;\n",
              "  text-align: right;\n",
              "  font-size: 16px;\n",
              "  font-family: Courier;\n",
              "  font-weight: bolder;\n",
              "  color: blue;\n",
              "  opacity: 1.0;\n",
              "  background-color:rgba(0, 0, 0, 0.0);\n",
              "}\n",
              "\n",
              ".down{\n",
              "  position: absolute;\n",
              "  right: 0;\n",
              "  bottom: 0;\n",
              "  background: white;\n",
              "  text-align: right;\n",
              "  font-size: 16px;\n",
              "  font-family: Courier;\n",
              "  font-weight: bolder;\n",
              "  color: red;\n",
              "  opacity: 0.9;\n",
              "  background-color:rgba(0, 0, 0, 0.0);\n",
              "}\n",
              "</style>\n",
              "<table bgcolor=\"96c8ff\"><tr>\n",
              "\t<td>1<span class=\"up\">0</span><span class=\"down\">-10</span></td>\n",
              "\t<td>2<span class=\"up\">1</span><span class=\"down\">-9</span></td>\n",
              "\t<td>3<span class=\"up\">2</span><span class=\"down\">-8</span></td>\n",
              "\t<td>2<span class=\"up\">3</span><span class=\"down\">-7</span></td>\n",
              "\t<td>3<span class=\"up\">4</span><span class=\"down\">-6</span></td>\n",
              "\t<td>4<span class=\"up\">5</span><span class=\"down\">-5</span></td>\n",
              "\t<td>3<span class=\"up\">6</span><span class=\"down\">-4</span></td>\n",
              "\t<td>4<span class=\"up\">7</span><span class=\"down\">-3</span></td>\n",
              "\t<td>5<span class=\"up\">8</span><span class=\"down\">-2</span></td>\n",
              "\t<td>6<span class=\"up\">9</span><span class=\"down\">-1</span></td>\n",
              "</tr></table>\n"
            ]
          },
          "metadata": {}
        },
        {
          "output_type": "stream",
          "name": "stdout",
          "text": [
            "b:\n"
          ]
        },
        {
          "output_type": "display_data",
          "data": {
            "text/plain": [
              "<IPython.core.display.HTML object>"
            ],
            "text/html": [
              "\n",
              "<style>\n",
              "table {\n",
              "  border-collapse: collapse;\n",
              "}\n",
              "\n",
              "td {\n",
              "  border: 3px solid #666666;\n",
              "  min-width:30px;\n",
              "  height: 30px;\n",
              "  position: relative;\n",
              "  text-align:center;\n",
              "  color: #474747;\n",
              "  font-size:20px;\n",
              "  font-weight: bolder;\n",
              "  padding: 19px;\n",
              "}\n",
              "\n",
              ".up{\n",
              "  position: absolute;\n",
              "  right: 0;\n",
              "  top: 0;\n",
              "  background: white;\n",
              "  text-align: right;\n",
              "  font-size: 16px;\n",
              "  font-family: Courier;\n",
              "  font-weight: bolder;\n",
              "  color: blue;\n",
              "  opacity: 1.0;\n",
              "  background-color:rgba(0, 0, 0, 0.0);\n",
              "}\n",
              "\n",
              ".down{\n",
              "  position: absolute;\n",
              "  right: 0;\n",
              "  bottom: 0;\n",
              "  background: white;\n",
              "  text-align: right;\n",
              "  font-size: 16px;\n",
              "  font-family: Courier;\n",
              "  font-weight: bolder;\n",
              "  color: red;\n",
              "  opacity: 0.9;\n",
              "  background-color:rgba(0, 0, 0, 0.0);\n",
              "}\n",
              "</style>\n",
              "<table bgcolor=\"96c8ff\"><tr>\n",
              "\t<td>7<span class=\"up\">0</span><span class=\"down\">-10</span></td>\n",
              "\t<td>2<span class=\"up\">1</span><span class=\"down\">-9</span></td>\n",
              "\t<td>10<span class=\"up\">2</span><span class=\"down\">-8</span></td>\n",
              "\t<td>2<span class=\"up\">3</span><span class=\"down\">-7</span></td>\n",
              "\t<td>7<span class=\"up\">4</span><span class=\"down\">-6</span></td>\n",
              "\t<td>4<span class=\"up\">5</span><span class=\"down\">-5</span></td>\n",
              "\t<td>9<span class=\"up\">6</span><span class=\"down\">-4</span></td>\n",
              "\t<td>4<span class=\"up\">7</span><span class=\"down\">-3</span></td>\n",
              "\t<td>9<span class=\"up\">8</span><span class=\"down\">-2</span></td>\n",
              "\t<td>8<span class=\"up\">9</span><span class=\"down\">-1</span></td>\n",
              "</tr></table>\n"
            ]
          },
          "metadata": {}
        },
        {
          "output_type": "stream",
          "name": "stdout",
          "text": [
            "out:\n"
          ]
        },
        {
          "output_type": "display_data",
          "data": {
            "text/plain": [
              "<IPython.core.display.HTML object>"
            ],
            "text/html": [
              "\n",
              "<style>\n",
              "table {\n",
              "  border-collapse: collapse;\n",
              "}\n",
              "\n",
              "td {\n",
              "  border: 3px solid #666666;\n",
              "  min-width:30px;\n",
              "  height: 30px;\n",
              "  position: relative;\n",
              "  text-align:center;\n",
              "  color: #474747;\n",
              "  font-size:20px;\n",
              "  font-weight: bolder;\n",
              "  padding: 19px;\n",
              "}\n",
              "\n",
              ".up{\n",
              "  position: absolute;\n",
              "  right: 0;\n",
              "  top: 0;\n",
              "  background: white;\n",
              "  text-align: right;\n",
              "  font-size: 16px;\n",
              "  font-family: Courier;\n",
              "  font-weight: bolder;\n",
              "  color: blue;\n",
              "  opacity: 1.0;\n",
              "  background-color:rgba(0, 0, 0, 0.0);\n",
              "}\n",
              "\n",
              ".down{\n",
              "  position: absolute;\n",
              "  right: 0;\n",
              "  bottom: 0;\n",
              "  background: white;\n",
              "  text-align: right;\n",
              "  font-size: 16px;\n",
              "  font-family: Courier;\n",
              "  font-weight: bolder;\n",
              "  color: red;\n",
              "  opacity: 0.9;\n",
              "  background-color:rgba(0, 0, 0, 0.0);\n",
              "}\n",
              "</style>\n",
              "<table bgcolor=\"96c8ff\"><tr>\n",
              "\t<td>1<span class=\"up\">0</span><span class=\"down\">-4</span></td>\n",
              "\t<td>3<span class=\"up\">1</span><span class=\"down\">-3</span></td>\n",
              "\t<td>5<span class=\"up\">2</span><span class=\"down\">-2</span></td>\n",
              "\t<td>7<span class=\"up\">3</span><span class=\"down\">-1</span></td>\n",
              "</tr></table>\n"
            ]
          },
          "metadata": {}
        }
      ]
    },
    {
      "cell_type": "code",
      "source": [
        "np.where(np.equal(a, b))[0]"
      ],
      "metadata": {
        "id": "vhB0qypBPTeP",
        "outputId": "813c192b-ff33-4bae-e727-951029794121",
        "colab": {
          "base_uri": "https://localhost:8080/"
        }
      },
      "execution_count": null,
      "outputs": [
        {
          "output_type": "execute_result",
          "data": {
            "text/plain": [
              "array([1, 3, 5, 7])"
            ]
          },
          "metadata": {},
          "execution_count": 52
        }
      ]
    },
    {
      "cell_type": "code",
      "metadata": {
        "cellView": "form",
        "id": "kBe4xoHPHbEa",
        "colab": {
          "base_uri": "https://localhost:8080/",
          "height": 286
        },
        "outputId": "29c0104f-1b3f-48bc-9f7d-592e76dde1d9"
      },
      "source": [
        "#@title Solution A (double click to see the source code)\n",
        "\n",
        "import numpy as np\n",
        "\n",
        "# Input\n",
        "a = np.array([1,2,3,2,3,4,3,4,5,6]) #@param\n",
        "b = np.array([7,2,10,2,7,4,9,4,9,8]) #@param\n",
        "\n",
        "#Solution\n",
        "out = np.where(a == b)[0]\n",
        "\n",
        "# Output\n",
        "print('a:')\n",
        "visualize_array(a)\n",
        "print('b:')\n",
        "visualize_array(b)\n",
        "print('out:')\n",
        "visualize_array(out)"
      ],
      "execution_count": null,
      "outputs": [
        {
          "output_type": "stream",
          "text": [
            "a:\n"
          ],
          "name": "stdout"
        },
        {
          "output_type": "display_data",
          "data": {
            "text/html": [
              "\n",
              "<style>\n",
              "table {\n",
              "  border-collapse: collapse;\n",
              "}\n",
              "\n",
              "td {\n",
              "  border: 3px solid #666666;\n",
              "  min-width:30px;\n",
              "  height: 30px;\n",
              "  position: relative; \n",
              "  text-align:center; \n",
              "  color: #474747;\n",
              "  font-size:20px;\n",
              "  font-weight: bolder;\n",
              "  padding: 19px;\n",
              "}\n",
              "\n",
              ".up{\n",
              "  position: absolute; \n",
              "  right: 0;\n",
              "  top: 0;\n",
              "  background: white;\n",
              "  text-align: right;\n",
              "  font-size: 16px;\n",
              "  font-family: Courier;\n",
              "  font-weight: bolder;\n",
              "  color: blue;\n",
              "  opacity: 1.0;\n",
              "  background-color:rgba(0, 0, 0, 0.0);\n",
              "}\n",
              "\n",
              ".down{\n",
              "  position: absolute; \n",
              "  right: 0;\n",
              "  bottom: 0;\n",
              "  background: white;\n",
              "  text-align: right;\n",
              "  font-size: 16px;\n",
              "  font-family: Courier;\n",
              "  font-weight: bolder;\n",
              "  color: red;\n",
              "  opacity: 0.9;\n",
              "  background-color:rgba(0, 0, 0, 0.0);\n",
              "}\n",
              "</style>\n",
              "<table bgcolor=\"96c8ff\"><tr>\n",
              "\t<td>1<span class=\"up\">0</span><span class=\"down\">-10</span></td>\n",
              "\t<td>2<span class=\"up\">1</span><span class=\"down\">-9</span></td>\n",
              "\t<td>3<span class=\"up\">2</span><span class=\"down\">-8</span></td>\n",
              "\t<td>2<span class=\"up\">3</span><span class=\"down\">-7</span></td>\n",
              "\t<td>3<span class=\"up\">4</span><span class=\"down\">-6</span></td>\n",
              "\t<td>4<span class=\"up\">5</span><span class=\"down\">-5</span></td>\n",
              "\t<td>3<span class=\"up\">6</span><span class=\"down\">-4</span></td>\n",
              "\t<td>4<span class=\"up\">7</span><span class=\"down\">-3</span></td>\n",
              "\t<td>5<span class=\"up\">8</span><span class=\"down\">-2</span></td>\n",
              "\t<td>6<span class=\"up\">9</span><span class=\"down\">-1</span></td>\n",
              "</tr></table>\n"
            ],
            "text/plain": [
              "<IPython.core.display.HTML object>"
            ]
          },
          "metadata": {
            "tags": []
          }
        },
        {
          "output_type": "stream",
          "text": [
            "b:\n"
          ],
          "name": "stdout"
        },
        {
          "output_type": "display_data",
          "data": {
            "text/html": [
              "\n",
              "<style>\n",
              "table {\n",
              "  border-collapse: collapse;\n",
              "}\n",
              "\n",
              "td {\n",
              "  border: 3px solid #666666;\n",
              "  min-width:30px;\n",
              "  height: 30px;\n",
              "  position: relative; \n",
              "  text-align:center; \n",
              "  color: #474747;\n",
              "  font-size:20px;\n",
              "  font-weight: bolder;\n",
              "  padding: 19px;\n",
              "}\n",
              "\n",
              ".up{\n",
              "  position: absolute; \n",
              "  right: 0;\n",
              "  top: 0;\n",
              "  background: white;\n",
              "  text-align: right;\n",
              "  font-size: 16px;\n",
              "  font-family: Courier;\n",
              "  font-weight: bolder;\n",
              "  color: blue;\n",
              "  opacity: 1.0;\n",
              "  background-color:rgba(0, 0, 0, 0.0);\n",
              "}\n",
              "\n",
              ".down{\n",
              "  position: absolute; \n",
              "  right: 0;\n",
              "  bottom: 0;\n",
              "  background: white;\n",
              "  text-align: right;\n",
              "  font-size: 16px;\n",
              "  font-family: Courier;\n",
              "  font-weight: bolder;\n",
              "  color: red;\n",
              "  opacity: 0.9;\n",
              "  background-color:rgba(0, 0, 0, 0.0);\n",
              "}\n",
              "</style>\n",
              "<table bgcolor=\"96c8ff\"><tr>\n",
              "\t<td>7<span class=\"up\">0</span><span class=\"down\">-10</span></td>\n",
              "\t<td>2<span class=\"up\">1</span><span class=\"down\">-9</span></td>\n",
              "\t<td>10<span class=\"up\">2</span><span class=\"down\">-8</span></td>\n",
              "\t<td>2<span class=\"up\">3</span><span class=\"down\">-7</span></td>\n",
              "\t<td>7<span class=\"up\">4</span><span class=\"down\">-6</span></td>\n",
              "\t<td>4<span class=\"up\">5</span><span class=\"down\">-5</span></td>\n",
              "\t<td>9<span class=\"up\">6</span><span class=\"down\">-4</span></td>\n",
              "\t<td>4<span class=\"up\">7</span><span class=\"down\">-3</span></td>\n",
              "\t<td>9<span class=\"up\">8</span><span class=\"down\">-2</span></td>\n",
              "\t<td>8<span class=\"up\">9</span><span class=\"down\">-1</span></td>\n",
              "</tr></table>\n"
            ],
            "text/plain": [
              "<IPython.core.display.HTML object>"
            ]
          },
          "metadata": {
            "tags": []
          }
        },
        {
          "output_type": "stream",
          "text": [
            "out:\n"
          ],
          "name": "stdout"
        },
        {
          "output_type": "display_data",
          "data": {
            "text/html": [
              "\n",
              "<style>\n",
              "table {\n",
              "  border-collapse: collapse;\n",
              "}\n",
              "\n",
              "td {\n",
              "  border: 3px solid #666666;\n",
              "  min-width:30px;\n",
              "  height: 30px;\n",
              "  position: relative; \n",
              "  text-align:center; \n",
              "  color: #474747;\n",
              "  font-size:20px;\n",
              "  font-weight: bolder;\n",
              "  padding: 19px;\n",
              "}\n",
              "\n",
              ".up{\n",
              "  position: absolute; \n",
              "  right: 0;\n",
              "  top: 0;\n",
              "  background: white;\n",
              "  text-align: right;\n",
              "  font-size: 16px;\n",
              "  font-family: Courier;\n",
              "  font-weight: bolder;\n",
              "  color: blue;\n",
              "  opacity: 1.0;\n",
              "  background-color:rgba(0, 0, 0, 0.0);\n",
              "}\n",
              "\n",
              ".down{\n",
              "  position: absolute; \n",
              "  right: 0;\n",
              "  bottom: 0;\n",
              "  background: white;\n",
              "  text-align: right;\n",
              "  font-size: 16px;\n",
              "  font-family: Courier;\n",
              "  font-weight: bolder;\n",
              "  color: red;\n",
              "  opacity: 0.9;\n",
              "  background-color:rgba(0, 0, 0, 0.0);\n",
              "}\n",
              "</style>\n",
              "<table bgcolor=\"96c8ff\"><tr>\n",
              "\t<td>1<span class=\"up\">0</span><span class=\"down\">-4</span></td>\n",
              "\t<td>3<span class=\"up\">1</span><span class=\"down\">-3</span></td>\n",
              "\t<td>5<span class=\"up\">2</span><span class=\"down\">-2</span></td>\n",
              "\t<td>7<span class=\"up\">3</span><span class=\"down\">-1</span></td>\n",
              "</tr></table>\n"
            ],
            "text/plain": [
              "<IPython.core.display.HTML object>"
            ]
          },
          "metadata": {
            "tags": []
          }
        }
      ]
    },
    {
      "cell_type": "code",
      "metadata": {
        "id": "fBUbDYvdIhd8",
        "cellView": "form",
        "colab": {
          "base_uri": "https://localhost:8080/",
          "height": 286
        },
        "outputId": "0c40db0c-0b02-4618-ca9c-f6d9a2732c8a"
      },
      "source": [
        "#@title Solution B (double click to see the source code)\n",
        "\n",
        "import numpy as np\n",
        "\n",
        "# Input\n",
        "a = np.array([1,2,3,2,3,4,3,4,5,6]) #@param\n",
        "b = np.array([7,2,10,2,7,4,9,4,9,8]) #@param\n",
        "\n",
        "#Solution\n",
        "out = np.nonzero(a == b)[0]\n",
        "\n",
        "# Output\n",
        "print('a:')\n",
        "visualize_array(a)\n",
        "print('b:')\n",
        "visualize_array(b)\n",
        "print('out:')\n",
        "visualize_array(out)"
      ],
      "execution_count": null,
      "outputs": [
        {
          "output_type": "stream",
          "text": [
            "a:\n"
          ],
          "name": "stdout"
        },
        {
          "output_type": "display_data",
          "data": {
            "text/html": [
              "\n",
              "<style>\n",
              "table {\n",
              "  border-collapse: collapse;\n",
              "}\n",
              "\n",
              "td {\n",
              "  border: 3px solid #666666;\n",
              "  min-width:30px;\n",
              "  height: 30px;\n",
              "  position: relative; \n",
              "  text-align:center; \n",
              "  color: #474747;\n",
              "  font-size:20px;\n",
              "  font-weight: bolder;\n",
              "  padding: 19px;\n",
              "}\n",
              "\n",
              ".up{\n",
              "  position: absolute; \n",
              "  right: 0;\n",
              "  top: 0;\n",
              "  background: white;\n",
              "  text-align: right;\n",
              "  font-size: 16px;\n",
              "  font-family: Courier;\n",
              "  font-weight: bolder;\n",
              "  color: blue;\n",
              "  opacity: 1.0;\n",
              "  background-color:rgba(0, 0, 0, 0.0);\n",
              "}\n",
              "\n",
              ".down{\n",
              "  position: absolute; \n",
              "  right: 0;\n",
              "  bottom: 0;\n",
              "  background: white;\n",
              "  text-align: right;\n",
              "  font-size: 16px;\n",
              "  font-family: Courier;\n",
              "  font-weight: bolder;\n",
              "  color: red;\n",
              "  opacity: 0.9;\n",
              "  background-color:rgba(0, 0, 0, 0.0);\n",
              "}\n",
              "</style>\n",
              "<table bgcolor=\"96c8ff\"><tr>\n",
              "\t<td>1<span class=\"up\">0</span><span class=\"down\">-10</span></td>\n",
              "\t<td>2<span class=\"up\">1</span><span class=\"down\">-9</span></td>\n",
              "\t<td>3<span class=\"up\">2</span><span class=\"down\">-8</span></td>\n",
              "\t<td>2<span class=\"up\">3</span><span class=\"down\">-7</span></td>\n",
              "\t<td>3<span class=\"up\">4</span><span class=\"down\">-6</span></td>\n",
              "\t<td>4<span class=\"up\">5</span><span class=\"down\">-5</span></td>\n",
              "\t<td>3<span class=\"up\">6</span><span class=\"down\">-4</span></td>\n",
              "\t<td>4<span class=\"up\">7</span><span class=\"down\">-3</span></td>\n",
              "\t<td>5<span class=\"up\">8</span><span class=\"down\">-2</span></td>\n",
              "\t<td>6<span class=\"up\">9</span><span class=\"down\">-1</span></td>\n",
              "</tr></table>\n"
            ],
            "text/plain": [
              "<IPython.core.display.HTML object>"
            ]
          },
          "metadata": {
            "tags": []
          }
        },
        {
          "output_type": "stream",
          "text": [
            "b:\n"
          ],
          "name": "stdout"
        },
        {
          "output_type": "display_data",
          "data": {
            "text/html": [
              "\n",
              "<style>\n",
              "table {\n",
              "  border-collapse: collapse;\n",
              "}\n",
              "\n",
              "td {\n",
              "  border: 3px solid #666666;\n",
              "  min-width:30px;\n",
              "  height: 30px;\n",
              "  position: relative; \n",
              "  text-align:center; \n",
              "  color: #474747;\n",
              "  font-size:20px;\n",
              "  font-weight: bolder;\n",
              "  padding: 19px;\n",
              "}\n",
              "\n",
              ".up{\n",
              "  position: absolute; \n",
              "  right: 0;\n",
              "  top: 0;\n",
              "  background: white;\n",
              "  text-align: right;\n",
              "  font-size: 16px;\n",
              "  font-family: Courier;\n",
              "  font-weight: bolder;\n",
              "  color: blue;\n",
              "  opacity: 1.0;\n",
              "  background-color:rgba(0, 0, 0, 0.0);\n",
              "}\n",
              "\n",
              ".down{\n",
              "  position: absolute; \n",
              "  right: 0;\n",
              "  bottom: 0;\n",
              "  background: white;\n",
              "  text-align: right;\n",
              "  font-size: 16px;\n",
              "  font-family: Courier;\n",
              "  font-weight: bolder;\n",
              "  color: red;\n",
              "  opacity: 0.9;\n",
              "  background-color:rgba(0, 0, 0, 0.0);\n",
              "}\n",
              "</style>\n",
              "<table bgcolor=\"96c8ff\"><tr>\n",
              "\t<td>7<span class=\"up\">0</span><span class=\"down\">-10</span></td>\n",
              "\t<td>2<span class=\"up\">1</span><span class=\"down\">-9</span></td>\n",
              "\t<td>10<span class=\"up\">2</span><span class=\"down\">-8</span></td>\n",
              "\t<td>2<span class=\"up\">3</span><span class=\"down\">-7</span></td>\n",
              "\t<td>7<span class=\"up\">4</span><span class=\"down\">-6</span></td>\n",
              "\t<td>4<span class=\"up\">5</span><span class=\"down\">-5</span></td>\n",
              "\t<td>9<span class=\"up\">6</span><span class=\"down\">-4</span></td>\n",
              "\t<td>4<span class=\"up\">7</span><span class=\"down\">-3</span></td>\n",
              "\t<td>9<span class=\"up\">8</span><span class=\"down\">-2</span></td>\n",
              "\t<td>8<span class=\"up\">9</span><span class=\"down\">-1</span></td>\n",
              "</tr></table>\n"
            ],
            "text/plain": [
              "<IPython.core.display.HTML object>"
            ]
          },
          "metadata": {
            "tags": []
          }
        },
        {
          "output_type": "stream",
          "text": [
            "out:\n"
          ],
          "name": "stdout"
        },
        {
          "output_type": "display_data",
          "data": {
            "text/html": [
              "\n",
              "<style>\n",
              "table {\n",
              "  border-collapse: collapse;\n",
              "}\n",
              "\n",
              "td {\n",
              "  border: 3px solid #666666;\n",
              "  min-width:30px;\n",
              "  height: 30px;\n",
              "  position: relative; \n",
              "  text-align:center; \n",
              "  color: #474747;\n",
              "  font-size:20px;\n",
              "  font-weight: bolder;\n",
              "  padding: 19px;\n",
              "}\n",
              "\n",
              ".up{\n",
              "  position: absolute; \n",
              "  right: 0;\n",
              "  top: 0;\n",
              "  background: white;\n",
              "  text-align: right;\n",
              "  font-size: 16px;\n",
              "  font-family: Courier;\n",
              "  font-weight: bolder;\n",
              "  color: blue;\n",
              "  opacity: 1.0;\n",
              "  background-color:rgba(0, 0, 0, 0.0);\n",
              "}\n",
              "\n",
              ".down{\n",
              "  position: absolute; \n",
              "  right: 0;\n",
              "  bottom: 0;\n",
              "  background: white;\n",
              "  text-align: right;\n",
              "  font-size: 16px;\n",
              "  font-family: Courier;\n",
              "  font-weight: bolder;\n",
              "  color: red;\n",
              "  opacity: 0.9;\n",
              "  background-color:rgba(0, 0, 0, 0.0);\n",
              "}\n",
              "</style>\n",
              "<table bgcolor=\"96c8ff\"><tr>\n",
              "\t<td>1<span class=\"up\">0</span><span class=\"down\">-4</span></td>\n",
              "\t<td>3<span class=\"up\">1</span><span class=\"down\">-3</span></td>\n",
              "\t<td>5<span class=\"up\">2</span><span class=\"down\">-2</span></td>\n",
              "\t<td>7<span class=\"up\">3</span><span class=\"down\">-1</span></td>\n",
              "</tr></table>\n"
            ],
            "text/plain": [
              "<IPython.core.display.HTML object>"
            ]
          },
          "metadata": {
            "tags": []
          }
        }
      ]
    },
    {
      "cell_type": "markdown",
      "metadata": {
        "id": "pVUpBUeCGudv"
      },
      "source": [
        "##8. How to extract all numbers between a given range from a numpy array?"
      ]
    },
    {
      "cell_type": "markdown",
      "metadata": {
        "id": "ZjAI4JQaKhyQ"
      },
      "source": [
        "**Problem:**\n",
        "Get all items between 5 and 10 from `a`."
      ]
    },
    {
      "cell_type": "code",
      "metadata": {
        "id": "E-sZjxcmGudv",
        "colab": {
          "base_uri": "https://localhost:8080/",
          "height": 201
        },
        "outputId": "af8d18c8-30bd-40c6-9aa5-ee2b42cd723c"
      },
      "source": [
        "import numpy as np\n",
        "\n",
        "# Input\n",
        "a = np.array([2, 6, 1, 9, 10, 3, 27])\n",
        "\n",
        "# Enter your code here\n",
        "index = np.where((5 <= a) & (a <= 10))[0]\n",
        "out = a[index]\n",
        "\n",
        "# Output\n",
        "print('a:')\n",
        "visualize_array(a)\n",
        "print('out:')\n",
        "visualize_array(out)"
      ],
      "execution_count": null,
      "outputs": [
        {
          "output_type": "stream",
          "name": "stdout",
          "text": [
            "a:\n"
          ]
        },
        {
          "output_type": "display_data",
          "data": {
            "text/plain": [
              "<IPython.core.display.HTML object>"
            ],
            "text/html": [
              "\n",
              "<style>\n",
              "table {\n",
              "  border-collapse: collapse;\n",
              "}\n",
              "\n",
              "td {\n",
              "  border: 3px solid #666666;\n",
              "  min-width:30px;\n",
              "  height: 30px;\n",
              "  position: relative;\n",
              "  text-align:center;\n",
              "  color: #474747;\n",
              "  font-size:20px;\n",
              "  font-weight: bolder;\n",
              "  padding: 19px;\n",
              "}\n",
              "\n",
              ".up{\n",
              "  position: absolute;\n",
              "  right: 0;\n",
              "  top: 0;\n",
              "  background: white;\n",
              "  text-align: right;\n",
              "  font-size: 16px;\n",
              "  font-family: Courier;\n",
              "  font-weight: bolder;\n",
              "  color: blue;\n",
              "  opacity: 1.0;\n",
              "  background-color:rgba(0, 0, 0, 0.0);\n",
              "}\n",
              "\n",
              ".down{\n",
              "  position: absolute;\n",
              "  right: 0;\n",
              "  bottom: 0;\n",
              "  background: white;\n",
              "  text-align: right;\n",
              "  font-size: 16px;\n",
              "  font-family: Courier;\n",
              "  font-weight: bolder;\n",
              "  color: red;\n",
              "  opacity: 0.9;\n",
              "  background-color:rgba(0, 0, 0, 0.0);\n",
              "}\n",
              "</style>\n",
              "<table bgcolor=\"96c8ff\"><tr>\n",
              "\t<td>2<span class=\"up\">0</span><span class=\"down\">-7</span></td>\n",
              "\t<td>6<span class=\"up\">1</span><span class=\"down\">-6</span></td>\n",
              "\t<td>1<span class=\"up\">2</span><span class=\"down\">-5</span></td>\n",
              "\t<td>9<span class=\"up\">3</span><span class=\"down\">-4</span></td>\n",
              "\t<td>10<span class=\"up\">4</span><span class=\"down\">-3</span></td>\n",
              "\t<td>3<span class=\"up\">5</span><span class=\"down\">-2</span></td>\n",
              "\t<td>27<span class=\"up\">6</span><span class=\"down\">-1</span></td>\n",
              "</tr></table>\n"
            ]
          },
          "metadata": {}
        },
        {
          "output_type": "stream",
          "name": "stdout",
          "text": [
            "out:\n"
          ]
        },
        {
          "output_type": "display_data",
          "data": {
            "text/plain": [
              "<IPython.core.display.HTML object>"
            ],
            "text/html": [
              "\n",
              "<style>\n",
              "table {\n",
              "  border-collapse: collapse;\n",
              "}\n",
              "\n",
              "td {\n",
              "  border: 3px solid #666666;\n",
              "  min-width:30px;\n",
              "  height: 30px;\n",
              "  position: relative;\n",
              "  text-align:center;\n",
              "  color: #474747;\n",
              "  font-size:20px;\n",
              "  font-weight: bolder;\n",
              "  padding: 19px;\n",
              "}\n",
              "\n",
              ".up{\n",
              "  position: absolute;\n",
              "  right: 0;\n",
              "  top: 0;\n",
              "  background: white;\n",
              "  text-align: right;\n",
              "  font-size: 16px;\n",
              "  font-family: Courier;\n",
              "  font-weight: bolder;\n",
              "  color: blue;\n",
              "  opacity: 1.0;\n",
              "  background-color:rgba(0, 0, 0, 0.0);\n",
              "}\n",
              "\n",
              ".down{\n",
              "  position: absolute;\n",
              "  right: 0;\n",
              "  bottom: 0;\n",
              "  background: white;\n",
              "  text-align: right;\n",
              "  font-size: 16px;\n",
              "  font-family: Courier;\n",
              "  font-weight: bolder;\n",
              "  color: red;\n",
              "  opacity: 0.9;\n",
              "  background-color:rgba(0, 0, 0, 0.0);\n",
              "}\n",
              "</style>\n",
              "<table bgcolor=\"96c8ff\"><tr>\n",
              "\t<td>6<span class=\"up\">0</span><span class=\"down\">-3</span></td>\n",
              "\t<td>9<span class=\"up\">1</span><span class=\"down\">-2</span></td>\n",
              "\t<td>10<span class=\"up\">2</span><span class=\"down\">-1</span></td>\n",
              "</tr></table>\n"
            ]
          },
          "metadata": {}
        }
      ]
    },
    {
      "cell_type": "code",
      "source": [
        "index"
      ],
      "metadata": {
        "id": "BpvdbpfQP6U8",
        "outputId": "6ceb3d0d-56ab-41a2-e688-74fa8a2d27c5",
        "colab": {
          "base_uri": "https://localhost:8080/"
        }
      },
      "execution_count": null,
      "outputs": [
        {
          "output_type": "execute_result",
          "data": {
            "text/plain": [
              "(array([1, 3, 4]),)"
            ]
          },
          "metadata": {},
          "execution_count": 59
        }
      ]
    },
    {
      "cell_type": "code",
      "metadata": {
        "cellView": "form",
        "id": "iyQK8KLMIe0b",
        "colab": {
          "base_uri": "https://localhost:8080/",
          "height": 196
        },
        "outputId": "ae88b834-eef7-4332-bac2-fd44e462c542"
      },
      "source": [
        "#@title Solution A (double click to see the source code)\n",
        "\n",
        "import numpy as np\n",
        "\n",
        "# Input\n",
        "a = np.array([2, 6, 1, 9, 10, 3, 27]) #@param\n",
        "\n",
        "#Solution\n",
        "index = np.where((a >= 5) & (a <= 10))\n",
        "out = a[index]\n",
        "\n",
        "# Output\n",
        "print('a:')\n",
        "visualize_array(a)\n",
        "print('out:')\n",
        "visualize_array(out)"
      ],
      "execution_count": null,
      "outputs": [
        {
          "output_type": "stream",
          "text": [
            "a:\n"
          ],
          "name": "stdout"
        },
        {
          "output_type": "display_data",
          "data": {
            "text/html": [
              "\n",
              "<style>\n",
              "table {\n",
              "  border-collapse: collapse;\n",
              "}\n",
              "\n",
              "td {\n",
              "  border: 3px solid #666666;\n",
              "  min-width:30px;\n",
              "  height: 30px;\n",
              "  position: relative; \n",
              "  text-align:center; \n",
              "  color: #474747;\n",
              "  font-size:20px;\n",
              "  font-weight: bolder;\n",
              "  padding: 19px;\n",
              "}\n",
              "\n",
              ".up{\n",
              "  position: absolute; \n",
              "  right: 0;\n",
              "  top: 0;\n",
              "  background: white;\n",
              "  text-align: right;\n",
              "  font-size: 16px;\n",
              "  font-family: Courier;\n",
              "  font-weight: bolder;\n",
              "  color: blue;\n",
              "  opacity: 1.0;\n",
              "  background-color:rgba(0, 0, 0, 0.0);\n",
              "}\n",
              "\n",
              ".down{\n",
              "  position: absolute; \n",
              "  right: 0;\n",
              "  bottom: 0;\n",
              "  background: white;\n",
              "  text-align: right;\n",
              "  font-size: 16px;\n",
              "  font-family: Courier;\n",
              "  font-weight: bolder;\n",
              "  color: red;\n",
              "  opacity: 0.9;\n",
              "  background-color:rgba(0, 0, 0, 0.0);\n",
              "}\n",
              "</style>\n",
              "<table bgcolor=\"96c8ff\"><tr>\n",
              "\t<td>2<span class=\"up\">0</span><span class=\"down\">-7</span></td>\n",
              "\t<td>6<span class=\"up\">1</span><span class=\"down\">-6</span></td>\n",
              "\t<td>1<span class=\"up\">2</span><span class=\"down\">-5</span></td>\n",
              "\t<td>9<span class=\"up\">3</span><span class=\"down\">-4</span></td>\n",
              "\t<td>10<span class=\"up\">4</span><span class=\"down\">-3</span></td>\n",
              "\t<td>3<span class=\"up\">5</span><span class=\"down\">-2</span></td>\n",
              "\t<td>27<span class=\"up\">6</span><span class=\"down\">-1</span></td>\n",
              "</tr></table>\n"
            ],
            "text/plain": [
              "<IPython.core.display.HTML object>"
            ]
          },
          "metadata": {
            "tags": []
          }
        },
        {
          "output_type": "stream",
          "text": [
            "out:\n"
          ],
          "name": "stdout"
        },
        {
          "output_type": "display_data",
          "data": {
            "text/html": [
              "\n",
              "<style>\n",
              "table {\n",
              "  border-collapse: collapse;\n",
              "}\n",
              "\n",
              "td {\n",
              "  border: 3px solid #666666;\n",
              "  min-width:30px;\n",
              "  height: 30px;\n",
              "  position: relative; \n",
              "  text-align:center; \n",
              "  color: #474747;\n",
              "  font-size:20px;\n",
              "  font-weight: bolder;\n",
              "  padding: 19px;\n",
              "}\n",
              "\n",
              ".up{\n",
              "  position: absolute; \n",
              "  right: 0;\n",
              "  top: 0;\n",
              "  background: white;\n",
              "  text-align: right;\n",
              "  font-size: 16px;\n",
              "  font-family: Courier;\n",
              "  font-weight: bolder;\n",
              "  color: blue;\n",
              "  opacity: 1.0;\n",
              "  background-color:rgba(0, 0, 0, 0.0);\n",
              "}\n",
              "\n",
              ".down{\n",
              "  position: absolute; \n",
              "  right: 0;\n",
              "  bottom: 0;\n",
              "  background: white;\n",
              "  text-align: right;\n",
              "  font-size: 16px;\n",
              "  font-family: Courier;\n",
              "  font-weight: bolder;\n",
              "  color: red;\n",
              "  opacity: 0.9;\n",
              "  background-color:rgba(0, 0, 0, 0.0);\n",
              "}\n",
              "</style>\n",
              "<table bgcolor=\"96c8ff\"><tr>\n",
              "\t<td>6<span class=\"up\">0</span><span class=\"down\">-3</span></td>\n",
              "\t<td>9<span class=\"up\">1</span><span class=\"down\">-2</span></td>\n",
              "\t<td>10<span class=\"up\">2</span><span class=\"down\">-1</span></td>\n",
              "</tr></table>\n"
            ],
            "text/plain": [
              "<IPython.core.display.HTML object>"
            ]
          },
          "metadata": {
            "tags": []
          }
        }
      ]
    },
    {
      "cell_type": "code",
      "metadata": {
        "id": "SHJ95noXGudy",
        "cellView": "form",
        "colab": {
          "base_uri": "https://localhost:8080/",
          "height": 196
        },
        "outputId": "92906df3-9fec-4942-8fb9-0d1f6d6d5b72"
      },
      "source": [
        "#@title Solution B (double click to see the source code)\n",
        "\n",
        "import numpy as np\n",
        "\n",
        "# Input\n",
        "a = np.array([2, 6, 1, 9, 10, 3, 27]) #@param\n",
        "\n",
        "#Solution\n",
        "index = np.where(np.logical_and(a >= 5, a <= 10))\n",
        "out = a[index]\n",
        "\n",
        "# Output\n",
        "print('a:')\n",
        "visualize_array(a)\n",
        "print('out:')\n",
        "visualize_array(out)"
      ],
      "execution_count": null,
      "outputs": [
        {
          "output_type": "stream",
          "text": [
            "a:\n"
          ],
          "name": "stdout"
        },
        {
          "output_type": "display_data",
          "data": {
            "text/html": [
              "\n",
              "<style>\n",
              "table {\n",
              "  border-collapse: collapse;\n",
              "}\n",
              "\n",
              "td {\n",
              "  border: 3px solid #666666;\n",
              "  min-width:30px;\n",
              "  height: 30px;\n",
              "  position: relative; \n",
              "  text-align:center; \n",
              "  color: #474747;\n",
              "  font-size:20px;\n",
              "  font-weight: bolder;\n",
              "  padding: 19px;\n",
              "}\n",
              "\n",
              ".up{\n",
              "  position: absolute; \n",
              "  right: 0;\n",
              "  top: 0;\n",
              "  background: white;\n",
              "  text-align: right;\n",
              "  font-size: 16px;\n",
              "  font-family: Courier;\n",
              "  font-weight: bolder;\n",
              "  color: blue;\n",
              "  opacity: 1.0;\n",
              "  background-color:rgba(0, 0, 0, 0.0);\n",
              "}\n",
              "\n",
              ".down{\n",
              "  position: absolute; \n",
              "  right: 0;\n",
              "  bottom: 0;\n",
              "  background: white;\n",
              "  text-align: right;\n",
              "  font-size: 16px;\n",
              "  font-family: Courier;\n",
              "  font-weight: bolder;\n",
              "  color: red;\n",
              "  opacity: 0.9;\n",
              "  background-color:rgba(0, 0, 0, 0.0);\n",
              "}\n",
              "</style>\n",
              "<table bgcolor=\"96c8ff\"><tr>\n",
              "\t<td>2<span class=\"up\">0</span><span class=\"down\">-7</span></td>\n",
              "\t<td>6<span class=\"up\">1</span><span class=\"down\">-6</span></td>\n",
              "\t<td>1<span class=\"up\">2</span><span class=\"down\">-5</span></td>\n",
              "\t<td>9<span class=\"up\">3</span><span class=\"down\">-4</span></td>\n",
              "\t<td>10<span class=\"up\">4</span><span class=\"down\">-3</span></td>\n",
              "\t<td>3<span class=\"up\">5</span><span class=\"down\">-2</span></td>\n",
              "\t<td>27<span class=\"up\">6</span><span class=\"down\">-1</span></td>\n",
              "</tr></table>\n"
            ],
            "text/plain": [
              "<IPython.core.display.HTML object>"
            ]
          },
          "metadata": {
            "tags": []
          }
        },
        {
          "output_type": "stream",
          "text": [
            "out:\n"
          ],
          "name": "stdout"
        },
        {
          "output_type": "display_data",
          "data": {
            "text/html": [
              "\n",
              "<style>\n",
              "table {\n",
              "  border-collapse: collapse;\n",
              "}\n",
              "\n",
              "td {\n",
              "  border: 3px solid #666666;\n",
              "  min-width:30px;\n",
              "  height: 30px;\n",
              "  position: relative; \n",
              "  text-align:center; \n",
              "  color: #474747;\n",
              "  font-size:20px;\n",
              "  font-weight: bolder;\n",
              "  padding: 19px;\n",
              "}\n",
              "\n",
              ".up{\n",
              "  position: absolute; \n",
              "  right: 0;\n",
              "  top: 0;\n",
              "  background: white;\n",
              "  text-align: right;\n",
              "  font-size: 16px;\n",
              "  font-family: Courier;\n",
              "  font-weight: bolder;\n",
              "  color: blue;\n",
              "  opacity: 1.0;\n",
              "  background-color:rgba(0, 0, 0, 0.0);\n",
              "}\n",
              "\n",
              ".down{\n",
              "  position: absolute; \n",
              "  right: 0;\n",
              "  bottom: 0;\n",
              "  background: white;\n",
              "  text-align: right;\n",
              "  font-size: 16px;\n",
              "  font-family: Courier;\n",
              "  font-weight: bolder;\n",
              "  color: red;\n",
              "  opacity: 0.9;\n",
              "  background-color:rgba(0, 0, 0, 0.0);\n",
              "}\n",
              "</style>\n",
              "<table bgcolor=\"96c8ff\"><tr>\n",
              "\t<td>6<span class=\"up\">0</span><span class=\"down\">-3</span></td>\n",
              "\t<td>9<span class=\"up\">1</span><span class=\"down\">-2</span></td>\n",
              "\t<td>10<span class=\"up\">2</span><span class=\"down\">-1</span></td>\n",
              "</tr></table>\n"
            ],
            "text/plain": [
              "<IPython.core.display.HTML object>"
            ]
          },
          "metadata": {
            "tags": []
          }
        }
      ]
    },
    {
      "cell_type": "code",
      "metadata": {
        "cellView": "form",
        "id": "AIanOhEIJYIh",
        "colab": {
          "base_uri": "https://localhost:8080/",
          "height": 196
        },
        "outputId": "b9b90476-8a1a-4cff-b872-630cc752e888"
      },
      "source": [
        "#@title Solution C (double click to see the source code)\n",
        "\n",
        "import numpy as np\n",
        "\n",
        "# Input\n",
        "a = np.array([2, 6, 1, 9, 10, 3, 27]) #@param\n",
        "\n",
        "#Solution\n",
        "out = a[(a >= 5) & (a <= 10)]\n",
        "\n",
        "# Output\n",
        "print('a:')\n",
        "visualize_array(a)\n",
        "print('out:')\n",
        "visualize_array(out)"
      ],
      "execution_count": null,
      "outputs": [
        {
          "output_type": "stream",
          "text": [
            "a:\n"
          ],
          "name": "stdout"
        },
        {
          "output_type": "display_data",
          "data": {
            "text/html": [
              "\n",
              "<style>\n",
              "table {\n",
              "  border-collapse: collapse;\n",
              "}\n",
              "\n",
              "td {\n",
              "  border: 3px solid #666666;\n",
              "  min-width:30px;\n",
              "  height: 30px;\n",
              "  position: relative; \n",
              "  text-align:center; \n",
              "  color: #474747;\n",
              "  font-size:20px;\n",
              "  font-weight: bolder;\n",
              "  padding: 19px;\n",
              "}\n",
              "\n",
              ".up{\n",
              "  position: absolute; \n",
              "  right: 0;\n",
              "  top: 0;\n",
              "  background: white;\n",
              "  text-align: right;\n",
              "  font-size: 16px;\n",
              "  font-family: Courier;\n",
              "  font-weight: bolder;\n",
              "  color: blue;\n",
              "  opacity: 1.0;\n",
              "  background-color:rgba(0, 0, 0, 0.0);\n",
              "}\n",
              "\n",
              ".down{\n",
              "  position: absolute; \n",
              "  right: 0;\n",
              "  bottom: 0;\n",
              "  background: white;\n",
              "  text-align: right;\n",
              "  font-size: 16px;\n",
              "  font-family: Courier;\n",
              "  font-weight: bolder;\n",
              "  color: red;\n",
              "  opacity: 0.9;\n",
              "  background-color:rgba(0, 0, 0, 0.0);\n",
              "}\n",
              "</style>\n",
              "<table bgcolor=\"96c8ff\"><tr>\n",
              "\t<td>2<span class=\"up\">0</span><span class=\"down\">-7</span></td>\n",
              "\t<td>6<span class=\"up\">1</span><span class=\"down\">-6</span></td>\n",
              "\t<td>1<span class=\"up\">2</span><span class=\"down\">-5</span></td>\n",
              "\t<td>9<span class=\"up\">3</span><span class=\"down\">-4</span></td>\n",
              "\t<td>10<span class=\"up\">4</span><span class=\"down\">-3</span></td>\n",
              "\t<td>3<span class=\"up\">5</span><span class=\"down\">-2</span></td>\n",
              "\t<td>27<span class=\"up\">6</span><span class=\"down\">-1</span></td>\n",
              "</tr></table>\n"
            ],
            "text/plain": [
              "<IPython.core.display.HTML object>"
            ]
          },
          "metadata": {
            "tags": []
          }
        },
        {
          "output_type": "stream",
          "text": [
            "out:\n"
          ],
          "name": "stdout"
        },
        {
          "output_type": "display_data",
          "data": {
            "text/html": [
              "\n",
              "<style>\n",
              "table {\n",
              "  border-collapse: collapse;\n",
              "}\n",
              "\n",
              "td {\n",
              "  border: 3px solid #666666;\n",
              "  min-width:30px;\n",
              "  height: 30px;\n",
              "  position: relative; \n",
              "  text-align:center; \n",
              "  color: #474747;\n",
              "  font-size:20px;\n",
              "  font-weight: bolder;\n",
              "  padding: 19px;\n",
              "}\n",
              "\n",
              ".up{\n",
              "  position: absolute; \n",
              "  right: 0;\n",
              "  top: 0;\n",
              "  background: white;\n",
              "  text-align: right;\n",
              "  font-size: 16px;\n",
              "  font-family: Courier;\n",
              "  font-weight: bolder;\n",
              "  color: blue;\n",
              "  opacity: 1.0;\n",
              "  background-color:rgba(0, 0, 0, 0.0);\n",
              "}\n",
              "\n",
              ".down{\n",
              "  position: absolute; \n",
              "  right: 0;\n",
              "  bottom: 0;\n",
              "  background: white;\n",
              "  text-align: right;\n",
              "  font-size: 16px;\n",
              "  font-family: Courier;\n",
              "  font-weight: bolder;\n",
              "  color: red;\n",
              "  opacity: 0.9;\n",
              "  background-color:rgba(0, 0, 0, 0.0);\n",
              "}\n",
              "</style>\n",
              "<table bgcolor=\"96c8ff\"><tr>\n",
              "\t<td>6<span class=\"up\">0</span><span class=\"down\">-3</span></td>\n",
              "\t<td>9<span class=\"up\">1</span><span class=\"down\">-2</span></td>\n",
              "\t<td>10<span class=\"up\">2</span><span class=\"down\">-1</span></td>\n",
              "</tr></table>\n"
            ],
            "text/plain": [
              "<IPython.core.display.HTML object>"
            ]
          },
          "metadata": {
            "tags": []
          }
        }
      ]
    },
    {
      "cell_type": "markdown",
      "metadata": {
        "id": "Ep2gCQJuGud1"
      },
      "source": [
        "##9. How to make a python function that handles scalars to work on numpy arrays?"
      ]
    },
    {
      "cell_type": "markdown",
      "metadata": {
        "id": "oOBia_IOPP4a"
      },
      "source": [
        "**Problem:**\n",
        "Convert the function maxx that works on two scalars to work on two arrays."
      ]
    },
    {
      "cell_type": "code",
      "metadata": {
        "id": "KOWRdrvuGud2",
        "outputId": "9f3136e8-d4bd-4649-dc8a-2c10c755ab91",
        "colab": {
          "base_uri": "https://localhost:8080/",
          "height": 293
        }
      },
      "source": [
        "import numpy as np\n",
        "\n",
        "# Input\n",
        "def maxx(x, y):\n",
        "    \"\"\"Get the maximum of two items\"\"\"\n",
        "    return x if x >= y else y\n",
        "\n",
        "a = np.array([5, 7, 9, 8, 6, 4, 5])\n",
        "b = np.array([6, 3, 4, 8, 9, 7, 1])\n",
        "\n",
        "# Enter your code here\n",
        "vector_maxx = np.vectorize(maxx)\n",
        "out = vector_maxx(a, b)\n",
        "\n",
        "# Output\n",
        "print('a:')\n",
        "visualize_array(a)\n",
        "print('b:')\n",
        "visualize_array(b)\n",
        "print('out:')\n",
        "visualize_array(out)"
      ],
      "execution_count": 8,
      "outputs": [
        {
          "output_type": "stream",
          "name": "stdout",
          "text": [
            "a:\n"
          ]
        },
        {
          "output_type": "display_data",
          "data": {
            "text/plain": [
              "<IPython.core.display.HTML object>"
            ],
            "text/html": [
              "\n",
              "<style>\n",
              "table {\n",
              "  border-collapse: collapse;\n",
              "}\n",
              "\n",
              "td {\n",
              "  border: 3px solid #666666;\n",
              "  min-width:30px;\n",
              "  height: 30px;\n",
              "  position: relative;\n",
              "  text-align:center;\n",
              "  color: #474747;\n",
              "  font-size:20px;\n",
              "  font-weight: bolder;\n",
              "  padding: 19px;\n",
              "}\n",
              "\n",
              ".up{\n",
              "  position: absolute;\n",
              "  right: 0;\n",
              "  top: 0;\n",
              "  background: white;\n",
              "  text-align: right;\n",
              "  font-size: 16px;\n",
              "  font-family: Courier;\n",
              "  font-weight: bolder;\n",
              "  color: blue;\n",
              "  opacity: 1.0;\n",
              "  background-color:rgba(0, 0, 0, 0.0);\n",
              "}\n",
              "\n",
              ".down{\n",
              "  position: absolute;\n",
              "  right: 0;\n",
              "  bottom: 0;\n",
              "  background: white;\n",
              "  text-align: right;\n",
              "  font-size: 16px;\n",
              "  font-family: Courier;\n",
              "  font-weight: bolder;\n",
              "  color: red;\n",
              "  opacity: 0.9;\n",
              "  background-color:rgba(0, 0, 0, 0.0);\n",
              "}\n",
              "</style>\n",
              "<table bgcolor=\"96c8ff\"><tr>\n",
              "\t<td>5<span class=\"up\">0</span><span class=\"down\">-7</span></td>\n",
              "\t<td>7<span class=\"up\">1</span><span class=\"down\">-6</span></td>\n",
              "\t<td>9<span class=\"up\">2</span><span class=\"down\">-5</span></td>\n",
              "\t<td>8<span class=\"up\">3</span><span class=\"down\">-4</span></td>\n",
              "\t<td>6<span class=\"up\">4</span><span class=\"down\">-3</span></td>\n",
              "\t<td>4<span class=\"up\">5</span><span class=\"down\">-2</span></td>\n",
              "\t<td>5<span class=\"up\">6</span><span class=\"down\">-1</span></td>\n",
              "</tr></table>\n"
            ]
          },
          "metadata": {}
        },
        {
          "output_type": "stream",
          "name": "stdout",
          "text": [
            "b:\n"
          ]
        },
        {
          "output_type": "display_data",
          "data": {
            "text/plain": [
              "<IPython.core.display.HTML object>"
            ],
            "text/html": [
              "\n",
              "<style>\n",
              "table {\n",
              "  border-collapse: collapse;\n",
              "}\n",
              "\n",
              "td {\n",
              "  border: 3px solid #666666;\n",
              "  min-width:30px;\n",
              "  height: 30px;\n",
              "  position: relative;\n",
              "  text-align:center;\n",
              "  color: #474747;\n",
              "  font-size:20px;\n",
              "  font-weight: bolder;\n",
              "  padding: 19px;\n",
              "}\n",
              "\n",
              ".up{\n",
              "  position: absolute;\n",
              "  right: 0;\n",
              "  top: 0;\n",
              "  background: white;\n",
              "  text-align: right;\n",
              "  font-size: 16px;\n",
              "  font-family: Courier;\n",
              "  font-weight: bolder;\n",
              "  color: blue;\n",
              "  opacity: 1.0;\n",
              "  background-color:rgba(0, 0, 0, 0.0);\n",
              "}\n",
              "\n",
              ".down{\n",
              "  position: absolute;\n",
              "  right: 0;\n",
              "  bottom: 0;\n",
              "  background: white;\n",
              "  text-align: right;\n",
              "  font-size: 16px;\n",
              "  font-family: Courier;\n",
              "  font-weight: bolder;\n",
              "  color: red;\n",
              "  opacity: 0.9;\n",
              "  background-color:rgba(0, 0, 0, 0.0);\n",
              "}\n",
              "</style>\n",
              "<table bgcolor=\"96c8ff\"><tr>\n",
              "\t<td>6<span class=\"up\">0</span><span class=\"down\">-7</span></td>\n",
              "\t<td>3<span class=\"up\">1</span><span class=\"down\">-6</span></td>\n",
              "\t<td>4<span class=\"up\">2</span><span class=\"down\">-5</span></td>\n",
              "\t<td>8<span class=\"up\">3</span><span class=\"down\">-4</span></td>\n",
              "\t<td>9<span class=\"up\">4</span><span class=\"down\">-3</span></td>\n",
              "\t<td>7<span class=\"up\">5</span><span class=\"down\">-2</span></td>\n",
              "\t<td>1<span class=\"up\">6</span><span class=\"down\">-1</span></td>\n",
              "</tr></table>\n"
            ]
          },
          "metadata": {}
        },
        {
          "output_type": "stream",
          "name": "stdout",
          "text": [
            "out:\n"
          ]
        },
        {
          "output_type": "display_data",
          "data": {
            "text/plain": [
              "<IPython.core.display.HTML object>"
            ],
            "text/html": [
              "\n",
              "<style>\n",
              "table {\n",
              "  border-collapse: collapse;\n",
              "}\n",
              "\n",
              "td {\n",
              "  border: 3px solid #666666;\n",
              "  min-width:30px;\n",
              "  height: 30px;\n",
              "  position: relative;\n",
              "  text-align:center;\n",
              "  color: #474747;\n",
              "  font-size:20px;\n",
              "  font-weight: bolder;\n",
              "  padding: 19px;\n",
              "}\n",
              "\n",
              ".up{\n",
              "  position: absolute;\n",
              "  right: 0;\n",
              "  top: 0;\n",
              "  background: white;\n",
              "  text-align: right;\n",
              "  font-size: 16px;\n",
              "  font-family: Courier;\n",
              "  font-weight: bolder;\n",
              "  color: blue;\n",
              "  opacity: 1.0;\n",
              "  background-color:rgba(0, 0, 0, 0.0);\n",
              "}\n",
              "\n",
              ".down{\n",
              "  position: absolute;\n",
              "  right: 0;\n",
              "  bottom: 0;\n",
              "  background: white;\n",
              "  text-align: right;\n",
              "  font-size: 16px;\n",
              "  font-family: Courier;\n",
              "  font-weight: bolder;\n",
              "  color: red;\n",
              "  opacity: 0.9;\n",
              "  background-color:rgba(0, 0, 0, 0.0);\n",
              "}\n",
              "</style>\n",
              "<table bgcolor=\"96c8ff\"><tr>\n",
              "\t<td>6<span class=\"up\">0</span><span class=\"down\">-7</span></td>\n",
              "\t<td>7<span class=\"up\">1</span><span class=\"down\">-6</span></td>\n",
              "\t<td>9<span class=\"up\">2</span><span class=\"down\">-5</span></td>\n",
              "\t<td>8<span class=\"up\">3</span><span class=\"down\">-4</span></td>\n",
              "\t<td>9<span class=\"up\">4</span><span class=\"down\">-3</span></td>\n",
              "\t<td>7<span class=\"up\">5</span><span class=\"down\">-2</span></td>\n",
              "\t<td>5<span class=\"up\">6</span><span class=\"down\">-1</span></td>\n",
              "</tr></table>\n"
            ]
          },
          "metadata": {}
        }
      ]
    },
    {
      "cell_type": "code",
      "metadata": {
        "cellView": "form",
        "id": "Y9VRtiPTJ41q",
        "colab": {
          "base_uri": "https://localhost:8080/",
          "height": 286
        },
        "outputId": "b1a4ea4d-b5fb-4613-d635-3ce507772b00"
      },
      "source": [
        "#@title Solution (double click to see the source code)\n",
        "\n",
        "import numpy as np\n",
        "\n",
        "# Input\n",
        "def maxx(x, y):\n",
        "    \"\"\"Get the maximum of two items\"\"\"\n",
        "    return x if x >= y else y\n",
        "\n",
        "a = np.array([5, 7, 9, 8, 6, 4, 5]) #@param\n",
        "b = np.array([6, 3, 4, 8, 9, 7, 1]) #@param\n",
        "\n",
        "#Solution\n",
        "pair_max = np.vectorize(maxx, otypes=[float])\n",
        "out = pair_max(a, b)\n",
        "\n",
        "# Output\n",
        "print('a:')\n",
        "visualize_array(a)\n",
        "print('b:')\n",
        "visualize_array(b)\n",
        "print('out:')\n",
        "visualize_array(out)"
      ],
      "execution_count": null,
      "outputs": [
        {
          "output_type": "stream",
          "text": [
            "a:\n"
          ],
          "name": "stdout"
        },
        {
          "output_type": "display_data",
          "data": {
            "text/html": [
              "\n",
              "<style>\n",
              "table {\n",
              "  border-collapse: collapse;\n",
              "}\n",
              "\n",
              "td {\n",
              "  border: 3px solid #666666;\n",
              "  min-width:30px;\n",
              "  height: 30px;\n",
              "  position: relative; \n",
              "  text-align:center; \n",
              "  color: #474747;\n",
              "  font-size:20px;\n",
              "  font-weight: bolder;\n",
              "  padding: 19px;\n",
              "}\n",
              "\n",
              ".up{\n",
              "  position: absolute; \n",
              "  right: 0;\n",
              "  top: 0;\n",
              "  background: white;\n",
              "  text-align: right;\n",
              "  font-size: 16px;\n",
              "  font-family: Courier;\n",
              "  font-weight: bolder;\n",
              "  color: blue;\n",
              "  opacity: 1.0;\n",
              "  background-color:rgba(0, 0, 0, 0.0);\n",
              "}\n",
              "\n",
              ".down{\n",
              "  position: absolute; \n",
              "  right: 0;\n",
              "  bottom: 0;\n",
              "  background: white;\n",
              "  text-align: right;\n",
              "  font-size: 16px;\n",
              "  font-family: Courier;\n",
              "  font-weight: bolder;\n",
              "  color: red;\n",
              "  opacity: 0.9;\n",
              "  background-color:rgba(0, 0, 0, 0.0);\n",
              "}\n",
              "</style>\n",
              "<table bgcolor=\"96c8ff\"><tr>\n",
              "\t<td>5<span class=\"up\">0</span><span class=\"down\">-7</span></td>\n",
              "\t<td>7<span class=\"up\">1</span><span class=\"down\">-6</span></td>\n",
              "\t<td>9<span class=\"up\">2</span><span class=\"down\">-5</span></td>\n",
              "\t<td>8<span class=\"up\">3</span><span class=\"down\">-4</span></td>\n",
              "\t<td>6<span class=\"up\">4</span><span class=\"down\">-3</span></td>\n",
              "\t<td>4<span class=\"up\">5</span><span class=\"down\">-2</span></td>\n",
              "\t<td>5<span class=\"up\">6</span><span class=\"down\">-1</span></td>\n",
              "</tr></table>\n"
            ],
            "text/plain": [
              "<IPython.core.display.HTML object>"
            ]
          },
          "metadata": {
            "tags": []
          }
        },
        {
          "output_type": "stream",
          "text": [
            "b:\n"
          ],
          "name": "stdout"
        },
        {
          "output_type": "display_data",
          "data": {
            "text/html": [
              "\n",
              "<style>\n",
              "table {\n",
              "  border-collapse: collapse;\n",
              "}\n",
              "\n",
              "td {\n",
              "  border: 3px solid #666666;\n",
              "  min-width:30px;\n",
              "  height: 30px;\n",
              "  position: relative; \n",
              "  text-align:center; \n",
              "  color: #474747;\n",
              "  font-size:20px;\n",
              "  font-weight: bolder;\n",
              "  padding: 19px;\n",
              "}\n",
              "\n",
              ".up{\n",
              "  position: absolute; \n",
              "  right: 0;\n",
              "  top: 0;\n",
              "  background: white;\n",
              "  text-align: right;\n",
              "  font-size: 16px;\n",
              "  font-family: Courier;\n",
              "  font-weight: bolder;\n",
              "  color: blue;\n",
              "  opacity: 1.0;\n",
              "  background-color:rgba(0, 0, 0, 0.0);\n",
              "}\n",
              "\n",
              ".down{\n",
              "  position: absolute; \n",
              "  right: 0;\n",
              "  bottom: 0;\n",
              "  background: white;\n",
              "  text-align: right;\n",
              "  font-size: 16px;\n",
              "  font-family: Courier;\n",
              "  font-weight: bolder;\n",
              "  color: red;\n",
              "  opacity: 0.9;\n",
              "  background-color:rgba(0, 0, 0, 0.0);\n",
              "}\n",
              "</style>\n",
              "<table bgcolor=\"96c8ff\"><tr>\n",
              "\t<td>6<span class=\"up\">0</span><span class=\"down\">-7</span></td>\n",
              "\t<td>3<span class=\"up\">1</span><span class=\"down\">-6</span></td>\n",
              "\t<td>4<span class=\"up\">2</span><span class=\"down\">-5</span></td>\n",
              "\t<td>8<span class=\"up\">3</span><span class=\"down\">-4</span></td>\n",
              "\t<td>9<span class=\"up\">4</span><span class=\"down\">-3</span></td>\n",
              "\t<td>7<span class=\"up\">5</span><span class=\"down\">-2</span></td>\n",
              "\t<td>1<span class=\"up\">6</span><span class=\"down\">-1</span></td>\n",
              "</tr></table>\n"
            ],
            "text/plain": [
              "<IPython.core.display.HTML object>"
            ]
          },
          "metadata": {
            "tags": []
          }
        },
        {
          "output_type": "stream",
          "text": [
            "out:\n"
          ],
          "name": "stdout"
        },
        {
          "output_type": "display_data",
          "data": {
            "text/html": [
              "\n",
              "<style>\n",
              "table {\n",
              "  border-collapse: collapse;\n",
              "}\n",
              "\n",
              "td {\n",
              "  border: 3px solid #666666;\n",
              "  min-width:30px;\n",
              "  height: 30px;\n",
              "  position: relative; \n",
              "  text-align:center; \n",
              "  color: #474747;\n",
              "  font-size:20px;\n",
              "  font-weight: bolder;\n",
              "  padding: 19px;\n",
              "}\n",
              "\n",
              ".up{\n",
              "  position: absolute; \n",
              "  right: 0;\n",
              "  top: 0;\n",
              "  background: white;\n",
              "  text-align: right;\n",
              "  font-size: 16px;\n",
              "  font-family: Courier;\n",
              "  font-weight: bolder;\n",
              "  color: blue;\n",
              "  opacity: 1.0;\n",
              "  background-color:rgba(0, 0, 0, 0.0);\n",
              "}\n",
              "\n",
              ".down{\n",
              "  position: absolute; \n",
              "  right: 0;\n",
              "  bottom: 0;\n",
              "  background: white;\n",
              "  text-align: right;\n",
              "  font-size: 16px;\n",
              "  font-family: Courier;\n",
              "  font-weight: bolder;\n",
              "  color: red;\n",
              "  opacity: 0.9;\n",
              "  background-color:rgba(0, 0, 0, 0.0);\n",
              "}\n",
              "</style>\n",
              "<table bgcolor=\"96c8ff\"><tr>\n",
              "\t<td>6.0<span class=\"up\">0</span><span class=\"down\">-7</span></td>\n",
              "\t<td>7.0<span class=\"up\">1</span><span class=\"down\">-6</span></td>\n",
              "\t<td>9.0<span class=\"up\">2</span><span class=\"down\">-5</span></td>\n",
              "\t<td>8.0<span class=\"up\">3</span><span class=\"down\">-4</span></td>\n",
              "\t<td>9.0<span class=\"up\">4</span><span class=\"down\">-3</span></td>\n",
              "\t<td>7.0<span class=\"up\">5</span><span class=\"down\">-2</span></td>\n",
              "\t<td>5.0<span class=\"up\">6</span><span class=\"down\">-1</span></td>\n",
              "</tr></table>\n"
            ],
            "text/plain": [
              "<IPython.core.display.HTML object>"
            ]
          },
          "metadata": {
            "tags": []
          }
        }
      ]
    },
    {
      "cell_type": "markdown",
      "metadata": {
        "id": "0RYLRR33Gud7"
      },
      "source": [
        "##10. How to swap two columns in a 2d numpy array?"
      ]
    },
    {
      "cell_type": "markdown",
      "metadata": {
        "id": "OBtlQr5pRjdk"
      },
      "source": [
        "**Problem:**\n",
        "Swap columns 1 and 2 in the numpy.array."
      ]
    },
    {
      "cell_type": "code",
      "metadata": {
        "id": "y_kE68OyGud8",
        "outputId": "f674cf3b-993c-49d0-c3ff-5371e472681d",
        "colab": {
          "base_uri": "https://localhost:8080/",
          "height": 749
        }
      },
      "source": [
        "import numpy as np\n",
        "\n",
        "# Input\n",
        "arr = np.array([[0, 1, 2],\n",
        "                [3, 4, 5],\n",
        "                [6, 7, 8]])\n",
        "\n",
        "# Enter your code here\n",
        "out = arr[:, [1, 0, 2]]\n",
        "\n",
        "# Output\n",
        "print('arr:')\n",
        "visualize_array(arr)\n",
        "print('out:')\n",
        "visualize_array(out)"
      ],
      "execution_count": 10,
      "outputs": [
        {
          "output_type": "stream",
          "name": "stdout",
          "text": [
            "arr:\n"
          ]
        },
        {
          "output_type": "display_data",
          "data": {
            "text/plain": [
              "<IPython.core.display.HTML object>"
            ],
            "text/html": [
              "\n",
              "<style>\n",
              "table {\n",
              "  border-collapse: collapse;\n",
              "}\n",
              "\n",
              "td {\n",
              "  border: 3px solid #666666;\n",
              "  min-width:30px;\n",
              "  height: 30px;\n",
              "  position: relative;\n",
              "  text-align:center;\n",
              "  color: #474747;\n",
              "  font-size:20px;\n",
              "  font-weight: bolder;\n",
              "  padding: 19px;\n",
              "}\n",
              "\n",
              ".up{\n",
              "  position: absolute;\n",
              "  right: 0;\n",
              "  top: 0;\n",
              "  background: white;\n",
              "  text-align: right;\n",
              "  font-size: 16px;\n",
              "  font-family: Courier;\n",
              "  font-weight: bolder;\n",
              "  color: blue;\n",
              "  opacity: 1.0;\n",
              "  background-color:rgba(0, 0, 0, 0.0);\n",
              "}\n",
              "\n",
              ".down{\n",
              "  position: absolute;\n",
              "  right: 0;\n",
              "  bottom: 0;\n",
              "  background: white;\n",
              "  text-align: right;\n",
              "  font-size: 16px;\n",
              "  font-family: Courier;\n",
              "  font-weight: bolder;\n",
              "  color: red;\n",
              "  opacity: 0.9;\n",
              "  background-color:rgba(0, 0, 0, 0.0);\n",
              "}\n",
              "</style>\n",
              "<table bgcolor=\"4b64aa\">\n",
              "<tr>\t<td><table bgcolor=\"96c8ff\"><tr>\n",
              "\t<td>0<span class=\"up\">0</span><span class=\"down\">-3</span></td>\n",
              "\t<td>1<span class=\"up\">1</span><span class=\"down\">-2</span></td>\n",
              "\t<td>2<span class=\"up\">2</span><span class=\"down\">-1</span></td>\n",
              "</tr></table>\n",
              "<span class=\"up\">0</span><span class=\"down\">-3</span></td></tr>\n",
              "<tr>\t<td><table bgcolor=\"96c8ff\"><tr>\n",
              "\t<td>3<span class=\"up\">0</span><span class=\"down\">-3</span></td>\n",
              "\t<td>4<span class=\"up\">1</span><span class=\"down\">-2</span></td>\n",
              "\t<td>5<span class=\"up\">2</span><span class=\"down\">-1</span></td>\n",
              "</tr></table>\n",
              "<span class=\"up\">1</span><span class=\"down\">-2</span></td></tr>\n",
              "<tr>\t<td><table bgcolor=\"96c8ff\"><tr>\n",
              "\t<td>6<span class=\"up\">0</span><span class=\"down\">-3</span></td>\n",
              "\t<td>7<span class=\"up\">1</span><span class=\"down\">-2</span></td>\n",
              "\t<td>8<span class=\"up\">2</span><span class=\"down\">-1</span></td>\n",
              "</tr></table>\n",
              "<span class=\"up\">2</span><span class=\"down\">-1</span></td></tr>\n",
              "</table>\n"
            ]
          },
          "metadata": {}
        },
        {
          "output_type": "stream",
          "name": "stdout",
          "text": [
            "out:\n"
          ]
        },
        {
          "output_type": "display_data",
          "data": {
            "text/plain": [
              "<IPython.core.display.HTML object>"
            ],
            "text/html": [
              "\n",
              "<style>\n",
              "table {\n",
              "  border-collapse: collapse;\n",
              "}\n",
              "\n",
              "td {\n",
              "  border: 3px solid #666666;\n",
              "  min-width:30px;\n",
              "  height: 30px;\n",
              "  position: relative;\n",
              "  text-align:center;\n",
              "  color: #474747;\n",
              "  font-size:20px;\n",
              "  font-weight: bolder;\n",
              "  padding: 19px;\n",
              "}\n",
              "\n",
              ".up{\n",
              "  position: absolute;\n",
              "  right: 0;\n",
              "  top: 0;\n",
              "  background: white;\n",
              "  text-align: right;\n",
              "  font-size: 16px;\n",
              "  font-family: Courier;\n",
              "  font-weight: bolder;\n",
              "  color: blue;\n",
              "  opacity: 1.0;\n",
              "  background-color:rgba(0, 0, 0, 0.0);\n",
              "}\n",
              "\n",
              ".down{\n",
              "  position: absolute;\n",
              "  right: 0;\n",
              "  bottom: 0;\n",
              "  background: white;\n",
              "  text-align: right;\n",
              "  font-size: 16px;\n",
              "  font-family: Courier;\n",
              "  font-weight: bolder;\n",
              "  color: red;\n",
              "  opacity: 0.9;\n",
              "  background-color:rgba(0, 0, 0, 0.0);\n",
              "}\n",
              "</style>\n",
              "<table bgcolor=\"4b64aa\">\n",
              "<tr>\t<td><table bgcolor=\"96c8ff\"><tr>\n",
              "\t<td>1<span class=\"up\">0</span><span class=\"down\">-3</span></td>\n",
              "\t<td>0<span class=\"up\">1</span><span class=\"down\">-2</span></td>\n",
              "\t<td>2<span class=\"up\">2</span><span class=\"down\">-1</span></td>\n",
              "</tr></table>\n",
              "<span class=\"up\">0</span><span class=\"down\">-3</span></td></tr>\n",
              "<tr>\t<td><table bgcolor=\"96c8ff\"><tr>\n",
              "\t<td>4<span class=\"up\">0</span><span class=\"down\">-3</span></td>\n",
              "\t<td>3<span class=\"up\">1</span><span class=\"down\">-2</span></td>\n",
              "\t<td>5<span class=\"up\">2</span><span class=\"down\">-1</span></td>\n",
              "</tr></table>\n",
              "<span class=\"up\">1</span><span class=\"down\">-2</span></td></tr>\n",
              "<tr>\t<td><table bgcolor=\"96c8ff\"><tr>\n",
              "\t<td>7<span class=\"up\">0</span><span class=\"down\">-3</span></td>\n",
              "\t<td>6<span class=\"up\">1</span><span class=\"down\">-2</span></td>\n",
              "\t<td>8<span class=\"up\">2</span><span class=\"down\">-1</span></td>\n",
              "</tr></table>\n",
              "<span class=\"up\">2</span><span class=\"down\">-1</span></td></tr>\n",
              "</table>\n"
            ]
          },
          "metadata": {}
        }
      ]
    },
    {
      "cell_type": "code",
      "metadata": {
        "id": "AQoBFP5lGud-",
        "cellView": "form",
        "colab": {
          "base_uri": "https://localhost:8080/",
          "height": 730
        },
        "outputId": "67f512e4-b4ce-4081-de55-15b7e1625fc9"
      },
      "source": [
        "#@title Solution (double click to see the source code)\n",
        "\n",
        "import numpy as np\n",
        "\n",
        "# Input\n",
        "arr = np.array([[0, 1, 2], [3, 4, 5], [6, 7, 8]]) #@param\n",
        "\n",
        "#Solution\n",
        "out = arr[:, [1,0,2]]\n",
        "\n",
        "# Output\n",
        "print('arr:')\n",
        "visualize_array(arr)\n",
        "print('out:')\n",
        "visualize_array(out)"
      ],
      "execution_count": null,
      "outputs": [
        {
          "output_type": "stream",
          "text": [
            "arr:\n"
          ],
          "name": "stdout"
        },
        {
          "output_type": "display_data",
          "data": {
            "text/html": [
              "\n",
              "<style>\n",
              "table {\n",
              "  border-collapse: collapse;\n",
              "}\n",
              "\n",
              "td {\n",
              "  border: 3px solid #666666;\n",
              "  min-width:30px;\n",
              "  height: 30px;\n",
              "  position: relative; \n",
              "  text-align:center; \n",
              "  color: #474747;\n",
              "  font-size:20px;\n",
              "  font-weight: bolder;\n",
              "  padding: 19px;\n",
              "}\n",
              "\n",
              ".up{\n",
              "  position: absolute; \n",
              "  right: 0;\n",
              "  top: 0;\n",
              "  background: white;\n",
              "  text-align: right;\n",
              "  font-size: 16px;\n",
              "  font-family: Courier;\n",
              "  font-weight: bolder;\n",
              "  color: blue;\n",
              "  opacity: 1.0;\n",
              "  background-color:rgba(0, 0, 0, 0.0);\n",
              "}\n",
              "\n",
              ".down{\n",
              "  position: absolute; \n",
              "  right: 0;\n",
              "  bottom: 0;\n",
              "  background: white;\n",
              "  text-align: right;\n",
              "  font-size: 16px;\n",
              "  font-family: Courier;\n",
              "  font-weight: bolder;\n",
              "  color: red;\n",
              "  opacity: 0.9;\n",
              "  background-color:rgba(0, 0, 0, 0.0);\n",
              "}\n",
              "</style>\n",
              "<table bgcolor=\"4b64aa\">\n",
              "<tr>\t<td><table bgcolor=\"96c8ff\"><tr>\n",
              "\t<td>0<span class=\"up\">0</span><span class=\"down\">-3</span></td>\n",
              "\t<td>1<span class=\"up\">1</span><span class=\"down\">-2</span></td>\n",
              "\t<td>2<span class=\"up\">2</span><span class=\"down\">-1</span></td>\n",
              "</tr></table>\n",
              "<span class=\"up\">0</span><span class=\"down\">-3</span></td></tr>\n",
              "<tr>\t<td><table bgcolor=\"96c8ff\"><tr>\n",
              "\t<td>3<span class=\"up\">0</span><span class=\"down\">-3</span></td>\n",
              "\t<td>4<span class=\"up\">1</span><span class=\"down\">-2</span></td>\n",
              "\t<td>5<span class=\"up\">2</span><span class=\"down\">-1</span></td>\n",
              "</tr></table>\n",
              "<span class=\"up\">1</span><span class=\"down\">-2</span></td></tr>\n",
              "<tr>\t<td><table bgcolor=\"96c8ff\"><tr>\n",
              "\t<td>6<span class=\"up\">0</span><span class=\"down\">-3</span></td>\n",
              "\t<td>7<span class=\"up\">1</span><span class=\"down\">-2</span></td>\n",
              "\t<td>8<span class=\"up\">2</span><span class=\"down\">-1</span></td>\n",
              "</tr></table>\n",
              "<span class=\"up\">2</span><span class=\"down\">-1</span></td></tr>\n",
              "</table>\n"
            ],
            "text/plain": [
              "<IPython.core.display.HTML object>"
            ]
          },
          "metadata": {
            "tags": []
          }
        },
        {
          "output_type": "stream",
          "text": [
            "out:\n"
          ],
          "name": "stdout"
        },
        {
          "output_type": "display_data",
          "data": {
            "text/html": [
              "\n",
              "<style>\n",
              "table {\n",
              "  border-collapse: collapse;\n",
              "}\n",
              "\n",
              "td {\n",
              "  border: 3px solid #666666;\n",
              "  min-width:30px;\n",
              "  height: 30px;\n",
              "  position: relative; \n",
              "  text-align:center; \n",
              "  color: #474747;\n",
              "  font-size:20px;\n",
              "  font-weight: bolder;\n",
              "  padding: 19px;\n",
              "}\n",
              "\n",
              ".up{\n",
              "  position: absolute; \n",
              "  right: 0;\n",
              "  top: 0;\n",
              "  background: white;\n",
              "  text-align: right;\n",
              "  font-size: 16px;\n",
              "  font-family: Courier;\n",
              "  font-weight: bolder;\n",
              "  color: blue;\n",
              "  opacity: 1.0;\n",
              "  background-color:rgba(0, 0, 0, 0.0);\n",
              "}\n",
              "\n",
              ".down{\n",
              "  position: absolute; \n",
              "  right: 0;\n",
              "  bottom: 0;\n",
              "  background: white;\n",
              "  text-align: right;\n",
              "  font-size: 16px;\n",
              "  font-family: Courier;\n",
              "  font-weight: bolder;\n",
              "  color: red;\n",
              "  opacity: 0.9;\n",
              "  background-color:rgba(0, 0, 0, 0.0);\n",
              "}\n",
              "</style>\n",
              "<table bgcolor=\"4b64aa\">\n",
              "<tr>\t<td><table bgcolor=\"96c8ff\"><tr>\n",
              "\t<td>1<span class=\"up\">0</span><span class=\"down\">-3</span></td>\n",
              "\t<td>0<span class=\"up\">1</span><span class=\"down\">-2</span></td>\n",
              "\t<td>2<span class=\"up\">2</span><span class=\"down\">-1</span></td>\n",
              "</tr></table>\n",
              "<span class=\"up\">0</span><span class=\"down\">-3</span></td></tr>\n",
              "<tr>\t<td><table bgcolor=\"96c8ff\"><tr>\n",
              "\t<td>4<span class=\"up\">0</span><span class=\"down\">-3</span></td>\n",
              "\t<td>3<span class=\"up\">1</span><span class=\"down\">-2</span></td>\n",
              "\t<td>5<span class=\"up\">2</span><span class=\"down\">-1</span></td>\n",
              "</tr></table>\n",
              "<span class=\"up\">1</span><span class=\"down\">-2</span></td></tr>\n",
              "<tr>\t<td><table bgcolor=\"96c8ff\"><tr>\n",
              "\t<td>7<span class=\"up\">0</span><span class=\"down\">-3</span></td>\n",
              "\t<td>6<span class=\"up\">1</span><span class=\"down\">-2</span></td>\n",
              "\t<td>8<span class=\"up\">2</span><span class=\"down\">-1</span></td>\n",
              "</tr></table>\n",
              "<span class=\"up\">2</span><span class=\"down\">-1</span></td></tr>\n",
              "</table>\n"
            ],
            "text/plain": [
              "<IPython.core.display.HTML object>"
            ]
          },
          "metadata": {
            "tags": []
          }
        }
      ]
    },
    {
      "cell_type": "markdown",
      "metadata": {
        "id": "XJWnuTcoGueA"
      },
      "source": [
        "##11. How to swap two rows in a 2d numpy array?"
      ]
    },
    {
      "cell_type": "markdown",
      "metadata": {
        "id": "eTN9VSZCUDGz"
      },
      "source": [
        "**Problem:**\n",
        "Swap rows 1 and 2 in the numpy array."
      ]
    },
    {
      "cell_type": "code",
      "metadata": {
        "id": "NTxY3FOEGueA",
        "outputId": "9f2569e2-6921-4146-b4bb-352cf22e22b3",
        "colab": {
          "base_uri": "https://localhost:8080/",
          "height": 749
        }
      },
      "source": [
        "import numpy as np\n",
        "\n",
        "# Input\n",
        "arr = np.array([[3, 4, 5],\n",
        "                [0, 1, 2],\n",
        "                [6, 7, 8]])\n",
        "\n",
        "# Enter your code here\n",
        "out = arr[[1,0,2], :]\n",
        "\n",
        "# Output\n",
        "print('arr:')\n",
        "visualize_array(arr)\n",
        "print('out:')\n",
        "visualize_array(out)"
      ],
      "execution_count": 11,
      "outputs": [
        {
          "output_type": "stream",
          "name": "stdout",
          "text": [
            "arr:\n"
          ]
        },
        {
          "output_type": "display_data",
          "data": {
            "text/plain": [
              "<IPython.core.display.HTML object>"
            ],
            "text/html": [
              "\n",
              "<style>\n",
              "table {\n",
              "  border-collapse: collapse;\n",
              "}\n",
              "\n",
              "td {\n",
              "  border: 3px solid #666666;\n",
              "  min-width:30px;\n",
              "  height: 30px;\n",
              "  position: relative;\n",
              "  text-align:center;\n",
              "  color: #474747;\n",
              "  font-size:20px;\n",
              "  font-weight: bolder;\n",
              "  padding: 19px;\n",
              "}\n",
              "\n",
              ".up{\n",
              "  position: absolute;\n",
              "  right: 0;\n",
              "  top: 0;\n",
              "  background: white;\n",
              "  text-align: right;\n",
              "  font-size: 16px;\n",
              "  font-family: Courier;\n",
              "  font-weight: bolder;\n",
              "  color: blue;\n",
              "  opacity: 1.0;\n",
              "  background-color:rgba(0, 0, 0, 0.0);\n",
              "}\n",
              "\n",
              ".down{\n",
              "  position: absolute;\n",
              "  right: 0;\n",
              "  bottom: 0;\n",
              "  background: white;\n",
              "  text-align: right;\n",
              "  font-size: 16px;\n",
              "  font-family: Courier;\n",
              "  font-weight: bolder;\n",
              "  color: red;\n",
              "  opacity: 0.9;\n",
              "  background-color:rgba(0, 0, 0, 0.0);\n",
              "}\n",
              "</style>\n",
              "<table bgcolor=\"4b64aa\">\n",
              "<tr>\t<td><table bgcolor=\"96c8ff\"><tr>\n",
              "\t<td>3<span class=\"up\">0</span><span class=\"down\">-3</span></td>\n",
              "\t<td>4<span class=\"up\">1</span><span class=\"down\">-2</span></td>\n",
              "\t<td>5<span class=\"up\">2</span><span class=\"down\">-1</span></td>\n",
              "</tr></table>\n",
              "<span class=\"up\">0</span><span class=\"down\">-3</span></td></tr>\n",
              "<tr>\t<td><table bgcolor=\"96c8ff\"><tr>\n",
              "\t<td>0<span class=\"up\">0</span><span class=\"down\">-3</span></td>\n",
              "\t<td>1<span class=\"up\">1</span><span class=\"down\">-2</span></td>\n",
              "\t<td>2<span class=\"up\">2</span><span class=\"down\">-1</span></td>\n",
              "</tr></table>\n",
              "<span class=\"up\">1</span><span class=\"down\">-2</span></td></tr>\n",
              "<tr>\t<td><table bgcolor=\"96c8ff\"><tr>\n",
              "\t<td>6<span class=\"up\">0</span><span class=\"down\">-3</span></td>\n",
              "\t<td>7<span class=\"up\">1</span><span class=\"down\">-2</span></td>\n",
              "\t<td>8<span class=\"up\">2</span><span class=\"down\">-1</span></td>\n",
              "</tr></table>\n",
              "<span class=\"up\">2</span><span class=\"down\">-1</span></td></tr>\n",
              "</table>\n"
            ]
          },
          "metadata": {}
        },
        {
          "output_type": "stream",
          "name": "stdout",
          "text": [
            "out:\n"
          ]
        },
        {
          "output_type": "display_data",
          "data": {
            "text/plain": [
              "<IPython.core.display.HTML object>"
            ],
            "text/html": [
              "\n",
              "<style>\n",
              "table {\n",
              "  border-collapse: collapse;\n",
              "}\n",
              "\n",
              "td {\n",
              "  border: 3px solid #666666;\n",
              "  min-width:30px;\n",
              "  height: 30px;\n",
              "  position: relative;\n",
              "  text-align:center;\n",
              "  color: #474747;\n",
              "  font-size:20px;\n",
              "  font-weight: bolder;\n",
              "  padding: 19px;\n",
              "}\n",
              "\n",
              ".up{\n",
              "  position: absolute;\n",
              "  right: 0;\n",
              "  top: 0;\n",
              "  background: white;\n",
              "  text-align: right;\n",
              "  font-size: 16px;\n",
              "  font-family: Courier;\n",
              "  font-weight: bolder;\n",
              "  color: blue;\n",
              "  opacity: 1.0;\n",
              "  background-color:rgba(0, 0, 0, 0.0);\n",
              "}\n",
              "\n",
              ".down{\n",
              "  position: absolute;\n",
              "  right: 0;\n",
              "  bottom: 0;\n",
              "  background: white;\n",
              "  text-align: right;\n",
              "  font-size: 16px;\n",
              "  font-family: Courier;\n",
              "  font-weight: bolder;\n",
              "  color: red;\n",
              "  opacity: 0.9;\n",
              "  background-color:rgba(0, 0, 0, 0.0);\n",
              "}\n",
              "</style>\n",
              "<table bgcolor=\"4b64aa\">\n",
              "<tr>\t<td><table bgcolor=\"96c8ff\"><tr>\n",
              "\t<td>0<span class=\"up\">0</span><span class=\"down\">-3</span></td>\n",
              "\t<td>1<span class=\"up\">1</span><span class=\"down\">-2</span></td>\n",
              "\t<td>2<span class=\"up\">2</span><span class=\"down\">-1</span></td>\n",
              "</tr></table>\n",
              "<span class=\"up\">0</span><span class=\"down\">-3</span></td></tr>\n",
              "<tr>\t<td><table bgcolor=\"96c8ff\"><tr>\n",
              "\t<td>3<span class=\"up\">0</span><span class=\"down\">-3</span></td>\n",
              "\t<td>4<span class=\"up\">1</span><span class=\"down\">-2</span></td>\n",
              "\t<td>5<span class=\"up\">2</span><span class=\"down\">-1</span></td>\n",
              "</tr></table>\n",
              "<span class=\"up\">1</span><span class=\"down\">-2</span></td></tr>\n",
              "<tr>\t<td><table bgcolor=\"96c8ff\"><tr>\n",
              "\t<td>6<span class=\"up\">0</span><span class=\"down\">-3</span></td>\n",
              "\t<td>7<span class=\"up\">1</span><span class=\"down\">-2</span></td>\n",
              "\t<td>8<span class=\"up\">2</span><span class=\"down\">-1</span></td>\n",
              "</tr></table>\n",
              "<span class=\"up\">2</span><span class=\"down\">-1</span></td></tr>\n",
              "</table>\n"
            ]
          },
          "metadata": {}
        }
      ]
    },
    {
      "cell_type": "code",
      "metadata": {
        "id": "1Pqq3GX0GueC",
        "cellView": "form",
        "colab": {
          "base_uri": "https://localhost:8080/",
          "height": 730
        },
        "outputId": "5efb158c-111c-4540-9cf5-5a806ddcc537"
      },
      "source": [
        "#@title Solution (double click to see the source code)\n",
        "\n",
        "import numpy as np\n",
        "\n",
        "# Input\n",
        "arr = np.array([[3, 4, 5], [0, 1, 2], [6, 7, 8]]) #@param\n",
        "\n",
        "#Solution\n",
        "out = arr[[1,0,2], :]\n",
        "\n",
        "# Output\n",
        "print('arr:')\n",
        "visualize_array(arr)\n",
        "print('out:')\n",
        "visualize_array(out)"
      ],
      "execution_count": null,
      "outputs": [
        {
          "output_type": "stream",
          "text": [
            "arr:\n"
          ],
          "name": "stdout"
        },
        {
          "output_type": "display_data",
          "data": {
            "text/html": [
              "\n",
              "<style>\n",
              "table {\n",
              "  border-collapse: collapse;\n",
              "}\n",
              "\n",
              "td {\n",
              "  border: 3px solid #666666;\n",
              "  min-width:30px;\n",
              "  height: 30px;\n",
              "  position: relative; \n",
              "  text-align:center; \n",
              "  color: #474747;\n",
              "  font-size:20px;\n",
              "  font-weight: bolder;\n",
              "  padding: 19px;\n",
              "}\n",
              "\n",
              ".up{\n",
              "  position: absolute; \n",
              "  right: 0;\n",
              "  top: 0;\n",
              "  background: white;\n",
              "  text-align: right;\n",
              "  font-size: 16px;\n",
              "  font-family: Courier;\n",
              "  font-weight: bolder;\n",
              "  color: blue;\n",
              "  opacity: 1.0;\n",
              "  background-color:rgba(0, 0, 0, 0.0);\n",
              "}\n",
              "\n",
              ".down{\n",
              "  position: absolute; \n",
              "  right: 0;\n",
              "  bottom: 0;\n",
              "  background: white;\n",
              "  text-align: right;\n",
              "  font-size: 16px;\n",
              "  font-family: Courier;\n",
              "  font-weight: bolder;\n",
              "  color: red;\n",
              "  opacity: 0.9;\n",
              "  background-color:rgba(0, 0, 0, 0.0);\n",
              "}\n",
              "</style>\n",
              "<table bgcolor=\"4b64aa\">\n",
              "<tr>\t<td><table bgcolor=\"96c8ff\"><tr>\n",
              "\t<td>3<span class=\"up\">0</span><span class=\"down\">-3</span></td>\n",
              "\t<td>4<span class=\"up\">1</span><span class=\"down\">-2</span></td>\n",
              "\t<td>5<span class=\"up\">2</span><span class=\"down\">-1</span></td>\n",
              "</tr></table>\n",
              "<span class=\"up\">0</span><span class=\"down\">-3</span></td></tr>\n",
              "<tr>\t<td><table bgcolor=\"96c8ff\"><tr>\n",
              "\t<td>0<span class=\"up\">0</span><span class=\"down\">-3</span></td>\n",
              "\t<td>1<span class=\"up\">1</span><span class=\"down\">-2</span></td>\n",
              "\t<td>2<span class=\"up\">2</span><span class=\"down\">-1</span></td>\n",
              "</tr></table>\n",
              "<span class=\"up\">1</span><span class=\"down\">-2</span></td></tr>\n",
              "<tr>\t<td><table bgcolor=\"96c8ff\"><tr>\n",
              "\t<td>6<span class=\"up\">0</span><span class=\"down\">-3</span></td>\n",
              "\t<td>7<span class=\"up\">1</span><span class=\"down\">-2</span></td>\n",
              "\t<td>8<span class=\"up\">2</span><span class=\"down\">-1</span></td>\n",
              "</tr></table>\n",
              "<span class=\"up\">2</span><span class=\"down\">-1</span></td></tr>\n",
              "</table>\n"
            ],
            "text/plain": [
              "<IPython.core.display.HTML object>"
            ]
          },
          "metadata": {
            "tags": []
          }
        },
        {
          "output_type": "stream",
          "text": [
            "out:\n"
          ],
          "name": "stdout"
        },
        {
          "output_type": "display_data",
          "data": {
            "text/html": [
              "\n",
              "<style>\n",
              "table {\n",
              "  border-collapse: collapse;\n",
              "}\n",
              "\n",
              "td {\n",
              "  border: 3px solid #666666;\n",
              "  min-width:30px;\n",
              "  height: 30px;\n",
              "  position: relative; \n",
              "  text-align:center; \n",
              "  color: #474747;\n",
              "  font-size:20px;\n",
              "  font-weight: bolder;\n",
              "  padding: 19px;\n",
              "}\n",
              "\n",
              ".up{\n",
              "  position: absolute; \n",
              "  right: 0;\n",
              "  top: 0;\n",
              "  background: white;\n",
              "  text-align: right;\n",
              "  font-size: 16px;\n",
              "  font-family: Courier;\n",
              "  font-weight: bolder;\n",
              "  color: blue;\n",
              "  opacity: 1.0;\n",
              "  background-color:rgba(0, 0, 0, 0.0);\n",
              "}\n",
              "\n",
              ".down{\n",
              "  position: absolute; \n",
              "  right: 0;\n",
              "  bottom: 0;\n",
              "  background: white;\n",
              "  text-align: right;\n",
              "  font-size: 16px;\n",
              "  font-family: Courier;\n",
              "  font-weight: bolder;\n",
              "  color: red;\n",
              "  opacity: 0.9;\n",
              "  background-color:rgba(0, 0, 0, 0.0);\n",
              "}\n",
              "</style>\n",
              "<table bgcolor=\"4b64aa\">\n",
              "<tr>\t<td><table bgcolor=\"96c8ff\"><tr>\n",
              "\t<td>0<span class=\"up\">0</span><span class=\"down\">-3</span></td>\n",
              "\t<td>1<span class=\"up\">1</span><span class=\"down\">-2</span></td>\n",
              "\t<td>2<span class=\"up\">2</span><span class=\"down\">-1</span></td>\n",
              "</tr></table>\n",
              "<span class=\"up\">0</span><span class=\"down\">-3</span></td></tr>\n",
              "<tr>\t<td><table bgcolor=\"96c8ff\"><tr>\n",
              "\t<td>3<span class=\"up\">0</span><span class=\"down\">-3</span></td>\n",
              "\t<td>4<span class=\"up\">1</span><span class=\"down\">-2</span></td>\n",
              "\t<td>5<span class=\"up\">2</span><span class=\"down\">-1</span></td>\n",
              "</tr></table>\n",
              "<span class=\"up\">1</span><span class=\"down\">-2</span></td></tr>\n",
              "<tr>\t<td><table bgcolor=\"96c8ff\"><tr>\n",
              "\t<td>6<span class=\"up\">0</span><span class=\"down\">-3</span></td>\n",
              "\t<td>7<span class=\"up\">1</span><span class=\"down\">-2</span></td>\n",
              "\t<td>8<span class=\"up\">2</span><span class=\"down\">-1</span></td>\n",
              "</tr></table>\n",
              "<span class=\"up\">2</span><span class=\"down\">-1</span></td></tr>\n",
              "</table>\n"
            ],
            "text/plain": [
              "<IPython.core.display.HTML object>"
            ]
          },
          "metadata": {
            "tags": []
          }
        }
      ]
    },
    {
      "cell_type": "markdown",
      "metadata": {
        "id": "_xkBpGZAGueE"
      },
      "source": [
        "##12. How to reverse the rows of a 2D array?"
      ]
    },
    {
      "cell_type": "markdown",
      "metadata": {
        "id": "rwpiXk04UMmL"
      },
      "source": [
        "**Problem:**\n",
        "Reverse the rows of a 2D array."
      ]
    },
    {
      "cell_type": "code",
      "metadata": {
        "id": "oyN_X9PiGueF",
        "outputId": "1846dead-dad2-45ac-a683-11242c1628e7",
        "colab": {
          "base_uri": "https://localhost:8080/",
          "height": 749
        }
      },
      "source": [
        "import numpy as np\n",
        "\n",
        "# Input\n",
        "arr = np.array([[3, 4, 5],\n",
        "                [0, 1, 2],\n",
        "                [6, 7, 8]])\n",
        "\n",
        "# Enter your code here\n",
        "out = arr[-1::-1]\n",
        "\n",
        "# Output\n",
        "print('arr:')\n",
        "visualize_array(arr)\n",
        "print('out:')\n",
        "visualize_array(out)"
      ],
      "execution_count": 12,
      "outputs": [
        {
          "output_type": "stream",
          "name": "stdout",
          "text": [
            "arr:\n"
          ]
        },
        {
          "output_type": "display_data",
          "data": {
            "text/plain": [
              "<IPython.core.display.HTML object>"
            ],
            "text/html": [
              "\n",
              "<style>\n",
              "table {\n",
              "  border-collapse: collapse;\n",
              "}\n",
              "\n",
              "td {\n",
              "  border: 3px solid #666666;\n",
              "  min-width:30px;\n",
              "  height: 30px;\n",
              "  position: relative;\n",
              "  text-align:center;\n",
              "  color: #474747;\n",
              "  font-size:20px;\n",
              "  font-weight: bolder;\n",
              "  padding: 19px;\n",
              "}\n",
              "\n",
              ".up{\n",
              "  position: absolute;\n",
              "  right: 0;\n",
              "  top: 0;\n",
              "  background: white;\n",
              "  text-align: right;\n",
              "  font-size: 16px;\n",
              "  font-family: Courier;\n",
              "  font-weight: bolder;\n",
              "  color: blue;\n",
              "  opacity: 1.0;\n",
              "  background-color:rgba(0, 0, 0, 0.0);\n",
              "}\n",
              "\n",
              ".down{\n",
              "  position: absolute;\n",
              "  right: 0;\n",
              "  bottom: 0;\n",
              "  background: white;\n",
              "  text-align: right;\n",
              "  font-size: 16px;\n",
              "  font-family: Courier;\n",
              "  font-weight: bolder;\n",
              "  color: red;\n",
              "  opacity: 0.9;\n",
              "  background-color:rgba(0, 0, 0, 0.0);\n",
              "}\n",
              "</style>\n",
              "<table bgcolor=\"4b64aa\">\n",
              "<tr>\t<td><table bgcolor=\"96c8ff\"><tr>\n",
              "\t<td>3<span class=\"up\">0</span><span class=\"down\">-3</span></td>\n",
              "\t<td>4<span class=\"up\">1</span><span class=\"down\">-2</span></td>\n",
              "\t<td>5<span class=\"up\">2</span><span class=\"down\">-1</span></td>\n",
              "</tr></table>\n",
              "<span class=\"up\">0</span><span class=\"down\">-3</span></td></tr>\n",
              "<tr>\t<td><table bgcolor=\"96c8ff\"><tr>\n",
              "\t<td>0<span class=\"up\">0</span><span class=\"down\">-3</span></td>\n",
              "\t<td>1<span class=\"up\">1</span><span class=\"down\">-2</span></td>\n",
              "\t<td>2<span class=\"up\">2</span><span class=\"down\">-1</span></td>\n",
              "</tr></table>\n",
              "<span class=\"up\">1</span><span class=\"down\">-2</span></td></tr>\n",
              "<tr>\t<td><table bgcolor=\"96c8ff\"><tr>\n",
              "\t<td>6<span class=\"up\">0</span><span class=\"down\">-3</span></td>\n",
              "\t<td>7<span class=\"up\">1</span><span class=\"down\">-2</span></td>\n",
              "\t<td>8<span class=\"up\">2</span><span class=\"down\">-1</span></td>\n",
              "</tr></table>\n",
              "<span class=\"up\">2</span><span class=\"down\">-1</span></td></tr>\n",
              "</table>\n"
            ]
          },
          "metadata": {}
        },
        {
          "output_type": "stream",
          "name": "stdout",
          "text": [
            "out:\n"
          ]
        },
        {
          "output_type": "display_data",
          "data": {
            "text/plain": [
              "<IPython.core.display.HTML object>"
            ],
            "text/html": [
              "\n",
              "<style>\n",
              "table {\n",
              "  border-collapse: collapse;\n",
              "}\n",
              "\n",
              "td {\n",
              "  border: 3px solid #666666;\n",
              "  min-width:30px;\n",
              "  height: 30px;\n",
              "  position: relative;\n",
              "  text-align:center;\n",
              "  color: #474747;\n",
              "  font-size:20px;\n",
              "  font-weight: bolder;\n",
              "  padding: 19px;\n",
              "}\n",
              "\n",
              ".up{\n",
              "  position: absolute;\n",
              "  right: 0;\n",
              "  top: 0;\n",
              "  background: white;\n",
              "  text-align: right;\n",
              "  font-size: 16px;\n",
              "  font-family: Courier;\n",
              "  font-weight: bolder;\n",
              "  color: blue;\n",
              "  opacity: 1.0;\n",
              "  background-color:rgba(0, 0, 0, 0.0);\n",
              "}\n",
              "\n",
              ".down{\n",
              "  position: absolute;\n",
              "  right: 0;\n",
              "  bottom: 0;\n",
              "  background: white;\n",
              "  text-align: right;\n",
              "  font-size: 16px;\n",
              "  font-family: Courier;\n",
              "  font-weight: bolder;\n",
              "  color: red;\n",
              "  opacity: 0.9;\n",
              "  background-color:rgba(0, 0, 0, 0.0);\n",
              "}\n",
              "</style>\n",
              "<table bgcolor=\"4b64aa\">\n",
              "<tr>\t<td><table bgcolor=\"96c8ff\"><tr>\n",
              "\t<td>6<span class=\"up\">0</span><span class=\"down\">-3</span></td>\n",
              "\t<td>7<span class=\"up\">1</span><span class=\"down\">-2</span></td>\n",
              "\t<td>8<span class=\"up\">2</span><span class=\"down\">-1</span></td>\n",
              "</tr></table>\n",
              "<span class=\"up\">0</span><span class=\"down\">-3</span></td></tr>\n",
              "<tr>\t<td><table bgcolor=\"96c8ff\"><tr>\n",
              "\t<td>0<span class=\"up\">0</span><span class=\"down\">-3</span></td>\n",
              "\t<td>1<span class=\"up\">1</span><span class=\"down\">-2</span></td>\n",
              "\t<td>2<span class=\"up\">2</span><span class=\"down\">-1</span></td>\n",
              "</tr></table>\n",
              "<span class=\"up\">1</span><span class=\"down\">-2</span></td></tr>\n",
              "<tr>\t<td><table bgcolor=\"96c8ff\"><tr>\n",
              "\t<td>3<span class=\"up\">0</span><span class=\"down\">-3</span></td>\n",
              "\t<td>4<span class=\"up\">1</span><span class=\"down\">-2</span></td>\n",
              "\t<td>5<span class=\"up\">2</span><span class=\"down\">-1</span></td>\n",
              "</tr></table>\n",
              "<span class=\"up\">2</span><span class=\"down\">-1</span></td></tr>\n",
              "</table>\n"
            ]
          },
          "metadata": {}
        }
      ]
    },
    {
      "cell_type": "code",
      "metadata": {
        "cellView": "form",
        "id": "m7SfO-h-Walg",
        "colab": {
          "base_uri": "https://localhost:8080/",
          "height": 730
        },
        "outputId": "3ca919f3-2cea-4857-dc9c-7c1c6ac7a234"
      },
      "source": [
        "#@title Solution (double click to see the source code)\n",
        "\n",
        "import numpy as np\n",
        "\n",
        "# Input\n",
        "arr = np.array([[3, 4, 5], [0, 1, 2], [6, 7, 8]]) #@param\n",
        "\n",
        "#Solution\n",
        "out = arr[::-1]\n",
        "\n",
        "# Output\n",
        "print('arr:')\n",
        "visualize_array(arr)\n",
        "print('out:')\n",
        "visualize_array(out)"
      ],
      "execution_count": null,
      "outputs": [
        {
          "output_type": "stream",
          "text": [
            "arr:\n"
          ],
          "name": "stdout"
        },
        {
          "output_type": "display_data",
          "data": {
            "text/html": [
              "\n",
              "<style>\n",
              "table {\n",
              "  border-collapse: collapse;\n",
              "}\n",
              "\n",
              "td {\n",
              "  border: 3px solid #666666;\n",
              "  min-width:30px;\n",
              "  height: 30px;\n",
              "  position: relative; \n",
              "  text-align:center; \n",
              "  color: #474747;\n",
              "  font-size:20px;\n",
              "  font-weight: bolder;\n",
              "  padding: 19px;\n",
              "}\n",
              "\n",
              ".up{\n",
              "  position: absolute; \n",
              "  right: 0;\n",
              "  top: 0;\n",
              "  background: white;\n",
              "  text-align: right;\n",
              "  font-size: 16px;\n",
              "  font-family: Courier;\n",
              "  font-weight: bolder;\n",
              "  color: blue;\n",
              "  opacity: 1.0;\n",
              "  background-color:rgba(0, 0, 0, 0.0);\n",
              "}\n",
              "\n",
              ".down{\n",
              "  position: absolute; \n",
              "  right: 0;\n",
              "  bottom: 0;\n",
              "  background: white;\n",
              "  text-align: right;\n",
              "  font-size: 16px;\n",
              "  font-family: Courier;\n",
              "  font-weight: bolder;\n",
              "  color: red;\n",
              "  opacity: 0.9;\n",
              "  background-color:rgba(0, 0, 0, 0.0);\n",
              "}\n",
              "</style>\n",
              "<table bgcolor=\"4b64aa\">\n",
              "<tr>\t<td><table bgcolor=\"96c8ff\"><tr>\n",
              "\t<td>3<span class=\"up\">0</span><span class=\"down\">-3</span></td>\n",
              "\t<td>4<span class=\"up\">1</span><span class=\"down\">-2</span></td>\n",
              "\t<td>5<span class=\"up\">2</span><span class=\"down\">-1</span></td>\n",
              "</tr></table>\n",
              "<span class=\"up\">0</span><span class=\"down\">-3</span></td></tr>\n",
              "<tr>\t<td><table bgcolor=\"96c8ff\"><tr>\n",
              "\t<td>0<span class=\"up\">0</span><span class=\"down\">-3</span></td>\n",
              "\t<td>1<span class=\"up\">1</span><span class=\"down\">-2</span></td>\n",
              "\t<td>2<span class=\"up\">2</span><span class=\"down\">-1</span></td>\n",
              "</tr></table>\n",
              "<span class=\"up\">1</span><span class=\"down\">-2</span></td></tr>\n",
              "<tr>\t<td><table bgcolor=\"96c8ff\"><tr>\n",
              "\t<td>6<span class=\"up\">0</span><span class=\"down\">-3</span></td>\n",
              "\t<td>7<span class=\"up\">1</span><span class=\"down\">-2</span></td>\n",
              "\t<td>8<span class=\"up\">2</span><span class=\"down\">-1</span></td>\n",
              "</tr></table>\n",
              "<span class=\"up\">2</span><span class=\"down\">-1</span></td></tr>\n",
              "</table>\n"
            ],
            "text/plain": [
              "<IPython.core.display.HTML object>"
            ]
          },
          "metadata": {
            "tags": []
          }
        },
        {
          "output_type": "stream",
          "text": [
            "out:\n"
          ],
          "name": "stdout"
        },
        {
          "output_type": "display_data",
          "data": {
            "text/html": [
              "\n",
              "<style>\n",
              "table {\n",
              "  border-collapse: collapse;\n",
              "}\n",
              "\n",
              "td {\n",
              "  border: 3px solid #666666;\n",
              "  min-width:30px;\n",
              "  height: 30px;\n",
              "  position: relative; \n",
              "  text-align:center; \n",
              "  color: #474747;\n",
              "  font-size:20px;\n",
              "  font-weight: bolder;\n",
              "  padding: 19px;\n",
              "}\n",
              "\n",
              ".up{\n",
              "  position: absolute; \n",
              "  right: 0;\n",
              "  top: 0;\n",
              "  background: white;\n",
              "  text-align: right;\n",
              "  font-size: 16px;\n",
              "  font-family: Courier;\n",
              "  font-weight: bolder;\n",
              "  color: blue;\n",
              "  opacity: 1.0;\n",
              "  background-color:rgba(0, 0, 0, 0.0);\n",
              "}\n",
              "\n",
              ".down{\n",
              "  position: absolute; \n",
              "  right: 0;\n",
              "  bottom: 0;\n",
              "  background: white;\n",
              "  text-align: right;\n",
              "  font-size: 16px;\n",
              "  font-family: Courier;\n",
              "  font-weight: bolder;\n",
              "  color: red;\n",
              "  opacity: 0.9;\n",
              "  background-color:rgba(0, 0, 0, 0.0);\n",
              "}\n",
              "</style>\n",
              "<table bgcolor=\"4b64aa\">\n",
              "<tr>\t<td><table bgcolor=\"96c8ff\"><tr>\n",
              "\t<td>6<span class=\"up\">0</span><span class=\"down\">-3</span></td>\n",
              "\t<td>7<span class=\"up\">1</span><span class=\"down\">-2</span></td>\n",
              "\t<td>8<span class=\"up\">2</span><span class=\"down\">-1</span></td>\n",
              "</tr></table>\n",
              "<span class=\"up\">0</span><span class=\"down\">-3</span></td></tr>\n",
              "<tr>\t<td><table bgcolor=\"96c8ff\"><tr>\n",
              "\t<td>0<span class=\"up\">0</span><span class=\"down\">-3</span></td>\n",
              "\t<td>1<span class=\"up\">1</span><span class=\"down\">-2</span></td>\n",
              "\t<td>2<span class=\"up\">2</span><span class=\"down\">-1</span></td>\n",
              "</tr></table>\n",
              "<span class=\"up\">1</span><span class=\"down\">-2</span></td></tr>\n",
              "<tr>\t<td><table bgcolor=\"96c8ff\"><tr>\n",
              "\t<td>3<span class=\"up\">0</span><span class=\"down\">-3</span></td>\n",
              "\t<td>4<span class=\"up\">1</span><span class=\"down\">-2</span></td>\n",
              "\t<td>5<span class=\"up\">2</span><span class=\"down\">-1</span></td>\n",
              "</tr></table>\n",
              "<span class=\"up\">2</span><span class=\"down\">-1</span></td></tr>\n",
              "</table>\n"
            ],
            "text/plain": [
              "<IPython.core.display.HTML object>"
            ]
          },
          "metadata": {
            "tags": []
          }
        }
      ]
    },
    {
      "cell_type": "markdown",
      "metadata": {
        "id": "VlYEyNtLGueI"
      },
      "source": [
        "##13. How to reverse the columns of a 2D array?"
      ]
    },
    {
      "cell_type": "markdown",
      "metadata": {
        "id": "Zo4W3niTU5Ac"
      },
      "source": [
        "**Problem:**\n",
        "Reverse the columns of a 2D array arr."
      ]
    },
    {
      "cell_type": "code",
      "metadata": {
        "id": "tZTCf0UVGueI",
        "outputId": "2d819055-5af7-4ca5-fcc3-9049f8b4f55b",
        "colab": {
          "base_uri": "https://localhost:8080/",
          "height": 749
        }
      },
      "source": [
        "import numpy as np\n",
        "\n",
        "# Input\n",
        "arr = np.array([[3, 4, 5],\n",
        "                [0, 1, 2],\n",
        "                [6, 7, 8]])\n",
        "\n",
        "# Enter your code here\n",
        "out = arr[:, ::-1]\n",
        "\n",
        "# Output\n",
        "print('arr:')\n",
        "visualize_array(arr)\n",
        "print('out:')\n",
        "visualize_array(out)"
      ],
      "execution_count": 15,
      "outputs": [
        {
          "output_type": "stream",
          "name": "stdout",
          "text": [
            "arr:\n"
          ]
        },
        {
          "output_type": "display_data",
          "data": {
            "text/plain": [
              "<IPython.core.display.HTML object>"
            ],
            "text/html": [
              "\n",
              "<style>\n",
              "table {\n",
              "  border-collapse: collapse;\n",
              "}\n",
              "\n",
              "td {\n",
              "  border: 3px solid #666666;\n",
              "  min-width:30px;\n",
              "  height: 30px;\n",
              "  position: relative;\n",
              "  text-align:center;\n",
              "  color: #474747;\n",
              "  font-size:20px;\n",
              "  font-weight: bolder;\n",
              "  padding: 19px;\n",
              "}\n",
              "\n",
              ".up{\n",
              "  position: absolute;\n",
              "  right: 0;\n",
              "  top: 0;\n",
              "  background: white;\n",
              "  text-align: right;\n",
              "  font-size: 16px;\n",
              "  font-family: Courier;\n",
              "  font-weight: bolder;\n",
              "  color: blue;\n",
              "  opacity: 1.0;\n",
              "  background-color:rgba(0, 0, 0, 0.0);\n",
              "}\n",
              "\n",
              ".down{\n",
              "  position: absolute;\n",
              "  right: 0;\n",
              "  bottom: 0;\n",
              "  background: white;\n",
              "  text-align: right;\n",
              "  font-size: 16px;\n",
              "  font-family: Courier;\n",
              "  font-weight: bolder;\n",
              "  color: red;\n",
              "  opacity: 0.9;\n",
              "  background-color:rgba(0, 0, 0, 0.0);\n",
              "}\n",
              "</style>\n",
              "<table bgcolor=\"4b64aa\">\n",
              "<tr>\t<td><table bgcolor=\"96c8ff\"><tr>\n",
              "\t<td>3<span class=\"up\">0</span><span class=\"down\">-3</span></td>\n",
              "\t<td>4<span class=\"up\">1</span><span class=\"down\">-2</span></td>\n",
              "\t<td>5<span class=\"up\">2</span><span class=\"down\">-1</span></td>\n",
              "</tr></table>\n",
              "<span class=\"up\">0</span><span class=\"down\">-3</span></td></tr>\n",
              "<tr>\t<td><table bgcolor=\"96c8ff\"><tr>\n",
              "\t<td>0<span class=\"up\">0</span><span class=\"down\">-3</span></td>\n",
              "\t<td>1<span class=\"up\">1</span><span class=\"down\">-2</span></td>\n",
              "\t<td>2<span class=\"up\">2</span><span class=\"down\">-1</span></td>\n",
              "</tr></table>\n",
              "<span class=\"up\">1</span><span class=\"down\">-2</span></td></tr>\n",
              "<tr>\t<td><table bgcolor=\"96c8ff\"><tr>\n",
              "\t<td>6<span class=\"up\">0</span><span class=\"down\">-3</span></td>\n",
              "\t<td>7<span class=\"up\">1</span><span class=\"down\">-2</span></td>\n",
              "\t<td>8<span class=\"up\">2</span><span class=\"down\">-1</span></td>\n",
              "</tr></table>\n",
              "<span class=\"up\">2</span><span class=\"down\">-1</span></td></tr>\n",
              "</table>\n"
            ]
          },
          "metadata": {}
        },
        {
          "output_type": "stream",
          "name": "stdout",
          "text": [
            "out:\n"
          ]
        },
        {
          "output_type": "display_data",
          "data": {
            "text/plain": [
              "<IPython.core.display.HTML object>"
            ],
            "text/html": [
              "\n",
              "<style>\n",
              "table {\n",
              "  border-collapse: collapse;\n",
              "}\n",
              "\n",
              "td {\n",
              "  border: 3px solid #666666;\n",
              "  min-width:30px;\n",
              "  height: 30px;\n",
              "  position: relative;\n",
              "  text-align:center;\n",
              "  color: #474747;\n",
              "  font-size:20px;\n",
              "  font-weight: bolder;\n",
              "  padding: 19px;\n",
              "}\n",
              "\n",
              ".up{\n",
              "  position: absolute;\n",
              "  right: 0;\n",
              "  top: 0;\n",
              "  background: white;\n",
              "  text-align: right;\n",
              "  font-size: 16px;\n",
              "  font-family: Courier;\n",
              "  font-weight: bolder;\n",
              "  color: blue;\n",
              "  opacity: 1.0;\n",
              "  background-color:rgba(0, 0, 0, 0.0);\n",
              "}\n",
              "\n",
              ".down{\n",
              "  position: absolute;\n",
              "  right: 0;\n",
              "  bottom: 0;\n",
              "  background: white;\n",
              "  text-align: right;\n",
              "  font-size: 16px;\n",
              "  font-family: Courier;\n",
              "  font-weight: bolder;\n",
              "  color: red;\n",
              "  opacity: 0.9;\n",
              "  background-color:rgba(0, 0, 0, 0.0);\n",
              "}\n",
              "</style>\n",
              "<table bgcolor=\"4b64aa\">\n",
              "<tr>\t<td><table bgcolor=\"96c8ff\"><tr>\n",
              "\t<td>5<span class=\"up\">0</span><span class=\"down\">-3</span></td>\n",
              "\t<td>4<span class=\"up\">1</span><span class=\"down\">-2</span></td>\n",
              "\t<td>3<span class=\"up\">2</span><span class=\"down\">-1</span></td>\n",
              "</tr></table>\n",
              "<span class=\"up\">0</span><span class=\"down\">-3</span></td></tr>\n",
              "<tr>\t<td><table bgcolor=\"96c8ff\"><tr>\n",
              "\t<td>2<span class=\"up\">0</span><span class=\"down\">-3</span></td>\n",
              "\t<td>1<span class=\"up\">1</span><span class=\"down\">-2</span></td>\n",
              "\t<td>0<span class=\"up\">2</span><span class=\"down\">-1</span></td>\n",
              "</tr></table>\n",
              "<span class=\"up\">1</span><span class=\"down\">-2</span></td></tr>\n",
              "<tr>\t<td><table bgcolor=\"96c8ff\"><tr>\n",
              "\t<td>8<span class=\"up\">0</span><span class=\"down\">-3</span></td>\n",
              "\t<td>7<span class=\"up\">1</span><span class=\"down\">-2</span></td>\n",
              "\t<td>6<span class=\"up\">2</span><span class=\"down\">-1</span></td>\n",
              "</tr></table>\n",
              "<span class=\"up\">2</span><span class=\"down\">-1</span></td></tr>\n",
              "</table>\n"
            ]
          },
          "metadata": {}
        }
      ]
    },
    {
      "cell_type": "code",
      "metadata": {
        "cellView": "form",
        "id": "WmYK5_QDXcNh",
        "colab": {
          "base_uri": "https://localhost:8080/",
          "height": 730
        },
        "outputId": "e4cee476-195e-4a5a-8a1d-cf54e86fff19"
      },
      "source": [
        "#@title Solution (double click to see the source code)\n",
        "\n",
        "import numpy as np\n",
        "\n",
        "# Input\n",
        "arr = np.array([[3, 4, 5], [0, 1, 2], [6, 7, 8]]) #@param\n",
        "\n",
        "#Solution\n",
        "out = arr[:, ::-1]\n",
        "\n",
        "# Output\n",
        "print('arr:')\n",
        "visualize_array(arr)\n",
        "print('out:')\n",
        "visualize_array(out)"
      ],
      "execution_count": null,
      "outputs": [
        {
          "output_type": "stream",
          "text": [
            "arr:\n"
          ],
          "name": "stdout"
        },
        {
          "output_type": "display_data",
          "data": {
            "text/html": [
              "\n",
              "<style>\n",
              "table {\n",
              "  border-collapse: collapse;\n",
              "}\n",
              "\n",
              "td {\n",
              "  border: 3px solid #666666;\n",
              "  min-width:30px;\n",
              "  height: 30px;\n",
              "  position: relative; \n",
              "  text-align:center; \n",
              "  color: #474747;\n",
              "  font-size:20px;\n",
              "  font-weight: bolder;\n",
              "  padding: 19px;\n",
              "}\n",
              "\n",
              ".up{\n",
              "  position: absolute; \n",
              "  right: 0;\n",
              "  top: 0;\n",
              "  background: white;\n",
              "  text-align: right;\n",
              "  font-size: 16px;\n",
              "  font-family: Courier;\n",
              "  font-weight: bolder;\n",
              "  color: blue;\n",
              "  opacity: 1.0;\n",
              "  background-color:rgba(0, 0, 0, 0.0);\n",
              "}\n",
              "\n",
              ".down{\n",
              "  position: absolute; \n",
              "  right: 0;\n",
              "  bottom: 0;\n",
              "  background: white;\n",
              "  text-align: right;\n",
              "  font-size: 16px;\n",
              "  font-family: Courier;\n",
              "  font-weight: bolder;\n",
              "  color: red;\n",
              "  opacity: 0.9;\n",
              "  background-color:rgba(0, 0, 0, 0.0);\n",
              "}\n",
              "</style>\n",
              "<table bgcolor=\"4b64aa\">\n",
              "<tr>\t<td><table bgcolor=\"96c8ff\"><tr>\n",
              "\t<td>3<span class=\"up\">0</span><span class=\"down\">-3</span></td>\n",
              "\t<td>4<span class=\"up\">1</span><span class=\"down\">-2</span></td>\n",
              "\t<td>5<span class=\"up\">2</span><span class=\"down\">-1</span></td>\n",
              "</tr></table>\n",
              "<span class=\"up\">0</span><span class=\"down\">-3</span></td></tr>\n",
              "<tr>\t<td><table bgcolor=\"96c8ff\"><tr>\n",
              "\t<td>0<span class=\"up\">0</span><span class=\"down\">-3</span></td>\n",
              "\t<td>1<span class=\"up\">1</span><span class=\"down\">-2</span></td>\n",
              "\t<td>2<span class=\"up\">2</span><span class=\"down\">-1</span></td>\n",
              "</tr></table>\n",
              "<span class=\"up\">1</span><span class=\"down\">-2</span></td></tr>\n",
              "<tr>\t<td><table bgcolor=\"96c8ff\"><tr>\n",
              "\t<td>6<span class=\"up\">0</span><span class=\"down\">-3</span></td>\n",
              "\t<td>7<span class=\"up\">1</span><span class=\"down\">-2</span></td>\n",
              "\t<td>8<span class=\"up\">2</span><span class=\"down\">-1</span></td>\n",
              "</tr></table>\n",
              "<span class=\"up\">2</span><span class=\"down\">-1</span></td></tr>\n",
              "</table>\n"
            ],
            "text/plain": [
              "<IPython.core.display.HTML object>"
            ]
          },
          "metadata": {
            "tags": []
          }
        },
        {
          "output_type": "stream",
          "text": [
            "out:\n"
          ],
          "name": "stdout"
        },
        {
          "output_type": "display_data",
          "data": {
            "text/html": [
              "\n",
              "<style>\n",
              "table {\n",
              "  border-collapse: collapse;\n",
              "}\n",
              "\n",
              "td {\n",
              "  border: 3px solid #666666;\n",
              "  min-width:30px;\n",
              "  height: 30px;\n",
              "  position: relative; \n",
              "  text-align:center; \n",
              "  color: #474747;\n",
              "  font-size:20px;\n",
              "  font-weight: bolder;\n",
              "  padding: 19px;\n",
              "}\n",
              "\n",
              ".up{\n",
              "  position: absolute; \n",
              "  right: 0;\n",
              "  top: 0;\n",
              "  background: white;\n",
              "  text-align: right;\n",
              "  font-size: 16px;\n",
              "  font-family: Courier;\n",
              "  font-weight: bolder;\n",
              "  color: blue;\n",
              "  opacity: 1.0;\n",
              "  background-color:rgba(0, 0, 0, 0.0);\n",
              "}\n",
              "\n",
              ".down{\n",
              "  position: absolute; \n",
              "  right: 0;\n",
              "  bottom: 0;\n",
              "  background: white;\n",
              "  text-align: right;\n",
              "  font-size: 16px;\n",
              "  font-family: Courier;\n",
              "  font-weight: bolder;\n",
              "  color: red;\n",
              "  opacity: 0.9;\n",
              "  background-color:rgba(0, 0, 0, 0.0);\n",
              "}\n",
              "</style>\n",
              "<table bgcolor=\"4b64aa\">\n",
              "<tr>\t<td><table bgcolor=\"96c8ff\"><tr>\n",
              "\t<td>5<span class=\"up\">0</span><span class=\"down\">-3</span></td>\n",
              "\t<td>4<span class=\"up\">1</span><span class=\"down\">-2</span></td>\n",
              "\t<td>3<span class=\"up\">2</span><span class=\"down\">-1</span></td>\n",
              "</tr></table>\n",
              "<span class=\"up\">0</span><span class=\"down\">-3</span></td></tr>\n",
              "<tr>\t<td><table bgcolor=\"96c8ff\"><tr>\n",
              "\t<td>2<span class=\"up\">0</span><span class=\"down\">-3</span></td>\n",
              "\t<td>1<span class=\"up\">1</span><span class=\"down\">-2</span></td>\n",
              "\t<td>0<span class=\"up\">2</span><span class=\"down\">-1</span></td>\n",
              "</tr></table>\n",
              "<span class=\"up\">1</span><span class=\"down\">-2</span></td></tr>\n",
              "<tr>\t<td><table bgcolor=\"96c8ff\"><tr>\n",
              "\t<td>8<span class=\"up\">0</span><span class=\"down\">-3</span></td>\n",
              "\t<td>7<span class=\"up\">1</span><span class=\"down\">-2</span></td>\n",
              "\t<td>6<span class=\"up\">2</span><span class=\"down\">-1</span></td>\n",
              "</tr></table>\n",
              "<span class=\"up\">2</span><span class=\"down\">-1</span></td></tr>\n",
              "</table>\n"
            ],
            "text/plain": [
              "<IPython.core.display.HTML object>"
            ]
          },
          "metadata": {
            "tags": []
          }
        }
      ]
    },
    {
      "cell_type": "markdown",
      "metadata": {
        "id": "2T3lQ1s3GueK"
      },
      "source": [
        "##14. How to create a 2D array containing random floats between 5 and 10?"
      ]
    },
    {
      "cell_type": "markdown",
      "metadata": {
        "id": "iopdlb3VZhvW"
      },
      "source": [
        "**Problem:**\n",
        "Create a 2D array of shape 5x3 to contain random decimal numbers between 5 and 10."
      ]
    },
    {
      "cell_type": "code",
      "metadata": {
        "id": "jSTysDv7GueK",
        "outputId": "ca1213fc-440a-400f-f757-959bf9ae6080",
        "colab": {
          "base_uri": "https://localhost:8080/",
          "height": 595
        }
      },
      "source": [
        "import numpy as np\n",
        "\n",
        "# Enter your code here\n",
        "rand_arr = np.random.rand(5, 3) * 5 + 5\n",
        "\n",
        "# Output\n",
        "visualize_array(rand_arr.round(2))"
      ],
      "execution_count": 21,
      "outputs": [
        {
          "output_type": "display_data",
          "data": {
            "text/plain": [
              "<IPython.core.display.HTML object>"
            ],
            "text/html": [
              "\n",
              "<style>\n",
              "table {\n",
              "  border-collapse: collapse;\n",
              "}\n",
              "\n",
              "td {\n",
              "  border: 3px solid #666666;\n",
              "  min-width:30px;\n",
              "  height: 30px;\n",
              "  position: relative;\n",
              "  text-align:center;\n",
              "  color: #474747;\n",
              "  font-size:20px;\n",
              "  font-weight: bolder;\n",
              "  padding: 19px;\n",
              "}\n",
              "\n",
              ".up{\n",
              "  position: absolute;\n",
              "  right: 0;\n",
              "  top: 0;\n",
              "  background: white;\n",
              "  text-align: right;\n",
              "  font-size: 16px;\n",
              "  font-family: Courier;\n",
              "  font-weight: bolder;\n",
              "  color: blue;\n",
              "  opacity: 1.0;\n",
              "  background-color:rgba(0, 0, 0, 0.0);\n",
              "}\n",
              "\n",
              ".down{\n",
              "  position: absolute;\n",
              "  right: 0;\n",
              "  bottom: 0;\n",
              "  background: white;\n",
              "  text-align: right;\n",
              "  font-size: 16px;\n",
              "  font-family: Courier;\n",
              "  font-weight: bolder;\n",
              "  color: red;\n",
              "  opacity: 0.9;\n",
              "  background-color:rgba(0, 0, 0, 0.0);\n",
              "}\n",
              "</style>\n",
              "<table bgcolor=\"4b64aa\">\n",
              "<tr>\t<td><table bgcolor=\"96c8ff\"><tr>\n",
              "\t<td>6.35<span class=\"up\">0</span><span class=\"down\">-3</span></td>\n",
              "\t<td>9.99<span class=\"up\">1</span><span class=\"down\">-2</span></td>\n",
              "\t<td>6.23<span class=\"up\">2</span><span class=\"down\">-1</span></td>\n",
              "</tr></table>\n",
              "<span class=\"up\">0</span><span class=\"down\">-5</span></td></tr>\n",
              "<tr>\t<td><table bgcolor=\"96c8ff\"><tr>\n",
              "\t<td>8.71<span class=\"up\">0</span><span class=\"down\">-3</span></td>\n",
              "\t<td>9.25<span class=\"up\">1</span><span class=\"down\">-2</span></td>\n",
              "\t<td>6.0<span class=\"up\">2</span><span class=\"down\">-1</span></td>\n",
              "</tr></table>\n",
              "<span class=\"up\">1</span><span class=\"down\">-4</span></td></tr>\n",
              "<tr>\t<td><table bgcolor=\"96c8ff\"><tr>\n",
              "\t<td>6.11<span class=\"up\">0</span><span class=\"down\">-3</span></td>\n",
              "\t<td>5.56<span class=\"up\">1</span><span class=\"down\">-2</span></td>\n",
              "\t<td>9.65<span class=\"up\">2</span><span class=\"down\">-1</span></td>\n",
              "</tr></table>\n",
              "<span class=\"up\">2</span><span class=\"down\">-3</span></td></tr>\n",
              "<tr>\t<td><table bgcolor=\"96c8ff\"><tr>\n",
              "\t<td>7.23<span class=\"up\">0</span><span class=\"down\">-3</span></td>\n",
              "\t<td>8.6<span class=\"up\">1</span><span class=\"down\">-2</span></td>\n",
              "\t<td>7.63<span class=\"up\">2</span><span class=\"down\">-1</span></td>\n",
              "</tr></table>\n",
              "<span class=\"up\">3</span><span class=\"down\">-2</span></td></tr>\n",
              "<tr>\t<td><table bgcolor=\"96c8ff\"><tr>\n",
              "\t<td>7.47<span class=\"up\">0</span><span class=\"down\">-3</span></td>\n",
              "\t<td>9.9<span class=\"up\">1</span><span class=\"down\">-2</span></td>\n",
              "\t<td>8.14<span class=\"up\">2</span><span class=\"down\">-1</span></td>\n",
              "</tr></table>\n",
              "<span class=\"up\">4</span><span class=\"down\">-1</span></td></tr>\n",
              "</table>\n"
            ]
          },
          "metadata": {}
        }
      ]
    },
    {
      "cell_type": "code",
      "metadata": {
        "id": "kty4crYgGueL",
        "colab": {
          "base_uri": "https://localhost:8080/",
          "height": 595
        },
        "outputId": "20ea8f7d-3592-4e29-ffdc-120fb84fdbd4"
      },
      "source": [
        "#@title Solution A (double click to see the source code)\n",
        "\n",
        "import numpy as np\n",
        "\n",
        "# Solution\n",
        "rand_arr = np.random.randint(low=5, high=10, size=(5,3)) + np.random.random((5,3))\n",
        "\n",
        "# Output\n",
        "visualize_array(rand_arr.round(2))"
      ],
      "execution_count": 26,
      "outputs": [
        {
          "output_type": "display_data",
          "data": {
            "text/plain": [
              "<IPython.core.display.HTML object>"
            ],
            "text/html": [
              "\n",
              "<style>\n",
              "table {\n",
              "  border-collapse: collapse;\n",
              "}\n",
              "\n",
              "td {\n",
              "  border: 3px solid #666666;\n",
              "  min-width:30px;\n",
              "  height: 30px;\n",
              "  position: relative;\n",
              "  text-align:center;\n",
              "  color: #474747;\n",
              "  font-size:20px;\n",
              "  font-weight: bolder;\n",
              "  padding: 19px;\n",
              "}\n",
              "\n",
              ".up{\n",
              "  position: absolute;\n",
              "  right: 0;\n",
              "  top: 0;\n",
              "  background: white;\n",
              "  text-align: right;\n",
              "  font-size: 16px;\n",
              "  font-family: Courier;\n",
              "  font-weight: bolder;\n",
              "  color: blue;\n",
              "  opacity: 1.0;\n",
              "  background-color:rgba(0, 0, 0, 0.0);\n",
              "}\n",
              "\n",
              ".down{\n",
              "  position: absolute;\n",
              "  right: 0;\n",
              "  bottom: 0;\n",
              "  background: white;\n",
              "  text-align: right;\n",
              "  font-size: 16px;\n",
              "  font-family: Courier;\n",
              "  font-weight: bolder;\n",
              "  color: red;\n",
              "  opacity: 0.9;\n",
              "  background-color:rgba(0, 0, 0, 0.0);\n",
              "}\n",
              "</style>\n",
              "<table bgcolor=\"4b64aa\">\n",
              "<tr>\t<td><table bgcolor=\"96c8ff\"><tr>\n",
              "\t<td>5.4<span class=\"up\">0</span><span class=\"down\">-3</span></td>\n",
              "\t<td>9.0<span class=\"up\">1</span><span class=\"down\">-2</span></td>\n",
              "\t<td>9.0<span class=\"up\">2</span><span class=\"down\">-1</span></td>\n",
              "</tr></table>\n",
              "<span class=\"up\">0</span><span class=\"down\">-5</span></td></tr>\n",
              "<tr>\t<td><table bgcolor=\"96c8ff\"><tr>\n",
              "\t<td>9.81<span class=\"up\">0</span><span class=\"down\">-3</span></td>\n",
              "\t<td>5.7<span class=\"up\">1</span><span class=\"down\">-2</span></td>\n",
              "\t<td>7.96<span class=\"up\">2</span><span class=\"down\">-1</span></td>\n",
              "</tr></table>\n",
              "<span class=\"up\">1</span><span class=\"down\">-4</span></td></tr>\n",
              "<tr>\t<td><table bgcolor=\"96c8ff\"><tr>\n",
              "\t<td>5.81<span class=\"up\">0</span><span class=\"down\">-3</span></td>\n",
              "\t<td>7.82<span class=\"up\">1</span><span class=\"down\">-2</span></td>\n",
              "\t<td>5.29<span class=\"up\">2</span><span class=\"down\">-1</span></td>\n",
              "</tr></table>\n",
              "<span class=\"up\">2</span><span class=\"down\">-3</span></td></tr>\n",
              "<tr>\t<td><table bgcolor=\"96c8ff\"><tr>\n",
              "\t<td>5.14<span class=\"up\">0</span><span class=\"down\">-3</span></td>\n",
              "\t<td>8.2<span class=\"up\">1</span><span class=\"down\">-2</span></td>\n",
              "\t<td>6.43<span class=\"up\">2</span><span class=\"down\">-1</span></td>\n",
              "</tr></table>\n",
              "<span class=\"up\">3</span><span class=\"down\">-2</span></td></tr>\n",
              "<tr>\t<td><table bgcolor=\"96c8ff\"><tr>\n",
              "\t<td>7.41<span class=\"up\">0</span><span class=\"down\">-3</span></td>\n",
              "\t<td>8.18<span class=\"up\">1</span><span class=\"down\">-2</span></td>\n",
              "\t<td>8.67<span class=\"up\">2</span><span class=\"down\">-1</span></td>\n",
              "</tr></table>\n",
              "<span class=\"up\">4</span><span class=\"down\">-1</span></td></tr>\n",
              "</table>\n"
            ]
          },
          "metadata": {}
        }
      ]
    },
    {
      "cell_type": "code",
      "metadata": {
        "id": "KO6_EQ9jGueN",
        "cellView": "form",
        "colab": {
          "base_uri": "https://localhost:8080/",
          "height": 587
        },
        "outputId": "0a420c04-ffa6-4dff-9c79-bb493b4b4bb7"
      },
      "source": [
        "#@title Solution B (double click to see the source code)\n",
        "\n",
        "import numpy as np\n",
        "\n",
        "# Solution\n",
        "rand_arr = np.random.uniform(5,10, size=(5,3))\n",
        "\n",
        "# Output\n",
        "visualize_array(rand_arr.round(2))"
      ],
      "execution_count": null,
      "outputs": [
        {
          "output_type": "display_data",
          "data": {
            "text/html": [
              "\n",
              "<style>\n",
              "table {\n",
              "  border-collapse: collapse;\n",
              "}\n",
              "\n",
              "td {\n",
              "  border: 3px solid #666666;\n",
              "  min-width:30px;\n",
              "  height: 30px;\n",
              "  position: relative; \n",
              "  text-align:center; \n",
              "  color: #474747;\n",
              "  font-size:20px;\n",
              "  font-weight: bolder;\n",
              "  padding: 19px;\n",
              "}\n",
              "\n",
              ".up{\n",
              "  position: absolute; \n",
              "  right: 0;\n",
              "  top: 0;\n",
              "  background: white;\n",
              "  text-align: right;\n",
              "  font-size: 16px;\n",
              "  font-family: Courier;\n",
              "  font-weight: bolder;\n",
              "  color: blue;\n",
              "  opacity: 1.0;\n",
              "  background-color:rgba(0, 0, 0, 0.0);\n",
              "}\n",
              "\n",
              ".down{\n",
              "  position: absolute; \n",
              "  right: 0;\n",
              "  bottom: 0;\n",
              "  background: white;\n",
              "  text-align: right;\n",
              "  font-size: 16px;\n",
              "  font-family: Courier;\n",
              "  font-weight: bolder;\n",
              "  color: red;\n",
              "  opacity: 0.9;\n",
              "  background-color:rgba(0, 0, 0, 0.0);\n",
              "}\n",
              "</style>\n",
              "<table bgcolor=\"4b64aa\">\n",
              "<tr>\t<td><table bgcolor=\"96c8ff\"><tr>\n",
              "\t<td>5.04<span class=\"up\">0</span><span class=\"down\">-3</span></td>\n",
              "\t<td>7.09<span class=\"up\">1</span><span class=\"down\">-2</span></td>\n",
              "\t<td>6.31<span class=\"up\">2</span><span class=\"down\">-1</span></td>\n",
              "</tr></table>\n",
              "<span class=\"up\">0</span><span class=\"down\">-5</span></td></tr>\n",
              "<tr>\t<td><table bgcolor=\"96c8ff\"><tr>\n",
              "\t<td>6.22<span class=\"up\">0</span><span class=\"down\">-3</span></td>\n",
              "\t<td>8.71<span class=\"up\">1</span><span class=\"down\">-2</span></td>\n",
              "\t<td>5.95<span class=\"up\">2</span><span class=\"down\">-1</span></td>\n",
              "</tr></table>\n",
              "<span class=\"up\">1</span><span class=\"down\">-4</span></td></tr>\n",
              "<tr>\t<td><table bgcolor=\"96c8ff\"><tr>\n",
              "\t<td>6.57<span class=\"up\">0</span><span class=\"down\">-3</span></td>\n",
              "\t<td>9.59<span class=\"up\">1</span><span class=\"down\">-2</span></td>\n",
              "\t<td>5.73<span class=\"up\">2</span><span class=\"down\">-1</span></td>\n",
              "</tr></table>\n",
              "<span class=\"up\">2</span><span class=\"down\">-3</span></td></tr>\n",
              "<tr>\t<td><table bgcolor=\"96c8ff\"><tr>\n",
              "\t<td>5.92<span class=\"up\">0</span><span class=\"down\">-3</span></td>\n",
              "\t<td>7.93<span class=\"up\">1</span><span class=\"down\">-2</span></td>\n",
              "\t<td>5.89<span class=\"up\">2</span><span class=\"down\">-1</span></td>\n",
              "</tr></table>\n",
              "<span class=\"up\">3</span><span class=\"down\">-2</span></td></tr>\n",
              "<tr>\t<td><table bgcolor=\"96c8ff\"><tr>\n",
              "\t<td>6.72<span class=\"up\">0</span><span class=\"down\">-3</span></td>\n",
              "\t<td>7.19<span class=\"up\">1</span><span class=\"down\">-2</span></td>\n",
              "\t<td>5.87<span class=\"up\">2</span><span class=\"down\">-1</span></td>\n",
              "</tr></table>\n",
              "<span class=\"up\">4</span><span class=\"down\">-1</span></td></tr>\n",
              "</table>\n"
            ],
            "text/plain": [
              "<IPython.core.display.HTML object>"
            ]
          },
          "metadata": {
            "tags": []
          }
        }
      ]
    },
    {
      "cell_type": "markdown",
      "metadata": {
        "id": "c9Y0rnkGGuec"
      },
      "source": [
        "##15. How to extract a particular column from 2D array?"
      ]
    },
    {
      "cell_type": "markdown",
      "metadata": {
        "id": "DklVpEOgk1kU"
      },
      "source": [
        "**Problem:**\n",
        "Given 2D array extract one column with specified index."
      ]
    },
    {
      "cell_type": "code",
      "metadata": {
        "id": "xYpJb_HOGuec",
        "outputId": "31c5a609-30b8-4c61-a1b7-a91f2b964100",
        "colab": {
          "base_uri": "https://localhost:8080/",
          "height": 590
        }
      },
      "source": [
        "import numpy as np\n",
        "\n",
        "# Input:\n",
        "arr = np.array([[1,2,3,4,5],\n",
        "                [1,2,3,4,5],\n",
        "                [1,2,3,4,5],\n",
        "                [1,2,3,4,5]])\n",
        "extract_column_idx = 4\n",
        "\n",
        "# Enter your code here\n",
        "extracted = arr[:, extract_column_idx]\n",
        "\n",
        "# Output:\n",
        "print('array:')\n",
        "visualize_array(arr)\n",
        "print('extracted:')\n",
        "visualize_array(extracted)"
      ],
      "execution_count": 27,
      "outputs": [
        {
          "output_type": "stream",
          "name": "stdout",
          "text": [
            "array:\n"
          ]
        },
        {
          "output_type": "display_data",
          "data": {
            "text/plain": [
              "<IPython.core.display.HTML object>"
            ],
            "text/html": [
              "\n",
              "<style>\n",
              "table {\n",
              "  border-collapse: collapse;\n",
              "}\n",
              "\n",
              "td {\n",
              "  border: 3px solid #666666;\n",
              "  min-width:30px;\n",
              "  height: 30px;\n",
              "  position: relative;\n",
              "  text-align:center;\n",
              "  color: #474747;\n",
              "  font-size:20px;\n",
              "  font-weight: bolder;\n",
              "  padding: 19px;\n",
              "}\n",
              "\n",
              ".up{\n",
              "  position: absolute;\n",
              "  right: 0;\n",
              "  top: 0;\n",
              "  background: white;\n",
              "  text-align: right;\n",
              "  font-size: 16px;\n",
              "  font-family: Courier;\n",
              "  font-weight: bolder;\n",
              "  color: blue;\n",
              "  opacity: 1.0;\n",
              "  background-color:rgba(0, 0, 0, 0.0);\n",
              "}\n",
              "\n",
              ".down{\n",
              "  position: absolute;\n",
              "  right: 0;\n",
              "  bottom: 0;\n",
              "  background: white;\n",
              "  text-align: right;\n",
              "  font-size: 16px;\n",
              "  font-family: Courier;\n",
              "  font-weight: bolder;\n",
              "  color: red;\n",
              "  opacity: 0.9;\n",
              "  background-color:rgba(0, 0, 0, 0.0);\n",
              "}\n",
              "</style>\n",
              "<table bgcolor=\"4b64aa\">\n",
              "<tr>\t<td><table bgcolor=\"96c8ff\"><tr>\n",
              "\t<td>1<span class=\"up\">0</span><span class=\"down\">-5</span></td>\n",
              "\t<td>2<span class=\"up\">1</span><span class=\"down\">-4</span></td>\n",
              "\t<td>3<span class=\"up\">2</span><span class=\"down\">-3</span></td>\n",
              "\t<td>4<span class=\"up\">3</span><span class=\"down\">-2</span></td>\n",
              "\t<td>5<span class=\"up\">4</span><span class=\"down\">-1</span></td>\n",
              "</tr></table>\n",
              "<span class=\"up\">0</span><span class=\"down\">-4</span></td></tr>\n",
              "<tr>\t<td><table bgcolor=\"96c8ff\"><tr>\n",
              "\t<td>1<span class=\"up\">0</span><span class=\"down\">-5</span></td>\n",
              "\t<td>2<span class=\"up\">1</span><span class=\"down\">-4</span></td>\n",
              "\t<td>3<span class=\"up\">2</span><span class=\"down\">-3</span></td>\n",
              "\t<td>4<span class=\"up\">3</span><span class=\"down\">-2</span></td>\n",
              "\t<td>5<span class=\"up\">4</span><span class=\"down\">-1</span></td>\n",
              "</tr></table>\n",
              "<span class=\"up\">1</span><span class=\"down\">-3</span></td></tr>\n",
              "<tr>\t<td><table bgcolor=\"96c8ff\"><tr>\n",
              "\t<td>1<span class=\"up\">0</span><span class=\"down\">-5</span></td>\n",
              "\t<td>2<span class=\"up\">1</span><span class=\"down\">-4</span></td>\n",
              "\t<td>3<span class=\"up\">2</span><span class=\"down\">-3</span></td>\n",
              "\t<td>4<span class=\"up\">3</span><span class=\"down\">-2</span></td>\n",
              "\t<td>5<span class=\"up\">4</span><span class=\"down\">-1</span></td>\n",
              "</tr></table>\n",
              "<span class=\"up\">2</span><span class=\"down\">-2</span></td></tr>\n",
              "<tr>\t<td><table bgcolor=\"96c8ff\"><tr>\n",
              "\t<td>1<span class=\"up\">0</span><span class=\"down\">-5</span></td>\n",
              "\t<td>2<span class=\"up\">1</span><span class=\"down\">-4</span></td>\n",
              "\t<td>3<span class=\"up\">2</span><span class=\"down\">-3</span></td>\n",
              "\t<td>4<span class=\"up\">3</span><span class=\"down\">-2</span></td>\n",
              "\t<td>5<span class=\"up\">4</span><span class=\"down\">-1</span></td>\n",
              "</tr></table>\n",
              "<span class=\"up\">3</span><span class=\"down\">-1</span></td></tr>\n",
              "</table>\n"
            ]
          },
          "metadata": {}
        },
        {
          "output_type": "stream",
          "name": "stdout",
          "text": [
            "extracted:\n"
          ]
        },
        {
          "output_type": "display_data",
          "data": {
            "text/plain": [
              "<IPython.core.display.HTML object>"
            ],
            "text/html": [
              "\n",
              "<style>\n",
              "table {\n",
              "  border-collapse: collapse;\n",
              "}\n",
              "\n",
              "td {\n",
              "  border: 3px solid #666666;\n",
              "  min-width:30px;\n",
              "  height: 30px;\n",
              "  position: relative;\n",
              "  text-align:center;\n",
              "  color: #474747;\n",
              "  font-size:20px;\n",
              "  font-weight: bolder;\n",
              "  padding: 19px;\n",
              "}\n",
              "\n",
              ".up{\n",
              "  position: absolute;\n",
              "  right: 0;\n",
              "  top: 0;\n",
              "  background: white;\n",
              "  text-align: right;\n",
              "  font-size: 16px;\n",
              "  font-family: Courier;\n",
              "  font-weight: bolder;\n",
              "  color: blue;\n",
              "  opacity: 1.0;\n",
              "  background-color:rgba(0, 0, 0, 0.0);\n",
              "}\n",
              "\n",
              ".down{\n",
              "  position: absolute;\n",
              "  right: 0;\n",
              "  bottom: 0;\n",
              "  background: white;\n",
              "  text-align: right;\n",
              "  font-size: 16px;\n",
              "  font-family: Courier;\n",
              "  font-weight: bolder;\n",
              "  color: red;\n",
              "  opacity: 0.9;\n",
              "  background-color:rgba(0, 0, 0, 0.0);\n",
              "}\n",
              "</style>\n",
              "<table bgcolor=\"96c8ff\"><tr>\n",
              "\t<td>5<span class=\"up\">0</span><span class=\"down\">-4</span></td>\n",
              "\t<td>5<span class=\"up\">1</span><span class=\"down\">-3</span></td>\n",
              "\t<td>5<span class=\"up\">2</span><span class=\"down\">-2</span></td>\n",
              "\t<td>5<span class=\"up\">3</span><span class=\"down\">-1</span></td>\n",
              "</tr></table>\n"
            ]
          },
          "metadata": {}
        }
      ]
    },
    {
      "cell_type": "code",
      "metadata": {
        "id": "EnY9hvDTGued",
        "cellView": "form",
        "colab": {
          "base_uri": "https://localhost:8080/",
          "height": 575
        },
        "outputId": "0dc64853-1055-4e4d-c089-51cd33dd5d44"
      },
      "source": [
        "#@title Solution (double click to see the source code)\n",
        "\n",
        "import numpy as np\n",
        "\n",
        "# Input:\n",
        "arr = np.array([[1,2,3,4,5], [1,2,3,4,5], [1,2,3,4,5], [1,2,3,4,5]]) #@param\n",
        "extract_column_idx = 4 #@param\n",
        "\n",
        "# Solution:\n",
        "extracted = arr[:, extract_column_idx]\n",
        "\n",
        "# Output:\n",
        "print('array:')\n",
        "visualize_array(arr)\n",
        "print('extracted:')\n",
        "visualize_array(extracted)"
      ],
      "execution_count": null,
      "outputs": [
        {
          "output_type": "stream",
          "text": [
            "array:\n"
          ],
          "name": "stdout"
        },
        {
          "output_type": "display_data",
          "data": {
            "text/html": [
              "\n",
              "<style>\n",
              "table {\n",
              "  border-collapse: collapse;\n",
              "}\n",
              "\n",
              "td {\n",
              "  border: 3px solid #666666;\n",
              "  min-width:30px;\n",
              "  height: 30px;\n",
              "  position: relative; \n",
              "  text-align:center; \n",
              "  color: #474747;\n",
              "  font-size:20px;\n",
              "  font-weight: bolder;\n",
              "  padding: 19px;\n",
              "}\n",
              "\n",
              ".up{\n",
              "  position: absolute; \n",
              "  right: 0;\n",
              "  top: 0;\n",
              "  background: white;\n",
              "  text-align: right;\n",
              "  font-size: 16px;\n",
              "  font-family: Courier;\n",
              "  font-weight: bolder;\n",
              "  color: blue;\n",
              "  opacity: 1.0;\n",
              "  background-color:rgba(0, 0, 0, 0.0);\n",
              "}\n",
              "\n",
              ".down{\n",
              "  position: absolute; \n",
              "  right: 0;\n",
              "  bottom: 0;\n",
              "  background: white;\n",
              "  text-align: right;\n",
              "  font-size: 16px;\n",
              "  font-family: Courier;\n",
              "  font-weight: bolder;\n",
              "  color: red;\n",
              "  opacity: 0.9;\n",
              "  background-color:rgba(0, 0, 0, 0.0);\n",
              "}\n",
              "</style>\n",
              "<table bgcolor=\"4b64aa\">\n",
              "<tr>\t<td><table bgcolor=\"96c8ff\"><tr>\n",
              "\t<td>1<span class=\"up\">0</span><span class=\"down\">-5</span></td>\n",
              "\t<td>2<span class=\"up\">1</span><span class=\"down\">-4</span></td>\n",
              "\t<td>3<span class=\"up\">2</span><span class=\"down\">-3</span></td>\n",
              "\t<td>4<span class=\"up\">3</span><span class=\"down\">-2</span></td>\n",
              "\t<td>5<span class=\"up\">4</span><span class=\"down\">-1</span></td>\n",
              "</tr></table>\n",
              "<span class=\"up\">0</span><span class=\"down\">-4</span></td></tr>\n",
              "<tr>\t<td><table bgcolor=\"96c8ff\"><tr>\n",
              "\t<td>1<span class=\"up\">0</span><span class=\"down\">-5</span></td>\n",
              "\t<td>2<span class=\"up\">1</span><span class=\"down\">-4</span></td>\n",
              "\t<td>3<span class=\"up\">2</span><span class=\"down\">-3</span></td>\n",
              "\t<td>4<span class=\"up\">3</span><span class=\"down\">-2</span></td>\n",
              "\t<td>5<span class=\"up\">4</span><span class=\"down\">-1</span></td>\n",
              "</tr></table>\n",
              "<span class=\"up\">1</span><span class=\"down\">-3</span></td></tr>\n",
              "<tr>\t<td><table bgcolor=\"96c8ff\"><tr>\n",
              "\t<td>1<span class=\"up\">0</span><span class=\"down\">-5</span></td>\n",
              "\t<td>2<span class=\"up\">1</span><span class=\"down\">-4</span></td>\n",
              "\t<td>3<span class=\"up\">2</span><span class=\"down\">-3</span></td>\n",
              "\t<td>4<span class=\"up\">3</span><span class=\"down\">-2</span></td>\n",
              "\t<td>5<span class=\"up\">4</span><span class=\"down\">-1</span></td>\n",
              "</tr></table>\n",
              "<span class=\"up\">2</span><span class=\"down\">-2</span></td></tr>\n",
              "<tr>\t<td><table bgcolor=\"96c8ff\"><tr>\n",
              "\t<td>1<span class=\"up\">0</span><span class=\"down\">-5</span></td>\n",
              "\t<td>2<span class=\"up\">1</span><span class=\"down\">-4</span></td>\n",
              "\t<td>3<span class=\"up\">2</span><span class=\"down\">-3</span></td>\n",
              "\t<td>4<span class=\"up\">3</span><span class=\"down\">-2</span></td>\n",
              "\t<td>5<span class=\"up\">4</span><span class=\"down\">-1</span></td>\n",
              "</tr></table>\n",
              "<span class=\"up\">3</span><span class=\"down\">-1</span></td></tr>\n",
              "</table>\n"
            ],
            "text/plain": [
              "<IPython.core.display.HTML object>"
            ]
          },
          "metadata": {
            "tags": []
          }
        },
        {
          "output_type": "stream",
          "text": [
            "extracted:\n"
          ],
          "name": "stdout"
        },
        {
          "output_type": "display_data",
          "data": {
            "text/html": [
              "\n",
              "<style>\n",
              "table {\n",
              "  border-collapse: collapse;\n",
              "}\n",
              "\n",
              "td {\n",
              "  border: 3px solid #666666;\n",
              "  min-width:30px;\n",
              "  height: 30px;\n",
              "  position: relative; \n",
              "  text-align:center; \n",
              "  color: #474747;\n",
              "  font-size:20px;\n",
              "  font-weight: bolder;\n",
              "  padding: 19px;\n",
              "}\n",
              "\n",
              ".up{\n",
              "  position: absolute; \n",
              "  right: 0;\n",
              "  top: 0;\n",
              "  background: white;\n",
              "  text-align: right;\n",
              "  font-size: 16px;\n",
              "  font-family: Courier;\n",
              "  font-weight: bolder;\n",
              "  color: blue;\n",
              "  opacity: 1.0;\n",
              "  background-color:rgba(0, 0, 0, 0.0);\n",
              "}\n",
              "\n",
              ".down{\n",
              "  position: absolute; \n",
              "  right: 0;\n",
              "  bottom: 0;\n",
              "  background: white;\n",
              "  text-align: right;\n",
              "  font-size: 16px;\n",
              "  font-family: Courier;\n",
              "  font-weight: bolder;\n",
              "  color: red;\n",
              "  opacity: 0.9;\n",
              "  background-color:rgba(0, 0, 0, 0.0);\n",
              "}\n",
              "</style>\n",
              "<table bgcolor=\"96c8ff\"><tr>\n",
              "\t<td>5<span class=\"up\">0</span><span class=\"down\">-4</span></td>\n",
              "\t<td>5<span class=\"up\">1</span><span class=\"down\">-3</span></td>\n",
              "\t<td>5<span class=\"up\">2</span><span class=\"down\">-2</span></td>\n",
              "\t<td>5<span class=\"up\">3</span><span class=\"down\">-1</span></td>\n",
              "</tr></table>\n"
            ],
            "text/plain": [
              "<IPython.core.display.HTML object>"
            ]
          },
          "metadata": {
            "tags": []
          }
        }
      ]
    },
    {
      "cell_type": "markdown",
      "metadata": {
        "id": "klK4PPt1mYHZ"
      },
      "source": [
        "##16. How to extract a particular column from 1D array of tuples?"
      ]
    },
    {
      "cell_type": "markdown",
      "metadata": {
        "id": "id00XRHTmYHj"
      },
      "source": [
        "**Problem:**\n",
        "Given array of tuples extract column specified by given index."
      ]
    },
    {
      "cell_type": "code",
      "metadata": {
        "id": "AQxmFfM3mYHl",
        "outputId": "01a351f6-552e-4553-84a6-182b9b4973bf",
        "colab": {
          "base_uri": "https://localhost:8080/",
          "height": 590
        }
      },
      "source": [
        "import numpy as np\n",
        "\n",
        "# Input:\n",
        "arr = np.array([(1,2,3,4,5),\n",
        "                (1,2,3,4,5),\n",
        "                (1,2,3,4,5),\n",
        "                (1,2,3,4,5)])\n",
        "extract_column_idx = 4\n",
        "\n",
        "# Enter your code here\n",
        "extracted = arr[:, extract_column_idx]\n",
        "\n",
        "# Output:\n",
        "print('array:')\n",
        "visualize_array(arr)\n",
        "print('extracted:')\n",
        "visualize_array(extracted)"
      ],
      "execution_count": 28,
      "outputs": [
        {
          "output_type": "stream",
          "name": "stdout",
          "text": [
            "array:\n"
          ]
        },
        {
          "output_type": "display_data",
          "data": {
            "text/plain": [
              "<IPython.core.display.HTML object>"
            ],
            "text/html": [
              "\n",
              "<style>\n",
              "table {\n",
              "  border-collapse: collapse;\n",
              "}\n",
              "\n",
              "td {\n",
              "  border: 3px solid #666666;\n",
              "  min-width:30px;\n",
              "  height: 30px;\n",
              "  position: relative;\n",
              "  text-align:center;\n",
              "  color: #474747;\n",
              "  font-size:20px;\n",
              "  font-weight: bolder;\n",
              "  padding: 19px;\n",
              "}\n",
              "\n",
              ".up{\n",
              "  position: absolute;\n",
              "  right: 0;\n",
              "  top: 0;\n",
              "  background: white;\n",
              "  text-align: right;\n",
              "  font-size: 16px;\n",
              "  font-family: Courier;\n",
              "  font-weight: bolder;\n",
              "  color: blue;\n",
              "  opacity: 1.0;\n",
              "  background-color:rgba(0, 0, 0, 0.0);\n",
              "}\n",
              "\n",
              ".down{\n",
              "  position: absolute;\n",
              "  right: 0;\n",
              "  bottom: 0;\n",
              "  background: white;\n",
              "  text-align: right;\n",
              "  font-size: 16px;\n",
              "  font-family: Courier;\n",
              "  font-weight: bolder;\n",
              "  color: red;\n",
              "  opacity: 0.9;\n",
              "  background-color:rgba(0, 0, 0, 0.0);\n",
              "}\n",
              "</style>\n",
              "<table bgcolor=\"4b64aa\">\n",
              "<tr>\t<td><table bgcolor=\"96c8ff\"><tr>\n",
              "\t<td>1<span class=\"up\">0</span><span class=\"down\">-5</span></td>\n",
              "\t<td>2<span class=\"up\">1</span><span class=\"down\">-4</span></td>\n",
              "\t<td>3<span class=\"up\">2</span><span class=\"down\">-3</span></td>\n",
              "\t<td>4<span class=\"up\">3</span><span class=\"down\">-2</span></td>\n",
              "\t<td>5<span class=\"up\">4</span><span class=\"down\">-1</span></td>\n",
              "</tr></table>\n",
              "<span class=\"up\">0</span><span class=\"down\">-4</span></td></tr>\n",
              "<tr>\t<td><table bgcolor=\"96c8ff\"><tr>\n",
              "\t<td>1<span class=\"up\">0</span><span class=\"down\">-5</span></td>\n",
              "\t<td>2<span class=\"up\">1</span><span class=\"down\">-4</span></td>\n",
              "\t<td>3<span class=\"up\">2</span><span class=\"down\">-3</span></td>\n",
              "\t<td>4<span class=\"up\">3</span><span class=\"down\">-2</span></td>\n",
              "\t<td>5<span class=\"up\">4</span><span class=\"down\">-1</span></td>\n",
              "</tr></table>\n",
              "<span class=\"up\">1</span><span class=\"down\">-3</span></td></tr>\n",
              "<tr>\t<td><table bgcolor=\"96c8ff\"><tr>\n",
              "\t<td>1<span class=\"up\">0</span><span class=\"down\">-5</span></td>\n",
              "\t<td>2<span class=\"up\">1</span><span class=\"down\">-4</span></td>\n",
              "\t<td>3<span class=\"up\">2</span><span class=\"down\">-3</span></td>\n",
              "\t<td>4<span class=\"up\">3</span><span class=\"down\">-2</span></td>\n",
              "\t<td>5<span class=\"up\">4</span><span class=\"down\">-1</span></td>\n",
              "</tr></table>\n",
              "<span class=\"up\">2</span><span class=\"down\">-2</span></td></tr>\n",
              "<tr>\t<td><table bgcolor=\"96c8ff\"><tr>\n",
              "\t<td>1<span class=\"up\">0</span><span class=\"down\">-5</span></td>\n",
              "\t<td>2<span class=\"up\">1</span><span class=\"down\">-4</span></td>\n",
              "\t<td>3<span class=\"up\">2</span><span class=\"down\">-3</span></td>\n",
              "\t<td>4<span class=\"up\">3</span><span class=\"down\">-2</span></td>\n",
              "\t<td>5<span class=\"up\">4</span><span class=\"down\">-1</span></td>\n",
              "</tr></table>\n",
              "<span class=\"up\">3</span><span class=\"down\">-1</span></td></tr>\n",
              "</table>\n"
            ]
          },
          "metadata": {}
        },
        {
          "output_type": "stream",
          "name": "stdout",
          "text": [
            "extracted:\n"
          ]
        },
        {
          "output_type": "display_data",
          "data": {
            "text/plain": [
              "<IPython.core.display.HTML object>"
            ],
            "text/html": [
              "\n",
              "<style>\n",
              "table {\n",
              "  border-collapse: collapse;\n",
              "}\n",
              "\n",
              "td {\n",
              "  border: 3px solid #666666;\n",
              "  min-width:30px;\n",
              "  height: 30px;\n",
              "  position: relative;\n",
              "  text-align:center;\n",
              "  color: #474747;\n",
              "  font-size:20px;\n",
              "  font-weight: bolder;\n",
              "  padding: 19px;\n",
              "}\n",
              "\n",
              ".up{\n",
              "  position: absolute;\n",
              "  right: 0;\n",
              "  top: 0;\n",
              "  background: white;\n",
              "  text-align: right;\n",
              "  font-size: 16px;\n",
              "  font-family: Courier;\n",
              "  font-weight: bolder;\n",
              "  color: blue;\n",
              "  opacity: 1.0;\n",
              "  background-color:rgba(0, 0, 0, 0.0);\n",
              "}\n",
              "\n",
              ".down{\n",
              "  position: absolute;\n",
              "  right: 0;\n",
              "  bottom: 0;\n",
              "  background: white;\n",
              "  text-align: right;\n",
              "  font-size: 16px;\n",
              "  font-family: Courier;\n",
              "  font-weight: bolder;\n",
              "  color: red;\n",
              "  opacity: 0.9;\n",
              "  background-color:rgba(0, 0, 0, 0.0);\n",
              "}\n",
              "</style>\n",
              "<table bgcolor=\"96c8ff\"><tr>\n",
              "\t<td>5<span class=\"up\">0</span><span class=\"down\">-4</span></td>\n",
              "\t<td>5<span class=\"up\">1</span><span class=\"down\">-3</span></td>\n",
              "\t<td>5<span class=\"up\">2</span><span class=\"down\">-2</span></td>\n",
              "\t<td>5<span class=\"up\">3</span><span class=\"down\">-1</span></td>\n",
              "</tr></table>\n"
            ]
          },
          "metadata": {}
        }
      ]
    },
    {
      "cell_type": "code",
      "metadata": {
        "cellView": "form",
        "id": "GjiljtyGcaBu",
        "colab": {
          "base_uri": "https://localhost:8080/",
          "height": 575
        },
        "outputId": "b16fe0cb-39ed-4b58-8974-c28c2149f512"
      },
      "source": [
        "#@title Solution (double click to see the source code)\n",
        "\n",
        "import numpy as np\n",
        "\n",
        "# Input:\n",
        "arr = np.array([(1,2,3,4,5), (1,2,3,4,5), (1,2,3,4,5), (1,2,3,4,5)]) #@param\n",
        "extract_column_idx = 4 #@param\n",
        "\n",
        "# Solution:\n",
        "extracted = np.array([row[extract_column_idx] for row in arr])\n",
        "\n",
        "# Output:\n",
        "print('array:')\n",
        "visualize_array(arr)\n",
        "print('extracted:')\n",
        "visualize_array(extracted)"
      ],
      "execution_count": null,
      "outputs": [
        {
          "output_type": "stream",
          "text": [
            "array:\n"
          ],
          "name": "stdout"
        },
        {
          "output_type": "display_data",
          "data": {
            "text/html": [
              "\n",
              "<style>\n",
              "table {\n",
              "  border-collapse: collapse;\n",
              "}\n",
              "\n",
              "td {\n",
              "  border: 3px solid #666666;\n",
              "  min-width:30px;\n",
              "  height: 30px;\n",
              "  position: relative; \n",
              "  text-align:center; \n",
              "  color: #474747;\n",
              "  font-size:20px;\n",
              "  font-weight: bolder;\n",
              "  padding: 19px;\n",
              "}\n",
              "\n",
              ".up{\n",
              "  position: absolute; \n",
              "  right: 0;\n",
              "  top: 0;\n",
              "  background: white;\n",
              "  text-align: right;\n",
              "  font-size: 16px;\n",
              "  font-family: Courier;\n",
              "  font-weight: bolder;\n",
              "  color: blue;\n",
              "  opacity: 1.0;\n",
              "  background-color:rgba(0, 0, 0, 0.0);\n",
              "}\n",
              "\n",
              ".down{\n",
              "  position: absolute; \n",
              "  right: 0;\n",
              "  bottom: 0;\n",
              "  background: white;\n",
              "  text-align: right;\n",
              "  font-size: 16px;\n",
              "  font-family: Courier;\n",
              "  font-weight: bolder;\n",
              "  color: red;\n",
              "  opacity: 0.9;\n",
              "  background-color:rgba(0, 0, 0, 0.0);\n",
              "}\n",
              "</style>\n",
              "<table bgcolor=\"4b64aa\">\n",
              "<tr>\t<td><table bgcolor=\"96c8ff\"><tr>\n",
              "\t<td>1<span class=\"up\">0</span><span class=\"down\">-5</span></td>\n",
              "\t<td>2<span class=\"up\">1</span><span class=\"down\">-4</span></td>\n",
              "\t<td>3<span class=\"up\">2</span><span class=\"down\">-3</span></td>\n",
              "\t<td>4<span class=\"up\">3</span><span class=\"down\">-2</span></td>\n",
              "\t<td>5<span class=\"up\">4</span><span class=\"down\">-1</span></td>\n",
              "</tr></table>\n",
              "<span class=\"up\">0</span><span class=\"down\">-4</span></td></tr>\n",
              "<tr>\t<td><table bgcolor=\"96c8ff\"><tr>\n",
              "\t<td>1<span class=\"up\">0</span><span class=\"down\">-5</span></td>\n",
              "\t<td>2<span class=\"up\">1</span><span class=\"down\">-4</span></td>\n",
              "\t<td>3<span class=\"up\">2</span><span class=\"down\">-3</span></td>\n",
              "\t<td>4<span class=\"up\">3</span><span class=\"down\">-2</span></td>\n",
              "\t<td>5<span class=\"up\">4</span><span class=\"down\">-1</span></td>\n",
              "</tr></table>\n",
              "<span class=\"up\">1</span><span class=\"down\">-3</span></td></tr>\n",
              "<tr>\t<td><table bgcolor=\"96c8ff\"><tr>\n",
              "\t<td>1<span class=\"up\">0</span><span class=\"down\">-5</span></td>\n",
              "\t<td>2<span class=\"up\">1</span><span class=\"down\">-4</span></td>\n",
              "\t<td>3<span class=\"up\">2</span><span class=\"down\">-3</span></td>\n",
              "\t<td>4<span class=\"up\">3</span><span class=\"down\">-2</span></td>\n",
              "\t<td>5<span class=\"up\">4</span><span class=\"down\">-1</span></td>\n",
              "</tr></table>\n",
              "<span class=\"up\">2</span><span class=\"down\">-2</span></td></tr>\n",
              "<tr>\t<td><table bgcolor=\"96c8ff\"><tr>\n",
              "\t<td>1<span class=\"up\">0</span><span class=\"down\">-5</span></td>\n",
              "\t<td>2<span class=\"up\">1</span><span class=\"down\">-4</span></td>\n",
              "\t<td>3<span class=\"up\">2</span><span class=\"down\">-3</span></td>\n",
              "\t<td>4<span class=\"up\">3</span><span class=\"down\">-2</span></td>\n",
              "\t<td>5<span class=\"up\">4</span><span class=\"down\">-1</span></td>\n",
              "</tr></table>\n",
              "<span class=\"up\">3</span><span class=\"down\">-1</span></td></tr>\n",
              "</table>\n"
            ],
            "text/plain": [
              "<IPython.core.display.HTML object>"
            ]
          },
          "metadata": {
            "tags": []
          }
        },
        {
          "output_type": "stream",
          "text": [
            "extracted:\n"
          ],
          "name": "stdout"
        },
        {
          "output_type": "display_data",
          "data": {
            "text/html": [
              "\n",
              "<style>\n",
              "table {\n",
              "  border-collapse: collapse;\n",
              "}\n",
              "\n",
              "td {\n",
              "  border: 3px solid #666666;\n",
              "  min-width:30px;\n",
              "  height: 30px;\n",
              "  position: relative; \n",
              "  text-align:center; \n",
              "  color: #474747;\n",
              "  font-size:20px;\n",
              "  font-weight: bolder;\n",
              "  padding: 19px;\n",
              "}\n",
              "\n",
              ".up{\n",
              "  position: absolute; \n",
              "  right: 0;\n",
              "  top: 0;\n",
              "  background: white;\n",
              "  text-align: right;\n",
              "  font-size: 16px;\n",
              "  font-family: Courier;\n",
              "  font-weight: bolder;\n",
              "  color: blue;\n",
              "  opacity: 1.0;\n",
              "  background-color:rgba(0, 0, 0, 0.0);\n",
              "}\n",
              "\n",
              ".down{\n",
              "  position: absolute; \n",
              "  right: 0;\n",
              "  bottom: 0;\n",
              "  background: white;\n",
              "  text-align: right;\n",
              "  font-size: 16px;\n",
              "  font-family: Courier;\n",
              "  font-weight: bolder;\n",
              "  color: red;\n",
              "  opacity: 0.9;\n",
              "  background-color:rgba(0, 0, 0, 0.0);\n",
              "}\n",
              "</style>\n",
              "<table bgcolor=\"96c8ff\"><tr>\n",
              "\t<td>5<span class=\"up\">0</span><span class=\"down\">-4</span></td>\n",
              "\t<td>5<span class=\"up\">1</span><span class=\"down\">-3</span></td>\n",
              "\t<td>5<span class=\"up\">2</span><span class=\"down\">-2</span></td>\n",
              "\t<td>5<span class=\"up\">3</span><span class=\"down\">-1</span></td>\n",
              "</tr></table>\n"
            ],
            "text/plain": [
              "<IPython.core.display.HTML object>"
            ]
          },
          "metadata": {
            "tags": []
          }
        }
      ]
    },
    {
      "cell_type": "markdown",
      "metadata": {
        "id": "Szc94t4DGuem"
      },
      "source": [
        "##17. How to normalize an array so the values range exactly between 0 and 1?"
      ]
    },
    {
      "cell_type": "markdown",
      "metadata": {
        "id": "1B4fcVF4T3Iz"
      },
      "source": [
        "**Problem:**\n",
        "Create a normalized form of given array -- new values should range exactly between 0 and 1 so that the former minimum corresponds to value 0 and the former maximum corresponds to 1.\n",
        "Consider appropriate linear transformation."
      ]
    },
    {
      "cell_type": "code",
      "metadata": {
        "id": "37Qj4ITWGuem",
        "outputId": "d262a7f4-c732-4ca2-f178-9c8afbb79b20",
        "colab": {
          "base_uri": "https://localhost:8080/",
          "height": 201
        }
      },
      "source": [
        "import numpy as np\n",
        "\n",
        "# Input\n",
        "arr = np.array([1, 2, 3, 4, 5, 6, 7, 8, 9, 10])\n",
        "\n",
        "# Enter your code here\n",
        "arr_norm = (arr - np.min(arr)) / (np.max(arr) - np.min(arr))\n",
        "\n",
        "# Output:\n",
        "print('array:')\n",
        "visualize_array(arr)\n",
        "print('normalized:')\n",
        "visualize_array(arr_norm.round(2))"
      ],
      "execution_count": 36,
      "outputs": [
        {
          "output_type": "stream",
          "name": "stdout",
          "text": [
            "array:\n"
          ]
        },
        {
          "output_type": "display_data",
          "data": {
            "text/plain": [
              "<IPython.core.display.HTML object>"
            ],
            "text/html": [
              "\n",
              "<style>\n",
              "table {\n",
              "  border-collapse: collapse;\n",
              "}\n",
              "\n",
              "td {\n",
              "  border: 3px solid #666666;\n",
              "  min-width:30px;\n",
              "  height: 30px;\n",
              "  position: relative;\n",
              "  text-align:center;\n",
              "  color: #474747;\n",
              "  font-size:20px;\n",
              "  font-weight: bolder;\n",
              "  padding: 19px;\n",
              "}\n",
              "\n",
              ".up{\n",
              "  position: absolute;\n",
              "  right: 0;\n",
              "  top: 0;\n",
              "  background: white;\n",
              "  text-align: right;\n",
              "  font-size: 16px;\n",
              "  font-family: Courier;\n",
              "  font-weight: bolder;\n",
              "  color: blue;\n",
              "  opacity: 1.0;\n",
              "  background-color:rgba(0, 0, 0, 0.0);\n",
              "}\n",
              "\n",
              ".down{\n",
              "  position: absolute;\n",
              "  right: 0;\n",
              "  bottom: 0;\n",
              "  background: white;\n",
              "  text-align: right;\n",
              "  font-size: 16px;\n",
              "  font-family: Courier;\n",
              "  font-weight: bolder;\n",
              "  color: red;\n",
              "  opacity: 0.9;\n",
              "  background-color:rgba(0, 0, 0, 0.0);\n",
              "}\n",
              "</style>\n",
              "<table bgcolor=\"96c8ff\"><tr>\n",
              "\t<td>1<span class=\"up\">0</span><span class=\"down\">-10</span></td>\n",
              "\t<td>2<span class=\"up\">1</span><span class=\"down\">-9</span></td>\n",
              "\t<td>3<span class=\"up\">2</span><span class=\"down\">-8</span></td>\n",
              "\t<td>4<span class=\"up\">3</span><span class=\"down\">-7</span></td>\n",
              "\t<td>5<span class=\"up\">4</span><span class=\"down\">-6</span></td>\n",
              "\t<td>6<span class=\"up\">5</span><span class=\"down\">-5</span></td>\n",
              "\t<td>7<span class=\"up\">6</span><span class=\"down\">-4</span></td>\n",
              "\t<td>8<span class=\"up\">7</span><span class=\"down\">-3</span></td>\n",
              "\t<td>9<span class=\"up\">8</span><span class=\"down\">-2</span></td>\n",
              "\t<td>10<span class=\"up\">9</span><span class=\"down\">-1</span></td>\n",
              "</tr></table>\n"
            ]
          },
          "metadata": {}
        },
        {
          "output_type": "stream",
          "name": "stdout",
          "text": [
            "normalized:\n"
          ]
        },
        {
          "output_type": "display_data",
          "data": {
            "text/plain": [
              "<IPython.core.display.HTML object>"
            ],
            "text/html": [
              "\n",
              "<style>\n",
              "table {\n",
              "  border-collapse: collapse;\n",
              "}\n",
              "\n",
              "td {\n",
              "  border: 3px solid #666666;\n",
              "  min-width:30px;\n",
              "  height: 30px;\n",
              "  position: relative;\n",
              "  text-align:center;\n",
              "  color: #474747;\n",
              "  font-size:20px;\n",
              "  font-weight: bolder;\n",
              "  padding: 19px;\n",
              "}\n",
              "\n",
              ".up{\n",
              "  position: absolute;\n",
              "  right: 0;\n",
              "  top: 0;\n",
              "  background: white;\n",
              "  text-align: right;\n",
              "  font-size: 16px;\n",
              "  font-family: Courier;\n",
              "  font-weight: bolder;\n",
              "  color: blue;\n",
              "  opacity: 1.0;\n",
              "  background-color:rgba(0, 0, 0, 0.0);\n",
              "}\n",
              "\n",
              ".down{\n",
              "  position: absolute;\n",
              "  right: 0;\n",
              "  bottom: 0;\n",
              "  background: white;\n",
              "  text-align: right;\n",
              "  font-size: 16px;\n",
              "  font-family: Courier;\n",
              "  font-weight: bolder;\n",
              "  color: red;\n",
              "  opacity: 0.9;\n",
              "  background-color:rgba(0, 0, 0, 0.0);\n",
              "}\n",
              "</style>\n",
              "<table bgcolor=\"96c8ff\"><tr>\n",
              "\t<td>0.0<span class=\"up\">0</span><span class=\"down\">-10</span></td>\n",
              "\t<td>0.11<span class=\"up\">1</span><span class=\"down\">-9</span></td>\n",
              "\t<td>0.22<span class=\"up\">2</span><span class=\"down\">-8</span></td>\n",
              "\t<td>0.33<span class=\"up\">3</span><span class=\"down\">-7</span></td>\n",
              "\t<td>0.44<span class=\"up\">4</span><span class=\"down\">-6</span></td>\n",
              "\t<td>0.56<span class=\"up\">5</span><span class=\"down\">-5</span></td>\n",
              "\t<td>0.67<span class=\"up\">6</span><span class=\"down\">-4</span></td>\n",
              "\t<td>0.78<span class=\"up\">7</span><span class=\"down\">-3</span></td>\n",
              "\t<td>0.89<span class=\"up\">8</span><span class=\"down\">-2</span></td>\n",
              "\t<td>1.0<span class=\"up\">9</span><span class=\"down\">-1</span></td>\n",
              "</tr></table>\n"
            ]
          },
          "metadata": {}
        }
      ]
    },
    {
      "cell_type": "code",
      "metadata": {
        "id": "a25_DNhNSmVh",
        "cellView": "form",
        "colab": {
          "base_uri": "https://localhost:8080/",
          "height": 199
        },
        "outputId": "5d972e69-39b2-4cfc-d5dc-ead2b53ef143"
      },
      "source": [
        "#@title Solution A (double click to see the source code)\n",
        "\n",
        "import numpy as np\n",
        "\n",
        "# Input\n",
        "arr = np.array([1, 2, 3, 4, 5, 6, 7, 8, 9, 10]) #@param\n",
        "\n",
        "# Solution\n",
        "arr_max, arr_min = arr.max(), arr.min()\n",
        "arr_norm = (arr - arr_min)/(arr_max - arr_min)\n",
        "\n",
        "# Output:\n",
        "print('array:')\n",
        "visualize_array(arr)\n",
        "print('normalized:')\n",
        "visualize_array(arr_norm.round(2))"
      ],
      "execution_count": null,
      "outputs": [
        {
          "output_type": "stream",
          "text": [
            "array:\n"
          ],
          "name": "stdout"
        },
        {
          "output_type": "display_data",
          "data": {
            "text/html": [
              "\n",
              "<style>\n",
              "table {\n",
              "  border-collapse: collapse;\n",
              "}\n",
              "\n",
              "td {\n",
              "  border: 3px solid #666666;\n",
              "  min-width:30px;\n",
              "  height: 30px;\n",
              "  position: relative; \n",
              "  text-align:center; \n",
              "  color: #474747;\n",
              "  font-size:20px;\n",
              "  font-weight: bolder;\n",
              "  padding: 19px;\n",
              "}\n",
              "\n",
              ".up{\n",
              "  position: absolute; \n",
              "  right: 0;\n",
              "  top: 0;\n",
              "  background: white;\n",
              "  text-align: right;\n",
              "  font-size: 16px;\n",
              "  font-family: Courier;\n",
              "  font-weight: bolder;\n",
              "  color: blue;\n",
              "  opacity: 1.0;\n",
              "  background-color:rgba(0, 0, 0, 0.0);\n",
              "}\n",
              "\n",
              ".down{\n",
              "  position: absolute; \n",
              "  right: 0;\n",
              "  bottom: 0;\n",
              "  background: white;\n",
              "  text-align: right;\n",
              "  font-size: 16px;\n",
              "  font-family: Courier;\n",
              "  font-weight: bolder;\n",
              "  color: red;\n",
              "  opacity: 0.9;\n",
              "  background-color:rgba(0, 0, 0, 0.0);\n",
              "}\n",
              "</style>\n",
              "<table bgcolor=\"96c8ff\"><tr>\n",
              "\t<td>1<span class=\"up\">0</span><span class=\"down\">-10</span></td>\n",
              "\t<td>2<span class=\"up\">1</span><span class=\"down\">-9</span></td>\n",
              "\t<td>3<span class=\"up\">2</span><span class=\"down\">-8</span></td>\n",
              "\t<td>4<span class=\"up\">3</span><span class=\"down\">-7</span></td>\n",
              "\t<td>5<span class=\"up\">4</span><span class=\"down\">-6</span></td>\n",
              "\t<td>6<span class=\"up\">5</span><span class=\"down\">-5</span></td>\n",
              "\t<td>7<span class=\"up\">6</span><span class=\"down\">-4</span></td>\n",
              "\t<td>8<span class=\"up\">7</span><span class=\"down\">-3</span></td>\n",
              "\t<td>9<span class=\"up\">8</span><span class=\"down\">-2</span></td>\n",
              "\t<td>10<span class=\"up\">9</span><span class=\"down\">-1</span></td>\n",
              "</tr></table>\n"
            ],
            "text/plain": [
              "<IPython.core.display.HTML object>"
            ]
          },
          "metadata": {
            "tags": []
          }
        },
        {
          "output_type": "stream",
          "text": [
            "normalized:\n"
          ],
          "name": "stdout"
        },
        {
          "output_type": "display_data",
          "data": {
            "text/html": [
              "\n",
              "<style>\n",
              "table {\n",
              "  border-collapse: collapse;\n",
              "}\n",
              "\n",
              "td {\n",
              "  border: 3px solid #666666;\n",
              "  min-width:30px;\n",
              "  height: 30px;\n",
              "  position: relative; \n",
              "  text-align:center; \n",
              "  color: #474747;\n",
              "  font-size:20px;\n",
              "  font-weight: bolder;\n",
              "  padding: 19px;\n",
              "}\n",
              "\n",
              ".up{\n",
              "  position: absolute; \n",
              "  right: 0;\n",
              "  top: 0;\n",
              "  background: white;\n",
              "  text-align: right;\n",
              "  font-size: 16px;\n",
              "  font-family: Courier;\n",
              "  font-weight: bolder;\n",
              "  color: blue;\n",
              "  opacity: 1.0;\n",
              "  background-color:rgba(0, 0, 0, 0.0);\n",
              "}\n",
              "\n",
              ".down{\n",
              "  position: absolute; \n",
              "  right: 0;\n",
              "  bottom: 0;\n",
              "  background: white;\n",
              "  text-align: right;\n",
              "  font-size: 16px;\n",
              "  font-family: Courier;\n",
              "  font-weight: bolder;\n",
              "  color: red;\n",
              "  opacity: 0.9;\n",
              "  background-color:rgba(0, 0, 0, 0.0);\n",
              "}\n",
              "</style>\n",
              "<table bgcolor=\"96c8ff\"><tr>\n",
              "\t<td>0.0<span class=\"up\">0</span><span class=\"down\">-10</span></td>\n",
              "\t<td>0.11<span class=\"up\">1</span><span class=\"down\">-9</span></td>\n",
              "\t<td>0.22<span class=\"up\">2</span><span class=\"down\">-8</span></td>\n",
              "\t<td>0.33<span class=\"up\">3</span><span class=\"down\">-7</span></td>\n",
              "\t<td>0.44<span class=\"up\">4</span><span class=\"down\">-6</span></td>\n",
              "\t<td>0.56<span class=\"up\">5</span><span class=\"down\">-5</span></td>\n",
              "\t<td>0.67<span class=\"up\">6</span><span class=\"down\">-4</span></td>\n",
              "\t<td>0.78<span class=\"up\">7</span><span class=\"down\">-3</span></td>\n",
              "\t<td>0.89<span class=\"up\">8</span><span class=\"down\">-2</span></td>\n",
              "\t<td>1.0<span class=\"up\">9</span><span class=\"down\">-1</span></td>\n",
              "</tr></table>\n"
            ],
            "text/plain": [
              "<IPython.core.display.HTML object>"
            ]
          },
          "metadata": {
            "tags": []
          }
        }
      ]
    },
    {
      "cell_type": "code",
      "metadata": {
        "id": "bVe77UIqGuen",
        "cellView": "form",
        "colab": {
          "base_uri": "https://localhost:8080/",
          "height": 199
        },
        "outputId": "e98c106a-8ed7-412a-a194-28cba6dc729b"
      },
      "source": [
        "#@title Solution B (double click to see the source code)\n",
        "\n",
        "import numpy as np\n",
        "\n",
        "# Input\n",
        "arr = np.array([1, 2, 3, 4, 5, 6, 7, 8, 9, 10]) #@param\n",
        "\n",
        "# Solution\n",
        "arr_min = arr.min()\n",
        "arr_norm = (arr - arr_min)/arr.ptp()\n",
        "\n",
        "# Output:\n",
        "print('array:')\n",
        "visualize_array(arr)\n",
        "print('normalized:')\n",
        "visualize_array(arr_norm.round(2))"
      ],
      "execution_count": null,
      "outputs": [
        {
          "output_type": "stream",
          "text": [
            "array:\n"
          ],
          "name": "stdout"
        },
        {
          "output_type": "display_data",
          "data": {
            "text/html": [
              "\n",
              "<style>\n",
              "table {\n",
              "  border-collapse: collapse;\n",
              "}\n",
              "\n",
              "td {\n",
              "  border: 3px solid #666666;\n",
              "  min-width:30px;\n",
              "  height: 30px;\n",
              "  position: relative; \n",
              "  text-align:center; \n",
              "  color: #474747;\n",
              "  font-size:20px;\n",
              "  font-weight: bolder;\n",
              "  padding: 19px;\n",
              "}\n",
              "\n",
              ".up{\n",
              "  position: absolute; \n",
              "  right: 0;\n",
              "  top: 0;\n",
              "  background: white;\n",
              "  text-align: right;\n",
              "  font-size: 16px;\n",
              "  font-family: Courier;\n",
              "  font-weight: bolder;\n",
              "  color: blue;\n",
              "  opacity: 1.0;\n",
              "  background-color:rgba(0, 0, 0, 0.0);\n",
              "}\n",
              "\n",
              ".down{\n",
              "  position: absolute; \n",
              "  right: 0;\n",
              "  bottom: 0;\n",
              "  background: white;\n",
              "  text-align: right;\n",
              "  font-size: 16px;\n",
              "  font-family: Courier;\n",
              "  font-weight: bolder;\n",
              "  color: red;\n",
              "  opacity: 0.9;\n",
              "  background-color:rgba(0, 0, 0, 0.0);\n",
              "}\n",
              "</style>\n",
              "<table bgcolor=\"96c8ff\"><tr>\n",
              "\t<td>1<span class=\"up\">0</span><span class=\"down\">-10</span></td>\n",
              "\t<td>2<span class=\"up\">1</span><span class=\"down\">-9</span></td>\n",
              "\t<td>3<span class=\"up\">2</span><span class=\"down\">-8</span></td>\n",
              "\t<td>4<span class=\"up\">3</span><span class=\"down\">-7</span></td>\n",
              "\t<td>5<span class=\"up\">4</span><span class=\"down\">-6</span></td>\n",
              "\t<td>6<span class=\"up\">5</span><span class=\"down\">-5</span></td>\n",
              "\t<td>7<span class=\"up\">6</span><span class=\"down\">-4</span></td>\n",
              "\t<td>8<span class=\"up\">7</span><span class=\"down\">-3</span></td>\n",
              "\t<td>9<span class=\"up\">8</span><span class=\"down\">-2</span></td>\n",
              "\t<td>10<span class=\"up\">9</span><span class=\"down\">-1</span></td>\n",
              "</tr></table>\n"
            ],
            "text/plain": [
              "<IPython.core.display.HTML object>"
            ]
          },
          "metadata": {
            "tags": []
          }
        },
        {
          "output_type": "stream",
          "text": [
            "normalized:\n"
          ],
          "name": "stdout"
        },
        {
          "output_type": "display_data",
          "data": {
            "text/html": [
              "\n",
              "<style>\n",
              "table {\n",
              "  border-collapse: collapse;\n",
              "}\n",
              "\n",
              "td {\n",
              "  border: 3px solid #666666;\n",
              "  min-width:30px;\n",
              "  height: 30px;\n",
              "  position: relative; \n",
              "  text-align:center; \n",
              "  color: #474747;\n",
              "  font-size:20px;\n",
              "  font-weight: bolder;\n",
              "  padding: 19px;\n",
              "}\n",
              "\n",
              ".up{\n",
              "  position: absolute; \n",
              "  right: 0;\n",
              "  top: 0;\n",
              "  background: white;\n",
              "  text-align: right;\n",
              "  font-size: 16px;\n",
              "  font-family: Courier;\n",
              "  font-weight: bolder;\n",
              "  color: blue;\n",
              "  opacity: 1.0;\n",
              "  background-color:rgba(0, 0, 0, 0.0);\n",
              "}\n",
              "\n",
              ".down{\n",
              "  position: absolute; \n",
              "  right: 0;\n",
              "  bottom: 0;\n",
              "  background: white;\n",
              "  text-align: right;\n",
              "  font-size: 16px;\n",
              "  font-family: Courier;\n",
              "  font-weight: bolder;\n",
              "  color: red;\n",
              "  opacity: 0.9;\n",
              "  background-color:rgba(0, 0, 0, 0.0);\n",
              "}\n",
              "</style>\n",
              "<table bgcolor=\"96c8ff\"><tr>\n",
              "\t<td>0.0<span class=\"up\">0</span><span class=\"down\">-10</span></td>\n",
              "\t<td>0.11<span class=\"up\">1</span><span class=\"down\">-9</span></td>\n",
              "\t<td>0.22<span class=\"up\">2</span><span class=\"down\">-8</span></td>\n",
              "\t<td>0.33<span class=\"up\">3</span><span class=\"down\">-7</span></td>\n",
              "\t<td>0.44<span class=\"up\">4</span><span class=\"down\">-6</span></td>\n",
              "\t<td>0.56<span class=\"up\">5</span><span class=\"down\">-5</span></td>\n",
              "\t<td>0.67<span class=\"up\">6</span><span class=\"down\">-4</span></td>\n",
              "\t<td>0.78<span class=\"up\">7</span><span class=\"down\">-3</span></td>\n",
              "\t<td>0.89<span class=\"up\">8</span><span class=\"down\">-2</span></td>\n",
              "\t<td>1.0<span class=\"up\">9</span><span class=\"down\">-1</span></td>\n",
              "</tr></table>\n"
            ],
            "text/plain": [
              "<IPython.core.display.HTML object>"
            ]
          },
          "metadata": {
            "tags": []
          }
        }
      ]
    },
    {
      "cell_type": "markdown",
      "metadata": {
        "id": "Oi5PU2MVGuev"
      },
      "source": [
        "##18. How to insert values at random positions in an array?"
      ]
    },
    {
      "cell_type": "markdown",
      "metadata": {
        "id": "q82r-T2jWpeE"
      },
      "source": [
        "**Problem:**\n",
        "Insert np.nan values at 2 random positions in given array."
      ]
    },
    {
      "cell_type": "code",
      "metadata": {
        "id": "bhpQDDgLGuev",
        "outputId": "6f4de04b-e419-49a6-8680-8601f3abbad7",
        "colab": {
          "base_uri": "https://localhost:8080/",
          "height": 749
        }
      },
      "source": [
        "import numpy as np\n",
        "\n",
        "# Input\n",
        "matr = np.array([[1.,2.,3.],\n",
        "                 [1.,2.,3.],\n",
        "                 [1.,2.,3.]])\n",
        "print('BEFORE INSERT:')\n",
        "visualize_array(matr)\n",
        "\n",
        "# Enter your code here\n",
        "rows = np.random.randint(3, size=2)\n",
        "cols = np.random.randint(3, size=2)\n",
        "matr[rows, cols] = np.nan\n",
        "\n",
        "# Output\n",
        "print('AFTER INSERT:')\n",
        "visualize_array(matr)"
      ],
      "execution_count": 38,
      "outputs": [
        {
          "output_type": "stream",
          "name": "stdout",
          "text": [
            "BEFORE INSERT:\n"
          ]
        },
        {
          "output_type": "display_data",
          "data": {
            "text/plain": [
              "<IPython.core.display.HTML object>"
            ],
            "text/html": [
              "\n",
              "<style>\n",
              "table {\n",
              "  border-collapse: collapse;\n",
              "}\n",
              "\n",
              "td {\n",
              "  border: 3px solid #666666;\n",
              "  min-width:30px;\n",
              "  height: 30px;\n",
              "  position: relative;\n",
              "  text-align:center;\n",
              "  color: #474747;\n",
              "  font-size:20px;\n",
              "  font-weight: bolder;\n",
              "  padding: 19px;\n",
              "}\n",
              "\n",
              ".up{\n",
              "  position: absolute;\n",
              "  right: 0;\n",
              "  top: 0;\n",
              "  background: white;\n",
              "  text-align: right;\n",
              "  font-size: 16px;\n",
              "  font-family: Courier;\n",
              "  font-weight: bolder;\n",
              "  color: blue;\n",
              "  opacity: 1.0;\n",
              "  background-color:rgba(0, 0, 0, 0.0);\n",
              "}\n",
              "\n",
              ".down{\n",
              "  position: absolute;\n",
              "  right: 0;\n",
              "  bottom: 0;\n",
              "  background: white;\n",
              "  text-align: right;\n",
              "  font-size: 16px;\n",
              "  font-family: Courier;\n",
              "  font-weight: bolder;\n",
              "  color: red;\n",
              "  opacity: 0.9;\n",
              "  background-color:rgba(0, 0, 0, 0.0);\n",
              "}\n",
              "</style>\n",
              "<table bgcolor=\"4b64aa\">\n",
              "<tr>\t<td><table bgcolor=\"96c8ff\"><tr>\n",
              "\t<td>1.0<span class=\"up\">0</span><span class=\"down\">-3</span></td>\n",
              "\t<td>2.0<span class=\"up\">1</span><span class=\"down\">-2</span></td>\n",
              "\t<td>3.0<span class=\"up\">2</span><span class=\"down\">-1</span></td>\n",
              "</tr></table>\n",
              "<span class=\"up\">0</span><span class=\"down\">-3</span></td></tr>\n",
              "<tr>\t<td><table bgcolor=\"96c8ff\"><tr>\n",
              "\t<td>1.0<span class=\"up\">0</span><span class=\"down\">-3</span></td>\n",
              "\t<td>2.0<span class=\"up\">1</span><span class=\"down\">-2</span></td>\n",
              "\t<td>3.0<span class=\"up\">2</span><span class=\"down\">-1</span></td>\n",
              "</tr></table>\n",
              "<span class=\"up\">1</span><span class=\"down\">-2</span></td></tr>\n",
              "<tr>\t<td><table bgcolor=\"96c8ff\"><tr>\n",
              "\t<td>1.0<span class=\"up\">0</span><span class=\"down\">-3</span></td>\n",
              "\t<td>2.0<span class=\"up\">1</span><span class=\"down\">-2</span></td>\n",
              "\t<td>3.0<span class=\"up\">2</span><span class=\"down\">-1</span></td>\n",
              "</tr></table>\n",
              "<span class=\"up\">2</span><span class=\"down\">-1</span></td></tr>\n",
              "</table>\n"
            ]
          },
          "metadata": {}
        },
        {
          "output_type": "stream",
          "name": "stdout",
          "text": [
            "AFTER INSERT:\n"
          ]
        },
        {
          "output_type": "display_data",
          "data": {
            "text/plain": [
              "<IPython.core.display.HTML object>"
            ],
            "text/html": [
              "\n",
              "<style>\n",
              "table {\n",
              "  border-collapse: collapse;\n",
              "}\n",
              "\n",
              "td {\n",
              "  border: 3px solid #666666;\n",
              "  min-width:30px;\n",
              "  height: 30px;\n",
              "  position: relative;\n",
              "  text-align:center;\n",
              "  color: #474747;\n",
              "  font-size:20px;\n",
              "  font-weight: bolder;\n",
              "  padding: 19px;\n",
              "}\n",
              "\n",
              ".up{\n",
              "  position: absolute;\n",
              "  right: 0;\n",
              "  top: 0;\n",
              "  background: white;\n",
              "  text-align: right;\n",
              "  font-size: 16px;\n",
              "  font-family: Courier;\n",
              "  font-weight: bolder;\n",
              "  color: blue;\n",
              "  opacity: 1.0;\n",
              "  background-color:rgba(0, 0, 0, 0.0);\n",
              "}\n",
              "\n",
              ".down{\n",
              "  position: absolute;\n",
              "  right: 0;\n",
              "  bottom: 0;\n",
              "  background: white;\n",
              "  text-align: right;\n",
              "  font-size: 16px;\n",
              "  font-family: Courier;\n",
              "  font-weight: bolder;\n",
              "  color: red;\n",
              "  opacity: 0.9;\n",
              "  background-color:rgba(0, 0, 0, 0.0);\n",
              "}\n",
              "</style>\n",
              "<table bgcolor=\"4b64aa\">\n",
              "<tr>\t<td><table bgcolor=\"96c8ff\"><tr>\n",
              "\t<td>nan<span class=\"up\">0</span><span class=\"down\">-3</span></td>\n",
              "\t<td>2.0<span class=\"up\">1</span><span class=\"down\">-2</span></td>\n",
              "\t<td>3.0<span class=\"up\">2</span><span class=\"down\">-1</span></td>\n",
              "</tr></table>\n",
              "<span class=\"up\">0</span><span class=\"down\">-3</span></td></tr>\n",
              "<tr>\t<td><table bgcolor=\"96c8ff\"><tr>\n",
              "\t<td>1.0<span class=\"up\">0</span><span class=\"down\">-3</span></td>\n",
              "\t<td>nan<span class=\"up\">1</span><span class=\"down\">-2</span></td>\n",
              "\t<td>3.0<span class=\"up\">2</span><span class=\"down\">-1</span></td>\n",
              "</tr></table>\n",
              "<span class=\"up\">1</span><span class=\"down\">-2</span></td></tr>\n",
              "<tr>\t<td><table bgcolor=\"96c8ff\"><tr>\n",
              "\t<td>1.0<span class=\"up\">0</span><span class=\"down\">-3</span></td>\n",
              "\t<td>2.0<span class=\"up\">1</span><span class=\"down\">-2</span></td>\n",
              "\t<td>3.0<span class=\"up\">2</span><span class=\"down\">-1</span></td>\n",
              "</tr></table>\n",
              "<span class=\"up\">2</span><span class=\"down\">-1</span></td></tr>\n",
              "</table>\n"
            ]
          },
          "metadata": {}
        }
      ]
    },
    {
      "cell_type": "code",
      "metadata": {
        "id": "Gy9L_epJGuex",
        "cellView": "form",
        "colab": {
          "base_uri": "https://localhost:8080/",
          "height": 730
        },
        "outputId": "d4657003-cd82-4085-db46-678e2194b216"
      },
      "source": [
        "#@title Solution (double click to see the source code)\n",
        "\n",
        "import numpy as np\n",
        "\n",
        "# Input\n",
        "matr = np.array([[1.,2.,3.], [1.,2.,3.], [1.,2.,3.]]) #@param\n",
        "print('BEFORE INSERT:')\n",
        "visualize_array(matr)\n",
        "\n",
        "# Solution\n",
        "matr[np.random.randint(3, size=2), np.random.randint(3, size=2)] = np.nan\n",
        "\n",
        "# Output\n",
        "print('AFTER INSERT:')\n",
        "visualize_array(matr)"
      ],
      "execution_count": null,
      "outputs": [
        {
          "output_type": "stream",
          "text": [
            "BEFORE INSERT:\n"
          ],
          "name": "stdout"
        },
        {
          "output_type": "display_data",
          "data": {
            "text/html": [
              "\n",
              "<style>\n",
              "table {\n",
              "  border-collapse: collapse;\n",
              "}\n",
              "\n",
              "td {\n",
              "  border: 3px solid #666666;\n",
              "  min-width:30px;\n",
              "  height: 30px;\n",
              "  position: relative; \n",
              "  text-align:center; \n",
              "  color: #474747;\n",
              "  font-size:20px;\n",
              "  font-weight: bolder;\n",
              "  padding: 19px;\n",
              "}\n",
              "\n",
              ".up{\n",
              "  position: absolute; \n",
              "  right: 0;\n",
              "  top: 0;\n",
              "  background: white;\n",
              "  text-align: right;\n",
              "  font-size: 16px;\n",
              "  font-family: Courier;\n",
              "  font-weight: bolder;\n",
              "  color: blue;\n",
              "  opacity: 1.0;\n",
              "  background-color:rgba(0, 0, 0, 0.0);\n",
              "}\n",
              "\n",
              ".down{\n",
              "  position: absolute; \n",
              "  right: 0;\n",
              "  bottom: 0;\n",
              "  background: white;\n",
              "  text-align: right;\n",
              "  font-size: 16px;\n",
              "  font-family: Courier;\n",
              "  font-weight: bolder;\n",
              "  color: red;\n",
              "  opacity: 0.9;\n",
              "  background-color:rgba(0, 0, 0, 0.0);\n",
              "}\n",
              "</style>\n",
              "<table bgcolor=\"4b64aa\">\n",
              "<tr>\t<td><table bgcolor=\"96c8ff\"><tr>\n",
              "\t<td>1.0<span class=\"up\">0</span><span class=\"down\">-3</span></td>\n",
              "\t<td>2.0<span class=\"up\">1</span><span class=\"down\">-2</span></td>\n",
              "\t<td>3.0<span class=\"up\">2</span><span class=\"down\">-1</span></td>\n",
              "</tr></table>\n",
              "<span class=\"up\">0</span><span class=\"down\">-3</span></td></tr>\n",
              "<tr>\t<td><table bgcolor=\"96c8ff\"><tr>\n",
              "\t<td>1.0<span class=\"up\">0</span><span class=\"down\">-3</span></td>\n",
              "\t<td>2.0<span class=\"up\">1</span><span class=\"down\">-2</span></td>\n",
              "\t<td>3.0<span class=\"up\">2</span><span class=\"down\">-1</span></td>\n",
              "</tr></table>\n",
              "<span class=\"up\">1</span><span class=\"down\">-2</span></td></tr>\n",
              "<tr>\t<td><table bgcolor=\"96c8ff\"><tr>\n",
              "\t<td>1.0<span class=\"up\">0</span><span class=\"down\">-3</span></td>\n",
              "\t<td>2.0<span class=\"up\">1</span><span class=\"down\">-2</span></td>\n",
              "\t<td>3.0<span class=\"up\">2</span><span class=\"down\">-1</span></td>\n",
              "</tr></table>\n",
              "<span class=\"up\">2</span><span class=\"down\">-1</span></td></tr>\n",
              "</table>\n"
            ],
            "text/plain": [
              "<IPython.core.display.HTML object>"
            ]
          },
          "metadata": {
            "tags": []
          }
        },
        {
          "output_type": "stream",
          "text": [
            "AFTER INSERT:\n"
          ],
          "name": "stdout"
        },
        {
          "output_type": "display_data",
          "data": {
            "text/html": [
              "\n",
              "<style>\n",
              "table {\n",
              "  border-collapse: collapse;\n",
              "}\n",
              "\n",
              "td {\n",
              "  border: 3px solid #666666;\n",
              "  min-width:30px;\n",
              "  height: 30px;\n",
              "  position: relative; \n",
              "  text-align:center; \n",
              "  color: #474747;\n",
              "  font-size:20px;\n",
              "  font-weight: bolder;\n",
              "  padding: 19px;\n",
              "}\n",
              "\n",
              ".up{\n",
              "  position: absolute; \n",
              "  right: 0;\n",
              "  top: 0;\n",
              "  background: white;\n",
              "  text-align: right;\n",
              "  font-size: 16px;\n",
              "  font-family: Courier;\n",
              "  font-weight: bolder;\n",
              "  color: blue;\n",
              "  opacity: 1.0;\n",
              "  background-color:rgba(0, 0, 0, 0.0);\n",
              "}\n",
              "\n",
              ".down{\n",
              "  position: absolute; \n",
              "  right: 0;\n",
              "  bottom: 0;\n",
              "  background: white;\n",
              "  text-align: right;\n",
              "  font-size: 16px;\n",
              "  font-family: Courier;\n",
              "  font-weight: bolder;\n",
              "  color: red;\n",
              "  opacity: 0.9;\n",
              "  background-color:rgba(0, 0, 0, 0.0);\n",
              "}\n",
              "</style>\n",
              "<table bgcolor=\"4b64aa\">\n",
              "<tr>\t<td><table bgcolor=\"96c8ff\"><tr>\n",
              "\t<td>1.0<span class=\"up\">0</span><span class=\"down\">-3</span></td>\n",
              "\t<td>nan<span class=\"up\">1</span><span class=\"down\">-2</span></td>\n",
              "\t<td>3.0<span class=\"up\">2</span><span class=\"down\">-1</span></td>\n",
              "</tr></table>\n",
              "<span class=\"up\">0</span><span class=\"down\">-3</span></td></tr>\n",
              "<tr>\t<td><table bgcolor=\"96c8ff\"><tr>\n",
              "\t<td>1.0<span class=\"up\">0</span><span class=\"down\">-3</span></td>\n",
              "\t<td>2.0<span class=\"up\">1</span><span class=\"down\">-2</span></td>\n",
              "\t<td>nan<span class=\"up\">2</span><span class=\"down\">-1</span></td>\n",
              "</tr></table>\n",
              "<span class=\"up\">1</span><span class=\"down\">-2</span></td></tr>\n",
              "<tr>\t<td><table bgcolor=\"96c8ff\"><tr>\n",
              "\t<td>1.0<span class=\"up\">0</span><span class=\"down\">-3</span></td>\n",
              "\t<td>2.0<span class=\"up\">1</span><span class=\"down\">-2</span></td>\n",
              "\t<td>3.0<span class=\"up\">2</span><span class=\"down\">-1</span></td>\n",
              "</tr></table>\n",
              "<span class=\"up\">2</span><span class=\"down\">-1</span></td></tr>\n",
              "</table>\n"
            ],
            "text/plain": [
              "<IPython.core.display.HTML object>"
            ]
          },
          "metadata": {
            "tags": []
          }
        }
      ]
    },
    {
      "cell_type": "markdown",
      "metadata": {
        "id": "eC5IgRbjGuez"
      },
      "source": [
        "##19. How to find the position of missing values in numpy array?"
      ]
    },
    {
      "cell_type": "markdown",
      "metadata": {
        "id": "-esOYfsNXsRc"
      },
      "source": [
        "**Problem:**\n",
        "Find the number and position of missing values in given 2D array."
      ]
    },
    {
      "cell_type": "code",
      "metadata": {
        "id": "8mRuVJSBGuez",
        "outputId": "faa25393-3c54-460d-add5-2054717e2737",
        "colab": {
          "base_uri": "https://localhost:8080/",
          "height": 634
        }
      },
      "source": [
        "import numpy as np\n",
        "\n",
        "# Input\n",
        "matr = np.array([[np.nan,     2.,    3. ],\n",
        "                 [    1., np.nan,    3. ],\n",
        "                 [     1.,    2., np.nan]])\n",
        "print('input:')\n",
        "visualize_array(matr)\n",
        "\n",
        "# Enter your code here\n",
        "n_mis = np.count_nonzero(np.isnan(matr))\n",
        "idx_mis = np.where(np.isnan(matr))\n",
        "\n",
        "# Output\n",
        "print(\"Array is missing \", n_mis, \" values with indices:\")\n",
        "visualize_array(np.array(idx_mis))"
      ],
      "execution_count": 43,
      "outputs": [
        {
          "output_type": "stream",
          "name": "stdout",
          "text": [
            "input:\n"
          ]
        },
        {
          "output_type": "display_data",
          "data": {
            "text/plain": [
              "<IPython.core.display.HTML object>"
            ],
            "text/html": [
              "\n",
              "<style>\n",
              "table {\n",
              "  border-collapse: collapse;\n",
              "}\n",
              "\n",
              "td {\n",
              "  border: 3px solid #666666;\n",
              "  min-width:30px;\n",
              "  height: 30px;\n",
              "  position: relative;\n",
              "  text-align:center;\n",
              "  color: #474747;\n",
              "  font-size:20px;\n",
              "  font-weight: bolder;\n",
              "  padding: 19px;\n",
              "}\n",
              "\n",
              ".up{\n",
              "  position: absolute;\n",
              "  right: 0;\n",
              "  top: 0;\n",
              "  background: white;\n",
              "  text-align: right;\n",
              "  font-size: 16px;\n",
              "  font-family: Courier;\n",
              "  font-weight: bolder;\n",
              "  color: blue;\n",
              "  opacity: 1.0;\n",
              "  background-color:rgba(0, 0, 0, 0.0);\n",
              "}\n",
              "\n",
              ".down{\n",
              "  position: absolute;\n",
              "  right: 0;\n",
              "  bottom: 0;\n",
              "  background: white;\n",
              "  text-align: right;\n",
              "  font-size: 16px;\n",
              "  font-family: Courier;\n",
              "  font-weight: bolder;\n",
              "  color: red;\n",
              "  opacity: 0.9;\n",
              "  background-color:rgba(0, 0, 0, 0.0);\n",
              "}\n",
              "</style>\n",
              "<table bgcolor=\"4b64aa\">\n",
              "<tr>\t<td><table bgcolor=\"96c8ff\"><tr>\n",
              "\t<td>nan<span class=\"up\">0</span><span class=\"down\">-3</span></td>\n",
              "\t<td>2.0<span class=\"up\">1</span><span class=\"down\">-2</span></td>\n",
              "\t<td>3.0<span class=\"up\">2</span><span class=\"down\">-1</span></td>\n",
              "</tr></table>\n",
              "<span class=\"up\">0</span><span class=\"down\">-3</span></td></tr>\n",
              "<tr>\t<td><table bgcolor=\"96c8ff\"><tr>\n",
              "\t<td>1.0<span class=\"up\">0</span><span class=\"down\">-3</span></td>\n",
              "\t<td>nan<span class=\"up\">1</span><span class=\"down\">-2</span></td>\n",
              "\t<td>3.0<span class=\"up\">2</span><span class=\"down\">-1</span></td>\n",
              "</tr></table>\n",
              "<span class=\"up\">1</span><span class=\"down\">-2</span></td></tr>\n",
              "<tr>\t<td><table bgcolor=\"96c8ff\"><tr>\n",
              "\t<td>1.0<span class=\"up\">0</span><span class=\"down\">-3</span></td>\n",
              "\t<td>2.0<span class=\"up\">1</span><span class=\"down\">-2</span></td>\n",
              "\t<td>nan<span class=\"up\">2</span><span class=\"down\">-1</span></td>\n",
              "</tr></table>\n",
              "<span class=\"up\">2</span><span class=\"down\">-1</span></td></tr>\n",
              "</table>\n"
            ]
          },
          "metadata": {}
        },
        {
          "output_type": "stream",
          "name": "stdout",
          "text": [
            "Array is missing  3  values with indices:\n"
          ]
        },
        {
          "output_type": "display_data",
          "data": {
            "text/plain": [
              "<IPython.core.display.HTML object>"
            ],
            "text/html": [
              "\n",
              "<style>\n",
              "table {\n",
              "  border-collapse: collapse;\n",
              "}\n",
              "\n",
              "td {\n",
              "  border: 3px solid #666666;\n",
              "  min-width:30px;\n",
              "  height: 30px;\n",
              "  position: relative;\n",
              "  text-align:center;\n",
              "  color: #474747;\n",
              "  font-size:20px;\n",
              "  font-weight: bolder;\n",
              "  padding: 19px;\n",
              "}\n",
              "\n",
              ".up{\n",
              "  position: absolute;\n",
              "  right: 0;\n",
              "  top: 0;\n",
              "  background: white;\n",
              "  text-align: right;\n",
              "  font-size: 16px;\n",
              "  font-family: Courier;\n",
              "  font-weight: bolder;\n",
              "  color: blue;\n",
              "  opacity: 1.0;\n",
              "  background-color:rgba(0, 0, 0, 0.0);\n",
              "}\n",
              "\n",
              ".down{\n",
              "  position: absolute;\n",
              "  right: 0;\n",
              "  bottom: 0;\n",
              "  background: white;\n",
              "  text-align: right;\n",
              "  font-size: 16px;\n",
              "  font-family: Courier;\n",
              "  font-weight: bolder;\n",
              "  color: red;\n",
              "  opacity: 0.9;\n",
              "  background-color:rgba(0, 0, 0, 0.0);\n",
              "}\n",
              "</style>\n",
              "<table bgcolor=\"4b64aa\">\n",
              "<tr>\t<td><table bgcolor=\"96c8ff\"><tr>\n",
              "\t<td>0<span class=\"up\">0</span><span class=\"down\">-3</span></td>\n",
              "\t<td>1<span class=\"up\">1</span><span class=\"down\">-2</span></td>\n",
              "\t<td>2<span class=\"up\">2</span><span class=\"down\">-1</span></td>\n",
              "</tr></table>\n",
              "<span class=\"up\">0</span><span class=\"down\">-2</span></td></tr>\n",
              "<tr>\t<td><table bgcolor=\"96c8ff\"><tr>\n",
              "\t<td>0<span class=\"up\">0</span><span class=\"down\">-3</span></td>\n",
              "\t<td>1<span class=\"up\">1</span><span class=\"down\">-2</span></td>\n",
              "\t<td>2<span class=\"up\">2</span><span class=\"down\">-1</span></td>\n",
              "</tr></table>\n",
              "<span class=\"up\">1</span><span class=\"down\">-1</span></td></tr>\n",
              "</table>\n"
            ]
          },
          "metadata": {}
        }
      ]
    },
    {
      "cell_type": "code",
      "metadata": {
        "id": "D68Y26oiGue0",
        "cellView": "form",
        "colab": {
          "base_uri": "https://localhost:8080/",
          "height": 617
        },
        "outputId": "0eeebbbf-2fb3-46cf-9ab0-0e702ff91dfb"
      },
      "source": [
        "#@title Solution (double click to see the source code)\n",
        "\n",
        "import numpy as np\n",
        "\n",
        "# Input\n",
        "matr = np.array([[np.nan, 2., 3. ], [1., np.nan, 3. ], [1., 2., np.nan]]) #@param\n",
        "print('input:')\n",
        "visualize_array(matr)\n",
        "\n",
        "# Solution\n",
        "n_mis = np.isnan(matr[:, :]).sum()\n",
        "idx_mis = np.where(np.isnan(matr[:, :]))\n",
        "\n",
        "# Output\n",
        "print(\"Array is missing \", n_mis, \" values with indices:\")\n",
        "visualize_array(np.array(idx_mis))"
      ],
      "execution_count": null,
      "outputs": [
        {
          "output_type": "stream",
          "text": [
            "input:\n"
          ],
          "name": "stdout"
        },
        {
          "output_type": "display_data",
          "data": {
            "text/html": [
              "\n",
              "<style>\n",
              "table {\n",
              "  border-collapse: collapse;\n",
              "}\n",
              "\n",
              "td {\n",
              "  border: 3px solid #666666;\n",
              "  min-width:30px;\n",
              "  height: 30px;\n",
              "  position: relative; \n",
              "  text-align:center; \n",
              "  color: #474747;\n",
              "  font-size:20px;\n",
              "  font-weight: bolder;\n",
              "  padding: 19px;\n",
              "}\n",
              "\n",
              ".up{\n",
              "  position: absolute; \n",
              "  right: 0;\n",
              "  top: 0;\n",
              "  background: white;\n",
              "  text-align: right;\n",
              "  font-size: 16px;\n",
              "  font-family: Courier;\n",
              "  font-weight: bolder;\n",
              "  color: blue;\n",
              "  opacity: 1.0;\n",
              "  background-color:rgba(0, 0, 0, 0.0);\n",
              "}\n",
              "\n",
              ".down{\n",
              "  position: absolute; \n",
              "  right: 0;\n",
              "  bottom: 0;\n",
              "  background: white;\n",
              "  text-align: right;\n",
              "  font-size: 16px;\n",
              "  font-family: Courier;\n",
              "  font-weight: bolder;\n",
              "  color: red;\n",
              "  opacity: 0.9;\n",
              "  background-color:rgba(0, 0, 0, 0.0);\n",
              "}\n",
              "</style>\n",
              "<table bgcolor=\"4b64aa\">\n",
              "<tr>\t<td><table bgcolor=\"96c8ff\"><tr>\n",
              "\t<td>nan<span class=\"up\">0</span><span class=\"down\">-3</span></td>\n",
              "\t<td>2.0<span class=\"up\">1</span><span class=\"down\">-2</span></td>\n",
              "\t<td>3.0<span class=\"up\">2</span><span class=\"down\">-1</span></td>\n",
              "</tr></table>\n",
              "<span class=\"up\">0</span><span class=\"down\">-3</span></td></tr>\n",
              "<tr>\t<td><table bgcolor=\"96c8ff\"><tr>\n",
              "\t<td>1.0<span class=\"up\">0</span><span class=\"down\">-3</span></td>\n",
              "\t<td>nan<span class=\"up\">1</span><span class=\"down\">-2</span></td>\n",
              "\t<td>3.0<span class=\"up\">2</span><span class=\"down\">-1</span></td>\n",
              "</tr></table>\n",
              "<span class=\"up\">1</span><span class=\"down\">-2</span></td></tr>\n",
              "<tr>\t<td><table bgcolor=\"96c8ff\"><tr>\n",
              "\t<td>1.0<span class=\"up\">0</span><span class=\"down\">-3</span></td>\n",
              "\t<td>2.0<span class=\"up\">1</span><span class=\"down\">-2</span></td>\n",
              "\t<td>nan<span class=\"up\">2</span><span class=\"down\">-1</span></td>\n",
              "</tr></table>\n",
              "<span class=\"up\">2</span><span class=\"down\">-1</span></td></tr>\n",
              "</table>\n"
            ],
            "text/plain": [
              "<IPython.core.display.HTML object>"
            ]
          },
          "metadata": {
            "tags": []
          }
        },
        {
          "output_type": "stream",
          "text": [
            "Array is missing  3  values with indices:\n"
          ],
          "name": "stdout"
        },
        {
          "output_type": "display_data",
          "data": {
            "text/html": [
              "\n",
              "<style>\n",
              "table {\n",
              "  border-collapse: collapse;\n",
              "}\n",
              "\n",
              "td {\n",
              "  border: 3px solid #666666;\n",
              "  min-width:30px;\n",
              "  height: 30px;\n",
              "  position: relative; \n",
              "  text-align:center; \n",
              "  color: #474747;\n",
              "  font-size:20px;\n",
              "  font-weight: bolder;\n",
              "  padding: 19px;\n",
              "}\n",
              "\n",
              ".up{\n",
              "  position: absolute; \n",
              "  right: 0;\n",
              "  top: 0;\n",
              "  background: white;\n",
              "  text-align: right;\n",
              "  font-size: 16px;\n",
              "  font-family: Courier;\n",
              "  font-weight: bolder;\n",
              "  color: blue;\n",
              "  opacity: 1.0;\n",
              "  background-color:rgba(0, 0, 0, 0.0);\n",
              "}\n",
              "\n",
              ".down{\n",
              "  position: absolute; \n",
              "  right: 0;\n",
              "  bottom: 0;\n",
              "  background: white;\n",
              "  text-align: right;\n",
              "  font-size: 16px;\n",
              "  font-family: Courier;\n",
              "  font-weight: bolder;\n",
              "  color: red;\n",
              "  opacity: 0.9;\n",
              "  background-color:rgba(0, 0, 0, 0.0);\n",
              "}\n",
              "</style>\n",
              "<table bgcolor=\"4b64aa\">\n",
              "<tr>\t<td><table bgcolor=\"96c8ff\"><tr>\n",
              "\t<td>0<span class=\"up\">0</span><span class=\"down\">-3</span></td>\n",
              "\t<td>1<span class=\"up\">1</span><span class=\"down\">-2</span></td>\n",
              "\t<td>2<span class=\"up\">2</span><span class=\"down\">-1</span></td>\n",
              "</tr></table>\n",
              "<span class=\"up\">0</span><span class=\"down\">-2</span></td></tr>\n",
              "<tr>\t<td><table bgcolor=\"96c8ff\"><tr>\n",
              "\t<td>0<span class=\"up\">0</span><span class=\"down\">-3</span></td>\n",
              "\t<td>1<span class=\"up\">1</span><span class=\"down\">-2</span></td>\n",
              "\t<td>2<span class=\"up\">2</span><span class=\"down\">-1</span></td>\n",
              "</tr></table>\n",
              "<span class=\"up\">1</span><span class=\"down\">-1</span></td></tr>\n",
              "</table>\n"
            ],
            "text/plain": [
              "<IPython.core.display.HTML object>"
            ]
          },
          "metadata": {
            "tags": []
          }
        }
      ]
    },
    {
      "cell_type": "markdown",
      "metadata": {
        "id": "Q-Ordx57Gue7"
      },
      "source": [
        "##20. How to find the correlation between two columns of a numpy array?"
      ]
    },
    {
      "cell_type": "markdown",
      "metadata": {
        "id": "1Yo94ie-mjtZ"
      },
      "source": [
        "**Problem:**\n",
        "Find the correlation between column `x` and column `y` of the given 2D array.\n",
        "\n",
        "**Note:**\n",
        "*   Correlation coef indicates the degree of linear relationship between two numeric variables. It can range between -1 to +1.\n",
        "*   Besides correlation, p-value is often used. The p-value roughly indicates the probability of an uncorrelated system producing datasets that have a correlation at least as extreme as the one computed. The lower the p-value (<0.01), stronger is the significance of the relationship. But do not use as an indicator of the strength."
      ]
    },
    {
      "cell_type": "code",
      "metadata": {
        "id": "7hbZ0a8WGue7",
        "outputId": "b46f65b5-9dfd-411e-9f07-073516d73c23",
        "colab": {
          "base_uri": "https://localhost:8080/",
          "height": 631
        }
      },
      "source": [
        "import numpy as np\n",
        "\n",
        "# Input\n",
        "matr = np.array([[0, 0, 0, 2, 2],\n",
        "                 [0, 2, 1, 2, 2],\n",
        "                 [2, 2, 1, 0, 0],\n",
        "                 [0, 0, 2, 0, 1],\n",
        "                 [1, 2, 2, 0, 0]])\n",
        "x = 0\n",
        "y = 3\n",
        "print('input:')\n",
        "visualize_array(matr)\n",
        "\n",
        "# Enter your code here\n",
        "corr = np.corrcoef(matr[:, x], matr[:, y])[0, 1]\n",
        "\n",
        "# Output\n",
        "print('Correlation between column ', x, ' and column ', y, ' is ', corr)"
      ],
      "execution_count": 45,
      "outputs": [
        {
          "output_type": "stream",
          "name": "stdout",
          "text": [
            "input:\n"
          ]
        },
        {
          "output_type": "display_data",
          "data": {
            "text/plain": [
              "<IPython.core.display.HTML object>"
            ],
            "text/html": [
              "\n",
              "<style>\n",
              "table {\n",
              "  border-collapse: collapse;\n",
              "}\n",
              "\n",
              "td {\n",
              "  border: 3px solid #666666;\n",
              "  min-width:30px;\n",
              "  height: 30px;\n",
              "  position: relative;\n",
              "  text-align:center;\n",
              "  color: #474747;\n",
              "  font-size:20px;\n",
              "  font-weight: bolder;\n",
              "  padding: 19px;\n",
              "}\n",
              "\n",
              ".up{\n",
              "  position: absolute;\n",
              "  right: 0;\n",
              "  top: 0;\n",
              "  background: white;\n",
              "  text-align: right;\n",
              "  font-size: 16px;\n",
              "  font-family: Courier;\n",
              "  font-weight: bolder;\n",
              "  color: blue;\n",
              "  opacity: 1.0;\n",
              "  background-color:rgba(0, 0, 0, 0.0);\n",
              "}\n",
              "\n",
              ".down{\n",
              "  position: absolute;\n",
              "  right: 0;\n",
              "  bottom: 0;\n",
              "  background: white;\n",
              "  text-align: right;\n",
              "  font-size: 16px;\n",
              "  font-family: Courier;\n",
              "  font-weight: bolder;\n",
              "  color: red;\n",
              "  opacity: 0.9;\n",
              "  background-color:rgba(0, 0, 0, 0.0);\n",
              "}\n",
              "</style>\n",
              "<table bgcolor=\"4b64aa\">\n",
              "<tr>\t<td><table bgcolor=\"96c8ff\"><tr>\n",
              "\t<td>0<span class=\"up\">0</span><span class=\"down\">-5</span></td>\n",
              "\t<td>0<span class=\"up\">1</span><span class=\"down\">-4</span></td>\n",
              "\t<td>0<span class=\"up\">2</span><span class=\"down\">-3</span></td>\n",
              "\t<td>2<span class=\"up\">3</span><span class=\"down\">-2</span></td>\n",
              "\t<td>2<span class=\"up\">4</span><span class=\"down\">-1</span></td>\n",
              "</tr></table>\n",
              "<span class=\"up\">0</span><span class=\"down\">-5</span></td></tr>\n",
              "<tr>\t<td><table bgcolor=\"96c8ff\"><tr>\n",
              "\t<td>0<span class=\"up\">0</span><span class=\"down\">-5</span></td>\n",
              "\t<td>2<span class=\"up\">1</span><span class=\"down\">-4</span></td>\n",
              "\t<td>1<span class=\"up\">2</span><span class=\"down\">-3</span></td>\n",
              "\t<td>2<span class=\"up\">3</span><span class=\"down\">-2</span></td>\n",
              "\t<td>2<span class=\"up\">4</span><span class=\"down\">-1</span></td>\n",
              "</tr></table>\n",
              "<span class=\"up\">1</span><span class=\"down\">-4</span></td></tr>\n",
              "<tr>\t<td><table bgcolor=\"96c8ff\"><tr>\n",
              "\t<td>2<span class=\"up\">0</span><span class=\"down\">-5</span></td>\n",
              "\t<td>2<span class=\"up\">1</span><span class=\"down\">-4</span></td>\n",
              "\t<td>1<span class=\"up\">2</span><span class=\"down\">-3</span></td>\n",
              "\t<td>0<span class=\"up\">3</span><span class=\"down\">-2</span></td>\n",
              "\t<td>0<span class=\"up\">4</span><span class=\"down\">-1</span></td>\n",
              "</tr></table>\n",
              "<span class=\"up\">2</span><span class=\"down\">-3</span></td></tr>\n",
              "<tr>\t<td><table bgcolor=\"96c8ff\"><tr>\n",
              "\t<td>0<span class=\"up\">0</span><span class=\"down\">-5</span></td>\n",
              "\t<td>0<span class=\"up\">1</span><span class=\"down\">-4</span></td>\n",
              "\t<td>2<span class=\"up\">2</span><span class=\"down\">-3</span></td>\n",
              "\t<td>0<span class=\"up\">3</span><span class=\"down\">-2</span></td>\n",
              "\t<td>1<span class=\"up\">4</span><span class=\"down\">-1</span></td>\n",
              "</tr></table>\n",
              "<span class=\"up\">3</span><span class=\"down\">-2</span></td></tr>\n",
              "<tr>\t<td><table bgcolor=\"96c8ff\"><tr>\n",
              "\t<td>1<span class=\"up\">0</span><span class=\"down\">-5</span></td>\n",
              "\t<td>2<span class=\"up\">1</span><span class=\"down\">-4</span></td>\n",
              "\t<td>2<span class=\"up\">2</span><span class=\"down\">-3</span></td>\n",
              "\t<td>0<span class=\"up\">3</span><span class=\"down\">-2</span></td>\n",
              "\t<td>0<span class=\"up\">4</span><span class=\"down\">-1</span></td>\n",
              "</tr></table>\n",
              "<span class=\"up\">4</span><span class=\"down\">-1</span></td></tr>\n",
              "</table>\n"
            ]
          },
          "metadata": {}
        },
        {
          "output_type": "stream",
          "name": "stdout",
          "text": [
            "Correlation between column  0  and column  3  is  -0.6123724356957946\n"
          ]
        }
      ]
    },
    {
      "cell_type": "code",
      "metadata": {
        "id": "M5c5Mu5qGue8",
        "cellView": "form",
        "colab": {
          "base_uri": "https://localhost:8080/",
          "height": 615
        },
        "outputId": "8dad7e06-bfa1-4509-967d-990610c478a7"
      },
      "source": [
        "#@title Solution A (double click to see the source code)\n",
        "\n",
        "import numpy as np\n",
        "\n",
        "# Input\n",
        "matr = np.array([[0, 0, 0, 2, 2], [0, 2, 1, 2, 2], [2, 2, 1, 0, 0], [0, 0, 2, 0, 1], [1, 2, 2, 0, 0]]) #@param\n",
        "x = 0 #@param\n",
        "y = 3 #@param\n",
        "print('input:')\n",
        "visualize_array(matr)\n",
        "\n",
        "# Solution\n",
        "corr = np.corrcoef(matr[:, x], matr[:, y])[0, 1]\n",
        "\n",
        "# Output\n",
        "print('Correlation between column ', x, ' and column ', y, ' is ', corr)"
      ],
      "execution_count": null,
      "outputs": [
        {
          "output_type": "stream",
          "text": [
            "input:\n"
          ],
          "name": "stdout"
        },
        {
          "output_type": "display_data",
          "data": {
            "text/html": [
              "\n",
              "<style>\n",
              "table {\n",
              "  border-collapse: collapse;\n",
              "}\n",
              "\n",
              "td {\n",
              "  border: 3px solid #666666;\n",
              "  min-width:30px;\n",
              "  height: 30px;\n",
              "  position: relative; \n",
              "  text-align:center; \n",
              "  color: #474747;\n",
              "  font-size:20px;\n",
              "  font-weight: bolder;\n",
              "  padding: 19px;\n",
              "}\n",
              "\n",
              ".up{\n",
              "  position: absolute; \n",
              "  right: 0;\n",
              "  top: 0;\n",
              "  background: white;\n",
              "  text-align: right;\n",
              "  font-size: 16px;\n",
              "  font-family: Courier;\n",
              "  font-weight: bolder;\n",
              "  color: blue;\n",
              "  opacity: 1.0;\n",
              "  background-color:rgba(0, 0, 0, 0.0);\n",
              "}\n",
              "\n",
              ".down{\n",
              "  position: absolute; \n",
              "  right: 0;\n",
              "  bottom: 0;\n",
              "  background: white;\n",
              "  text-align: right;\n",
              "  font-size: 16px;\n",
              "  font-family: Courier;\n",
              "  font-weight: bolder;\n",
              "  color: red;\n",
              "  opacity: 0.9;\n",
              "  background-color:rgba(0, 0, 0, 0.0);\n",
              "}\n",
              "</style>\n",
              "<table bgcolor=\"4b64aa\">\n",
              "<tr>\t<td><table bgcolor=\"96c8ff\"><tr>\n",
              "\t<td>0<span class=\"up\">0</span><span class=\"down\">-5</span></td>\n",
              "\t<td>0<span class=\"up\">1</span><span class=\"down\">-4</span></td>\n",
              "\t<td>0<span class=\"up\">2</span><span class=\"down\">-3</span></td>\n",
              "\t<td>2<span class=\"up\">3</span><span class=\"down\">-2</span></td>\n",
              "\t<td>2<span class=\"up\">4</span><span class=\"down\">-1</span></td>\n",
              "</tr></table>\n",
              "<span class=\"up\">0</span><span class=\"down\">-5</span></td></tr>\n",
              "<tr>\t<td><table bgcolor=\"96c8ff\"><tr>\n",
              "\t<td>0<span class=\"up\">0</span><span class=\"down\">-5</span></td>\n",
              "\t<td>2<span class=\"up\">1</span><span class=\"down\">-4</span></td>\n",
              "\t<td>1<span class=\"up\">2</span><span class=\"down\">-3</span></td>\n",
              "\t<td>2<span class=\"up\">3</span><span class=\"down\">-2</span></td>\n",
              "\t<td>2<span class=\"up\">4</span><span class=\"down\">-1</span></td>\n",
              "</tr></table>\n",
              "<span class=\"up\">1</span><span class=\"down\">-4</span></td></tr>\n",
              "<tr>\t<td><table bgcolor=\"96c8ff\"><tr>\n",
              "\t<td>2<span class=\"up\">0</span><span class=\"down\">-5</span></td>\n",
              "\t<td>2<span class=\"up\">1</span><span class=\"down\">-4</span></td>\n",
              "\t<td>1<span class=\"up\">2</span><span class=\"down\">-3</span></td>\n",
              "\t<td>0<span class=\"up\">3</span><span class=\"down\">-2</span></td>\n",
              "\t<td>0<span class=\"up\">4</span><span class=\"down\">-1</span></td>\n",
              "</tr></table>\n",
              "<span class=\"up\">2</span><span class=\"down\">-3</span></td></tr>\n",
              "<tr>\t<td><table bgcolor=\"96c8ff\"><tr>\n",
              "\t<td>0<span class=\"up\">0</span><span class=\"down\">-5</span></td>\n",
              "\t<td>0<span class=\"up\">1</span><span class=\"down\">-4</span></td>\n",
              "\t<td>2<span class=\"up\">2</span><span class=\"down\">-3</span></td>\n",
              "\t<td>0<span class=\"up\">3</span><span class=\"down\">-2</span></td>\n",
              "\t<td>1<span class=\"up\">4</span><span class=\"down\">-1</span></td>\n",
              "</tr></table>\n",
              "<span class=\"up\">3</span><span class=\"down\">-2</span></td></tr>\n",
              "<tr>\t<td><table bgcolor=\"96c8ff\"><tr>\n",
              "\t<td>1<span class=\"up\">0</span><span class=\"down\">-5</span></td>\n",
              "\t<td>2<span class=\"up\">1</span><span class=\"down\">-4</span></td>\n",
              "\t<td>2<span class=\"up\">2</span><span class=\"down\">-3</span></td>\n",
              "\t<td>0<span class=\"up\">3</span><span class=\"down\">-2</span></td>\n",
              "\t<td>0<span class=\"up\">4</span><span class=\"down\">-1</span></td>\n",
              "</tr></table>\n",
              "<span class=\"up\">4</span><span class=\"down\">-1</span></td></tr>\n",
              "</table>\n"
            ],
            "text/plain": [
              "<IPython.core.display.HTML object>"
            ]
          },
          "metadata": {
            "tags": []
          }
        },
        {
          "output_type": "stream",
          "text": [
            "Correlation between column  0  and column  3  is  -0.6123724356957946\n"
          ],
          "name": "stdout"
        }
      ]
    },
    {
      "cell_type": "code",
      "metadata": {
        "id": "SxC7U12t29Xp",
        "cellView": "form",
        "colab": {
          "base_uri": "https://localhost:8080/",
          "height": 615
        },
        "outputId": "2cc62612-2844-4b2d-d04f-de122f43ebbc"
      },
      "source": [
        "#@title Solution B (double click to see the source code)\n",
        "\n",
        "import numpy as np\n",
        "\n",
        "# Input\n",
        "matr = np.array([[0, 0, 0, 2, 2], [0, 2, 1, 2, 2], [2, 2, 1, 0, 0], [0, 0, 2, 0, 1], [1, 2, 2, 0, 0]]) #@param\n",
        "x = 0 #@param\n",
        "y = 3 #@param\n",
        "print('input:')\n",
        "visualize_array(matr)\n",
        "\n",
        "# Solution\n",
        "from scipy.stats.stats import pearsonr\n",
        "corr, _ = pearsonr(matr[:, 0], matr[:, 2])\n",
        "\n",
        "# Output\n",
        "print('Correlation between column ', x, ' and column ', y, ' is ', corr)"
      ],
      "execution_count": null,
      "outputs": [
        {
          "output_type": "stream",
          "text": [
            "input:\n"
          ],
          "name": "stdout"
        },
        {
          "output_type": "display_data",
          "data": {
            "text/html": [
              "\n",
              "<style>\n",
              "table {\n",
              "  border-collapse: collapse;\n",
              "}\n",
              "\n",
              "td {\n",
              "  border: 3px solid #666666;\n",
              "  min-width:30px;\n",
              "  height: 30px;\n",
              "  position: relative; \n",
              "  text-align:center; \n",
              "  color: #474747;\n",
              "  font-size:20px;\n",
              "  font-weight: bolder;\n",
              "  padding: 19px;\n",
              "}\n",
              "\n",
              ".up{\n",
              "  position: absolute; \n",
              "  right: 0;\n",
              "  top: 0;\n",
              "  background: white;\n",
              "  text-align: right;\n",
              "  font-size: 16px;\n",
              "  font-family: Courier;\n",
              "  font-weight: bolder;\n",
              "  color: blue;\n",
              "  opacity: 1.0;\n",
              "  background-color:rgba(0, 0, 0, 0.0);\n",
              "}\n",
              "\n",
              ".down{\n",
              "  position: absolute; \n",
              "  right: 0;\n",
              "  bottom: 0;\n",
              "  background: white;\n",
              "  text-align: right;\n",
              "  font-size: 16px;\n",
              "  font-family: Courier;\n",
              "  font-weight: bolder;\n",
              "  color: red;\n",
              "  opacity: 0.9;\n",
              "  background-color:rgba(0, 0, 0, 0.0);\n",
              "}\n",
              "</style>\n",
              "<table bgcolor=\"4b64aa\">\n",
              "<tr>\t<td><table bgcolor=\"96c8ff\"><tr>\n",
              "\t<td>0<span class=\"up\">0</span><span class=\"down\">-5</span></td>\n",
              "\t<td>0<span class=\"up\">1</span><span class=\"down\">-4</span></td>\n",
              "\t<td>0<span class=\"up\">2</span><span class=\"down\">-3</span></td>\n",
              "\t<td>2<span class=\"up\">3</span><span class=\"down\">-2</span></td>\n",
              "\t<td>2<span class=\"up\">4</span><span class=\"down\">-1</span></td>\n",
              "</tr></table>\n",
              "<span class=\"up\">0</span><span class=\"down\">-5</span></td></tr>\n",
              "<tr>\t<td><table bgcolor=\"96c8ff\"><tr>\n",
              "\t<td>0<span class=\"up\">0</span><span class=\"down\">-5</span></td>\n",
              "\t<td>2<span class=\"up\">1</span><span class=\"down\">-4</span></td>\n",
              "\t<td>1<span class=\"up\">2</span><span class=\"down\">-3</span></td>\n",
              "\t<td>2<span class=\"up\">3</span><span class=\"down\">-2</span></td>\n",
              "\t<td>2<span class=\"up\">4</span><span class=\"down\">-1</span></td>\n",
              "</tr></table>\n",
              "<span class=\"up\">1</span><span class=\"down\">-4</span></td></tr>\n",
              "<tr>\t<td><table bgcolor=\"96c8ff\"><tr>\n",
              "\t<td>2<span class=\"up\">0</span><span class=\"down\">-5</span></td>\n",
              "\t<td>2<span class=\"up\">1</span><span class=\"down\">-4</span></td>\n",
              "\t<td>1<span class=\"up\">2</span><span class=\"down\">-3</span></td>\n",
              "\t<td>0<span class=\"up\">3</span><span class=\"down\">-2</span></td>\n",
              "\t<td>0<span class=\"up\">4</span><span class=\"down\">-1</span></td>\n",
              "</tr></table>\n",
              "<span class=\"up\">2</span><span class=\"down\">-3</span></td></tr>\n",
              "<tr>\t<td><table bgcolor=\"96c8ff\"><tr>\n",
              "\t<td>0<span class=\"up\">0</span><span class=\"down\">-5</span></td>\n",
              "\t<td>0<span class=\"up\">1</span><span class=\"down\">-4</span></td>\n",
              "\t<td>2<span class=\"up\">2</span><span class=\"down\">-3</span></td>\n",
              "\t<td>0<span class=\"up\">3</span><span class=\"down\">-2</span></td>\n",
              "\t<td>1<span class=\"up\">4</span><span class=\"down\">-1</span></td>\n",
              "</tr></table>\n",
              "<span class=\"up\">3</span><span class=\"down\">-2</span></td></tr>\n",
              "<tr>\t<td><table bgcolor=\"96c8ff\"><tr>\n",
              "\t<td>1<span class=\"up\">0</span><span class=\"down\">-5</span></td>\n",
              "\t<td>2<span class=\"up\">1</span><span class=\"down\">-4</span></td>\n",
              "\t<td>2<span class=\"up\">2</span><span class=\"down\">-3</span></td>\n",
              "\t<td>0<span class=\"up\">3</span><span class=\"down\">-2</span></td>\n",
              "\t<td>0<span class=\"up\">4</span><span class=\"down\">-1</span></td>\n",
              "</tr></table>\n",
              "<span class=\"up\">4</span><span class=\"down\">-1</span></td></tr>\n",
              "</table>\n"
            ],
            "text/plain": [
              "<IPython.core.display.HTML object>"
            ]
          },
          "metadata": {
            "tags": []
          }
        },
        {
          "output_type": "stream",
          "text": [
            "Correlation between column  0  and column  3  is  0.13363062095621225\n"
          ],
          "name": "stdout"
        }
      ]
    },
    {
      "cell_type": "markdown",
      "metadata": {
        "id": "I6sUdgC7Gue-"
      },
      "source": [
        "##21. How to find if a given array has any null values?\n",
        "\n"
      ]
    },
    {
      "cell_type": "markdown",
      "metadata": {
        "id": "rsVuu9DEnb2E"
      },
      "source": [
        "**Problem:**\n",
        "Find out if given array has any missing values (i.e. `np.nan` are present)."
      ]
    },
    {
      "cell_type": "code",
      "metadata": {
        "id": "lfYV2ug9Gue-",
        "outputId": "aacf416b-dfe6-4e8f-fd59-34816f3430f7",
        "colab": {
          "base_uri": "https://localhost:8080/",
          "height": 268
        }
      },
      "source": [
        "import numpy as np\n",
        "\n",
        "# Input\n",
        "matr = np.array([[1.0,    2.0],\n",
        "                 [np.nan, 4.0]])\n",
        "visualize_array(matr)\n",
        "\n",
        "# Enter your code here\n",
        "flag = np.any(np.isnan(matr))\n",
        "\n",
        "# Output\n",
        "if flag:\n",
        "  print('found nans')\n",
        "else:\n",
        "  print('no nans were found')"
      ],
      "execution_count": 47,
      "outputs": [
        {
          "output_type": "display_data",
          "data": {
            "text/plain": [
              "<IPython.core.display.HTML object>"
            ],
            "text/html": [
              "\n",
              "<style>\n",
              "table {\n",
              "  border-collapse: collapse;\n",
              "}\n",
              "\n",
              "td {\n",
              "  border: 3px solid #666666;\n",
              "  min-width:30px;\n",
              "  height: 30px;\n",
              "  position: relative;\n",
              "  text-align:center;\n",
              "  color: #474747;\n",
              "  font-size:20px;\n",
              "  font-weight: bolder;\n",
              "  padding: 19px;\n",
              "}\n",
              "\n",
              ".up{\n",
              "  position: absolute;\n",
              "  right: 0;\n",
              "  top: 0;\n",
              "  background: white;\n",
              "  text-align: right;\n",
              "  font-size: 16px;\n",
              "  font-family: Courier;\n",
              "  font-weight: bolder;\n",
              "  color: blue;\n",
              "  opacity: 1.0;\n",
              "  background-color:rgba(0, 0, 0, 0.0);\n",
              "}\n",
              "\n",
              ".down{\n",
              "  position: absolute;\n",
              "  right: 0;\n",
              "  bottom: 0;\n",
              "  background: white;\n",
              "  text-align: right;\n",
              "  font-size: 16px;\n",
              "  font-family: Courier;\n",
              "  font-weight: bolder;\n",
              "  color: red;\n",
              "  opacity: 0.9;\n",
              "  background-color:rgba(0, 0, 0, 0.0);\n",
              "}\n",
              "</style>\n",
              "<table bgcolor=\"4b64aa\">\n",
              "<tr>\t<td><table bgcolor=\"96c8ff\"><tr>\n",
              "\t<td>1.0<span class=\"up\">0</span><span class=\"down\">-2</span></td>\n",
              "\t<td>2.0<span class=\"up\">1</span><span class=\"down\">-1</span></td>\n",
              "</tr></table>\n",
              "<span class=\"up\">0</span><span class=\"down\">-2</span></td></tr>\n",
              "<tr>\t<td><table bgcolor=\"96c8ff\"><tr>\n",
              "\t<td>nan<span class=\"up\">0</span><span class=\"down\">-2</span></td>\n",
              "\t<td>4.0<span class=\"up\">1</span><span class=\"down\">-1</span></td>\n",
              "</tr></table>\n",
              "<span class=\"up\">1</span><span class=\"down\">-1</span></td></tr>\n",
              "</table>\n"
            ]
          },
          "metadata": {}
        },
        {
          "output_type": "stream",
          "name": "stdout",
          "text": [
            "found nans\n"
          ]
        }
      ]
    },
    {
      "cell_type": "code",
      "metadata": {
        "id": "P1DJzcmzGue_",
        "cellView": "form",
        "colab": {
          "base_uri": "https://localhost:8080/",
          "height": 267
        },
        "outputId": "ed4b187b-e531-4669-a468-ad05300ffd02"
      },
      "source": [
        "#@title Solution (double click to see the source code)\n",
        "\n",
        "import numpy as np\n",
        "\n",
        "# Input\n",
        "matr = np.array([[1.0, 2.0], [np.nan, 4.0]]) #@param\n",
        "visualize_array(matr)\n",
        "\n",
        "# Solution\n",
        "flag = np.isnan(matr).any()\n",
        "\n",
        "# Output\n",
        "if flag:\n",
        "  print('found nans')\n",
        "else:\n",
        "  print('no nans were found')"
      ],
      "execution_count": null,
      "outputs": [
        {
          "output_type": "display_data",
          "data": {
            "text/html": [
              "\n",
              "<style>\n",
              "table {\n",
              "  border-collapse: collapse;\n",
              "}\n",
              "\n",
              "td {\n",
              "  border: 3px solid #666666;\n",
              "  min-width:30px;\n",
              "  height: 30px;\n",
              "  position: relative; \n",
              "  text-align:center; \n",
              "  color: #474747;\n",
              "  font-size:20px;\n",
              "  font-weight: bolder;\n",
              "  padding: 19px;\n",
              "}\n",
              "\n",
              ".up{\n",
              "  position: absolute; \n",
              "  right: 0;\n",
              "  top: 0;\n",
              "  background: white;\n",
              "  text-align: right;\n",
              "  font-size: 16px;\n",
              "  font-family: Courier;\n",
              "  font-weight: bolder;\n",
              "  color: blue;\n",
              "  opacity: 1.0;\n",
              "  background-color:rgba(0, 0, 0, 0.0);\n",
              "}\n",
              "\n",
              ".down{\n",
              "  position: absolute; \n",
              "  right: 0;\n",
              "  bottom: 0;\n",
              "  background: white;\n",
              "  text-align: right;\n",
              "  font-size: 16px;\n",
              "  font-family: Courier;\n",
              "  font-weight: bolder;\n",
              "  color: red;\n",
              "  opacity: 0.9;\n",
              "  background-color:rgba(0, 0, 0, 0.0);\n",
              "}\n",
              "</style>\n",
              "<table bgcolor=\"4b64aa\">\n",
              "<tr>\t<td><table bgcolor=\"96c8ff\"><tr>\n",
              "\t<td>1.0<span class=\"up\">0</span><span class=\"down\">-2</span></td>\n",
              "\t<td>2.0<span class=\"up\">1</span><span class=\"down\">-1</span></td>\n",
              "</tr></table>\n",
              "<span class=\"up\">0</span><span class=\"down\">-2</span></td></tr>\n",
              "<tr>\t<td><table bgcolor=\"96c8ff\"><tr>\n",
              "\t<td>nan<span class=\"up\">0</span><span class=\"down\">-2</span></td>\n",
              "\t<td>4.0<span class=\"up\">1</span><span class=\"down\">-1</span></td>\n",
              "</tr></table>\n",
              "<span class=\"up\">1</span><span class=\"down\">-1</span></td></tr>\n",
              "</table>\n"
            ],
            "text/plain": [
              "<IPython.core.display.HTML object>"
            ]
          },
          "metadata": {
            "tags": []
          }
        },
        {
          "output_type": "stream",
          "text": [
            "found nans\n"
          ],
          "name": "stdout"
        }
      ]
    },
    {
      "cell_type": "markdown",
      "metadata": {
        "id": "URCKwjHJGufA"
      },
      "source": [
        "##22. How to replace all missing values with 0 in a numpy array?"
      ]
    },
    {
      "cell_type": "markdown",
      "metadata": {
        "id": "rooXk0s-pLqk"
      },
      "source": [
        "**Problem:**\n",
        "Replace all occurrences of `np.nan` with `0` in 2D array"
      ]
    },
    {
      "cell_type": "code",
      "metadata": {
        "id": "Qjz4GP3HGufA",
        "outputId": "313328e1-5195-4595-d034-8a4d7137b235",
        "colab": {
          "base_uri": "https://localhost:8080/",
          "height": 519
        }
      },
      "source": [
        "import numpy as np\n",
        "\n",
        "# Input\n",
        "matr = np.array([[1.0,    2.0],\n",
        "                 [np.nan, 4.0]])\n",
        "print('INITIAL ARRAY:')\n",
        "visualize_array(matr)\n",
        "\n",
        "# Enter your code here\n",
        "matr[np.isnan(matr)] = 0\n",
        "\n",
        "# Output\n",
        "print('PROCESSED ARRAY:')\n",
        "visualize_array(matr)"
      ],
      "execution_count": 48,
      "outputs": [
        {
          "output_type": "stream",
          "name": "stdout",
          "text": [
            "INITIAL ARRAY:\n"
          ]
        },
        {
          "output_type": "display_data",
          "data": {
            "text/plain": [
              "<IPython.core.display.HTML object>"
            ],
            "text/html": [
              "\n",
              "<style>\n",
              "table {\n",
              "  border-collapse: collapse;\n",
              "}\n",
              "\n",
              "td {\n",
              "  border: 3px solid #666666;\n",
              "  min-width:30px;\n",
              "  height: 30px;\n",
              "  position: relative;\n",
              "  text-align:center;\n",
              "  color: #474747;\n",
              "  font-size:20px;\n",
              "  font-weight: bolder;\n",
              "  padding: 19px;\n",
              "}\n",
              "\n",
              ".up{\n",
              "  position: absolute;\n",
              "  right: 0;\n",
              "  top: 0;\n",
              "  background: white;\n",
              "  text-align: right;\n",
              "  font-size: 16px;\n",
              "  font-family: Courier;\n",
              "  font-weight: bolder;\n",
              "  color: blue;\n",
              "  opacity: 1.0;\n",
              "  background-color:rgba(0, 0, 0, 0.0);\n",
              "}\n",
              "\n",
              ".down{\n",
              "  position: absolute;\n",
              "  right: 0;\n",
              "  bottom: 0;\n",
              "  background: white;\n",
              "  text-align: right;\n",
              "  font-size: 16px;\n",
              "  font-family: Courier;\n",
              "  font-weight: bolder;\n",
              "  color: red;\n",
              "  opacity: 0.9;\n",
              "  background-color:rgba(0, 0, 0, 0.0);\n",
              "}\n",
              "</style>\n",
              "<table bgcolor=\"4b64aa\">\n",
              "<tr>\t<td><table bgcolor=\"96c8ff\"><tr>\n",
              "\t<td>1.0<span class=\"up\">0</span><span class=\"down\">-2</span></td>\n",
              "\t<td>2.0<span class=\"up\">1</span><span class=\"down\">-1</span></td>\n",
              "</tr></table>\n",
              "<span class=\"up\">0</span><span class=\"down\">-2</span></td></tr>\n",
              "<tr>\t<td><table bgcolor=\"96c8ff\"><tr>\n",
              "\t<td>nan<span class=\"up\">0</span><span class=\"down\">-2</span></td>\n",
              "\t<td>4.0<span class=\"up\">1</span><span class=\"down\">-1</span></td>\n",
              "</tr></table>\n",
              "<span class=\"up\">1</span><span class=\"down\">-1</span></td></tr>\n",
              "</table>\n"
            ]
          },
          "metadata": {}
        },
        {
          "output_type": "stream",
          "name": "stdout",
          "text": [
            "PROCESSED ARRAY:\n"
          ]
        },
        {
          "output_type": "display_data",
          "data": {
            "text/plain": [
              "<IPython.core.display.HTML object>"
            ],
            "text/html": [
              "\n",
              "<style>\n",
              "table {\n",
              "  border-collapse: collapse;\n",
              "}\n",
              "\n",
              "td {\n",
              "  border: 3px solid #666666;\n",
              "  min-width:30px;\n",
              "  height: 30px;\n",
              "  position: relative;\n",
              "  text-align:center;\n",
              "  color: #474747;\n",
              "  font-size:20px;\n",
              "  font-weight: bolder;\n",
              "  padding: 19px;\n",
              "}\n",
              "\n",
              ".up{\n",
              "  position: absolute;\n",
              "  right: 0;\n",
              "  top: 0;\n",
              "  background: white;\n",
              "  text-align: right;\n",
              "  font-size: 16px;\n",
              "  font-family: Courier;\n",
              "  font-weight: bolder;\n",
              "  color: blue;\n",
              "  opacity: 1.0;\n",
              "  background-color:rgba(0, 0, 0, 0.0);\n",
              "}\n",
              "\n",
              ".down{\n",
              "  position: absolute;\n",
              "  right: 0;\n",
              "  bottom: 0;\n",
              "  background: white;\n",
              "  text-align: right;\n",
              "  font-size: 16px;\n",
              "  font-family: Courier;\n",
              "  font-weight: bolder;\n",
              "  color: red;\n",
              "  opacity: 0.9;\n",
              "  background-color:rgba(0, 0, 0, 0.0);\n",
              "}\n",
              "</style>\n",
              "<table bgcolor=\"4b64aa\">\n",
              "<tr>\t<td><table bgcolor=\"96c8ff\"><tr>\n",
              "\t<td>1.0<span class=\"up\">0</span><span class=\"down\">-2</span></td>\n",
              "\t<td>2.0<span class=\"up\">1</span><span class=\"down\">-1</span></td>\n",
              "</tr></table>\n",
              "<span class=\"up\">0</span><span class=\"down\">-2</span></td></tr>\n",
              "<tr>\t<td><table bgcolor=\"96c8ff\"><tr>\n",
              "\t<td>0.0<span class=\"up\">0</span><span class=\"down\">-2</span></td>\n",
              "\t<td>4.0<span class=\"up\">1</span><span class=\"down\">-1</span></td>\n",
              "</tr></table>\n",
              "<span class=\"up\">1</span><span class=\"down\">-1</span></td></tr>\n",
              "</table>\n"
            ]
          },
          "metadata": {}
        }
      ]
    },
    {
      "cell_type": "code",
      "metadata": {
        "cellView": "form",
        "id": "YTt2-36I1o9z",
        "colab": {
          "base_uri": "https://localhost:8080/",
          "height": 517
        },
        "outputId": "cd32791d-9dbb-411c-88cc-49aa83c52504"
      },
      "source": [
        "#@title Solution (double click to see the source code)\n",
        "\n",
        "import numpy as np\n",
        "\n",
        "# Input\n",
        "matr = np.array([[1.0, 2.0], [np.nan, 4.0]]) #@param\n",
        "print('INITIAL ARRAY:')\n",
        "visualize_array(matr)\n",
        "\n",
        "# Solution\n",
        "matr[np.isnan(matr)] = 0\n",
        "\n",
        "# Output\n",
        "print('PROCESSED ARRAY:')\n",
        "visualize_array(matr)"
      ],
      "execution_count": null,
      "outputs": [
        {
          "output_type": "stream",
          "text": [
            "INITIAL ARRAY:\n"
          ],
          "name": "stdout"
        },
        {
          "output_type": "display_data",
          "data": {
            "text/html": [
              "\n",
              "<style>\n",
              "table {\n",
              "  border-collapse: collapse;\n",
              "}\n",
              "\n",
              "td {\n",
              "  border: 3px solid #666666;\n",
              "  min-width:30px;\n",
              "  height: 30px;\n",
              "  position: relative; \n",
              "  text-align:center; \n",
              "  color: #474747;\n",
              "  font-size:20px;\n",
              "  font-weight: bolder;\n",
              "  padding: 19px;\n",
              "}\n",
              "\n",
              ".up{\n",
              "  position: absolute; \n",
              "  right: 0;\n",
              "  top: 0;\n",
              "  background: white;\n",
              "  text-align: right;\n",
              "  font-size: 16px;\n",
              "  font-family: Courier;\n",
              "  font-weight: bolder;\n",
              "  color: blue;\n",
              "  opacity: 1.0;\n",
              "  background-color:rgba(0, 0, 0, 0.0);\n",
              "}\n",
              "\n",
              ".down{\n",
              "  position: absolute; \n",
              "  right: 0;\n",
              "  bottom: 0;\n",
              "  background: white;\n",
              "  text-align: right;\n",
              "  font-size: 16px;\n",
              "  font-family: Courier;\n",
              "  font-weight: bolder;\n",
              "  color: red;\n",
              "  opacity: 0.9;\n",
              "  background-color:rgba(0, 0, 0, 0.0);\n",
              "}\n",
              "</style>\n",
              "<table bgcolor=\"4b64aa\">\n",
              "<tr>\t<td><table bgcolor=\"96c8ff\"><tr>\n",
              "\t<td>1.0<span class=\"up\">0</span><span class=\"down\">-2</span></td>\n",
              "\t<td>2.0<span class=\"up\">1</span><span class=\"down\">-1</span></td>\n",
              "</tr></table>\n",
              "<span class=\"up\">0</span><span class=\"down\">-2</span></td></tr>\n",
              "<tr>\t<td><table bgcolor=\"96c8ff\"><tr>\n",
              "\t<td>nan<span class=\"up\">0</span><span class=\"down\">-2</span></td>\n",
              "\t<td>4.0<span class=\"up\">1</span><span class=\"down\">-1</span></td>\n",
              "</tr></table>\n",
              "<span class=\"up\">1</span><span class=\"down\">-1</span></td></tr>\n",
              "</table>\n"
            ],
            "text/plain": [
              "<IPython.core.display.HTML object>"
            ]
          },
          "metadata": {
            "tags": []
          }
        },
        {
          "output_type": "stream",
          "text": [
            "PROCESSED ARRAY:\n"
          ],
          "name": "stdout"
        },
        {
          "output_type": "display_data",
          "data": {
            "text/html": [
              "\n",
              "<style>\n",
              "table {\n",
              "  border-collapse: collapse;\n",
              "}\n",
              "\n",
              "td {\n",
              "  border: 3px solid #666666;\n",
              "  min-width:30px;\n",
              "  height: 30px;\n",
              "  position: relative; \n",
              "  text-align:center; \n",
              "  color: #474747;\n",
              "  font-size:20px;\n",
              "  font-weight: bolder;\n",
              "  padding: 19px;\n",
              "}\n",
              "\n",
              ".up{\n",
              "  position: absolute; \n",
              "  right: 0;\n",
              "  top: 0;\n",
              "  background: white;\n",
              "  text-align: right;\n",
              "  font-size: 16px;\n",
              "  font-family: Courier;\n",
              "  font-weight: bolder;\n",
              "  color: blue;\n",
              "  opacity: 1.0;\n",
              "  background-color:rgba(0, 0, 0, 0.0);\n",
              "}\n",
              "\n",
              ".down{\n",
              "  position: absolute; \n",
              "  right: 0;\n",
              "  bottom: 0;\n",
              "  background: white;\n",
              "  text-align: right;\n",
              "  font-size: 16px;\n",
              "  font-family: Courier;\n",
              "  font-weight: bolder;\n",
              "  color: red;\n",
              "  opacity: 0.9;\n",
              "  background-color:rgba(0, 0, 0, 0.0);\n",
              "}\n",
              "</style>\n",
              "<table bgcolor=\"4b64aa\">\n",
              "<tr>\t<td><table bgcolor=\"96c8ff\"><tr>\n",
              "\t<td>1.0<span class=\"up\">0</span><span class=\"down\">-2</span></td>\n",
              "\t<td>2.0<span class=\"up\">1</span><span class=\"down\">-1</span></td>\n",
              "</tr></table>\n",
              "<span class=\"up\">0</span><span class=\"down\">-2</span></td></tr>\n",
              "<tr>\t<td><table bgcolor=\"96c8ff\"><tr>\n",
              "\t<td>0.0<span class=\"up\">0</span><span class=\"down\">-2</span></td>\n",
              "\t<td>4.0<span class=\"up\">1</span><span class=\"down\">-1</span></td>\n",
              "</tr></table>\n",
              "<span class=\"up\">1</span><span class=\"down\">-1</span></td></tr>\n",
              "</table>\n"
            ],
            "text/plain": [
              "<IPython.core.display.HTML object>"
            ]
          },
          "metadata": {
            "tags": []
          }
        }
      ]
    },
    {
      "cell_type": "markdown",
      "metadata": {
        "id": "_wupXncbGufD"
      },
      "source": [
        "##23. How to find the count of unique values in a numpy array?"
      ]
    },
    {
      "cell_type": "markdown",
      "metadata": {
        "id": "0J71DcEFp53Q"
      },
      "source": [
        "**Problem:**\n",
        "Find the unique values and the count of unique values in given array."
      ]
    },
    {
      "cell_type": "code",
      "metadata": {
        "id": "igjAzBPHGufD",
        "outputId": "6c1e2f20-7338-438d-8a93-5ba2449c30b1",
        "colab": {
          "base_uri": "https://localhost:8080/",
          "height": 293
        }
      },
      "source": [
        "import numpy as np\n",
        "\n",
        "# Input\n",
        "arr = np.array([1,2,3,1,2,4])\n",
        "print('INITIAL ARRAY:')\n",
        "visualize_array(arr)\n",
        "\n",
        "# Enter your code here\n",
        "uniques, counts = np.unique(arr, return_counts=True)\n",
        "\n",
        "# Output\n",
        "print('UNIQUE ELEMENTS:')\n",
        "visualize_array(uniques)\n",
        "print('THEIR COUNTS:')\n",
        "visualize_array(counts)"
      ],
      "execution_count": 49,
      "outputs": [
        {
          "output_type": "stream",
          "name": "stdout",
          "text": [
            "INITIAL ARRAY:\n"
          ]
        },
        {
          "output_type": "display_data",
          "data": {
            "text/plain": [
              "<IPython.core.display.HTML object>"
            ],
            "text/html": [
              "\n",
              "<style>\n",
              "table {\n",
              "  border-collapse: collapse;\n",
              "}\n",
              "\n",
              "td {\n",
              "  border: 3px solid #666666;\n",
              "  min-width:30px;\n",
              "  height: 30px;\n",
              "  position: relative;\n",
              "  text-align:center;\n",
              "  color: #474747;\n",
              "  font-size:20px;\n",
              "  font-weight: bolder;\n",
              "  padding: 19px;\n",
              "}\n",
              "\n",
              ".up{\n",
              "  position: absolute;\n",
              "  right: 0;\n",
              "  top: 0;\n",
              "  background: white;\n",
              "  text-align: right;\n",
              "  font-size: 16px;\n",
              "  font-family: Courier;\n",
              "  font-weight: bolder;\n",
              "  color: blue;\n",
              "  opacity: 1.0;\n",
              "  background-color:rgba(0, 0, 0, 0.0);\n",
              "}\n",
              "\n",
              ".down{\n",
              "  position: absolute;\n",
              "  right: 0;\n",
              "  bottom: 0;\n",
              "  background: white;\n",
              "  text-align: right;\n",
              "  font-size: 16px;\n",
              "  font-family: Courier;\n",
              "  font-weight: bolder;\n",
              "  color: red;\n",
              "  opacity: 0.9;\n",
              "  background-color:rgba(0, 0, 0, 0.0);\n",
              "}\n",
              "</style>\n",
              "<table bgcolor=\"96c8ff\"><tr>\n",
              "\t<td>1<span class=\"up\">0</span><span class=\"down\">-6</span></td>\n",
              "\t<td>2<span class=\"up\">1</span><span class=\"down\">-5</span></td>\n",
              "\t<td>3<span class=\"up\">2</span><span class=\"down\">-4</span></td>\n",
              "\t<td>1<span class=\"up\">3</span><span class=\"down\">-3</span></td>\n",
              "\t<td>2<span class=\"up\">4</span><span class=\"down\">-2</span></td>\n",
              "\t<td>4<span class=\"up\">5</span><span class=\"down\">-1</span></td>\n",
              "</tr></table>\n"
            ]
          },
          "metadata": {}
        },
        {
          "output_type": "stream",
          "name": "stdout",
          "text": [
            "UNIQUE ELEMENTS:\n"
          ]
        },
        {
          "output_type": "display_data",
          "data": {
            "text/plain": [
              "<IPython.core.display.HTML object>"
            ],
            "text/html": [
              "\n",
              "<style>\n",
              "table {\n",
              "  border-collapse: collapse;\n",
              "}\n",
              "\n",
              "td {\n",
              "  border: 3px solid #666666;\n",
              "  min-width:30px;\n",
              "  height: 30px;\n",
              "  position: relative;\n",
              "  text-align:center;\n",
              "  color: #474747;\n",
              "  font-size:20px;\n",
              "  font-weight: bolder;\n",
              "  padding: 19px;\n",
              "}\n",
              "\n",
              ".up{\n",
              "  position: absolute;\n",
              "  right: 0;\n",
              "  top: 0;\n",
              "  background: white;\n",
              "  text-align: right;\n",
              "  font-size: 16px;\n",
              "  font-family: Courier;\n",
              "  font-weight: bolder;\n",
              "  color: blue;\n",
              "  opacity: 1.0;\n",
              "  background-color:rgba(0, 0, 0, 0.0);\n",
              "}\n",
              "\n",
              ".down{\n",
              "  position: absolute;\n",
              "  right: 0;\n",
              "  bottom: 0;\n",
              "  background: white;\n",
              "  text-align: right;\n",
              "  font-size: 16px;\n",
              "  font-family: Courier;\n",
              "  font-weight: bolder;\n",
              "  color: red;\n",
              "  opacity: 0.9;\n",
              "  background-color:rgba(0, 0, 0, 0.0);\n",
              "}\n",
              "</style>\n",
              "<table bgcolor=\"96c8ff\"><tr>\n",
              "\t<td>1<span class=\"up\">0</span><span class=\"down\">-4</span></td>\n",
              "\t<td>2<span class=\"up\">1</span><span class=\"down\">-3</span></td>\n",
              "\t<td>3<span class=\"up\">2</span><span class=\"down\">-2</span></td>\n",
              "\t<td>4<span class=\"up\">3</span><span class=\"down\">-1</span></td>\n",
              "</tr></table>\n"
            ]
          },
          "metadata": {}
        },
        {
          "output_type": "stream",
          "name": "stdout",
          "text": [
            "THEIR COUNTS:\n"
          ]
        },
        {
          "output_type": "display_data",
          "data": {
            "text/plain": [
              "<IPython.core.display.HTML object>"
            ],
            "text/html": [
              "\n",
              "<style>\n",
              "table {\n",
              "  border-collapse: collapse;\n",
              "}\n",
              "\n",
              "td {\n",
              "  border: 3px solid #666666;\n",
              "  min-width:30px;\n",
              "  height: 30px;\n",
              "  position: relative;\n",
              "  text-align:center;\n",
              "  color: #474747;\n",
              "  font-size:20px;\n",
              "  font-weight: bolder;\n",
              "  padding: 19px;\n",
              "}\n",
              "\n",
              ".up{\n",
              "  position: absolute;\n",
              "  right: 0;\n",
              "  top: 0;\n",
              "  background: white;\n",
              "  text-align: right;\n",
              "  font-size: 16px;\n",
              "  font-family: Courier;\n",
              "  font-weight: bolder;\n",
              "  color: blue;\n",
              "  opacity: 1.0;\n",
              "  background-color:rgba(0, 0, 0, 0.0);\n",
              "}\n",
              "\n",
              ".down{\n",
              "  position: absolute;\n",
              "  right: 0;\n",
              "  bottom: 0;\n",
              "  background: white;\n",
              "  text-align: right;\n",
              "  font-size: 16px;\n",
              "  font-family: Courier;\n",
              "  font-weight: bolder;\n",
              "  color: red;\n",
              "  opacity: 0.9;\n",
              "  background-color:rgba(0, 0, 0, 0.0);\n",
              "}\n",
              "</style>\n",
              "<table bgcolor=\"96c8ff\"><tr>\n",
              "\t<td>2<span class=\"up\">0</span><span class=\"down\">-4</span></td>\n",
              "\t<td>2<span class=\"up\">1</span><span class=\"down\">-3</span></td>\n",
              "\t<td>1<span class=\"up\">2</span><span class=\"down\">-2</span></td>\n",
              "\t<td>1<span class=\"up\">3</span><span class=\"down\">-1</span></td>\n",
              "</tr></table>\n"
            ]
          },
          "metadata": {}
        }
      ]
    },
    {
      "cell_type": "code",
      "metadata": {
        "id": "-qYA51XPGufE",
        "cellView": "form",
        "colab": {
          "base_uri": "https://localhost:8080/",
          "height": 290
        },
        "outputId": "419c13c8-d85d-493b-cd15-4ae31652a1f8"
      },
      "source": [
        "#@title Solution (double click to see the source code)\n",
        "\n",
        "import numpy as np\n",
        "\n",
        "# Input\n",
        "arr = np.array([1,2,3,1,2,4]) #@param\n",
        "print('INITIAL ARRAY:')\n",
        "visualize_array(arr)\n",
        "\n",
        "# Solution\n",
        "uniques, counts = np.unique(arr, return_counts=True)\n",
        "\n",
        "# Output\n",
        "print('UNIQUE ELEMENTS:')\n",
        "visualize_array(uniques)\n",
        "print('THEIR COUNTS:')\n",
        "visualize_array(counts)"
      ],
      "execution_count": null,
      "outputs": [
        {
          "output_type": "stream",
          "text": [
            "INITIAL ARRAY:\n"
          ],
          "name": "stdout"
        },
        {
          "output_type": "display_data",
          "data": {
            "text/html": [
              "\n",
              "<style>\n",
              "table {\n",
              "  border-collapse: collapse;\n",
              "}\n",
              "\n",
              "td {\n",
              "  border: 3px solid #666666;\n",
              "  min-width:30px;\n",
              "  height: 30px;\n",
              "  position: relative; \n",
              "  text-align:center; \n",
              "  color: #474747;\n",
              "  font-size:20px;\n",
              "  font-weight: bolder;\n",
              "  padding: 19px;\n",
              "}\n",
              "\n",
              ".up{\n",
              "  position: absolute; \n",
              "  right: 0;\n",
              "  top: 0;\n",
              "  background: white;\n",
              "  text-align: right;\n",
              "  font-size: 16px;\n",
              "  font-family: Courier;\n",
              "  font-weight: bolder;\n",
              "  color: blue;\n",
              "  opacity: 1.0;\n",
              "  background-color:rgba(0, 0, 0, 0.0);\n",
              "}\n",
              "\n",
              ".down{\n",
              "  position: absolute; \n",
              "  right: 0;\n",
              "  bottom: 0;\n",
              "  background: white;\n",
              "  text-align: right;\n",
              "  font-size: 16px;\n",
              "  font-family: Courier;\n",
              "  font-weight: bolder;\n",
              "  color: red;\n",
              "  opacity: 0.9;\n",
              "  background-color:rgba(0, 0, 0, 0.0);\n",
              "}\n",
              "</style>\n",
              "<table bgcolor=\"96c8ff\"><tr>\n",
              "\t<td>1<span class=\"up\">0</span><span class=\"down\">-6</span></td>\n",
              "\t<td>2<span class=\"up\">1</span><span class=\"down\">-5</span></td>\n",
              "\t<td>3<span class=\"up\">2</span><span class=\"down\">-4</span></td>\n",
              "\t<td>1<span class=\"up\">3</span><span class=\"down\">-3</span></td>\n",
              "\t<td>2<span class=\"up\">4</span><span class=\"down\">-2</span></td>\n",
              "\t<td>4<span class=\"up\">5</span><span class=\"down\">-1</span></td>\n",
              "</tr></table>\n"
            ],
            "text/plain": [
              "<IPython.core.display.HTML object>"
            ]
          },
          "metadata": {
            "tags": []
          }
        },
        {
          "output_type": "stream",
          "text": [
            "UNIQUE ELEMENTS:\n"
          ],
          "name": "stdout"
        },
        {
          "output_type": "display_data",
          "data": {
            "text/html": [
              "\n",
              "<style>\n",
              "table {\n",
              "  border-collapse: collapse;\n",
              "}\n",
              "\n",
              "td {\n",
              "  border: 3px solid #666666;\n",
              "  min-width:30px;\n",
              "  height: 30px;\n",
              "  position: relative; \n",
              "  text-align:center; \n",
              "  color: #474747;\n",
              "  font-size:20px;\n",
              "  font-weight: bolder;\n",
              "  padding: 19px;\n",
              "}\n",
              "\n",
              ".up{\n",
              "  position: absolute; \n",
              "  right: 0;\n",
              "  top: 0;\n",
              "  background: white;\n",
              "  text-align: right;\n",
              "  font-size: 16px;\n",
              "  font-family: Courier;\n",
              "  font-weight: bolder;\n",
              "  color: blue;\n",
              "  opacity: 1.0;\n",
              "  background-color:rgba(0, 0, 0, 0.0);\n",
              "}\n",
              "\n",
              ".down{\n",
              "  position: absolute; \n",
              "  right: 0;\n",
              "  bottom: 0;\n",
              "  background: white;\n",
              "  text-align: right;\n",
              "  font-size: 16px;\n",
              "  font-family: Courier;\n",
              "  font-weight: bolder;\n",
              "  color: red;\n",
              "  opacity: 0.9;\n",
              "  background-color:rgba(0, 0, 0, 0.0);\n",
              "}\n",
              "</style>\n",
              "<table bgcolor=\"96c8ff\"><tr>\n",
              "\t<td>1<span class=\"up\">0</span><span class=\"down\">-4</span></td>\n",
              "\t<td>2<span class=\"up\">1</span><span class=\"down\">-3</span></td>\n",
              "\t<td>3<span class=\"up\">2</span><span class=\"down\">-2</span></td>\n",
              "\t<td>4<span class=\"up\">3</span><span class=\"down\">-1</span></td>\n",
              "</tr></table>\n"
            ],
            "text/plain": [
              "<IPython.core.display.HTML object>"
            ]
          },
          "metadata": {
            "tags": []
          }
        },
        {
          "output_type": "stream",
          "text": [
            "THEIR COUNTS:\n"
          ],
          "name": "stdout"
        },
        {
          "output_type": "display_data",
          "data": {
            "text/html": [
              "\n",
              "<style>\n",
              "table {\n",
              "  border-collapse: collapse;\n",
              "}\n",
              "\n",
              "td {\n",
              "  border: 3px solid #666666;\n",
              "  min-width:30px;\n",
              "  height: 30px;\n",
              "  position: relative; \n",
              "  text-align:center; \n",
              "  color: #474747;\n",
              "  font-size:20px;\n",
              "  font-weight: bolder;\n",
              "  padding: 19px;\n",
              "}\n",
              "\n",
              ".up{\n",
              "  position: absolute; \n",
              "  right: 0;\n",
              "  top: 0;\n",
              "  background: white;\n",
              "  text-align: right;\n",
              "  font-size: 16px;\n",
              "  font-family: Courier;\n",
              "  font-weight: bolder;\n",
              "  color: blue;\n",
              "  opacity: 1.0;\n",
              "  background-color:rgba(0, 0, 0, 0.0);\n",
              "}\n",
              "\n",
              ".down{\n",
              "  position: absolute; \n",
              "  right: 0;\n",
              "  bottom: 0;\n",
              "  background: white;\n",
              "  text-align: right;\n",
              "  font-size: 16px;\n",
              "  font-family: Courier;\n",
              "  font-weight: bolder;\n",
              "  color: red;\n",
              "  opacity: 0.9;\n",
              "  background-color:rgba(0, 0, 0, 0.0);\n",
              "}\n",
              "</style>\n",
              "<table bgcolor=\"96c8ff\"><tr>\n",
              "\t<td>2<span class=\"up\">0</span><span class=\"down\">-4</span></td>\n",
              "\t<td>2<span class=\"up\">1</span><span class=\"down\">-3</span></td>\n",
              "\t<td>1<span class=\"up\">2</span><span class=\"down\">-2</span></td>\n",
              "\t<td>1<span class=\"up\">3</span><span class=\"down\">-1</span></td>\n",
              "</tr></table>\n"
            ],
            "text/plain": [
              "<IPython.core.display.HTML object>"
            ]
          },
          "metadata": {
            "tags": []
          }
        }
      ]
    },
    {
      "cell_type": "markdown",
      "metadata": {
        "id": "88dnQgYdGufF"
      },
      "source": [
        "##24. How to convert a numeric to a categorical (text) array?"
      ]
    },
    {
      "cell_type": "markdown",
      "metadata": {
        "id": "FhQU7KXbs31G"
      },
      "source": [
        "**Problem:**\n",
        "Bin the persons' height (given as 1D array) with respect to given bins (1D array) and print their text description (given as 1D array).\n",
        "\n",
        "Height, m| Description\n",
        "------------ | -------------\n",
        "0.0 < h <= 1.7 | short\n",
        "1.7 < h <= 1.85 | medium\n",
        "1.85 < h <= 20 | tall\n",
        "otherwise | alien"
      ]
    },
    {
      "cell_type": "code",
      "metadata": {
        "id": "Ca-kyOsBGufF",
        "outputId": "5efda080-184f-4cc6-e6aa-5b74fa633a86",
        "colab": {
          "base_uri": "https://localhost:8080/",
          "height": 112
        }
      },
      "source": [
        "import numpy as np\n",
        "\n",
        "# Input\n",
        "height_arr = np.array([1.80, 2.10, 1.90, 1.60, 1.70, 1.65, 1.75])\n",
        "bins = [0.0, 1.7, 1.85, 2.0]\n",
        "label_map = ['short', 'medium', 'tall', 'alien']\n",
        "\n",
        "# Enter your code here\n",
        "height_bin = np.digitize(height_arr, bins)\n",
        "height_labels = [label_map[x - 1] for x in height_bin]\n",
        "\n",
        "# Output\n",
        "from google.colab import data_table\n",
        "import pandas as pd\n",
        "pd.DataFrame([height_arr, height_labels], index=['Heights:', 'Labels:'])"
      ],
      "execution_count": 52,
      "outputs": [
        {
          "output_type": "execute_result",
          "data": {
            "text/plain": [
              "               0      1     2      3       4      5       6\n",
              "Heights:     1.8    2.1   1.9    1.6     1.7   1.65    1.75\n",
              "Labels:   medium  alien  tall  short  medium  short  medium"
            ],
            "text/html": [
              "\n",
              "  <div id=\"df-65c38563-2d97-4f04-9ace-1b1d3f71f221\" class=\"colab-df-container\">\n",
              "    <div>\n",
              "<style scoped>\n",
              "    .dataframe tbody tr th:only-of-type {\n",
              "        vertical-align: middle;\n",
              "    }\n",
              "\n",
              "    .dataframe tbody tr th {\n",
              "        vertical-align: top;\n",
              "    }\n",
              "\n",
              "    .dataframe thead th {\n",
              "        text-align: right;\n",
              "    }\n",
              "</style>\n",
              "<table border=\"1\" class=\"dataframe\">\n",
              "  <thead>\n",
              "    <tr style=\"text-align: right;\">\n",
              "      <th></th>\n",
              "      <th>0</th>\n",
              "      <th>1</th>\n",
              "      <th>2</th>\n",
              "      <th>3</th>\n",
              "      <th>4</th>\n",
              "      <th>5</th>\n",
              "      <th>6</th>\n",
              "    </tr>\n",
              "  </thead>\n",
              "  <tbody>\n",
              "    <tr>\n",
              "      <th>Heights:</th>\n",
              "      <td>1.8</td>\n",
              "      <td>2.1</td>\n",
              "      <td>1.9</td>\n",
              "      <td>1.6</td>\n",
              "      <td>1.7</td>\n",
              "      <td>1.65</td>\n",
              "      <td>1.75</td>\n",
              "    </tr>\n",
              "    <tr>\n",
              "      <th>Labels:</th>\n",
              "      <td>medium</td>\n",
              "      <td>alien</td>\n",
              "      <td>tall</td>\n",
              "      <td>short</td>\n",
              "      <td>medium</td>\n",
              "      <td>short</td>\n",
              "      <td>medium</td>\n",
              "    </tr>\n",
              "  </tbody>\n",
              "</table>\n",
              "</div>\n",
              "    <div class=\"colab-df-buttons\">\n",
              "\n",
              "  <div class=\"colab-df-container\">\n",
              "    <button class=\"colab-df-convert\" onclick=\"convertToInteractive('df-65c38563-2d97-4f04-9ace-1b1d3f71f221')\"\n",
              "            title=\"Convert this dataframe to an interactive table.\"\n",
              "            style=\"display:none;\">\n",
              "\n",
              "  <svg xmlns=\"http://www.w3.org/2000/svg\" height=\"24px\" viewBox=\"0 -960 960 960\">\n",
              "    <path d=\"M120-120v-720h720v720H120Zm60-500h600v-160H180v160Zm220 220h160v-160H400v160Zm0 220h160v-160H400v160ZM180-400h160v-160H180v160Zm440 0h160v-160H620v160ZM180-180h160v-160H180v160Zm440 0h160v-160H620v160Z\"/>\n",
              "  </svg>\n",
              "    </button>\n",
              "\n",
              "  <style>\n",
              "    .colab-df-container {\n",
              "      display:flex;\n",
              "      gap: 12px;\n",
              "    }\n",
              "\n",
              "    .colab-df-convert {\n",
              "      background-color: #E8F0FE;\n",
              "      border: none;\n",
              "      border-radius: 50%;\n",
              "      cursor: pointer;\n",
              "      display: none;\n",
              "      fill: #1967D2;\n",
              "      height: 32px;\n",
              "      padding: 0 0 0 0;\n",
              "      width: 32px;\n",
              "    }\n",
              "\n",
              "    .colab-df-convert:hover {\n",
              "      background-color: #E2EBFA;\n",
              "      box-shadow: 0px 1px 2px rgba(60, 64, 67, 0.3), 0px 1px 3px 1px rgba(60, 64, 67, 0.15);\n",
              "      fill: #174EA6;\n",
              "    }\n",
              "\n",
              "    .colab-df-buttons div {\n",
              "      margin-bottom: 4px;\n",
              "    }\n",
              "\n",
              "    [theme=dark] .colab-df-convert {\n",
              "      background-color: #3B4455;\n",
              "      fill: #D2E3FC;\n",
              "    }\n",
              "\n",
              "    [theme=dark] .colab-df-convert:hover {\n",
              "      background-color: #434B5C;\n",
              "      box-shadow: 0px 1px 3px 1px rgba(0, 0, 0, 0.15);\n",
              "      filter: drop-shadow(0px 1px 2px rgba(0, 0, 0, 0.3));\n",
              "      fill: #FFFFFF;\n",
              "    }\n",
              "  </style>\n",
              "\n",
              "    <script>\n",
              "      const buttonEl =\n",
              "        document.querySelector('#df-65c38563-2d97-4f04-9ace-1b1d3f71f221 button.colab-df-convert');\n",
              "      buttonEl.style.display =\n",
              "        google.colab.kernel.accessAllowed ? 'block' : 'none';\n",
              "\n",
              "      async function convertToInteractive(key) {\n",
              "        const element = document.querySelector('#df-65c38563-2d97-4f04-9ace-1b1d3f71f221');\n",
              "        const dataTable =\n",
              "          await google.colab.kernel.invokeFunction('convertToInteractive',\n",
              "                                                    [key], {});\n",
              "        if (!dataTable) return;\n",
              "\n",
              "        const docLinkHtml = 'Like what you see? Visit the ' +\n",
              "          '<a target=\"_blank\" href=https://colab.research.google.com/notebooks/data_table.ipynb>data table notebook</a>'\n",
              "          + ' to learn more about interactive tables.';\n",
              "        element.innerHTML = '';\n",
              "        dataTable['output_type'] = 'display_data';\n",
              "        await google.colab.output.renderOutput(dataTable, element);\n",
              "        const docLink = document.createElement('div');\n",
              "        docLink.innerHTML = docLinkHtml;\n",
              "        element.appendChild(docLink);\n",
              "      }\n",
              "    </script>\n",
              "  </div>\n",
              "\n",
              "\n",
              "<div id=\"df-2e6fb888-6233-4697-b546-59295d48b4a6\">\n",
              "  <button class=\"colab-df-quickchart\" onclick=\"quickchart('df-2e6fb888-6233-4697-b546-59295d48b4a6')\"\n",
              "            title=\"Suggest charts\"\n",
              "            style=\"display:none;\">\n",
              "\n",
              "<svg xmlns=\"http://www.w3.org/2000/svg\" height=\"24px\"viewBox=\"0 0 24 24\"\n",
              "     width=\"24px\">\n",
              "    <g>\n",
              "        <path d=\"M19 3H5c-1.1 0-2 .9-2 2v14c0 1.1.9 2 2 2h14c1.1 0 2-.9 2-2V5c0-1.1-.9-2-2-2zM9 17H7v-7h2v7zm4 0h-2V7h2v10zm4 0h-2v-4h2v4z\"/>\n",
              "    </g>\n",
              "</svg>\n",
              "  </button>\n",
              "\n",
              "<style>\n",
              "  .colab-df-quickchart {\n",
              "      --bg-color: #E8F0FE;\n",
              "      --fill-color: #1967D2;\n",
              "      --hover-bg-color: #E2EBFA;\n",
              "      --hover-fill-color: #174EA6;\n",
              "      --disabled-fill-color: #AAA;\n",
              "      --disabled-bg-color: #DDD;\n",
              "  }\n",
              "\n",
              "  [theme=dark] .colab-df-quickchart {\n",
              "      --bg-color: #3B4455;\n",
              "      --fill-color: #D2E3FC;\n",
              "      --hover-bg-color: #434B5C;\n",
              "      --hover-fill-color: #FFFFFF;\n",
              "      --disabled-bg-color: #3B4455;\n",
              "      --disabled-fill-color: #666;\n",
              "  }\n",
              "\n",
              "  .colab-df-quickchart {\n",
              "    background-color: var(--bg-color);\n",
              "    border: none;\n",
              "    border-radius: 50%;\n",
              "    cursor: pointer;\n",
              "    display: none;\n",
              "    fill: var(--fill-color);\n",
              "    height: 32px;\n",
              "    padding: 0;\n",
              "    width: 32px;\n",
              "  }\n",
              "\n",
              "  .colab-df-quickchart:hover {\n",
              "    background-color: var(--hover-bg-color);\n",
              "    box-shadow: 0 1px 2px rgba(60, 64, 67, 0.3), 0 1px 3px 1px rgba(60, 64, 67, 0.15);\n",
              "    fill: var(--button-hover-fill-color);\n",
              "  }\n",
              "\n",
              "  .colab-df-quickchart-complete:disabled,\n",
              "  .colab-df-quickchart-complete:disabled:hover {\n",
              "    background-color: var(--disabled-bg-color);\n",
              "    fill: var(--disabled-fill-color);\n",
              "    box-shadow: none;\n",
              "  }\n",
              "\n",
              "  .colab-df-spinner {\n",
              "    border: 2px solid var(--fill-color);\n",
              "    border-color: transparent;\n",
              "    border-bottom-color: var(--fill-color);\n",
              "    animation:\n",
              "      spin 1s steps(1) infinite;\n",
              "  }\n",
              "\n",
              "  @keyframes spin {\n",
              "    0% {\n",
              "      border-color: transparent;\n",
              "      border-bottom-color: var(--fill-color);\n",
              "      border-left-color: var(--fill-color);\n",
              "    }\n",
              "    20% {\n",
              "      border-color: transparent;\n",
              "      border-left-color: var(--fill-color);\n",
              "      border-top-color: var(--fill-color);\n",
              "    }\n",
              "    30% {\n",
              "      border-color: transparent;\n",
              "      border-left-color: var(--fill-color);\n",
              "      border-top-color: var(--fill-color);\n",
              "      border-right-color: var(--fill-color);\n",
              "    }\n",
              "    40% {\n",
              "      border-color: transparent;\n",
              "      border-right-color: var(--fill-color);\n",
              "      border-top-color: var(--fill-color);\n",
              "    }\n",
              "    60% {\n",
              "      border-color: transparent;\n",
              "      border-right-color: var(--fill-color);\n",
              "    }\n",
              "    80% {\n",
              "      border-color: transparent;\n",
              "      border-right-color: var(--fill-color);\n",
              "      border-bottom-color: var(--fill-color);\n",
              "    }\n",
              "    90% {\n",
              "      border-color: transparent;\n",
              "      border-bottom-color: var(--fill-color);\n",
              "    }\n",
              "  }\n",
              "</style>\n",
              "\n",
              "  <script>\n",
              "    async function quickchart(key) {\n",
              "      const quickchartButtonEl =\n",
              "        document.querySelector('#' + key + ' button');\n",
              "      quickchartButtonEl.disabled = true;  // To prevent multiple clicks.\n",
              "      quickchartButtonEl.classList.add('colab-df-spinner');\n",
              "      try {\n",
              "        const charts = await google.colab.kernel.invokeFunction(\n",
              "            'suggestCharts', [key], {});\n",
              "      } catch (error) {\n",
              "        console.error('Error during call to suggestCharts:', error);\n",
              "      }\n",
              "      quickchartButtonEl.classList.remove('colab-df-spinner');\n",
              "      quickchartButtonEl.classList.add('colab-df-quickchart-complete');\n",
              "    }\n",
              "    (() => {\n",
              "      let quickchartButtonEl =\n",
              "        document.querySelector('#df-2e6fb888-6233-4697-b546-59295d48b4a6 button');\n",
              "      quickchartButtonEl.style.display =\n",
              "        google.colab.kernel.accessAllowed ? 'block' : 'none';\n",
              "    })();\n",
              "  </script>\n",
              "</div>\n",
              "    </div>\n",
              "  </div>\n"
            ],
            "application/vnd.google.colaboratory.intrinsic+json": {
              "type": "dataframe",
              "summary": "{\n  \"name\": \"pd\",\n  \"rows\": 2,\n  \"fields\": [\n    {\n      \"column\": 0,\n      \"properties\": {\n        \"dtype\": \"string\",\n        \"num_unique_values\": 2,\n        \"samples\": [\n          \"medium\",\n          1.8\n        ],\n        \"semantic_type\": \"\",\n        \"description\": \"\"\n      }\n    },\n    {\n      \"column\": 1,\n      \"properties\": {\n        \"dtype\": \"string\",\n        \"num_unique_values\": 2,\n        \"samples\": [\n          \"alien\",\n          2.1\n        ],\n        \"semantic_type\": \"\",\n        \"description\": \"\"\n      }\n    },\n    {\n      \"column\": 2,\n      \"properties\": {\n        \"dtype\": \"string\",\n        \"num_unique_values\": 2,\n        \"samples\": [\n          \"tall\",\n          1.9\n        ],\n        \"semantic_type\": \"\",\n        \"description\": \"\"\n      }\n    },\n    {\n      \"column\": 3,\n      \"properties\": {\n        \"dtype\": \"string\",\n        \"num_unique_values\": 2,\n        \"samples\": [\n          \"short\",\n          1.6\n        ],\n        \"semantic_type\": \"\",\n        \"description\": \"\"\n      }\n    },\n    {\n      \"column\": 4,\n      \"properties\": {\n        \"dtype\": \"string\",\n        \"num_unique_values\": 2,\n        \"samples\": [\n          \"medium\",\n          1.7\n        ],\n        \"semantic_type\": \"\",\n        \"description\": \"\"\n      }\n    },\n    {\n      \"column\": 5,\n      \"properties\": {\n        \"dtype\": \"string\",\n        \"num_unique_values\": 2,\n        \"samples\": [\n          \"short\",\n          1.65\n        ],\n        \"semantic_type\": \"\",\n        \"description\": \"\"\n      }\n    },\n    {\n      \"column\": 6,\n      \"properties\": {\n        \"dtype\": \"string\",\n        \"num_unique_values\": 2,\n        \"samples\": [\n          \"medium\",\n          1.75\n        ],\n        \"semantic_type\": \"\",\n        \"description\": \"\"\n      }\n    }\n  ]\n}"
            }
          },
          "metadata": {},
          "execution_count": 52
        }
      ]
    },
    {
      "cell_type": "code",
      "source": [
        "height_bin"
      ],
      "metadata": {
        "id": "UAfiyX28Ib2O",
        "outputId": "71ad3797-090d-48c4-e159-31aa16bb9b81",
        "colab": {
          "base_uri": "https://localhost:8080/"
        }
      },
      "execution_count": 53,
      "outputs": [
        {
          "output_type": "execute_result",
          "data": {
            "text/plain": [
              "array([2, 4, 3, 1, 2, 1, 2])"
            ]
          },
          "metadata": {},
          "execution_count": 53
        }
      ]
    },
    {
      "cell_type": "code",
      "metadata": {
        "id": "ms52-oBVGufG",
        "cellView": "form",
        "colab": {
          "base_uri": "https://localhost:8080/",
          "height": 111
        },
        "outputId": "cfec499a-b4f5-4ab4-ec50-8e79c73a5cbe"
      },
      "source": [
        "#@title Solution (double click to see the source code)\n",
        "\n",
        "import numpy as np\n",
        "\n",
        "# Input\n",
        "height_arr = np.array([1.80, 2.10, 1.90, 1.60, 1.70, 1.65, 1.75]) #@param\n",
        "bins = [0.0, 1.7, 1.85, 2.0] #@param\n",
        "label_map = ['short', 'medium', 'tall', 'alien'] #@param\n",
        "\n",
        "# Solution\n",
        "height_bin = np.digitize(height_arr, bins)\n",
        "height_labels = [label_map[x-1] for x in height_bin]\n",
        "\n",
        "# Output\n",
        "from google.colab import data_table\n",
        "import pandas as pd\n",
        "pd.DataFrame([height_arr, height_labels], index=['Heights:', 'Labels:'])"
      ],
      "execution_count": null,
      "outputs": [
        {
          "output_type": "execute_result",
          "data": {
            "text/html": [
              "<div>\n",
              "<style scoped>\n",
              "    .dataframe tbody tr th:only-of-type {\n",
              "        vertical-align: middle;\n",
              "    }\n",
              "\n",
              "    .dataframe tbody tr th {\n",
              "        vertical-align: top;\n",
              "    }\n",
              "\n",
              "    .dataframe thead th {\n",
              "        text-align: right;\n",
              "    }\n",
              "</style>\n",
              "<table border=\"1\" class=\"dataframe\">\n",
              "  <thead>\n",
              "    <tr style=\"text-align: right;\">\n",
              "      <th></th>\n",
              "      <th>0</th>\n",
              "      <th>1</th>\n",
              "      <th>2</th>\n",
              "      <th>3</th>\n",
              "      <th>4</th>\n",
              "      <th>5</th>\n",
              "      <th>6</th>\n",
              "    </tr>\n",
              "  </thead>\n",
              "  <tbody>\n",
              "    <tr>\n",
              "      <th>Heights:</th>\n",
              "      <td>1.8</td>\n",
              "      <td>2.1</td>\n",
              "      <td>1.9</td>\n",
              "      <td>1.6</td>\n",
              "      <td>1.7</td>\n",
              "      <td>1.65</td>\n",
              "      <td>1.75</td>\n",
              "    </tr>\n",
              "    <tr>\n",
              "      <th>Labels:</th>\n",
              "      <td>medium</td>\n",
              "      <td>alien</td>\n",
              "      <td>tall</td>\n",
              "      <td>short</td>\n",
              "      <td>medium</td>\n",
              "      <td>short</td>\n",
              "      <td>medium</td>\n",
              "    </tr>\n",
              "  </tbody>\n",
              "</table>\n",
              "</div>"
            ],
            "text/plain": [
              "               0      1     2      3       4      5       6\n",
              "Heights:     1.8    2.1   1.9    1.6     1.7   1.65    1.75\n",
              "Labels:   medium  alien  tall  short  medium  short  medium"
            ]
          },
          "metadata": {
            "tags": []
          },
          "execution_count": 13
        }
      ]
    },
    {
      "cell_type": "markdown",
      "metadata": {
        "id": "LvGnTYBzGufH"
      },
      "source": [
        "##25. How to create a new column from existing columns of a numpy array?\n",
        "\n"
      ]
    },
    {
      "cell_type": "markdown",
      "metadata": {
        "id": "n1g9NMx3Robp"
      },
      "source": [
        "**Problem:**\n",
        "An array that contains width, length, and height of parallelepipedal bars is given.\n",
        "Add one more column to the array that should contain volume of the appropriate bar."
      ]
    },
    {
      "cell_type": "code",
      "metadata": {
        "id": "H8AfTxo3GufI",
        "outputId": "16d47c2c-5cf9-4c2d-9f18-f1245ff9356d",
        "colab": {
          "base_uri": "https://localhost:8080/",
          "height": 749
        }
      },
      "source": [
        "import numpy as np\n",
        "\n",
        "# Input\n",
        "arr = np.array([[5.7, 4.3, 9.8],\n",
        "                [1.0, 2.0, 1.6],\n",
        "                [6.5, 2.5, 4.6]])\n",
        "print('INITIAL ARRAY:')\n",
        "visualize_array(arr)\n",
        "\n",
        "# Enter your code here\n",
        "volume = arr[:, 0] * arr[:, 1] * arr[:, 2]\n",
        "arr = np.hstack([arr, volume[:, np.newaxis]])\n",
        "\n",
        "# Output\n",
        "print('VOLUME ADDED:')\n",
        "visualize_array(arr.round(2))"
      ],
      "execution_count": 64,
      "outputs": [
        {
          "output_type": "stream",
          "name": "stdout",
          "text": [
            "INITIAL ARRAY:\n"
          ]
        },
        {
          "output_type": "display_data",
          "data": {
            "text/plain": [
              "<IPython.core.display.HTML object>"
            ],
            "text/html": [
              "\n",
              "<style>\n",
              "table {\n",
              "  border-collapse: collapse;\n",
              "}\n",
              "\n",
              "td {\n",
              "  border: 3px solid #666666;\n",
              "  min-width:30px;\n",
              "  height: 30px;\n",
              "  position: relative;\n",
              "  text-align:center;\n",
              "  color: #474747;\n",
              "  font-size:20px;\n",
              "  font-weight: bolder;\n",
              "  padding: 19px;\n",
              "}\n",
              "\n",
              ".up{\n",
              "  position: absolute;\n",
              "  right: 0;\n",
              "  top: 0;\n",
              "  background: white;\n",
              "  text-align: right;\n",
              "  font-size: 16px;\n",
              "  font-family: Courier;\n",
              "  font-weight: bolder;\n",
              "  color: blue;\n",
              "  opacity: 1.0;\n",
              "  background-color:rgba(0, 0, 0, 0.0);\n",
              "}\n",
              "\n",
              ".down{\n",
              "  position: absolute;\n",
              "  right: 0;\n",
              "  bottom: 0;\n",
              "  background: white;\n",
              "  text-align: right;\n",
              "  font-size: 16px;\n",
              "  font-family: Courier;\n",
              "  font-weight: bolder;\n",
              "  color: red;\n",
              "  opacity: 0.9;\n",
              "  background-color:rgba(0, 0, 0, 0.0);\n",
              "}\n",
              "</style>\n",
              "<table bgcolor=\"4b64aa\">\n",
              "<tr>\t<td><table bgcolor=\"96c8ff\"><tr>\n",
              "\t<td>5.7<span class=\"up\">0</span><span class=\"down\">-3</span></td>\n",
              "\t<td>4.3<span class=\"up\">1</span><span class=\"down\">-2</span></td>\n",
              "\t<td>9.8<span class=\"up\">2</span><span class=\"down\">-1</span></td>\n",
              "</tr></table>\n",
              "<span class=\"up\">0</span><span class=\"down\">-3</span></td></tr>\n",
              "<tr>\t<td><table bgcolor=\"96c8ff\"><tr>\n",
              "\t<td>1.0<span class=\"up\">0</span><span class=\"down\">-3</span></td>\n",
              "\t<td>2.0<span class=\"up\">1</span><span class=\"down\">-2</span></td>\n",
              "\t<td>1.6<span class=\"up\">2</span><span class=\"down\">-1</span></td>\n",
              "</tr></table>\n",
              "<span class=\"up\">1</span><span class=\"down\">-2</span></td></tr>\n",
              "<tr>\t<td><table bgcolor=\"96c8ff\"><tr>\n",
              "\t<td>6.5<span class=\"up\">0</span><span class=\"down\">-3</span></td>\n",
              "\t<td>2.5<span class=\"up\">1</span><span class=\"down\">-2</span></td>\n",
              "\t<td>4.6<span class=\"up\">2</span><span class=\"down\">-1</span></td>\n",
              "</tr></table>\n",
              "<span class=\"up\">2</span><span class=\"down\">-1</span></td></tr>\n",
              "</table>\n"
            ]
          },
          "metadata": {}
        },
        {
          "output_type": "stream",
          "name": "stdout",
          "text": [
            "VOLUME ADDED:\n"
          ]
        },
        {
          "output_type": "display_data",
          "data": {
            "text/plain": [
              "<IPython.core.display.HTML object>"
            ],
            "text/html": [
              "\n",
              "<style>\n",
              "table {\n",
              "  border-collapse: collapse;\n",
              "}\n",
              "\n",
              "td {\n",
              "  border: 3px solid #666666;\n",
              "  min-width:30px;\n",
              "  height: 30px;\n",
              "  position: relative;\n",
              "  text-align:center;\n",
              "  color: #474747;\n",
              "  font-size:20px;\n",
              "  font-weight: bolder;\n",
              "  padding: 19px;\n",
              "}\n",
              "\n",
              ".up{\n",
              "  position: absolute;\n",
              "  right: 0;\n",
              "  top: 0;\n",
              "  background: white;\n",
              "  text-align: right;\n",
              "  font-size: 16px;\n",
              "  font-family: Courier;\n",
              "  font-weight: bolder;\n",
              "  color: blue;\n",
              "  opacity: 1.0;\n",
              "  background-color:rgba(0, 0, 0, 0.0);\n",
              "}\n",
              "\n",
              ".down{\n",
              "  position: absolute;\n",
              "  right: 0;\n",
              "  bottom: 0;\n",
              "  background: white;\n",
              "  text-align: right;\n",
              "  font-size: 16px;\n",
              "  font-family: Courier;\n",
              "  font-weight: bolder;\n",
              "  color: red;\n",
              "  opacity: 0.9;\n",
              "  background-color:rgba(0, 0, 0, 0.0);\n",
              "}\n",
              "</style>\n",
              "<table bgcolor=\"4b64aa\">\n",
              "<tr>\t<td><table bgcolor=\"96c8ff\"><tr>\n",
              "\t<td>5.7<span class=\"up\">0</span><span class=\"down\">-4</span></td>\n",
              "\t<td>4.3<span class=\"up\">1</span><span class=\"down\">-3</span></td>\n",
              "\t<td>9.8<span class=\"up\">2</span><span class=\"down\">-2</span></td>\n",
              "\t<td>240.2<span class=\"up\">3</span><span class=\"down\">-1</span></td>\n",
              "</tr></table>\n",
              "<span class=\"up\">0</span><span class=\"down\">-3</span></td></tr>\n",
              "<tr>\t<td><table bgcolor=\"96c8ff\"><tr>\n",
              "\t<td>1.0<span class=\"up\">0</span><span class=\"down\">-4</span></td>\n",
              "\t<td>2.0<span class=\"up\">1</span><span class=\"down\">-3</span></td>\n",
              "\t<td>1.6<span class=\"up\">2</span><span class=\"down\">-2</span></td>\n",
              "\t<td>3.2<span class=\"up\">3</span><span class=\"down\">-1</span></td>\n",
              "</tr></table>\n",
              "<span class=\"up\">1</span><span class=\"down\">-2</span></td></tr>\n",
              "<tr>\t<td><table bgcolor=\"96c8ff\"><tr>\n",
              "\t<td>6.5<span class=\"up\">0</span><span class=\"down\">-4</span></td>\n",
              "\t<td>2.5<span class=\"up\">1</span><span class=\"down\">-3</span></td>\n",
              "\t<td>4.6<span class=\"up\">2</span><span class=\"down\">-2</span></td>\n",
              "\t<td>74.75<span class=\"up\">3</span><span class=\"down\">-1</span></td>\n",
              "</tr></table>\n",
              "<span class=\"up\">2</span><span class=\"down\">-1</span></td></tr>\n",
              "</table>\n"
            ]
          },
          "metadata": {}
        }
      ]
    },
    {
      "cell_type": "code",
      "source": [
        "volume, volume[:, np.newaxis]"
      ],
      "metadata": {
        "id": "zuIPAEaSJxl3",
        "outputId": "89055cfd-b155-41f1-c793-e5dd5937c18c",
        "colab": {
          "base_uri": "https://localhost:8080/"
        }
      },
      "execution_count": 63,
      "outputs": [
        {
          "output_type": "execute_result",
          "data": {
            "text/plain": [
              "(array([240.198,   3.2  ,  74.75 ]),\n",
              " array([[240.198],\n",
              "        [  3.2  ],\n",
              "        [ 74.75 ]]))"
            ]
          },
          "metadata": {},
          "execution_count": 63
        }
      ]
    },
    {
      "cell_type": "code",
      "metadata": {
        "id": "4hSCP6vPGufI",
        "colab": {
          "base_uri": "https://localhost:8080/",
          "height": 749
        },
        "outputId": "25bbfef6-5e92-4bce-8a62-ec34fd8b1094"
      },
      "source": [
        "#@title Solution (double click to see the source code)\n",
        "\n",
        "import numpy as np\n",
        "\n",
        "# Input\n",
        "arr = np.array([[5.7, 4.3, 9.8], [1.0, 2.0, 1.6], [6.5, 2.5, 4.6]]) #@param\n",
        "print('INITIAL ARRAY:')\n",
        "visualize_array(arr)\n",
        "\n",
        "# Solution\n",
        "volume = arr[:, 0] * arr[:, 1] * arr[:, 2]\n",
        "arr = np.hstack([arr, volume[:, np.newaxis]])\n",
        "\n",
        "# Output\n",
        "print('VOLUME ADDED:')\n",
        "visualize_array(arr.round(2))"
      ],
      "execution_count": 57,
      "outputs": [
        {
          "output_type": "stream",
          "name": "stdout",
          "text": [
            "INITIAL ARRAY:\n"
          ]
        },
        {
          "output_type": "display_data",
          "data": {
            "text/plain": [
              "<IPython.core.display.HTML object>"
            ],
            "text/html": [
              "\n",
              "<style>\n",
              "table {\n",
              "  border-collapse: collapse;\n",
              "}\n",
              "\n",
              "td {\n",
              "  border: 3px solid #666666;\n",
              "  min-width:30px;\n",
              "  height: 30px;\n",
              "  position: relative;\n",
              "  text-align:center;\n",
              "  color: #474747;\n",
              "  font-size:20px;\n",
              "  font-weight: bolder;\n",
              "  padding: 19px;\n",
              "}\n",
              "\n",
              ".up{\n",
              "  position: absolute;\n",
              "  right: 0;\n",
              "  top: 0;\n",
              "  background: white;\n",
              "  text-align: right;\n",
              "  font-size: 16px;\n",
              "  font-family: Courier;\n",
              "  font-weight: bolder;\n",
              "  color: blue;\n",
              "  opacity: 1.0;\n",
              "  background-color:rgba(0, 0, 0, 0.0);\n",
              "}\n",
              "\n",
              ".down{\n",
              "  position: absolute;\n",
              "  right: 0;\n",
              "  bottom: 0;\n",
              "  background: white;\n",
              "  text-align: right;\n",
              "  font-size: 16px;\n",
              "  font-family: Courier;\n",
              "  font-weight: bolder;\n",
              "  color: red;\n",
              "  opacity: 0.9;\n",
              "  background-color:rgba(0, 0, 0, 0.0);\n",
              "}\n",
              "</style>\n",
              "<table bgcolor=\"4b64aa\">\n",
              "<tr>\t<td><table bgcolor=\"96c8ff\"><tr>\n",
              "\t<td>5.7<span class=\"up\">0</span><span class=\"down\">-3</span></td>\n",
              "\t<td>4.3<span class=\"up\">1</span><span class=\"down\">-2</span></td>\n",
              "\t<td>9.8<span class=\"up\">2</span><span class=\"down\">-1</span></td>\n",
              "</tr></table>\n",
              "<span class=\"up\">0</span><span class=\"down\">-3</span></td></tr>\n",
              "<tr>\t<td><table bgcolor=\"96c8ff\"><tr>\n",
              "\t<td>1.0<span class=\"up\">0</span><span class=\"down\">-3</span></td>\n",
              "\t<td>2.0<span class=\"up\">1</span><span class=\"down\">-2</span></td>\n",
              "\t<td>1.6<span class=\"up\">2</span><span class=\"down\">-1</span></td>\n",
              "</tr></table>\n",
              "<span class=\"up\">1</span><span class=\"down\">-2</span></td></tr>\n",
              "<tr>\t<td><table bgcolor=\"96c8ff\"><tr>\n",
              "\t<td>6.5<span class=\"up\">0</span><span class=\"down\">-3</span></td>\n",
              "\t<td>2.5<span class=\"up\">1</span><span class=\"down\">-2</span></td>\n",
              "\t<td>4.6<span class=\"up\">2</span><span class=\"down\">-1</span></td>\n",
              "</tr></table>\n",
              "<span class=\"up\">2</span><span class=\"down\">-1</span></td></tr>\n",
              "</table>\n"
            ]
          },
          "metadata": {}
        },
        {
          "output_type": "stream",
          "name": "stdout",
          "text": [
            "VOLUME ADDED:\n"
          ]
        },
        {
          "output_type": "display_data",
          "data": {
            "text/plain": [
              "<IPython.core.display.HTML object>"
            ],
            "text/html": [
              "\n",
              "<style>\n",
              "table {\n",
              "  border-collapse: collapse;\n",
              "}\n",
              "\n",
              "td {\n",
              "  border: 3px solid #666666;\n",
              "  min-width:30px;\n",
              "  height: 30px;\n",
              "  position: relative;\n",
              "  text-align:center;\n",
              "  color: #474747;\n",
              "  font-size:20px;\n",
              "  font-weight: bolder;\n",
              "  padding: 19px;\n",
              "}\n",
              "\n",
              ".up{\n",
              "  position: absolute;\n",
              "  right: 0;\n",
              "  top: 0;\n",
              "  background: white;\n",
              "  text-align: right;\n",
              "  font-size: 16px;\n",
              "  font-family: Courier;\n",
              "  font-weight: bolder;\n",
              "  color: blue;\n",
              "  opacity: 1.0;\n",
              "  background-color:rgba(0, 0, 0, 0.0);\n",
              "}\n",
              "\n",
              ".down{\n",
              "  position: absolute;\n",
              "  right: 0;\n",
              "  bottom: 0;\n",
              "  background: white;\n",
              "  text-align: right;\n",
              "  font-size: 16px;\n",
              "  font-family: Courier;\n",
              "  font-weight: bolder;\n",
              "  color: red;\n",
              "  opacity: 0.9;\n",
              "  background-color:rgba(0, 0, 0, 0.0);\n",
              "}\n",
              "</style>\n",
              "<table bgcolor=\"4b64aa\">\n",
              "<tr>\t<td><table bgcolor=\"96c8ff\"><tr>\n",
              "\t<td>5.7<span class=\"up\">0</span><span class=\"down\">-4</span></td>\n",
              "\t<td>4.3<span class=\"up\">1</span><span class=\"down\">-3</span></td>\n",
              "\t<td>9.8<span class=\"up\">2</span><span class=\"down\">-2</span></td>\n",
              "\t<td>240.2<span class=\"up\">3</span><span class=\"down\">-1</span></td>\n",
              "</tr></table>\n",
              "<span class=\"up\">0</span><span class=\"down\">-3</span></td></tr>\n",
              "<tr>\t<td><table bgcolor=\"96c8ff\"><tr>\n",
              "\t<td>1.0<span class=\"up\">0</span><span class=\"down\">-4</span></td>\n",
              "\t<td>2.0<span class=\"up\">1</span><span class=\"down\">-3</span></td>\n",
              "\t<td>1.6<span class=\"up\">2</span><span class=\"down\">-2</span></td>\n",
              "\t<td>3.2<span class=\"up\">3</span><span class=\"down\">-1</span></td>\n",
              "</tr></table>\n",
              "<span class=\"up\">1</span><span class=\"down\">-2</span></td></tr>\n",
              "<tr>\t<td><table bgcolor=\"96c8ff\"><tr>\n",
              "\t<td>6.5<span class=\"up\">0</span><span class=\"down\">-4</span></td>\n",
              "\t<td>2.5<span class=\"up\">1</span><span class=\"down\">-3</span></td>\n",
              "\t<td>4.6<span class=\"up\">2</span><span class=\"down\">-2</span></td>\n",
              "\t<td>74.75<span class=\"up\">3</span><span class=\"down\">-1</span></td>\n",
              "</tr></table>\n",
              "<span class=\"up\">2</span><span class=\"down\">-1</span></td></tr>\n",
              "</table>\n"
            ]
          },
          "metadata": {}
        }
      ]
    },
    {
      "cell_type": "code",
      "source": [
        "volume"
      ],
      "metadata": {
        "id": "2XwVYj9PJZk0",
        "outputId": "769aa8d6-c3c7-4fd3-c5f3-24c82aa6c90f",
        "colab": {
          "base_uri": "https://localhost:8080/"
        }
      },
      "execution_count": 58,
      "outputs": [
        {
          "output_type": "execute_result",
          "data": {
            "text/plain": [
              "array([240.198,   3.2  ,  74.75 ])"
            ]
          },
          "metadata": {},
          "execution_count": 58
        }
      ]
    },
    {
      "cell_type": "markdown",
      "metadata": {
        "id": "xjTLPbcQGufL"
      },
      "source": [
        "##26. How to get the second largest value of an array when grouped by another array?"
      ]
    },
    {
      "cell_type": "markdown",
      "metadata": {
        "id": "W6RLAwATHybq"
      },
      "source": [
        "**Problem:**\n",
        "An array that contains student's name and number of solved problems is given.\n",
        "Find the second largest number of problems that Alice has solved."
      ]
    },
    {
      "cell_type": "code",
      "metadata": {
        "id": "NxDKPwTFGufL",
        "outputId": "15a020a5-5e58-4dcd-fa21-b65021fe6cc3",
        "colab": {
          "base_uri": "https://localhost:8080/",
          "height": 130
        }
      },
      "source": [
        "import numpy as np\n",
        "\n",
        "# Input\n",
        "arr = np.array([['Alice', 7],\n",
        "                ['Bob',   1],\n",
        "                ['Alice', 3],\n",
        "                ['Alice', 2],\n",
        "                ['Alice', 5],\n",
        "                ['Bob',   9],\n",
        "                ['Bob',   1],\n",
        "                ['Alice', 6],\n",
        "                ['Bob',   6],\n",
        "                ['Alice', 3],\n",
        "                ['Alice', 1]])\n",
        "student = 'Alice'\n",
        "\n",
        "from google.colab import data_table\n",
        "import pandas as pd\n",
        "dt = data_table.DataTable(pd.DataFrame(arr.T, index=['Name', 'Problems solved']))\n",
        "import IPython\n",
        "display(IPython.display.HTML(dt._repr_html_()))\n",
        "\n",
        "# Enter your code here\n",
        "filtered = arr[arr[:, 0] == student][:, 1]\n",
        "result = sorted(np.unique(filtered))[-2]\n",
        "\n",
        "# Output\n",
        "print('The second largest number of problems ', student, ' has solved is ', result)"
      ],
      "execution_count": 71,
      "outputs": [
        {
          "output_type": "display_data",
          "data": {
            "text/plain": [
              "<IPython.core.display.HTML object>"
            ],
            "text/html": [
              "<div>\n",
              "<style scoped>\n",
              "    .dataframe tbody tr th:only-of-type {\n",
              "        vertical-align: middle;\n",
              "    }\n",
              "\n",
              "    .dataframe tbody tr th {\n",
              "        vertical-align: top;\n",
              "    }\n",
              "\n",
              "    .dataframe thead th {\n",
              "        text-align: right;\n",
              "    }\n",
              "</style>\n",
              "<table border=\"1\" class=\"dataframe\">\n",
              "  <thead>\n",
              "    <tr style=\"text-align: right;\">\n",
              "      <th></th>\n",
              "      <th>0</th>\n",
              "      <th>1</th>\n",
              "      <th>2</th>\n",
              "      <th>3</th>\n",
              "      <th>4</th>\n",
              "      <th>5</th>\n",
              "      <th>6</th>\n",
              "      <th>7</th>\n",
              "      <th>8</th>\n",
              "      <th>9</th>\n",
              "      <th>10</th>\n",
              "    </tr>\n",
              "  </thead>\n",
              "  <tbody>\n",
              "    <tr>\n",
              "      <th>Name</th>\n",
              "      <td>Alice</td>\n",
              "      <td>Bob</td>\n",
              "      <td>Alice</td>\n",
              "      <td>Alice</td>\n",
              "      <td>Alice</td>\n",
              "      <td>Bob</td>\n",
              "      <td>Bob</td>\n",
              "      <td>Alice</td>\n",
              "      <td>Bob</td>\n",
              "      <td>Alice</td>\n",
              "      <td>Alice</td>\n",
              "    </tr>\n",
              "    <tr>\n",
              "      <th>Problems solved</th>\n",
              "      <td>7</td>\n",
              "      <td>1</td>\n",
              "      <td>3</td>\n",
              "      <td>2</td>\n",
              "      <td>5</td>\n",
              "      <td>9</td>\n",
              "      <td>1</td>\n",
              "      <td>6</td>\n",
              "      <td>6</td>\n",
              "      <td>3</td>\n",
              "      <td>1</td>\n",
              "    </tr>\n",
              "  </tbody>\n",
              "</table>\n",
              "</div>"
            ]
          },
          "metadata": {}
        },
        {
          "output_type": "stream",
          "name": "stdout",
          "text": [
            "The second largest number of problems  Alice  has solved is  6\n"
          ]
        }
      ]
    },
    {
      "cell_type": "code",
      "metadata": {
        "id": "lNAY0dD4GufM",
        "cellView": "form",
        "colab": {
          "base_uri": "https://localhost:8080/",
          "height": 128
        },
        "outputId": "6e369de7-8b71-4d63-e11e-c495cbec3aaa"
      },
      "source": [
        "#@title Solution (double click to see the source code)\n",
        "\n",
        "import numpy as np\n",
        "\n",
        "# Input\n",
        "arr = np.array([['Alice', 7], ['Bob', 1], ['Alice', 3], ['Alice', 2], ['Alice', 5], ['Bob', 9], ['Bob', 1], ['Alice', 6], ['Bob', 6], ['Alice', 3], ['Alice', 1]]) #@param\n",
        "student = 'Alice' #@param {type: \"string\"}\n",
        "\n",
        "from google.colab import data_table\n",
        "import pandas as pd\n",
        "dt = data_table.DataTable(pd.DataFrame(arr.T, index=['Name', 'Problems solved']))\n",
        "import IPython\n",
        "display(IPython.display.HTML(dt._repr_html_()))\n",
        "\n",
        "# Solution\n",
        "filtered = arr[arr[:, 0] == student, [1]].astype('float')\n",
        "result = np.unique(np.sort(filtered))[-2]\n",
        "\n",
        "# Output\n",
        "print('The second largest number of problems ', student, ' has solved is ', result)"
      ],
      "execution_count": null,
      "outputs": [
        {
          "output_type": "display_data",
          "data": {
            "text/html": [
              "<div>\n",
              "<style scoped>\n",
              "    .dataframe tbody tr th:only-of-type {\n",
              "        vertical-align: middle;\n",
              "    }\n",
              "\n",
              "    .dataframe tbody tr th {\n",
              "        vertical-align: top;\n",
              "    }\n",
              "\n",
              "    .dataframe thead th {\n",
              "        text-align: right;\n",
              "    }\n",
              "</style>\n",
              "<table border=\"1\" class=\"dataframe\">\n",
              "  <thead>\n",
              "    <tr style=\"text-align: right;\">\n",
              "      <th></th>\n",
              "      <th>0</th>\n",
              "      <th>1</th>\n",
              "      <th>2</th>\n",
              "      <th>3</th>\n",
              "      <th>4</th>\n",
              "      <th>5</th>\n",
              "      <th>6</th>\n",
              "      <th>7</th>\n",
              "      <th>8</th>\n",
              "      <th>9</th>\n",
              "      <th>10</th>\n",
              "    </tr>\n",
              "  </thead>\n",
              "  <tbody>\n",
              "    <tr>\n",
              "      <th>Name</th>\n",
              "      <td>Alice</td>\n",
              "      <td>Bob</td>\n",
              "      <td>Alice</td>\n",
              "      <td>Alice</td>\n",
              "      <td>Alice</td>\n",
              "      <td>Bob</td>\n",
              "      <td>Bob</td>\n",
              "      <td>Alice</td>\n",
              "      <td>Bob</td>\n",
              "      <td>Alice</td>\n",
              "      <td>Alice</td>\n",
              "    </tr>\n",
              "    <tr>\n",
              "      <th>Problems solved</th>\n",
              "      <td>7</td>\n",
              "      <td>1</td>\n",
              "      <td>3</td>\n",
              "      <td>2</td>\n",
              "      <td>5</td>\n",
              "      <td>9</td>\n",
              "      <td>1</td>\n",
              "      <td>6</td>\n",
              "      <td>6</td>\n",
              "      <td>3</td>\n",
              "      <td>1</td>\n",
              "    </tr>\n",
              "  </tbody>\n",
              "</table>\n",
              "</div>"
            ],
            "text/plain": [
              "<IPython.core.display.HTML object>"
            ]
          },
          "metadata": {
            "tags": []
          }
        },
        {
          "output_type": "stream",
          "text": [
            "The second largest number of problems  Alice  has solved is  6.0\n"
          ],
          "name": "stdout"
        }
      ]
    },
    {
      "cell_type": "markdown",
      "metadata": {
        "id": "buBi6jVmGufR"
      },
      "source": [
        "##27. How to find the position of the first occurrence of a value greater than a given value?"
      ]
    },
    {
      "cell_type": "markdown",
      "metadata": {
        "id": "WXE64rcd09rs"
      },
      "source": [
        "**Problem:**\n",
        "Find the position of the first occurrence of a value strictly greater than given threshold."
      ]
    },
    {
      "cell_type": "code",
      "metadata": {
        "id": "JMl_rpc3GufR",
        "outputId": "e58e2c17-e11b-4872-a013-5de9632c501e",
        "colab": {
          "base_uri": "https://localhost:8080/",
          "height": 127
        }
      },
      "source": [
        "import numpy as np\n",
        "\n",
        "# Input:\n",
        "arr = np.array([8, 5, 2, 7, 5, 9, 0, 9, 8, 6, 2, 0, 5, 3, 10, 2, 3, 6, 4, 1])\n",
        "threshold = 8\n",
        "print('input:')\n",
        "visualize_array(arr)\n",
        "\n",
        "# Enter your code here\n",
        "idx = np.where(arr > threshold)[0][0]\n",
        "\n",
        "# Output\n",
        "print('The first value higher than ', threshold, ' occurs at ', idx, '-th position')"
      ],
      "execution_count": 74,
      "outputs": [
        {
          "output_type": "stream",
          "name": "stdout",
          "text": [
            "input:\n"
          ]
        },
        {
          "output_type": "display_data",
          "data": {
            "text/plain": [
              "<IPython.core.display.HTML object>"
            ],
            "text/html": [
              "\n",
              "<style>\n",
              "table {\n",
              "  border-collapse: collapse;\n",
              "}\n",
              "\n",
              "td {\n",
              "  border: 3px solid #666666;\n",
              "  min-width:30px;\n",
              "  height: 30px;\n",
              "  position: relative;\n",
              "  text-align:center;\n",
              "  color: #474747;\n",
              "  font-size:20px;\n",
              "  font-weight: bolder;\n",
              "  padding: 19px;\n",
              "}\n",
              "\n",
              ".up{\n",
              "  position: absolute;\n",
              "  right: 0;\n",
              "  top: 0;\n",
              "  background: white;\n",
              "  text-align: right;\n",
              "  font-size: 16px;\n",
              "  font-family: Courier;\n",
              "  font-weight: bolder;\n",
              "  color: blue;\n",
              "  opacity: 1.0;\n",
              "  background-color:rgba(0, 0, 0, 0.0);\n",
              "}\n",
              "\n",
              ".down{\n",
              "  position: absolute;\n",
              "  right: 0;\n",
              "  bottom: 0;\n",
              "  background: white;\n",
              "  text-align: right;\n",
              "  font-size: 16px;\n",
              "  font-family: Courier;\n",
              "  font-weight: bolder;\n",
              "  color: red;\n",
              "  opacity: 0.9;\n",
              "  background-color:rgba(0, 0, 0, 0.0);\n",
              "}\n",
              "</style>\n",
              "<table bgcolor=\"96c8ff\"><tr>\n",
              "\t<td>8<span class=\"up\">0</span><span class=\"down\">-20</span></td>\n",
              "\t<td>5<span class=\"up\">1</span><span class=\"down\">-19</span></td>\n",
              "\t<td>2<span class=\"up\">2</span><span class=\"down\">-18</span></td>\n",
              "\t<td>7<span class=\"up\">3</span><span class=\"down\">-17</span></td>\n",
              "\t<td>5<span class=\"up\">4</span><span class=\"down\">-16</span></td>\n",
              "\t<td>9<span class=\"up\">5</span><span class=\"down\">-15</span></td>\n",
              "\t<td>0<span class=\"up\">6</span><span class=\"down\">-14</span></td>\n",
              "\t<td>9<span class=\"up\">7</span><span class=\"down\">-13</span></td>\n",
              "\t<td>8<span class=\"up\">8</span><span class=\"down\">-12</span></td>\n",
              "\t<td>6<span class=\"up\">9</span><span class=\"down\">-11</span></td>\n",
              "\t<td>2<span class=\"up\">10</span><span class=\"down\">-10</span></td>\n",
              "\t<td>0<span class=\"up\">11</span><span class=\"down\">-9</span></td>\n",
              "\t<td>5<span class=\"up\">12</span><span class=\"down\">-8</span></td>\n",
              "\t<td>3<span class=\"up\">13</span><span class=\"down\">-7</span></td>\n",
              "\t<td>10<span class=\"up\">14</span><span class=\"down\">-6</span></td>\n",
              "\t<td>2<span class=\"up\">15</span><span class=\"down\">-5</span></td>\n",
              "\t<td>3<span class=\"up\">16</span><span class=\"down\">-4</span></td>\n",
              "\t<td>6<span class=\"up\">17</span><span class=\"down\">-3</span></td>\n",
              "\t<td>4<span class=\"up\">18</span><span class=\"down\">-2</span></td>\n",
              "\t<td>1<span class=\"up\">19</span><span class=\"down\">-1</span></td>\n",
              "</tr></table>\n"
            ]
          },
          "metadata": {}
        },
        {
          "output_type": "stream",
          "name": "stdout",
          "text": [
            "The first value higher than  8  occurs at  5 -th position\n"
          ]
        }
      ]
    },
    {
      "cell_type": "code",
      "metadata": {
        "id": "9A4Es5K3GufS",
        "cellView": "form",
        "colab": {
          "base_uri": "https://localhost:8080/",
          "height": 145
        },
        "outputId": "57baab82-5332-40e8-d8b1-f7b26c3575a9"
      },
      "source": [
        "#@title Solution (double click to see the source code)\n",
        "\n",
        "import numpy as np\n",
        "\n",
        "# Input:\n",
        "arr = np.array([8, 5, 2, 7, 5, 9, 0, 9, 8, 6, 2, 0, 5, 3, 10, 2, 3, 6, 4, 1]) #@param\n",
        "threshold = 8 #@param\n",
        "print('input:')\n",
        "visualize_array(arr)\n",
        "\n",
        "# Solution:\n",
        "idx = np.argwhere(arr > threshold)[0,0]\n",
        "\n",
        "# Output\n",
        "print('The first value higher than ', threshold, ' occurs at ', idx, '-th position')"
      ],
      "execution_count": null,
      "outputs": [
        {
          "output_type": "stream",
          "text": [
            "input:\n"
          ],
          "name": "stdout"
        },
        {
          "output_type": "display_data",
          "data": {
            "text/html": [
              "\n",
              "<style>\n",
              "table {\n",
              "  border-collapse: collapse;\n",
              "}\n",
              "\n",
              "td {\n",
              "  border: 3px solid #666666;\n",
              "  min-width:30px;\n",
              "  height: 30px;\n",
              "  position: relative; \n",
              "  text-align:center; \n",
              "  color: #474747;\n",
              "  font-size:20px;\n",
              "  font-weight: bolder;\n",
              "  padding: 19px;\n",
              "}\n",
              "\n",
              ".up{\n",
              "  position: absolute; \n",
              "  right: 0;\n",
              "  top: 0;\n",
              "  background: white;\n",
              "  text-align: right;\n",
              "  font-size: 16px;\n",
              "  font-family: Courier;\n",
              "  font-weight: bolder;\n",
              "  color: blue;\n",
              "  opacity: 1.0;\n",
              "  background-color:rgba(0, 0, 0, 0.0);\n",
              "}\n",
              "\n",
              ".down{\n",
              "  position: absolute; \n",
              "  right: 0;\n",
              "  bottom: 0;\n",
              "  background: white;\n",
              "  text-align: right;\n",
              "  font-size: 16px;\n",
              "  font-family: Courier;\n",
              "  font-weight: bolder;\n",
              "  color: red;\n",
              "  opacity: 0.9;\n",
              "  background-color:rgba(0, 0, 0, 0.0);\n",
              "}\n",
              "</style>\n",
              "<table bgcolor=\"96c8ff\"><tr>\n",
              "\t<td>8<span class=\"up\">0</span><span class=\"down\">-20</span></td>\n",
              "\t<td>5<span class=\"up\">1</span><span class=\"down\">-19</span></td>\n",
              "\t<td>2<span class=\"up\">2</span><span class=\"down\">-18</span></td>\n",
              "\t<td>7<span class=\"up\">3</span><span class=\"down\">-17</span></td>\n",
              "\t<td>5<span class=\"up\">4</span><span class=\"down\">-16</span></td>\n",
              "\t<td>9<span class=\"up\">5</span><span class=\"down\">-15</span></td>\n",
              "\t<td>0<span class=\"up\">6</span><span class=\"down\">-14</span></td>\n",
              "\t<td>9<span class=\"up\">7</span><span class=\"down\">-13</span></td>\n",
              "\t<td>8<span class=\"up\">8</span><span class=\"down\">-12</span></td>\n",
              "\t<td>6<span class=\"up\">9</span><span class=\"down\">-11</span></td>\n",
              "\t<td>2<span class=\"up\">10</span><span class=\"down\">-10</span></td>\n",
              "\t<td>0<span class=\"up\">11</span><span class=\"down\">-9</span></td>\n",
              "\t<td>5<span class=\"up\">12</span><span class=\"down\">-8</span></td>\n",
              "\t<td>3<span class=\"up\">13</span><span class=\"down\">-7</span></td>\n",
              "\t<td>10<span class=\"up\">14</span><span class=\"down\">-6</span></td>\n",
              "\t<td>2<span class=\"up\">15</span><span class=\"down\">-5</span></td>\n",
              "\t<td>3<span class=\"up\">16</span><span class=\"down\">-4</span></td>\n",
              "\t<td>6<span class=\"up\">17</span><span class=\"down\">-3</span></td>\n",
              "\t<td>4<span class=\"up\">18</span><span class=\"down\">-2</span></td>\n",
              "\t<td>1<span class=\"up\">19</span><span class=\"down\">-1</span></td>\n",
              "</tr></table>\n"
            ],
            "text/plain": [
              "<IPython.core.display.HTML object>"
            ]
          },
          "metadata": {
            "tags": []
          }
        },
        {
          "output_type": "stream",
          "text": [
            "The first value higher than  8  occurs at  5 -th position\n"
          ],
          "name": "stdout"
        }
      ]
    },
    {
      "cell_type": "markdown",
      "metadata": {
        "id": "B0iE--mGGufS"
      },
      "source": [
        "##28. How to replace all values greater than a given value to a given cutoff?"
      ]
    },
    {
      "cell_type": "markdown",
      "metadata": {
        "id": "_qi9qlyoZipo"
      },
      "source": [
        "**Problem:**\n",
        "An array together with two numbers `min_cut` and `max_cut` are given.\n",
        "Replace all values in array less than `min_cut` with `min_cut` and all values greater than `max_cut` with `max_cut`.\n",
        "Suppose that `max_cut` is always greater than `min_cut`."
      ]
    },
    {
      "cell_type": "code",
      "metadata": {
        "id": "_ZDOsdyZGufS",
        "outputId": "0427cc8d-04e2-4cc2-c916-d3c9f9bd5af9",
        "colab": {
          "base_uri": "https://localhost:8080/",
          "height": 201
        }
      },
      "source": [
        "import numpy as np\n",
        "\n",
        "# Input\n",
        "a = np.array([27.6, 14.6, 21.8, 42.3,  1.2,\n",
        "               6.9, 33.8, 41.4,  7.7,  29.1,\n",
        "              44.6, 11.2, 10.0,  6.3,  11.7,\n",
        "              48.9, 40.7,  9.4, 41.0 , 14.4])\n",
        "min_cut = 10\n",
        "max_cut = 30\n",
        "\n",
        "# Enter your code here\n",
        "new_a = np.clip(a, a_min=min_cut, a_max=max_cut)\n",
        "\n",
        "# Output\n",
        "print('initial array')\n",
        "visualize_array(a)\n",
        "print('cutoff array')\n",
        "visualize_array(new_a)"
      ],
      "execution_count": 75,
      "outputs": [
        {
          "output_type": "stream",
          "name": "stdout",
          "text": [
            "initial array\n"
          ]
        },
        {
          "output_type": "display_data",
          "data": {
            "text/plain": [
              "<IPython.core.display.HTML object>"
            ],
            "text/html": [
              "\n",
              "<style>\n",
              "table {\n",
              "  border-collapse: collapse;\n",
              "}\n",
              "\n",
              "td {\n",
              "  border: 3px solid #666666;\n",
              "  min-width:30px;\n",
              "  height: 30px;\n",
              "  position: relative;\n",
              "  text-align:center;\n",
              "  color: #474747;\n",
              "  font-size:20px;\n",
              "  font-weight: bolder;\n",
              "  padding: 19px;\n",
              "}\n",
              "\n",
              ".up{\n",
              "  position: absolute;\n",
              "  right: 0;\n",
              "  top: 0;\n",
              "  background: white;\n",
              "  text-align: right;\n",
              "  font-size: 16px;\n",
              "  font-family: Courier;\n",
              "  font-weight: bolder;\n",
              "  color: blue;\n",
              "  opacity: 1.0;\n",
              "  background-color:rgba(0, 0, 0, 0.0);\n",
              "}\n",
              "\n",
              ".down{\n",
              "  position: absolute;\n",
              "  right: 0;\n",
              "  bottom: 0;\n",
              "  background: white;\n",
              "  text-align: right;\n",
              "  font-size: 16px;\n",
              "  font-family: Courier;\n",
              "  font-weight: bolder;\n",
              "  color: red;\n",
              "  opacity: 0.9;\n",
              "  background-color:rgba(0, 0, 0, 0.0);\n",
              "}\n",
              "</style>\n",
              "<table bgcolor=\"96c8ff\"><tr>\n",
              "\t<td>27.6<span class=\"up\">0</span><span class=\"down\">-20</span></td>\n",
              "\t<td>14.6<span class=\"up\">1</span><span class=\"down\">-19</span></td>\n",
              "\t<td>21.8<span class=\"up\">2</span><span class=\"down\">-18</span></td>\n",
              "\t<td>42.3<span class=\"up\">3</span><span class=\"down\">-17</span></td>\n",
              "\t<td>1.2<span class=\"up\">4</span><span class=\"down\">-16</span></td>\n",
              "\t<td>6.9<span class=\"up\">5</span><span class=\"down\">-15</span></td>\n",
              "\t<td>33.8<span class=\"up\">6</span><span class=\"down\">-14</span></td>\n",
              "\t<td>41.4<span class=\"up\">7</span><span class=\"down\">-13</span></td>\n",
              "\t<td>7.7<span class=\"up\">8</span><span class=\"down\">-12</span></td>\n",
              "\t<td>29.1<span class=\"up\">9</span><span class=\"down\">-11</span></td>\n",
              "\t<td>44.6<span class=\"up\">10</span><span class=\"down\">-10</span></td>\n",
              "\t<td>11.2<span class=\"up\">11</span><span class=\"down\">-9</span></td>\n",
              "\t<td>10.0<span class=\"up\">12</span><span class=\"down\">-8</span></td>\n",
              "\t<td>6.3<span class=\"up\">13</span><span class=\"down\">-7</span></td>\n",
              "\t<td>11.7<span class=\"up\">14</span><span class=\"down\">-6</span></td>\n",
              "\t<td>48.9<span class=\"up\">15</span><span class=\"down\">-5</span></td>\n",
              "\t<td>40.7<span class=\"up\">16</span><span class=\"down\">-4</span></td>\n",
              "\t<td>9.4<span class=\"up\">17</span><span class=\"down\">-3</span></td>\n",
              "\t<td>41.0<span class=\"up\">18</span><span class=\"down\">-2</span></td>\n",
              "\t<td>14.4<span class=\"up\">19</span><span class=\"down\">-1</span></td>\n",
              "</tr></table>\n"
            ]
          },
          "metadata": {}
        },
        {
          "output_type": "stream",
          "name": "stdout",
          "text": [
            "cutoff array\n"
          ]
        },
        {
          "output_type": "display_data",
          "data": {
            "text/plain": [
              "<IPython.core.display.HTML object>"
            ],
            "text/html": [
              "\n",
              "<style>\n",
              "table {\n",
              "  border-collapse: collapse;\n",
              "}\n",
              "\n",
              "td {\n",
              "  border: 3px solid #666666;\n",
              "  min-width:30px;\n",
              "  height: 30px;\n",
              "  position: relative;\n",
              "  text-align:center;\n",
              "  color: #474747;\n",
              "  font-size:20px;\n",
              "  font-weight: bolder;\n",
              "  padding: 19px;\n",
              "}\n",
              "\n",
              ".up{\n",
              "  position: absolute;\n",
              "  right: 0;\n",
              "  top: 0;\n",
              "  background: white;\n",
              "  text-align: right;\n",
              "  font-size: 16px;\n",
              "  font-family: Courier;\n",
              "  font-weight: bolder;\n",
              "  color: blue;\n",
              "  opacity: 1.0;\n",
              "  background-color:rgba(0, 0, 0, 0.0);\n",
              "}\n",
              "\n",
              ".down{\n",
              "  position: absolute;\n",
              "  right: 0;\n",
              "  bottom: 0;\n",
              "  background: white;\n",
              "  text-align: right;\n",
              "  font-size: 16px;\n",
              "  font-family: Courier;\n",
              "  font-weight: bolder;\n",
              "  color: red;\n",
              "  opacity: 0.9;\n",
              "  background-color:rgba(0, 0, 0, 0.0);\n",
              "}\n",
              "</style>\n",
              "<table bgcolor=\"96c8ff\"><tr>\n",
              "\t<td>27.6<span class=\"up\">0</span><span class=\"down\">-20</span></td>\n",
              "\t<td>14.6<span class=\"up\">1</span><span class=\"down\">-19</span></td>\n",
              "\t<td>21.8<span class=\"up\">2</span><span class=\"down\">-18</span></td>\n",
              "\t<td>30.0<span class=\"up\">3</span><span class=\"down\">-17</span></td>\n",
              "\t<td>10.0<span class=\"up\">4</span><span class=\"down\">-16</span></td>\n",
              "\t<td>10.0<span class=\"up\">5</span><span class=\"down\">-15</span></td>\n",
              "\t<td>30.0<span class=\"up\">6</span><span class=\"down\">-14</span></td>\n",
              "\t<td>30.0<span class=\"up\">7</span><span class=\"down\">-13</span></td>\n",
              "\t<td>10.0<span class=\"up\">8</span><span class=\"down\">-12</span></td>\n",
              "\t<td>29.1<span class=\"up\">9</span><span class=\"down\">-11</span></td>\n",
              "\t<td>30.0<span class=\"up\">10</span><span class=\"down\">-10</span></td>\n",
              "\t<td>11.2<span class=\"up\">11</span><span class=\"down\">-9</span></td>\n",
              "\t<td>10.0<span class=\"up\">12</span><span class=\"down\">-8</span></td>\n",
              "\t<td>10.0<span class=\"up\">13</span><span class=\"down\">-7</span></td>\n",
              "\t<td>11.7<span class=\"up\">14</span><span class=\"down\">-6</span></td>\n",
              "\t<td>30.0<span class=\"up\">15</span><span class=\"down\">-5</span></td>\n",
              "\t<td>30.0<span class=\"up\">16</span><span class=\"down\">-4</span></td>\n",
              "\t<td>10.0<span class=\"up\">17</span><span class=\"down\">-3</span></td>\n",
              "\t<td>30.0<span class=\"up\">18</span><span class=\"down\">-2</span></td>\n",
              "\t<td>14.4<span class=\"up\">19</span><span class=\"down\">-1</span></td>\n",
              "</tr></table>\n"
            ]
          },
          "metadata": {}
        }
      ]
    },
    {
      "cell_type": "code",
      "metadata": {
        "id": "yRY7-SaeGufU",
        "cellView": "form",
        "colab": {
          "base_uri": "https://localhost:8080/",
          "height": 219
        },
        "outputId": "bd15004b-3937-4936-8830-b3ab23d57866"
      },
      "source": [
        "#@title Solution A (double click to see the source code)\n",
        "\n",
        "import numpy as np\n",
        "\n",
        "# Input\n",
        "a = np.array([27.6, 14.6, 21.8, 42.3,  1.2, 6.9, 33.8, 41.4,  7.7,  29.1, 44.6, 11.2, 10.0,  6.3,  11.7, 48.9, 40.7,  9.4, 41.0 , 14.4]) #@param\n",
        "min_cut = 10 #@param\n",
        "max_cut = 30 #@param\n",
        "\n",
        "# Solution\n",
        "new_a = np.clip(a, a_min=min_cut, a_max=max_cut)\n",
        "\n",
        "# Output\n",
        "print('initial array')\n",
        "visualize_array(a)\n",
        "print('cutoff array')\n",
        "visualize_array(new_a)"
      ],
      "execution_count": null,
      "outputs": [
        {
          "output_type": "stream",
          "text": [
            "initial array\n"
          ],
          "name": "stdout"
        },
        {
          "output_type": "display_data",
          "data": {
            "text/html": [
              "\n",
              "<style>\n",
              "table {\n",
              "  border-collapse: collapse;\n",
              "}\n",
              "\n",
              "td {\n",
              "  border: 3px solid #666666;\n",
              "  min-width:30px;\n",
              "  height: 30px;\n",
              "  position: relative; \n",
              "  text-align:center; \n",
              "  color: #474747;\n",
              "  font-size:20px;\n",
              "  font-weight: bolder;\n",
              "  padding: 19px;\n",
              "}\n",
              "\n",
              ".up{\n",
              "  position: absolute; \n",
              "  right: 0;\n",
              "  top: 0;\n",
              "  background: white;\n",
              "  text-align: right;\n",
              "  font-size: 16px;\n",
              "  font-family: Courier;\n",
              "  font-weight: bolder;\n",
              "  color: blue;\n",
              "  opacity: 1.0;\n",
              "  background-color:rgba(0, 0, 0, 0.0);\n",
              "}\n",
              "\n",
              ".down{\n",
              "  position: absolute; \n",
              "  right: 0;\n",
              "  bottom: 0;\n",
              "  background: white;\n",
              "  text-align: right;\n",
              "  font-size: 16px;\n",
              "  font-family: Courier;\n",
              "  font-weight: bolder;\n",
              "  color: red;\n",
              "  opacity: 0.9;\n",
              "  background-color:rgba(0, 0, 0, 0.0);\n",
              "}\n",
              "</style>\n",
              "<table bgcolor=\"96c8ff\"><tr>\n",
              "\t<td>27.6<span class=\"up\">0</span><span class=\"down\">-20</span></td>\n",
              "\t<td>14.6<span class=\"up\">1</span><span class=\"down\">-19</span></td>\n",
              "\t<td>21.8<span class=\"up\">2</span><span class=\"down\">-18</span></td>\n",
              "\t<td>42.3<span class=\"up\">3</span><span class=\"down\">-17</span></td>\n",
              "\t<td>1.2<span class=\"up\">4</span><span class=\"down\">-16</span></td>\n",
              "\t<td>6.9<span class=\"up\">5</span><span class=\"down\">-15</span></td>\n",
              "\t<td>33.8<span class=\"up\">6</span><span class=\"down\">-14</span></td>\n",
              "\t<td>41.4<span class=\"up\">7</span><span class=\"down\">-13</span></td>\n",
              "\t<td>7.7<span class=\"up\">8</span><span class=\"down\">-12</span></td>\n",
              "\t<td>29.1<span class=\"up\">9</span><span class=\"down\">-11</span></td>\n",
              "\t<td>44.6<span class=\"up\">10</span><span class=\"down\">-10</span></td>\n",
              "\t<td>11.2<span class=\"up\">11</span><span class=\"down\">-9</span></td>\n",
              "\t<td>10.0<span class=\"up\">12</span><span class=\"down\">-8</span></td>\n",
              "\t<td>6.3<span class=\"up\">13</span><span class=\"down\">-7</span></td>\n",
              "\t<td>11.7<span class=\"up\">14</span><span class=\"down\">-6</span></td>\n",
              "\t<td>48.9<span class=\"up\">15</span><span class=\"down\">-5</span></td>\n",
              "\t<td>40.7<span class=\"up\">16</span><span class=\"down\">-4</span></td>\n",
              "\t<td>9.4<span class=\"up\">17</span><span class=\"down\">-3</span></td>\n",
              "\t<td>41.0<span class=\"up\">18</span><span class=\"down\">-2</span></td>\n",
              "\t<td>14.4<span class=\"up\">19</span><span class=\"down\">-1</span></td>\n",
              "</tr></table>\n"
            ],
            "text/plain": [
              "<IPython.core.display.HTML object>"
            ]
          },
          "metadata": {
            "tags": []
          }
        },
        {
          "output_type": "stream",
          "text": [
            "cutoff array\n"
          ],
          "name": "stdout"
        },
        {
          "output_type": "display_data",
          "data": {
            "text/html": [
              "\n",
              "<style>\n",
              "table {\n",
              "  border-collapse: collapse;\n",
              "}\n",
              "\n",
              "td {\n",
              "  border: 3px solid #666666;\n",
              "  min-width:30px;\n",
              "  height: 30px;\n",
              "  position: relative; \n",
              "  text-align:center; \n",
              "  color: #474747;\n",
              "  font-size:20px;\n",
              "  font-weight: bolder;\n",
              "  padding: 19px;\n",
              "}\n",
              "\n",
              ".up{\n",
              "  position: absolute; \n",
              "  right: 0;\n",
              "  top: 0;\n",
              "  background: white;\n",
              "  text-align: right;\n",
              "  font-size: 16px;\n",
              "  font-family: Courier;\n",
              "  font-weight: bolder;\n",
              "  color: blue;\n",
              "  opacity: 1.0;\n",
              "  background-color:rgba(0, 0, 0, 0.0);\n",
              "}\n",
              "\n",
              ".down{\n",
              "  position: absolute; \n",
              "  right: 0;\n",
              "  bottom: 0;\n",
              "  background: white;\n",
              "  text-align: right;\n",
              "  font-size: 16px;\n",
              "  font-family: Courier;\n",
              "  font-weight: bolder;\n",
              "  color: red;\n",
              "  opacity: 0.9;\n",
              "  background-color:rgba(0, 0, 0, 0.0);\n",
              "}\n",
              "</style>\n",
              "<table bgcolor=\"96c8ff\"><tr>\n",
              "\t<td>27.6<span class=\"up\">0</span><span class=\"down\">-20</span></td>\n",
              "\t<td>14.6<span class=\"up\">1</span><span class=\"down\">-19</span></td>\n",
              "\t<td>21.8<span class=\"up\">2</span><span class=\"down\">-18</span></td>\n",
              "\t<td>30.0<span class=\"up\">3</span><span class=\"down\">-17</span></td>\n",
              "\t<td>10.0<span class=\"up\">4</span><span class=\"down\">-16</span></td>\n",
              "\t<td>10.0<span class=\"up\">5</span><span class=\"down\">-15</span></td>\n",
              "\t<td>30.0<span class=\"up\">6</span><span class=\"down\">-14</span></td>\n",
              "\t<td>30.0<span class=\"up\">7</span><span class=\"down\">-13</span></td>\n",
              "\t<td>10.0<span class=\"up\">8</span><span class=\"down\">-12</span></td>\n",
              "\t<td>29.1<span class=\"up\">9</span><span class=\"down\">-11</span></td>\n",
              "\t<td>30.0<span class=\"up\">10</span><span class=\"down\">-10</span></td>\n",
              "\t<td>11.2<span class=\"up\">11</span><span class=\"down\">-9</span></td>\n",
              "\t<td>10.0<span class=\"up\">12</span><span class=\"down\">-8</span></td>\n",
              "\t<td>10.0<span class=\"up\">13</span><span class=\"down\">-7</span></td>\n",
              "\t<td>11.7<span class=\"up\">14</span><span class=\"down\">-6</span></td>\n",
              "\t<td>30.0<span class=\"up\">15</span><span class=\"down\">-5</span></td>\n",
              "\t<td>30.0<span class=\"up\">16</span><span class=\"down\">-4</span></td>\n",
              "\t<td>10.0<span class=\"up\">17</span><span class=\"down\">-3</span></td>\n",
              "\t<td>30.0<span class=\"up\">18</span><span class=\"down\">-2</span></td>\n",
              "\t<td>14.4<span class=\"up\">19</span><span class=\"down\">-1</span></td>\n",
              "</tr></table>\n"
            ],
            "text/plain": [
              "<IPython.core.display.HTML object>"
            ]
          },
          "metadata": {
            "tags": []
          }
        }
      ]
    },
    {
      "cell_type": "code",
      "metadata": {
        "id": "LoYZegVFZlV-",
        "cellView": "form"
      },
      "source": [
        "#@title Solution B (double click to see the source code)\n",
        "\n",
        "import numpy as np\n",
        "\n",
        "# Input\n",
        "a = np.array([27.6, 14.6, 21.8, 42.3,  1.2, 6.9, 33.8, 41.4,  7.7,  29.1, 44.6, 11.2, 10.0,  6.3,  11.7, 48.9, 40.7,  9.4, 41.0 , 14.4]) #@param\n",
        "min_cut = 10 #@param\n",
        "max_cut = 30 #@param\n",
        "\n",
        "# Solution\n",
        "new_a = np.where(a < min_cut, min_cut, np.where(a > max_cut, max_cut, a))\n",
        "\n",
        "# Output\n",
        "print('initial array')\n",
        "visualize_array(a)\n",
        "print('cutoff array')\n",
        "visualize_array(new_a)"
      ],
      "execution_count": null,
      "outputs": []
    },
    {
      "cell_type": "markdown",
      "metadata": {
        "id": "JUB2O-bkGufU"
      },
      "source": [
        "##29. How to get the positions of top n values from a numpy array?"
      ]
    },
    {
      "cell_type": "markdown",
      "metadata": {
        "id": "YwlcVUm_DR-T"
      },
      "source": [
        "**Problem:**\n",
        "Get the positions of top 5 maximal values in a given array."
      ]
    },
    {
      "cell_type": "code",
      "metadata": {
        "id": "DBAKzd5nGufV",
        "outputId": "a77d6062-34a6-4078-a373-5552dc44f63e",
        "colab": {
          "base_uri": "https://localhost:8080/",
          "height": 201
        }
      },
      "source": [
        "import numpy as np\n",
        "\n",
        "# Input\n",
        "a = np.array([4, 13, 5, 8, 17, 12, 11, 14, 19, 1, 2, 0, 9, 6, 16, 18, 7, 3, 10, 15])\n",
        "\n",
        "# Enter your code here\n",
        "idx = np.argpartition(a, -5)[-5:]\n",
        "\n",
        "# Output\n",
        "print('initial array')\n",
        "visualize_array(a)\n",
        "print('5 maximal value indices')\n",
        "visualize_array(idx)"
      ],
      "execution_count": 96,
      "outputs": [
        {
          "output_type": "stream",
          "name": "stdout",
          "text": [
            "initial array\n"
          ]
        },
        {
          "output_type": "display_data",
          "data": {
            "text/plain": [
              "<IPython.core.display.HTML object>"
            ],
            "text/html": [
              "\n",
              "<style>\n",
              "table {\n",
              "  border-collapse: collapse;\n",
              "}\n",
              "\n",
              "td {\n",
              "  border: 3px solid #666666;\n",
              "  min-width:30px;\n",
              "  height: 30px;\n",
              "  position: relative;\n",
              "  text-align:center;\n",
              "  color: #474747;\n",
              "  font-size:20px;\n",
              "  font-weight: bolder;\n",
              "  padding: 19px;\n",
              "}\n",
              "\n",
              ".up{\n",
              "  position: absolute;\n",
              "  right: 0;\n",
              "  top: 0;\n",
              "  background: white;\n",
              "  text-align: right;\n",
              "  font-size: 16px;\n",
              "  font-family: Courier;\n",
              "  font-weight: bolder;\n",
              "  color: blue;\n",
              "  opacity: 1.0;\n",
              "  background-color:rgba(0, 0, 0, 0.0);\n",
              "}\n",
              "\n",
              ".down{\n",
              "  position: absolute;\n",
              "  right: 0;\n",
              "  bottom: 0;\n",
              "  background: white;\n",
              "  text-align: right;\n",
              "  font-size: 16px;\n",
              "  font-family: Courier;\n",
              "  font-weight: bolder;\n",
              "  color: red;\n",
              "  opacity: 0.9;\n",
              "  background-color:rgba(0, 0, 0, 0.0);\n",
              "}\n",
              "</style>\n",
              "<table bgcolor=\"96c8ff\"><tr>\n",
              "\t<td>4<span class=\"up\">0</span><span class=\"down\">-20</span></td>\n",
              "\t<td>13<span class=\"up\">1</span><span class=\"down\">-19</span></td>\n",
              "\t<td>5<span class=\"up\">2</span><span class=\"down\">-18</span></td>\n",
              "\t<td>8<span class=\"up\">3</span><span class=\"down\">-17</span></td>\n",
              "\t<td>17<span class=\"up\">4</span><span class=\"down\">-16</span></td>\n",
              "\t<td>12<span class=\"up\">5</span><span class=\"down\">-15</span></td>\n",
              "\t<td>11<span class=\"up\">6</span><span class=\"down\">-14</span></td>\n",
              "\t<td>14<span class=\"up\">7</span><span class=\"down\">-13</span></td>\n",
              "\t<td>19<span class=\"up\">8</span><span class=\"down\">-12</span></td>\n",
              "\t<td>1<span class=\"up\">9</span><span class=\"down\">-11</span></td>\n",
              "\t<td>2<span class=\"up\">10</span><span class=\"down\">-10</span></td>\n",
              "\t<td>0<span class=\"up\">11</span><span class=\"down\">-9</span></td>\n",
              "\t<td>9<span class=\"up\">12</span><span class=\"down\">-8</span></td>\n",
              "\t<td>6<span class=\"up\">13</span><span class=\"down\">-7</span></td>\n",
              "\t<td>16<span class=\"up\">14</span><span class=\"down\">-6</span></td>\n",
              "\t<td>18<span class=\"up\">15</span><span class=\"down\">-5</span></td>\n",
              "\t<td>7<span class=\"up\">16</span><span class=\"down\">-4</span></td>\n",
              "\t<td>3<span class=\"up\">17</span><span class=\"down\">-3</span></td>\n",
              "\t<td>10<span class=\"up\">18</span><span class=\"down\">-2</span></td>\n",
              "\t<td>15<span class=\"up\">19</span><span class=\"down\">-1</span></td>\n",
              "</tr></table>\n"
            ]
          },
          "metadata": {}
        },
        {
          "output_type": "stream",
          "name": "stdout",
          "text": [
            "5 maximal value indices\n"
          ]
        },
        {
          "output_type": "display_data",
          "data": {
            "text/plain": [
              "<IPython.core.display.HTML object>"
            ],
            "text/html": [
              "\n",
              "<style>\n",
              "table {\n",
              "  border-collapse: collapse;\n",
              "}\n",
              "\n",
              "td {\n",
              "  border: 3px solid #666666;\n",
              "  min-width:30px;\n",
              "  height: 30px;\n",
              "  position: relative;\n",
              "  text-align:center;\n",
              "  color: #474747;\n",
              "  font-size:20px;\n",
              "  font-weight: bolder;\n",
              "  padding: 19px;\n",
              "}\n",
              "\n",
              ".up{\n",
              "  position: absolute;\n",
              "  right: 0;\n",
              "  top: 0;\n",
              "  background: white;\n",
              "  text-align: right;\n",
              "  font-size: 16px;\n",
              "  font-family: Courier;\n",
              "  font-weight: bolder;\n",
              "  color: blue;\n",
              "  opacity: 1.0;\n",
              "  background-color:rgba(0, 0, 0, 0.0);\n",
              "}\n",
              "\n",
              ".down{\n",
              "  position: absolute;\n",
              "  right: 0;\n",
              "  bottom: 0;\n",
              "  background: white;\n",
              "  text-align: right;\n",
              "  font-size: 16px;\n",
              "  font-family: Courier;\n",
              "  font-weight: bolder;\n",
              "  color: red;\n",
              "  opacity: 0.9;\n",
              "  background-color:rgba(0, 0, 0, 0.0);\n",
              "}\n",
              "</style>\n",
              "<table bgcolor=\"96c8ff\"><tr>\n",
              "\t<td>19<span class=\"up\">0</span><span class=\"down\">-5</span></td>\n",
              "\t<td>14<span class=\"up\">1</span><span class=\"down\">-4</span></td>\n",
              "\t<td>8<span class=\"up\">2</span><span class=\"down\">-3</span></td>\n",
              "\t<td>15<span class=\"up\">3</span><span class=\"down\">-2</span></td>\n",
              "\t<td>4<span class=\"up\">4</span><span class=\"down\">-1</span></td>\n",
              "</tr></table>\n"
            ]
          },
          "metadata": {}
        }
      ]
    },
    {
      "cell_type": "code",
      "source": [
        "idx"
      ],
      "metadata": {
        "id": "Qh24i6AhNrUS",
        "outputId": "e9ae5b8a-0944-4143-d0fc-5c47ed02e99d",
        "colab": {
          "base_uri": "https://localhost:8080/"
        }
      },
      "execution_count": 81,
      "outputs": [
        {
          "output_type": "execute_result",
          "data": {
            "text/plain": [
              "8"
            ]
          },
          "metadata": {},
          "execution_count": 81
        }
      ]
    },
    {
      "cell_type": "code",
      "metadata": {
        "id": "bYNFwblxGufX",
        "cellView": "form",
        "colab": {
          "base_uri": "https://localhost:8080/",
          "height": 219
        },
        "outputId": "cb3ad378-aa27-4883-f71a-6c45aeed7bb7"
      },
      "source": [
        "#@title Solution A (double click to see the source code)\n",
        "\n",
        "import numpy as np\n",
        "\n",
        "# Input\n",
        "a = np.array([4, 13, 5, 8, 17, 12, 11, 14, 19, 1, 2, 0, 9, 6, 16, 18, 7, 3, 10, 15]) #@param\n",
        "\n",
        "# Solution\n",
        "idx = np.argpartition(-a, 5)[:5]\n",
        "\n",
        "# Output\n",
        "print('initial array')\n",
        "visualize_array(a)\n",
        "print('5 maximal value indices')\n",
        "visualize_array(idx)"
      ],
      "execution_count": null,
      "outputs": [
        {
          "output_type": "stream",
          "text": [
            "initial array\n"
          ],
          "name": "stdout"
        },
        {
          "output_type": "display_data",
          "data": {
            "text/html": [
              "\n",
              "<style>\n",
              "table {\n",
              "  border-collapse: collapse;\n",
              "}\n",
              "\n",
              "td {\n",
              "  border: 3px solid #666666;\n",
              "  min-width:30px;\n",
              "  height: 30px;\n",
              "  position: relative; \n",
              "  text-align:center; \n",
              "  color: #474747;\n",
              "  font-size:20px;\n",
              "  font-weight: bolder;\n",
              "  padding: 19px;\n",
              "}\n",
              "\n",
              ".up{\n",
              "  position: absolute; \n",
              "  right: 0;\n",
              "  top: 0;\n",
              "  background: white;\n",
              "  text-align: right;\n",
              "  font-size: 16px;\n",
              "  font-family: Courier;\n",
              "  font-weight: bolder;\n",
              "  color: blue;\n",
              "  opacity: 1.0;\n",
              "  background-color:rgba(0, 0, 0, 0.0);\n",
              "}\n",
              "\n",
              ".down{\n",
              "  position: absolute; \n",
              "  right: 0;\n",
              "  bottom: 0;\n",
              "  background: white;\n",
              "  text-align: right;\n",
              "  font-size: 16px;\n",
              "  font-family: Courier;\n",
              "  font-weight: bolder;\n",
              "  color: red;\n",
              "  opacity: 0.9;\n",
              "  background-color:rgba(0, 0, 0, 0.0);\n",
              "}\n",
              "</style>\n",
              "<table bgcolor=\"96c8ff\"><tr>\n",
              "\t<td>4<span class=\"up\">0</span><span class=\"down\">-20</span></td>\n",
              "\t<td>13<span class=\"up\">1</span><span class=\"down\">-19</span></td>\n",
              "\t<td>5<span class=\"up\">2</span><span class=\"down\">-18</span></td>\n",
              "\t<td>8<span class=\"up\">3</span><span class=\"down\">-17</span></td>\n",
              "\t<td>17<span class=\"up\">4</span><span class=\"down\">-16</span></td>\n",
              "\t<td>12<span class=\"up\">5</span><span class=\"down\">-15</span></td>\n",
              "\t<td>11<span class=\"up\">6</span><span class=\"down\">-14</span></td>\n",
              "\t<td>14<span class=\"up\">7</span><span class=\"down\">-13</span></td>\n",
              "\t<td>19<span class=\"up\">8</span><span class=\"down\">-12</span></td>\n",
              "\t<td>1<span class=\"up\">9</span><span class=\"down\">-11</span></td>\n",
              "\t<td>2<span class=\"up\">10</span><span class=\"down\">-10</span></td>\n",
              "\t<td>0<span class=\"up\">11</span><span class=\"down\">-9</span></td>\n",
              "\t<td>9<span class=\"up\">12</span><span class=\"down\">-8</span></td>\n",
              "\t<td>6<span class=\"up\">13</span><span class=\"down\">-7</span></td>\n",
              "\t<td>16<span class=\"up\">14</span><span class=\"down\">-6</span></td>\n",
              "\t<td>18<span class=\"up\">15</span><span class=\"down\">-5</span></td>\n",
              "\t<td>7<span class=\"up\">16</span><span class=\"down\">-4</span></td>\n",
              "\t<td>3<span class=\"up\">17</span><span class=\"down\">-3</span></td>\n",
              "\t<td>10<span class=\"up\">18</span><span class=\"down\">-2</span></td>\n",
              "\t<td>15<span class=\"up\">19</span><span class=\"down\">-1</span></td>\n",
              "</tr></table>\n"
            ],
            "text/plain": [
              "<IPython.core.display.HTML object>"
            ]
          },
          "metadata": {
            "tags": []
          }
        },
        {
          "output_type": "stream",
          "text": [
            "5 maximal value indices\n"
          ],
          "name": "stdout"
        },
        {
          "output_type": "display_data",
          "data": {
            "text/html": [
              "\n",
              "<style>\n",
              "table {\n",
              "  border-collapse: collapse;\n",
              "}\n",
              "\n",
              "td {\n",
              "  border: 3px solid #666666;\n",
              "  min-width:30px;\n",
              "  height: 30px;\n",
              "  position: relative; \n",
              "  text-align:center; \n",
              "  color: #474747;\n",
              "  font-size:20px;\n",
              "  font-weight: bolder;\n",
              "  padding: 19px;\n",
              "}\n",
              "\n",
              ".up{\n",
              "  position: absolute; \n",
              "  right: 0;\n",
              "  top: 0;\n",
              "  background: white;\n",
              "  text-align: right;\n",
              "  font-size: 16px;\n",
              "  font-family: Courier;\n",
              "  font-weight: bolder;\n",
              "  color: blue;\n",
              "  opacity: 1.0;\n",
              "  background-color:rgba(0, 0, 0, 0.0);\n",
              "}\n",
              "\n",
              ".down{\n",
              "  position: absolute; \n",
              "  right: 0;\n",
              "  bottom: 0;\n",
              "  background: white;\n",
              "  text-align: right;\n",
              "  font-size: 16px;\n",
              "  font-family: Courier;\n",
              "  font-weight: bolder;\n",
              "  color: red;\n",
              "  opacity: 0.9;\n",
              "  background-color:rgba(0, 0, 0, 0.0);\n",
              "}\n",
              "</style>\n",
              "<table bgcolor=\"96c8ff\"><tr>\n",
              "\t<td>4<span class=\"up\">0</span><span class=\"down\">-5</span></td>\n",
              "\t<td>15<span class=\"up\">1</span><span class=\"down\">-4</span></td>\n",
              "\t<td>8<span class=\"up\">2</span><span class=\"down\">-3</span></td>\n",
              "\t<td>14<span class=\"up\">3</span><span class=\"down\">-2</span></td>\n",
              "\t<td>19<span class=\"up\">4</span><span class=\"down\">-1</span></td>\n",
              "</tr></table>\n"
            ],
            "text/plain": [
              "<IPython.core.display.HTML object>"
            ]
          },
          "metadata": {
            "tags": []
          }
        }
      ]
    },
    {
      "cell_type": "code",
      "metadata": {
        "id": "7lAybNxuGufX",
        "cellView": "form",
        "outputId": "e5ebb0cb-70ce-46b4-b847-92b1a20da405",
        "colab": {
          "base_uri": "https://localhost:8080/",
          "height": 201
        }
      },
      "source": [
        "#@title Solution B (double click to see the source code)\n",
        "\n",
        "import numpy as np\n",
        "\n",
        "# Input\n",
        "a = np.array([4, 13, 5, 8, 17, 12, 11, 14, 19, 1, 2, 0, 9, 6, 16, 18, 7, 3, 10, 15]) #@param\n",
        "\n",
        "# Solution\n",
        "idx = a.argsort()[-5:]\n",
        "\n",
        "# Output\n",
        "print('initial array')\n",
        "visualize_array(a)\n",
        "print('5 maximal value indices')\n",
        "visualize_array(idx)"
      ],
      "execution_count": 97,
      "outputs": [
        {
          "output_type": "stream",
          "name": "stdout",
          "text": [
            "initial array\n"
          ]
        },
        {
          "output_type": "display_data",
          "data": {
            "text/plain": [
              "<IPython.core.display.HTML object>"
            ],
            "text/html": [
              "\n",
              "<style>\n",
              "table {\n",
              "  border-collapse: collapse;\n",
              "}\n",
              "\n",
              "td {\n",
              "  border: 3px solid #666666;\n",
              "  min-width:30px;\n",
              "  height: 30px;\n",
              "  position: relative;\n",
              "  text-align:center;\n",
              "  color: #474747;\n",
              "  font-size:20px;\n",
              "  font-weight: bolder;\n",
              "  padding: 19px;\n",
              "}\n",
              "\n",
              ".up{\n",
              "  position: absolute;\n",
              "  right: 0;\n",
              "  top: 0;\n",
              "  background: white;\n",
              "  text-align: right;\n",
              "  font-size: 16px;\n",
              "  font-family: Courier;\n",
              "  font-weight: bolder;\n",
              "  color: blue;\n",
              "  opacity: 1.0;\n",
              "  background-color:rgba(0, 0, 0, 0.0);\n",
              "}\n",
              "\n",
              ".down{\n",
              "  position: absolute;\n",
              "  right: 0;\n",
              "  bottom: 0;\n",
              "  background: white;\n",
              "  text-align: right;\n",
              "  font-size: 16px;\n",
              "  font-family: Courier;\n",
              "  font-weight: bolder;\n",
              "  color: red;\n",
              "  opacity: 0.9;\n",
              "  background-color:rgba(0, 0, 0, 0.0);\n",
              "}\n",
              "</style>\n",
              "<table bgcolor=\"96c8ff\"><tr>\n",
              "\t<td>4<span class=\"up\">0</span><span class=\"down\">-20</span></td>\n",
              "\t<td>13<span class=\"up\">1</span><span class=\"down\">-19</span></td>\n",
              "\t<td>5<span class=\"up\">2</span><span class=\"down\">-18</span></td>\n",
              "\t<td>8<span class=\"up\">3</span><span class=\"down\">-17</span></td>\n",
              "\t<td>17<span class=\"up\">4</span><span class=\"down\">-16</span></td>\n",
              "\t<td>12<span class=\"up\">5</span><span class=\"down\">-15</span></td>\n",
              "\t<td>11<span class=\"up\">6</span><span class=\"down\">-14</span></td>\n",
              "\t<td>14<span class=\"up\">7</span><span class=\"down\">-13</span></td>\n",
              "\t<td>19<span class=\"up\">8</span><span class=\"down\">-12</span></td>\n",
              "\t<td>1<span class=\"up\">9</span><span class=\"down\">-11</span></td>\n",
              "\t<td>2<span class=\"up\">10</span><span class=\"down\">-10</span></td>\n",
              "\t<td>0<span class=\"up\">11</span><span class=\"down\">-9</span></td>\n",
              "\t<td>9<span class=\"up\">12</span><span class=\"down\">-8</span></td>\n",
              "\t<td>6<span class=\"up\">13</span><span class=\"down\">-7</span></td>\n",
              "\t<td>16<span class=\"up\">14</span><span class=\"down\">-6</span></td>\n",
              "\t<td>18<span class=\"up\">15</span><span class=\"down\">-5</span></td>\n",
              "\t<td>7<span class=\"up\">16</span><span class=\"down\">-4</span></td>\n",
              "\t<td>3<span class=\"up\">17</span><span class=\"down\">-3</span></td>\n",
              "\t<td>10<span class=\"up\">18</span><span class=\"down\">-2</span></td>\n",
              "\t<td>15<span class=\"up\">19</span><span class=\"down\">-1</span></td>\n",
              "</tr></table>\n"
            ]
          },
          "metadata": {}
        },
        {
          "output_type": "stream",
          "name": "stdout",
          "text": [
            "5 maximal value indices\n"
          ]
        },
        {
          "output_type": "display_data",
          "data": {
            "text/plain": [
              "<IPython.core.display.HTML object>"
            ],
            "text/html": [
              "\n",
              "<style>\n",
              "table {\n",
              "  border-collapse: collapse;\n",
              "}\n",
              "\n",
              "td {\n",
              "  border: 3px solid #666666;\n",
              "  min-width:30px;\n",
              "  height: 30px;\n",
              "  position: relative;\n",
              "  text-align:center;\n",
              "  color: #474747;\n",
              "  font-size:20px;\n",
              "  font-weight: bolder;\n",
              "  padding: 19px;\n",
              "}\n",
              "\n",
              ".up{\n",
              "  position: absolute;\n",
              "  right: 0;\n",
              "  top: 0;\n",
              "  background: white;\n",
              "  text-align: right;\n",
              "  font-size: 16px;\n",
              "  font-family: Courier;\n",
              "  font-weight: bolder;\n",
              "  color: blue;\n",
              "  opacity: 1.0;\n",
              "  background-color:rgba(0, 0, 0, 0.0);\n",
              "}\n",
              "\n",
              ".down{\n",
              "  position: absolute;\n",
              "  right: 0;\n",
              "  bottom: 0;\n",
              "  background: white;\n",
              "  text-align: right;\n",
              "  font-size: 16px;\n",
              "  font-family: Courier;\n",
              "  font-weight: bolder;\n",
              "  color: red;\n",
              "  opacity: 0.9;\n",
              "  background-color:rgba(0, 0, 0, 0.0);\n",
              "}\n",
              "</style>\n",
              "<table bgcolor=\"96c8ff\"><tr>\n",
              "\t<td>19<span class=\"up\">0</span><span class=\"down\">-5</span></td>\n",
              "\t<td>14<span class=\"up\">1</span><span class=\"down\">-4</span></td>\n",
              "\t<td>4<span class=\"up\">2</span><span class=\"down\">-3</span></td>\n",
              "\t<td>15<span class=\"up\">3</span><span class=\"down\">-2</span></td>\n",
              "\t<td>8<span class=\"up\">4</span><span class=\"down\">-1</span></td>\n",
              "</tr></table>\n"
            ]
          },
          "metadata": {}
        }
      ]
    },
    {
      "cell_type": "code",
      "metadata": {
        "id": "gIC8snwbGufZ"
      },
      "source": [
        "#@title Solution C (double click to see the source code)\n",
        "\n",
        "import numpy as np\n",
        "\n",
        "# Input\n",
        "a = np.array([4, 13, 5, 8, 17, 12, 11, 14, 19, 1, 2, 0, 9, 6, 16, 18, 7, 3, 10, 15]) #@param\n",
        "\n",
        "# Solution\n",
        "idx = np.argpartition(-a, 5)[:5]\n",
        "\n",
        "# Output\n",
        "print('initial array')\n",
        "visualize_array(a)\n",
        "print('5 maximal value indices')\n",
        "visualize_array(idx)"
      ],
      "execution_count": null,
      "outputs": []
    },
    {
      "cell_type": "markdown",
      "metadata": {
        "id": "_M9WKT_UGufp"
      },
      "source": [
        "##30. How to rank items in an array using numpy?"
      ]
    },
    {
      "cell_type": "markdown",
      "metadata": {
        "id": "ypfBsS93Q1RP"
      },
      "source": [
        "**Problem:**\n",
        "Create ranks for the given numeric array.\n",
        "\n",
        "**Explanation:**\n",
        "*   Sort the initial array, suppose you get [ 0,  0,  4,  8,  9,  9, 15, 16, 17, 17]\n",
        "*   4 has index 2 in the new array\n",
        "*   place 2 instead of 4 into the initial array"
      ]
    },
    {
      "cell_type": "code",
      "metadata": {
        "id": "dsN9-nSZGufp",
        "outputId": "c364ee61-416e-480d-cbfe-1bb987c5f2c4",
        "colab": {
          "base_uri": "https://localhost:8080/",
          "height": 201
        }
      },
      "source": [
        "import numpy as np\n",
        "\n",
        "# Input\n",
        "a = np.array([9, 4, 15, 0, 17, 16, 17, 8, 9, 0])\n",
        "\n",
        "# Enter your code here\n",
        "rank = a.argsort().argsort()\n",
        "\n",
        "# Output\n",
        "print('initial array')\n",
        "visualize_array(a)\n",
        "print('ranks')\n",
        "visualize_array(rank)"
      ],
      "execution_count": 100,
      "outputs": [
        {
          "output_type": "stream",
          "name": "stdout",
          "text": [
            "initial array\n"
          ]
        },
        {
          "output_type": "display_data",
          "data": {
            "text/plain": [
              "<IPython.core.display.HTML object>"
            ],
            "text/html": [
              "\n",
              "<style>\n",
              "table {\n",
              "  border-collapse: collapse;\n",
              "}\n",
              "\n",
              "td {\n",
              "  border: 3px solid #666666;\n",
              "  min-width:30px;\n",
              "  height: 30px;\n",
              "  position: relative;\n",
              "  text-align:center;\n",
              "  color: #474747;\n",
              "  font-size:20px;\n",
              "  font-weight: bolder;\n",
              "  padding: 19px;\n",
              "}\n",
              "\n",
              ".up{\n",
              "  position: absolute;\n",
              "  right: 0;\n",
              "  top: 0;\n",
              "  background: white;\n",
              "  text-align: right;\n",
              "  font-size: 16px;\n",
              "  font-family: Courier;\n",
              "  font-weight: bolder;\n",
              "  color: blue;\n",
              "  opacity: 1.0;\n",
              "  background-color:rgba(0, 0, 0, 0.0);\n",
              "}\n",
              "\n",
              ".down{\n",
              "  position: absolute;\n",
              "  right: 0;\n",
              "  bottom: 0;\n",
              "  background: white;\n",
              "  text-align: right;\n",
              "  font-size: 16px;\n",
              "  font-family: Courier;\n",
              "  font-weight: bolder;\n",
              "  color: red;\n",
              "  opacity: 0.9;\n",
              "  background-color:rgba(0, 0, 0, 0.0);\n",
              "}\n",
              "</style>\n",
              "<table bgcolor=\"96c8ff\"><tr>\n",
              "\t<td>9<span class=\"up\">0</span><span class=\"down\">-10</span></td>\n",
              "\t<td>4<span class=\"up\">1</span><span class=\"down\">-9</span></td>\n",
              "\t<td>15<span class=\"up\">2</span><span class=\"down\">-8</span></td>\n",
              "\t<td>0<span class=\"up\">3</span><span class=\"down\">-7</span></td>\n",
              "\t<td>17<span class=\"up\">4</span><span class=\"down\">-6</span></td>\n",
              "\t<td>16<span class=\"up\">5</span><span class=\"down\">-5</span></td>\n",
              "\t<td>17<span class=\"up\">6</span><span class=\"down\">-4</span></td>\n",
              "\t<td>8<span class=\"up\">7</span><span class=\"down\">-3</span></td>\n",
              "\t<td>9<span class=\"up\">8</span><span class=\"down\">-2</span></td>\n",
              "\t<td>0<span class=\"up\">9</span><span class=\"down\">-1</span></td>\n",
              "</tr></table>\n"
            ]
          },
          "metadata": {}
        },
        {
          "output_type": "stream",
          "name": "stdout",
          "text": [
            "ranks\n"
          ]
        },
        {
          "output_type": "display_data",
          "data": {
            "text/plain": [
              "<IPython.core.display.HTML object>"
            ],
            "text/html": [
              "\n",
              "<style>\n",
              "table {\n",
              "  border-collapse: collapse;\n",
              "}\n",
              "\n",
              "td {\n",
              "  border: 3px solid #666666;\n",
              "  min-width:30px;\n",
              "  height: 30px;\n",
              "  position: relative;\n",
              "  text-align:center;\n",
              "  color: #474747;\n",
              "  font-size:20px;\n",
              "  font-weight: bolder;\n",
              "  padding: 19px;\n",
              "}\n",
              "\n",
              ".up{\n",
              "  position: absolute;\n",
              "  right: 0;\n",
              "  top: 0;\n",
              "  background: white;\n",
              "  text-align: right;\n",
              "  font-size: 16px;\n",
              "  font-family: Courier;\n",
              "  font-weight: bolder;\n",
              "  color: blue;\n",
              "  opacity: 1.0;\n",
              "  background-color:rgba(0, 0, 0, 0.0);\n",
              "}\n",
              "\n",
              ".down{\n",
              "  position: absolute;\n",
              "  right: 0;\n",
              "  bottom: 0;\n",
              "  background: white;\n",
              "  text-align: right;\n",
              "  font-size: 16px;\n",
              "  font-family: Courier;\n",
              "  font-weight: bolder;\n",
              "  color: red;\n",
              "  opacity: 0.9;\n",
              "  background-color:rgba(0, 0, 0, 0.0);\n",
              "}\n",
              "</style>\n",
              "<table bgcolor=\"96c8ff\"><tr>\n",
              "\t<td>4<span class=\"up\">0</span><span class=\"down\">-10</span></td>\n",
              "\t<td>2<span class=\"up\">1</span><span class=\"down\">-9</span></td>\n",
              "\t<td>6<span class=\"up\">2</span><span class=\"down\">-8</span></td>\n",
              "\t<td>0<span class=\"up\">3</span><span class=\"down\">-7</span></td>\n",
              "\t<td>8<span class=\"up\">4</span><span class=\"down\">-6</span></td>\n",
              "\t<td>7<span class=\"up\">5</span><span class=\"down\">-5</span></td>\n",
              "\t<td>9<span class=\"up\">6</span><span class=\"down\">-4</span></td>\n",
              "\t<td>3<span class=\"up\">7</span><span class=\"down\">-3</span></td>\n",
              "\t<td>5<span class=\"up\">8</span><span class=\"down\">-2</span></td>\n",
              "\t<td>1<span class=\"up\">9</span><span class=\"down\">-1</span></td>\n",
              "</tr></table>\n"
            ]
          },
          "metadata": {}
        }
      ]
    },
    {
      "cell_type": "code",
      "metadata": {
        "id": "B1UwkMmbGufq",
        "cellView": "form",
        "colab": {
          "base_uri": "https://localhost:8080/",
          "height": 199
        },
        "outputId": "2044973e-ceca-4d6c-eacb-cc20eb5356a8"
      },
      "source": [
        "#@title Solution (double click to see the source code)\n",
        "\n",
        "import numpy as np\n",
        "\n",
        "# Input\n",
        "a = np.array([9, 4, 15, 0, 17, 16, 17, 8, 9, 0]) #@param\n",
        "\n",
        "# Solution\n",
        "rank = a.argsort().argsort()\n",
        "\n",
        "# Output\n",
        "print('initial array')\n",
        "visualize_array(a)\n",
        "print('ranks')\n",
        "visualize_array(rank)"
      ],
      "execution_count": null,
      "outputs": [
        {
          "output_type": "stream",
          "text": [
            "initial array\n"
          ],
          "name": "stdout"
        },
        {
          "output_type": "display_data",
          "data": {
            "text/html": [
              "\n",
              "<style>\n",
              "table {\n",
              "  border-collapse: collapse;\n",
              "}\n",
              "\n",
              "td {\n",
              "  border: 3px solid #666666;\n",
              "  min-width:30px;\n",
              "  height: 30px;\n",
              "  position: relative; \n",
              "  text-align:center; \n",
              "  color: #474747;\n",
              "  font-size:20px;\n",
              "  font-weight: bolder;\n",
              "  padding: 19px;\n",
              "}\n",
              "\n",
              ".up{\n",
              "  position: absolute; \n",
              "  right: 0;\n",
              "  top: 0;\n",
              "  background: white;\n",
              "  text-align: right;\n",
              "  font-size: 16px;\n",
              "  font-family: Courier;\n",
              "  font-weight: bolder;\n",
              "  color: blue;\n",
              "  opacity: 1.0;\n",
              "  background-color:rgba(0, 0, 0, 0.0);\n",
              "}\n",
              "\n",
              ".down{\n",
              "  position: absolute; \n",
              "  right: 0;\n",
              "  bottom: 0;\n",
              "  background: white;\n",
              "  text-align: right;\n",
              "  font-size: 16px;\n",
              "  font-family: Courier;\n",
              "  font-weight: bolder;\n",
              "  color: red;\n",
              "  opacity: 0.9;\n",
              "  background-color:rgba(0, 0, 0, 0.0);\n",
              "}\n",
              "</style>\n",
              "<table bgcolor=\"96c8ff\"><tr>\n",
              "\t<td>9<span class=\"up\">0</span><span class=\"down\">-10</span></td>\n",
              "\t<td>4<span class=\"up\">1</span><span class=\"down\">-9</span></td>\n",
              "\t<td>15<span class=\"up\">2</span><span class=\"down\">-8</span></td>\n",
              "\t<td>0<span class=\"up\">3</span><span class=\"down\">-7</span></td>\n",
              "\t<td>17<span class=\"up\">4</span><span class=\"down\">-6</span></td>\n",
              "\t<td>16<span class=\"up\">5</span><span class=\"down\">-5</span></td>\n",
              "\t<td>17<span class=\"up\">6</span><span class=\"down\">-4</span></td>\n",
              "\t<td>8<span class=\"up\">7</span><span class=\"down\">-3</span></td>\n",
              "\t<td>9<span class=\"up\">8</span><span class=\"down\">-2</span></td>\n",
              "\t<td>0<span class=\"up\">9</span><span class=\"down\">-1</span></td>\n",
              "</tr></table>\n"
            ],
            "text/plain": [
              "<IPython.core.display.HTML object>"
            ]
          },
          "metadata": {
            "tags": []
          }
        },
        {
          "output_type": "stream",
          "text": [
            "ranks\n"
          ],
          "name": "stdout"
        },
        {
          "output_type": "display_data",
          "data": {
            "text/html": [
              "\n",
              "<style>\n",
              "table {\n",
              "  border-collapse: collapse;\n",
              "}\n",
              "\n",
              "td {\n",
              "  border: 3px solid #666666;\n",
              "  min-width:30px;\n",
              "  height: 30px;\n",
              "  position: relative; \n",
              "  text-align:center; \n",
              "  color: #474747;\n",
              "  font-size:20px;\n",
              "  font-weight: bolder;\n",
              "  padding: 19px;\n",
              "}\n",
              "\n",
              ".up{\n",
              "  position: absolute; \n",
              "  right: 0;\n",
              "  top: 0;\n",
              "  background: white;\n",
              "  text-align: right;\n",
              "  font-size: 16px;\n",
              "  font-family: Courier;\n",
              "  font-weight: bolder;\n",
              "  color: blue;\n",
              "  opacity: 1.0;\n",
              "  background-color:rgba(0, 0, 0, 0.0);\n",
              "}\n",
              "\n",
              ".down{\n",
              "  position: absolute; \n",
              "  right: 0;\n",
              "  bottom: 0;\n",
              "  background: white;\n",
              "  text-align: right;\n",
              "  font-size: 16px;\n",
              "  font-family: Courier;\n",
              "  font-weight: bolder;\n",
              "  color: red;\n",
              "  opacity: 0.9;\n",
              "  background-color:rgba(0, 0, 0, 0.0);\n",
              "}\n",
              "</style>\n",
              "<table bgcolor=\"96c8ff\"><tr>\n",
              "\t<td>4<span class=\"up\">0</span><span class=\"down\">-10</span></td>\n",
              "\t<td>2<span class=\"up\">1</span><span class=\"down\">-9</span></td>\n",
              "\t<td>6<span class=\"up\">2</span><span class=\"down\">-8</span></td>\n",
              "\t<td>0<span class=\"up\">3</span><span class=\"down\">-7</span></td>\n",
              "\t<td>8<span class=\"up\">4</span><span class=\"down\">-6</span></td>\n",
              "\t<td>7<span class=\"up\">5</span><span class=\"down\">-5</span></td>\n",
              "\t<td>9<span class=\"up\">6</span><span class=\"down\">-4</span></td>\n",
              "\t<td>3<span class=\"up\">7</span><span class=\"down\">-3</span></td>\n",
              "\t<td>5<span class=\"up\">8</span><span class=\"down\">-2</span></td>\n",
              "\t<td>1<span class=\"up\">9</span><span class=\"down\">-1</span></td>\n",
              "</tr></table>\n"
            ],
            "text/plain": [
              "<IPython.core.display.HTML object>"
            ]
          },
          "metadata": {
            "tags": []
          }
        }
      ]
    },
    {
      "cell_type": "markdown",
      "metadata": {
        "id": "-xNETDGLGufr"
      },
      "source": [
        "##31. How to find the maximum value in each row of a numpy array 2d?"
      ]
    },
    {
      "cell_type": "markdown",
      "metadata": {
        "id": "W9dPhtg026qa"
      },
      "source": [
        "**Problem:**\n",
        "Compute the maximum for each row of the given array."
      ]
    },
    {
      "cell_type": "code",
      "metadata": {
        "id": "nk00z_GbGufs",
        "outputId": "6274e6ec-9c6a-468f-d841-871e3cb18def",
        "colab": {
          "base_uri": "https://localhost:8080/",
          "height": 475
        }
      },
      "source": [
        "import numpy as np\n",
        "\n",
        "# Input\n",
        "a = np.array([[9, 9, 4],\n",
        "              [8, 8, 1],\n",
        "              [5, 3, 6]])\n",
        "\n",
        "# Enter your code here\n",
        "maximas = np.max(a, axis=1)\n",
        "\n",
        "# Output\n",
        "print('initial array')\n",
        "visualize_array(a)\n",
        "print('maximas')\n",
        "visualize_array(maximas)"
      ],
      "execution_count": 102,
      "outputs": [
        {
          "output_type": "stream",
          "name": "stdout",
          "text": [
            "initial array\n"
          ]
        },
        {
          "output_type": "display_data",
          "data": {
            "text/plain": [
              "<IPython.core.display.HTML object>"
            ],
            "text/html": [
              "\n",
              "<style>\n",
              "table {\n",
              "  border-collapse: collapse;\n",
              "}\n",
              "\n",
              "td {\n",
              "  border: 3px solid #666666;\n",
              "  min-width:30px;\n",
              "  height: 30px;\n",
              "  position: relative;\n",
              "  text-align:center;\n",
              "  color: #474747;\n",
              "  font-size:20px;\n",
              "  font-weight: bolder;\n",
              "  padding: 19px;\n",
              "}\n",
              "\n",
              ".up{\n",
              "  position: absolute;\n",
              "  right: 0;\n",
              "  top: 0;\n",
              "  background: white;\n",
              "  text-align: right;\n",
              "  font-size: 16px;\n",
              "  font-family: Courier;\n",
              "  font-weight: bolder;\n",
              "  color: blue;\n",
              "  opacity: 1.0;\n",
              "  background-color:rgba(0, 0, 0, 0.0);\n",
              "}\n",
              "\n",
              ".down{\n",
              "  position: absolute;\n",
              "  right: 0;\n",
              "  bottom: 0;\n",
              "  background: white;\n",
              "  text-align: right;\n",
              "  font-size: 16px;\n",
              "  font-family: Courier;\n",
              "  font-weight: bolder;\n",
              "  color: red;\n",
              "  opacity: 0.9;\n",
              "  background-color:rgba(0, 0, 0, 0.0);\n",
              "}\n",
              "</style>\n",
              "<table bgcolor=\"4b64aa\">\n",
              "<tr>\t<td><table bgcolor=\"96c8ff\"><tr>\n",
              "\t<td>9<span class=\"up\">0</span><span class=\"down\">-3</span></td>\n",
              "\t<td>9<span class=\"up\">1</span><span class=\"down\">-2</span></td>\n",
              "\t<td>4<span class=\"up\">2</span><span class=\"down\">-1</span></td>\n",
              "</tr></table>\n",
              "<span class=\"up\">0</span><span class=\"down\">-3</span></td></tr>\n",
              "<tr>\t<td><table bgcolor=\"96c8ff\"><tr>\n",
              "\t<td>8<span class=\"up\">0</span><span class=\"down\">-3</span></td>\n",
              "\t<td>8<span class=\"up\">1</span><span class=\"down\">-2</span></td>\n",
              "\t<td>1<span class=\"up\">2</span><span class=\"down\">-1</span></td>\n",
              "</tr></table>\n",
              "<span class=\"up\">1</span><span class=\"down\">-2</span></td></tr>\n",
              "<tr>\t<td><table bgcolor=\"96c8ff\"><tr>\n",
              "\t<td>5<span class=\"up\">0</span><span class=\"down\">-3</span></td>\n",
              "\t<td>3<span class=\"up\">1</span><span class=\"down\">-2</span></td>\n",
              "\t<td>6<span class=\"up\">2</span><span class=\"down\">-1</span></td>\n",
              "</tr></table>\n",
              "<span class=\"up\">2</span><span class=\"down\">-1</span></td></tr>\n",
              "</table>\n"
            ]
          },
          "metadata": {}
        },
        {
          "output_type": "stream",
          "name": "stdout",
          "text": [
            "maximas\n"
          ]
        },
        {
          "output_type": "display_data",
          "data": {
            "text/plain": [
              "<IPython.core.display.HTML object>"
            ],
            "text/html": [
              "\n",
              "<style>\n",
              "table {\n",
              "  border-collapse: collapse;\n",
              "}\n",
              "\n",
              "td {\n",
              "  border: 3px solid #666666;\n",
              "  min-width:30px;\n",
              "  height: 30px;\n",
              "  position: relative;\n",
              "  text-align:center;\n",
              "  color: #474747;\n",
              "  font-size:20px;\n",
              "  font-weight: bolder;\n",
              "  padding: 19px;\n",
              "}\n",
              "\n",
              ".up{\n",
              "  position: absolute;\n",
              "  right: 0;\n",
              "  top: 0;\n",
              "  background: white;\n",
              "  text-align: right;\n",
              "  font-size: 16px;\n",
              "  font-family: Courier;\n",
              "  font-weight: bolder;\n",
              "  color: blue;\n",
              "  opacity: 1.0;\n",
              "  background-color:rgba(0, 0, 0, 0.0);\n",
              "}\n",
              "\n",
              ".down{\n",
              "  position: absolute;\n",
              "  right: 0;\n",
              "  bottom: 0;\n",
              "  background: white;\n",
              "  text-align: right;\n",
              "  font-size: 16px;\n",
              "  font-family: Courier;\n",
              "  font-weight: bolder;\n",
              "  color: red;\n",
              "  opacity: 0.9;\n",
              "  background-color:rgba(0, 0, 0, 0.0);\n",
              "}\n",
              "</style>\n",
              "<table bgcolor=\"96c8ff\"><tr>\n",
              "\t<td>9<span class=\"up\">0</span><span class=\"down\">-3</span></td>\n",
              "\t<td>8<span class=\"up\">1</span><span class=\"down\">-2</span></td>\n",
              "\t<td>6<span class=\"up\">2</span><span class=\"down\">-1</span></td>\n",
              "</tr></table>\n"
            ]
          },
          "metadata": {}
        }
      ]
    },
    {
      "cell_type": "code",
      "metadata": {
        "id": "KsU9wH4EGuft",
        "cellView": "form",
        "colab": {
          "base_uri": "https://localhost:8080/",
          "height": 473
        },
        "outputId": "40ea6f84-b01c-498c-f2fa-d4d69be47af9"
      },
      "source": [
        "#@title Solution A (double click to see the source code)\n",
        "\n",
        "import numpy as np\n",
        "\n",
        "# Input\n",
        "a = np.array([[9, 9, 4], [8, 8, 1], [5, 3, 6]]) #@param\n",
        "\n",
        "# Solution:\n",
        "maximas = np.amax(a, axis=1)\n",
        "\n",
        "# Output\n",
        "print('initial array')\n",
        "visualize_array(a)\n",
        "print('maximas')\n",
        "visualize_array(maximas)"
      ],
      "execution_count": null,
      "outputs": [
        {
          "output_type": "stream",
          "text": [
            "initial array\n"
          ],
          "name": "stdout"
        },
        {
          "output_type": "display_data",
          "data": {
            "text/html": [
              "\n",
              "<style>\n",
              "table {\n",
              "  border-collapse: collapse;\n",
              "}\n",
              "\n",
              "td {\n",
              "  border: 3px solid #666666;\n",
              "  min-width:30px;\n",
              "  height: 30px;\n",
              "  position: relative; \n",
              "  text-align:center; \n",
              "  color: #474747;\n",
              "  font-size:20px;\n",
              "  font-weight: bolder;\n",
              "  padding: 19px;\n",
              "}\n",
              "\n",
              ".up{\n",
              "  position: absolute; \n",
              "  right: 0;\n",
              "  top: 0;\n",
              "  background: white;\n",
              "  text-align: right;\n",
              "  font-size: 16px;\n",
              "  font-family: Courier;\n",
              "  font-weight: bolder;\n",
              "  color: blue;\n",
              "  opacity: 1.0;\n",
              "  background-color:rgba(0, 0, 0, 0.0);\n",
              "}\n",
              "\n",
              ".down{\n",
              "  position: absolute; \n",
              "  right: 0;\n",
              "  bottom: 0;\n",
              "  background: white;\n",
              "  text-align: right;\n",
              "  font-size: 16px;\n",
              "  font-family: Courier;\n",
              "  font-weight: bolder;\n",
              "  color: red;\n",
              "  opacity: 0.9;\n",
              "  background-color:rgba(0, 0, 0, 0.0);\n",
              "}\n",
              "</style>\n",
              "<table bgcolor=\"4b64aa\">\n",
              "<tr>\t<td><table bgcolor=\"96c8ff\"><tr>\n",
              "\t<td>9<span class=\"up\">0</span><span class=\"down\">-3</span></td>\n",
              "\t<td>9<span class=\"up\">1</span><span class=\"down\">-2</span></td>\n",
              "\t<td>4<span class=\"up\">2</span><span class=\"down\">-1</span></td>\n",
              "</tr></table>\n",
              "<span class=\"up\">0</span><span class=\"down\">-3</span></td></tr>\n",
              "<tr>\t<td><table bgcolor=\"96c8ff\"><tr>\n",
              "\t<td>8<span class=\"up\">0</span><span class=\"down\">-3</span></td>\n",
              "\t<td>8<span class=\"up\">1</span><span class=\"down\">-2</span></td>\n",
              "\t<td>1<span class=\"up\">2</span><span class=\"down\">-1</span></td>\n",
              "</tr></table>\n",
              "<span class=\"up\">1</span><span class=\"down\">-2</span></td></tr>\n",
              "<tr>\t<td><table bgcolor=\"96c8ff\"><tr>\n",
              "\t<td>5<span class=\"up\">0</span><span class=\"down\">-3</span></td>\n",
              "\t<td>3<span class=\"up\">1</span><span class=\"down\">-2</span></td>\n",
              "\t<td>6<span class=\"up\">2</span><span class=\"down\">-1</span></td>\n",
              "</tr></table>\n",
              "<span class=\"up\">2</span><span class=\"down\">-1</span></td></tr>\n",
              "</table>\n"
            ],
            "text/plain": [
              "<IPython.core.display.HTML object>"
            ]
          },
          "metadata": {
            "tags": []
          }
        },
        {
          "output_type": "stream",
          "text": [
            "maximas\n"
          ],
          "name": "stdout"
        },
        {
          "output_type": "display_data",
          "data": {
            "text/html": [
              "\n",
              "<style>\n",
              "table {\n",
              "  border-collapse: collapse;\n",
              "}\n",
              "\n",
              "td {\n",
              "  border: 3px solid #666666;\n",
              "  min-width:30px;\n",
              "  height: 30px;\n",
              "  position: relative; \n",
              "  text-align:center; \n",
              "  color: #474747;\n",
              "  font-size:20px;\n",
              "  font-weight: bolder;\n",
              "  padding: 19px;\n",
              "}\n",
              "\n",
              ".up{\n",
              "  position: absolute; \n",
              "  right: 0;\n",
              "  top: 0;\n",
              "  background: white;\n",
              "  text-align: right;\n",
              "  font-size: 16px;\n",
              "  font-family: Courier;\n",
              "  font-weight: bolder;\n",
              "  color: blue;\n",
              "  opacity: 1.0;\n",
              "  background-color:rgba(0, 0, 0, 0.0);\n",
              "}\n",
              "\n",
              ".down{\n",
              "  position: absolute; \n",
              "  right: 0;\n",
              "  bottom: 0;\n",
              "  background: white;\n",
              "  text-align: right;\n",
              "  font-size: 16px;\n",
              "  font-family: Courier;\n",
              "  font-weight: bolder;\n",
              "  color: red;\n",
              "  opacity: 0.9;\n",
              "  background-color:rgba(0, 0, 0, 0.0);\n",
              "}\n",
              "</style>\n",
              "<table bgcolor=\"96c8ff\"><tr>\n",
              "\t<td>9<span class=\"up\">0</span><span class=\"down\">-3</span></td>\n",
              "\t<td>8<span class=\"up\">1</span><span class=\"down\">-2</span></td>\n",
              "\t<td>6<span class=\"up\">2</span><span class=\"down\">-1</span></td>\n",
              "</tr></table>\n"
            ],
            "text/plain": [
              "<IPython.core.display.HTML object>"
            ]
          },
          "metadata": {
            "tags": []
          }
        }
      ]
    },
    {
      "cell_type": "code",
      "metadata": {
        "id": "QUI13bqfGufu",
        "cellView": "form"
      },
      "source": [
        "#@title Solution B (double click to see the source code)\n",
        "\n",
        "import numpy as np\n",
        "\n",
        "# Input\n",
        "a = np.array([[9, 9, 4], [8, 8, 1], [5, 3, 6]]) #@param\n",
        "\n",
        "# Solution:\n",
        "maximas = np.apply_along_axis(np.max, arr=a, axis=1)\n",
        "\n",
        "# Output\n",
        "print('initial array')\n",
        "visualize_array(a)\n",
        "print('maximas')\n",
        "visualize_array(maximas)"
      ],
      "execution_count": null,
      "outputs": []
    },
    {
      "cell_type": "markdown",
      "metadata": {
        "id": "E_CN5pj8Guf0"
      },
      "source": [
        "##32. How to drop all missing values from a numpy array?"
      ]
    },
    {
      "cell_type": "markdown",
      "metadata": {
        "id": "I210E6O7n03c"
      },
      "source": [
        "**Problem:**\n",
        "Drop all nan values from a 1D numpy array."
      ]
    },
    {
      "cell_type": "code",
      "metadata": {
        "id": "xLbSpnjeGuf1",
        "outputId": "cba9e72f-b936-4d65-bd52-0f0e8cd296ff",
        "colab": {
          "base_uri": "https://localhost:8080/",
          "height": 201
        }
      },
      "source": [
        "import numpy as np\n",
        "\n",
        "# Input\n",
        "a = np.array([1,2,3,np.nan,5,6,7,np.nan])\n",
        "\n",
        "# Enter your code here\n",
        "after_drop = a[~np.isnan(a)]\n",
        "\n",
        "# Output\n",
        "print('initial array')\n",
        "visualize_array(a)\n",
        "print('nans dropped')\n",
        "visualize_array(after_drop)"
      ],
      "execution_count": 105,
      "outputs": [
        {
          "output_type": "stream",
          "name": "stdout",
          "text": [
            "initial array\n"
          ]
        },
        {
          "output_type": "display_data",
          "data": {
            "text/plain": [
              "<IPython.core.display.HTML object>"
            ],
            "text/html": [
              "\n",
              "<style>\n",
              "table {\n",
              "  border-collapse: collapse;\n",
              "}\n",
              "\n",
              "td {\n",
              "  border: 3px solid #666666;\n",
              "  min-width:30px;\n",
              "  height: 30px;\n",
              "  position: relative;\n",
              "  text-align:center;\n",
              "  color: #474747;\n",
              "  font-size:20px;\n",
              "  font-weight: bolder;\n",
              "  padding: 19px;\n",
              "}\n",
              "\n",
              ".up{\n",
              "  position: absolute;\n",
              "  right: 0;\n",
              "  top: 0;\n",
              "  background: white;\n",
              "  text-align: right;\n",
              "  font-size: 16px;\n",
              "  font-family: Courier;\n",
              "  font-weight: bolder;\n",
              "  color: blue;\n",
              "  opacity: 1.0;\n",
              "  background-color:rgba(0, 0, 0, 0.0);\n",
              "}\n",
              "\n",
              ".down{\n",
              "  position: absolute;\n",
              "  right: 0;\n",
              "  bottom: 0;\n",
              "  background: white;\n",
              "  text-align: right;\n",
              "  font-size: 16px;\n",
              "  font-family: Courier;\n",
              "  font-weight: bolder;\n",
              "  color: red;\n",
              "  opacity: 0.9;\n",
              "  background-color:rgba(0, 0, 0, 0.0);\n",
              "}\n",
              "</style>\n",
              "<table bgcolor=\"96c8ff\"><tr>\n",
              "\t<td>1.0<span class=\"up\">0</span><span class=\"down\">-8</span></td>\n",
              "\t<td>2.0<span class=\"up\">1</span><span class=\"down\">-7</span></td>\n",
              "\t<td>3.0<span class=\"up\">2</span><span class=\"down\">-6</span></td>\n",
              "\t<td>nan<span class=\"up\">3</span><span class=\"down\">-5</span></td>\n",
              "\t<td>5.0<span class=\"up\">4</span><span class=\"down\">-4</span></td>\n",
              "\t<td>6.0<span class=\"up\">5</span><span class=\"down\">-3</span></td>\n",
              "\t<td>7.0<span class=\"up\">6</span><span class=\"down\">-2</span></td>\n",
              "\t<td>nan<span class=\"up\">7</span><span class=\"down\">-1</span></td>\n",
              "</tr></table>\n"
            ]
          },
          "metadata": {}
        },
        {
          "output_type": "stream",
          "name": "stdout",
          "text": [
            "nans dropped\n"
          ]
        },
        {
          "output_type": "display_data",
          "data": {
            "text/plain": [
              "<IPython.core.display.HTML object>"
            ],
            "text/html": [
              "\n",
              "<style>\n",
              "table {\n",
              "  border-collapse: collapse;\n",
              "}\n",
              "\n",
              "td {\n",
              "  border: 3px solid #666666;\n",
              "  min-width:30px;\n",
              "  height: 30px;\n",
              "  position: relative;\n",
              "  text-align:center;\n",
              "  color: #474747;\n",
              "  font-size:20px;\n",
              "  font-weight: bolder;\n",
              "  padding: 19px;\n",
              "}\n",
              "\n",
              ".up{\n",
              "  position: absolute;\n",
              "  right: 0;\n",
              "  top: 0;\n",
              "  background: white;\n",
              "  text-align: right;\n",
              "  font-size: 16px;\n",
              "  font-family: Courier;\n",
              "  font-weight: bolder;\n",
              "  color: blue;\n",
              "  opacity: 1.0;\n",
              "  background-color:rgba(0, 0, 0, 0.0);\n",
              "}\n",
              "\n",
              ".down{\n",
              "  position: absolute;\n",
              "  right: 0;\n",
              "  bottom: 0;\n",
              "  background: white;\n",
              "  text-align: right;\n",
              "  font-size: 16px;\n",
              "  font-family: Courier;\n",
              "  font-weight: bolder;\n",
              "  color: red;\n",
              "  opacity: 0.9;\n",
              "  background-color:rgba(0, 0, 0, 0.0);\n",
              "}\n",
              "</style>\n",
              "<table bgcolor=\"96c8ff\"><tr>\n",
              "\t<td>1.0<span class=\"up\">0</span><span class=\"down\">-6</span></td>\n",
              "\t<td>2.0<span class=\"up\">1</span><span class=\"down\">-5</span></td>\n",
              "\t<td>3.0<span class=\"up\">2</span><span class=\"down\">-4</span></td>\n",
              "\t<td>5.0<span class=\"up\">3</span><span class=\"down\">-3</span></td>\n",
              "\t<td>6.0<span class=\"up\">4</span><span class=\"down\">-2</span></td>\n",
              "\t<td>7.0<span class=\"up\">5</span><span class=\"down\">-1</span></td>\n",
              "</tr></table>\n"
            ]
          },
          "metadata": {}
        }
      ]
    },
    {
      "cell_type": "code",
      "metadata": {
        "id": "qWpKes2iGuf1",
        "cellView": "form",
        "colab": {
          "base_uri": "https://localhost:8080/",
          "height": 199
        },
        "outputId": "d7acb2cd-cce1-4dd2-f86c-a4cb47749906"
      },
      "source": [
        "#@title Solution (double click to see the source code)\n",
        "\n",
        "import numpy as np\n",
        "\n",
        "# Input\n",
        "a = np.array([1,2,3,np.nan,5,6,7,np.nan]) #@param\n",
        "\n",
        "# Solution:\n",
        "after_drop = a[~np.isnan(a)]\n",
        "\n",
        "# Output\n",
        "print('initial array')\n",
        "visualize_array(a)\n",
        "print('nans dropped')\n",
        "visualize_array(after_drop)"
      ],
      "execution_count": null,
      "outputs": [
        {
          "output_type": "stream",
          "text": [
            "initial array\n"
          ],
          "name": "stdout"
        },
        {
          "output_type": "display_data",
          "data": {
            "text/html": [
              "\n",
              "<style>\n",
              "table {\n",
              "  border-collapse: collapse;\n",
              "}\n",
              "\n",
              "td {\n",
              "  border: 3px solid #666666;\n",
              "  min-width:30px;\n",
              "  height: 30px;\n",
              "  position: relative; \n",
              "  text-align:center; \n",
              "  color: #474747;\n",
              "  font-size:20px;\n",
              "  font-weight: bolder;\n",
              "  padding: 19px;\n",
              "}\n",
              "\n",
              ".up{\n",
              "  position: absolute; \n",
              "  right: 0;\n",
              "  top: 0;\n",
              "  background: white;\n",
              "  text-align: right;\n",
              "  font-size: 16px;\n",
              "  font-family: Courier;\n",
              "  font-weight: bolder;\n",
              "  color: blue;\n",
              "  opacity: 1.0;\n",
              "  background-color:rgba(0, 0, 0, 0.0);\n",
              "}\n",
              "\n",
              ".down{\n",
              "  position: absolute; \n",
              "  right: 0;\n",
              "  bottom: 0;\n",
              "  background: white;\n",
              "  text-align: right;\n",
              "  font-size: 16px;\n",
              "  font-family: Courier;\n",
              "  font-weight: bolder;\n",
              "  color: red;\n",
              "  opacity: 0.9;\n",
              "  background-color:rgba(0, 0, 0, 0.0);\n",
              "}\n",
              "</style>\n",
              "<table bgcolor=\"96c8ff\"><tr>\n",
              "\t<td>1.0<span class=\"up\">0</span><span class=\"down\">-8</span></td>\n",
              "\t<td>2.0<span class=\"up\">1</span><span class=\"down\">-7</span></td>\n",
              "\t<td>3.0<span class=\"up\">2</span><span class=\"down\">-6</span></td>\n",
              "\t<td>nan<span class=\"up\">3</span><span class=\"down\">-5</span></td>\n",
              "\t<td>5.0<span class=\"up\">4</span><span class=\"down\">-4</span></td>\n",
              "\t<td>6.0<span class=\"up\">5</span><span class=\"down\">-3</span></td>\n",
              "\t<td>7.0<span class=\"up\">6</span><span class=\"down\">-2</span></td>\n",
              "\t<td>nan<span class=\"up\">7</span><span class=\"down\">-1</span></td>\n",
              "</tr></table>\n"
            ],
            "text/plain": [
              "<IPython.core.display.HTML object>"
            ]
          },
          "metadata": {
            "tags": []
          }
        },
        {
          "output_type": "stream",
          "text": [
            "nans dropped\n"
          ],
          "name": "stdout"
        },
        {
          "output_type": "display_data",
          "data": {
            "text/html": [
              "\n",
              "<style>\n",
              "table {\n",
              "  border-collapse: collapse;\n",
              "}\n",
              "\n",
              "td {\n",
              "  border: 3px solid #666666;\n",
              "  min-width:30px;\n",
              "  height: 30px;\n",
              "  position: relative; \n",
              "  text-align:center; \n",
              "  color: #474747;\n",
              "  font-size:20px;\n",
              "  font-weight: bolder;\n",
              "  padding: 19px;\n",
              "}\n",
              "\n",
              ".up{\n",
              "  position: absolute; \n",
              "  right: 0;\n",
              "  top: 0;\n",
              "  background: white;\n",
              "  text-align: right;\n",
              "  font-size: 16px;\n",
              "  font-family: Courier;\n",
              "  font-weight: bolder;\n",
              "  color: blue;\n",
              "  opacity: 1.0;\n",
              "  background-color:rgba(0, 0, 0, 0.0);\n",
              "}\n",
              "\n",
              ".down{\n",
              "  position: absolute; \n",
              "  right: 0;\n",
              "  bottom: 0;\n",
              "  background: white;\n",
              "  text-align: right;\n",
              "  font-size: 16px;\n",
              "  font-family: Courier;\n",
              "  font-weight: bolder;\n",
              "  color: red;\n",
              "  opacity: 0.9;\n",
              "  background-color:rgba(0, 0, 0, 0.0);\n",
              "}\n",
              "</style>\n",
              "<table bgcolor=\"96c8ff\"><tr>\n",
              "\t<td>1.0<span class=\"up\">0</span><span class=\"down\">-6</span></td>\n",
              "\t<td>2.0<span class=\"up\">1</span><span class=\"down\">-5</span></td>\n",
              "\t<td>3.0<span class=\"up\">2</span><span class=\"down\">-4</span></td>\n",
              "\t<td>5.0<span class=\"up\">3</span><span class=\"down\">-3</span></td>\n",
              "\t<td>6.0<span class=\"up\">4</span><span class=\"down\">-2</span></td>\n",
              "\t<td>7.0<span class=\"up\">5</span><span class=\"down\">-1</span></td>\n",
              "</tr></table>\n"
            ],
            "text/plain": [
              "<IPython.core.display.HTML object>"
            ]
          },
          "metadata": {
            "tags": []
          }
        }
      ]
    },
    {
      "cell_type": "markdown",
      "metadata": {
        "id": "PjdnOl0kGuf7"
      },
      "source": [
        "##33. How to subtract a 1d array from a 2d array, where each item of 1d array subtracts from respective row?\n"
      ]
    },
    {
      "cell_type": "markdown",
      "metadata": {
        "id": "TNS_jQkRaYPw"
      },
      "source": [
        "**Problem:**\n",
        "Subtract the 1d array from the 2d array.\n",
        "Each item of b_1d should be subtracted from respective row of a_2d."
      ]
    },
    {
      "cell_type": "code",
      "metadata": {
        "id": "gpQqDP9QGuf7",
        "outputId": "683ed344-10da-49eb-a626-dbb869fe04ae",
        "colab": {
          "base_uri": "https://localhost:8080/",
          "height": 841
        }
      },
      "source": [
        "import numpy as np\n",
        "\n",
        "# Input\n",
        "a_2d = np.array([[3,3,3],[4,4,4],[5,5,5]])\n",
        "b_1d = np.array([1,2,3])\n",
        "\n",
        "# Enter your code here\n",
        "result = a_2d - b_1d[:, np.newaxis]\n",
        "\n",
        "# Output\n",
        "print('from')\n",
        "visualize_array(a_2d)\n",
        "print('subtract')\n",
        "visualize_array(b_1d)\n",
        "print('result')\n",
        "visualize_array(result)"
      ],
      "execution_count": 111,
      "outputs": [
        {
          "output_type": "stream",
          "name": "stdout",
          "text": [
            "from\n"
          ]
        },
        {
          "output_type": "display_data",
          "data": {
            "text/plain": [
              "<IPython.core.display.HTML object>"
            ],
            "text/html": [
              "\n",
              "<style>\n",
              "table {\n",
              "  border-collapse: collapse;\n",
              "}\n",
              "\n",
              "td {\n",
              "  border: 3px solid #666666;\n",
              "  min-width:30px;\n",
              "  height: 30px;\n",
              "  position: relative;\n",
              "  text-align:center;\n",
              "  color: #474747;\n",
              "  font-size:20px;\n",
              "  font-weight: bolder;\n",
              "  padding: 19px;\n",
              "}\n",
              "\n",
              ".up{\n",
              "  position: absolute;\n",
              "  right: 0;\n",
              "  top: 0;\n",
              "  background: white;\n",
              "  text-align: right;\n",
              "  font-size: 16px;\n",
              "  font-family: Courier;\n",
              "  font-weight: bolder;\n",
              "  color: blue;\n",
              "  opacity: 1.0;\n",
              "  background-color:rgba(0, 0, 0, 0.0);\n",
              "}\n",
              "\n",
              ".down{\n",
              "  position: absolute;\n",
              "  right: 0;\n",
              "  bottom: 0;\n",
              "  background: white;\n",
              "  text-align: right;\n",
              "  font-size: 16px;\n",
              "  font-family: Courier;\n",
              "  font-weight: bolder;\n",
              "  color: red;\n",
              "  opacity: 0.9;\n",
              "  background-color:rgba(0, 0, 0, 0.0);\n",
              "}\n",
              "</style>\n",
              "<table bgcolor=\"4b64aa\">\n",
              "<tr>\t<td><table bgcolor=\"96c8ff\"><tr>\n",
              "\t<td>3<span class=\"up\">0</span><span class=\"down\">-3</span></td>\n",
              "\t<td>3<span class=\"up\">1</span><span class=\"down\">-2</span></td>\n",
              "\t<td>3<span class=\"up\">2</span><span class=\"down\">-1</span></td>\n",
              "</tr></table>\n",
              "<span class=\"up\">0</span><span class=\"down\">-3</span></td></tr>\n",
              "<tr>\t<td><table bgcolor=\"96c8ff\"><tr>\n",
              "\t<td>4<span class=\"up\">0</span><span class=\"down\">-3</span></td>\n",
              "\t<td>4<span class=\"up\">1</span><span class=\"down\">-2</span></td>\n",
              "\t<td>4<span class=\"up\">2</span><span class=\"down\">-1</span></td>\n",
              "</tr></table>\n",
              "<span class=\"up\">1</span><span class=\"down\">-2</span></td></tr>\n",
              "<tr>\t<td><table bgcolor=\"96c8ff\"><tr>\n",
              "\t<td>5<span class=\"up\">0</span><span class=\"down\">-3</span></td>\n",
              "\t<td>5<span class=\"up\">1</span><span class=\"down\">-2</span></td>\n",
              "\t<td>5<span class=\"up\">2</span><span class=\"down\">-1</span></td>\n",
              "</tr></table>\n",
              "<span class=\"up\">2</span><span class=\"down\">-1</span></td></tr>\n",
              "</table>\n"
            ]
          },
          "metadata": {}
        },
        {
          "output_type": "stream",
          "name": "stdout",
          "text": [
            "subtract\n"
          ]
        },
        {
          "output_type": "display_data",
          "data": {
            "text/plain": [
              "<IPython.core.display.HTML object>"
            ],
            "text/html": [
              "\n",
              "<style>\n",
              "table {\n",
              "  border-collapse: collapse;\n",
              "}\n",
              "\n",
              "td {\n",
              "  border: 3px solid #666666;\n",
              "  min-width:30px;\n",
              "  height: 30px;\n",
              "  position: relative;\n",
              "  text-align:center;\n",
              "  color: #474747;\n",
              "  font-size:20px;\n",
              "  font-weight: bolder;\n",
              "  padding: 19px;\n",
              "}\n",
              "\n",
              ".up{\n",
              "  position: absolute;\n",
              "  right: 0;\n",
              "  top: 0;\n",
              "  background: white;\n",
              "  text-align: right;\n",
              "  font-size: 16px;\n",
              "  font-family: Courier;\n",
              "  font-weight: bolder;\n",
              "  color: blue;\n",
              "  opacity: 1.0;\n",
              "  background-color:rgba(0, 0, 0, 0.0);\n",
              "}\n",
              "\n",
              ".down{\n",
              "  position: absolute;\n",
              "  right: 0;\n",
              "  bottom: 0;\n",
              "  background: white;\n",
              "  text-align: right;\n",
              "  font-size: 16px;\n",
              "  font-family: Courier;\n",
              "  font-weight: bolder;\n",
              "  color: red;\n",
              "  opacity: 0.9;\n",
              "  background-color:rgba(0, 0, 0, 0.0);\n",
              "}\n",
              "</style>\n",
              "<table bgcolor=\"96c8ff\"><tr>\n",
              "\t<td>1<span class=\"up\">0</span><span class=\"down\">-3</span></td>\n",
              "\t<td>2<span class=\"up\">1</span><span class=\"down\">-2</span></td>\n",
              "\t<td>3<span class=\"up\">2</span><span class=\"down\">-1</span></td>\n",
              "</tr></table>\n"
            ]
          },
          "metadata": {}
        },
        {
          "output_type": "stream",
          "name": "stdout",
          "text": [
            "result\n"
          ]
        },
        {
          "output_type": "display_data",
          "data": {
            "text/plain": [
              "<IPython.core.display.HTML object>"
            ],
            "text/html": [
              "\n",
              "<style>\n",
              "table {\n",
              "  border-collapse: collapse;\n",
              "}\n",
              "\n",
              "td {\n",
              "  border: 3px solid #666666;\n",
              "  min-width:30px;\n",
              "  height: 30px;\n",
              "  position: relative;\n",
              "  text-align:center;\n",
              "  color: #474747;\n",
              "  font-size:20px;\n",
              "  font-weight: bolder;\n",
              "  padding: 19px;\n",
              "}\n",
              "\n",
              ".up{\n",
              "  position: absolute;\n",
              "  right: 0;\n",
              "  top: 0;\n",
              "  background: white;\n",
              "  text-align: right;\n",
              "  font-size: 16px;\n",
              "  font-family: Courier;\n",
              "  font-weight: bolder;\n",
              "  color: blue;\n",
              "  opacity: 1.0;\n",
              "  background-color:rgba(0, 0, 0, 0.0);\n",
              "}\n",
              "\n",
              ".down{\n",
              "  position: absolute;\n",
              "  right: 0;\n",
              "  bottom: 0;\n",
              "  background: white;\n",
              "  text-align: right;\n",
              "  font-size: 16px;\n",
              "  font-family: Courier;\n",
              "  font-weight: bolder;\n",
              "  color: red;\n",
              "  opacity: 0.9;\n",
              "  background-color:rgba(0, 0, 0, 0.0);\n",
              "}\n",
              "</style>\n",
              "<table bgcolor=\"4b64aa\">\n",
              "<tr>\t<td><table bgcolor=\"96c8ff\"><tr>\n",
              "\t<td>2<span class=\"up\">0</span><span class=\"down\">-3</span></td>\n",
              "\t<td>2<span class=\"up\">1</span><span class=\"down\">-2</span></td>\n",
              "\t<td>2<span class=\"up\">2</span><span class=\"down\">-1</span></td>\n",
              "</tr></table>\n",
              "<span class=\"up\">0</span><span class=\"down\">-3</span></td></tr>\n",
              "<tr>\t<td><table bgcolor=\"96c8ff\"><tr>\n",
              "\t<td>2<span class=\"up\">0</span><span class=\"down\">-3</span></td>\n",
              "\t<td>2<span class=\"up\">1</span><span class=\"down\">-2</span></td>\n",
              "\t<td>2<span class=\"up\">2</span><span class=\"down\">-1</span></td>\n",
              "</tr></table>\n",
              "<span class=\"up\">1</span><span class=\"down\">-2</span></td></tr>\n",
              "<tr>\t<td><table bgcolor=\"96c8ff\"><tr>\n",
              "\t<td>2<span class=\"up\">0</span><span class=\"down\">-3</span></td>\n",
              "\t<td>2<span class=\"up\">1</span><span class=\"down\">-2</span></td>\n",
              "\t<td>2<span class=\"up\">2</span><span class=\"down\">-1</span></td>\n",
              "</tr></table>\n",
              "<span class=\"up\">2</span><span class=\"down\">-1</span></td></tr>\n",
              "</table>\n"
            ]
          },
          "metadata": {}
        }
      ]
    },
    {
      "cell_type": "code",
      "metadata": {
        "id": "b4H6We8bGuf7",
        "colab": {
          "base_uri": "https://localhost:8080/",
          "height": 838
        },
        "outputId": "05486752-4586-41fb-d8dc-0c557cba6ac2"
      },
      "source": [
        "#@title Solution (double click to see the source code)\n",
        "\n",
        "import numpy as np\n",
        "\n",
        "# Input\n",
        "a_2d = np.array([[3,3,3],[4,4,4],[5,5,5]]) #@param\n",
        "b_1d = np.array([1,2,3]) #@param\n",
        "\n",
        "\n",
        "# Solution\n",
        "result = a_2d - b_1d[:,None]\n",
        "\n",
        "# Output\n",
        "print('from')\n",
        "visualize_array(a_2d)\n",
        "print('subtract')\n",
        "visualize_array(b_1d)\n",
        "print('result')\n",
        "visualize_array(result)"
      ],
      "execution_count": null,
      "outputs": [
        {
          "output_type": "stream",
          "text": [
            "from\n"
          ],
          "name": "stdout"
        },
        {
          "output_type": "display_data",
          "data": {
            "text/html": [
              "\n",
              "<style>\n",
              "table {\n",
              "  border-collapse: collapse;\n",
              "}\n",
              "\n",
              "td {\n",
              "  border: 3px solid #666666;\n",
              "  min-width:30px;\n",
              "  height: 30px;\n",
              "  position: relative; \n",
              "  text-align:center; \n",
              "  color: #474747;\n",
              "  font-size:20px;\n",
              "  font-weight: bolder;\n",
              "  padding: 19px;\n",
              "}\n",
              "\n",
              ".up{\n",
              "  position: absolute; \n",
              "  right: 0;\n",
              "  top: 0;\n",
              "  background: white;\n",
              "  text-align: right;\n",
              "  font-size: 16px;\n",
              "  font-family: Courier;\n",
              "  font-weight: bolder;\n",
              "  color: blue;\n",
              "  opacity: 1.0;\n",
              "  background-color:rgba(0, 0, 0, 0.0);\n",
              "}\n",
              "\n",
              ".down{\n",
              "  position: absolute; \n",
              "  right: 0;\n",
              "  bottom: 0;\n",
              "  background: white;\n",
              "  text-align: right;\n",
              "  font-size: 16px;\n",
              "  font-family: Courier;\n",
              "  font-weight: bolder;\n",
              "  color: red;\n",
              "  opacity: 0.9;\n",
              "  background-color:rgba(0, 0, 0, 0.0);\n",
              "}\n",
              "</style>\n",
              "<table bgcolor=\"4b64aa\">\n",
              "<tr>\t<td><table bgcolor=\"96c8ff\"><tr>\n",
              "\t<td>3<span class=\"up\">0</span><span class=\"down\">-3</span></td>\n",
              "\t<td>3<span class=\"up\">1</span><span class=\"down\">-2</span></td>\n",
              "\t<td>3<span class=\"up\">2</span><span class=\"down\">-1</span></td>\n",
              "</tr></table>\n",
              "<span class=\"up\">0</span><span class=\"down\">-3</span></td></tr>\n",
              "<tr>\t<td><table bgcolor=\"96c8ff\"><tr>\n",
              "\t<td>4<span class=\"up\">0</span><span class=\"down\">-3</span></td>\n",
              "\t<td>4<span class=\"up\">1</span><span class=\"down\">-2</span></td>\n",
              "\t<td>4<span class=\"up\">2</span><span class=\"down\">-1</span></td>\n",
              "</tr></table>\n",
              "<span class=\"up\">1</span><span class=\"down\">-2</span></td></tr>\n",
              "<tr>\t<td><table bgcolor=\"96c8ff\"><tr>\n",
              "\t<td>5<span class=\"up\">0</span><span class=\"down\">-3</span></td>\n",
              "\t<td>5<span class=\"up\">1</span><span class=\"down\">-2</span></td>\n",
              "\t<td>5<span class=\"up\">2</span><span class=\"down\">-1</span></td>\n",
              "</tr></table>\n",
              "<span class=\"up\">2</span><span class=\"down\">-1</span></td></tr>\n",
              "</table>\n"
            ],
            "text/plain": [
              "<IPython.core.display.HTML object>"
            ]
          },
          "metadata": {
            "tags": []
          }
        },
        {
          "output_type": "stream",
          "text": [
            "subtract\n"
          ],
          "name": "stdout"
        },
        {
          "output_type": "display_data",
          "data": {
            "text/html": [
              "\n",
              "<style>\n",
              "table {\n",
              "  border-collapse: collapse;\n",
              "}\n",
              "\n",
              "td {\n",
              "  border: 3px solid #666666;\n",
              "  min-width:30px;\n",
              "  height: 30px;\n",
              "  position: relative; \n",
              "  text-align:center; \n",
              "  color: #474747;\n",
              "  font-size:20px;\n",
              "  font-weight: bolder;\n",
              "  padding: 19px;\n",
              "}\n",
              "\n",
              ".up{\n",
              "  position: absolute; \n",
              "  right: 0;\n",
              "  top: 0;\n",
              "  background: white;\n",
              "  text-align: right;\n",
              "  font-size: 16px;\n",
              "  font-family: Courier;\n",
              "  font-weight: bolder;\n",
              "  color: blue;\n",
              "  opacity: 1.0;\n",
              "  background-color:rgba(0, 0, 0, 0.0);\n",
              "}\n",
              "\n",
              ".down{\n",
              "  position: absolute; \n",
              "  right: 0;\n",
              "  bottom: 0;\n",
              "  background: white;\n",
              "  text-align: right;\n",
              "  font-size: 16px;\n",
              "  font-family: Courier;\n",
              "  font-weight: bolder;\n",
              "  color: red;\n",
              "  opacity: 0.9;\n",
              "  background-color:rgba(0, 0, 0, 0.0);\n",
              "}\n",
              "</style>\n",
              "<table bgcolor=\"96c8ff\"><tr>\n",
              "\t<td>1<span class=\"up\">0</span><span class=\"down\">-3</span></td>\n",
              "\t<td>2<span class=\"up\">1</span><span class=\"down\">-2</span></td>\n",
              "\t<td>3<span class=\"up\">2</span><span class=\"down\">-1</span></td>\n",
              "</tr></table>\n"
            ],
            "text/plain": [
              "<IPython.core.display.HTML object>"
            ]
          },
          "metadata": {
            "tags": []
          }
        },
        {
          "output_type": "stream",
          "text": [
            "result\n"
          ],
          "name": "stdout"
        },
        {
          "output_type": "display_data",
          "data": {
            "text/html": [
              "\n",
              "<style>\n",
              "table {\n",
              "  border-collapse: collapse;\n",
              "}\n",
              "\n",
              "td {\n",
              "  border: 3px solid #666666;\n",
              "  min-width:30px;\n",
              "  height: 30px;\n",
              "  position: relative; \n",
              "  text-align:center; \n",
              "  color: #474747;\n",
              "  font-size:20px;\n",
              "  font-weight: bolder;\n",
              "  padding: 19px;\n",
              "}\n",
              "\n",
              ".up{\n",
              "  position: absolute; \n",
              "  right: 0;\n",
              "  top: 0;\n",
              "  background: white;\n",
              "  text-align: right;\n",
              "  font-size: 16px;\n",
              "  font-family: Courier;\n",
              "  font-weight: bolder;\n",
              "  color: blue;\n",
              "  opacity: 1.0;\n",
              "  background-color:rgba(0, 0, 0, 0.0);\n",
              "}\n",
              "\n",
              ".down{\n",
              "  position: absolute; \n",
              "  right: 0;\n",
              "  bottom: 0;\n",
              "  background: white;\n",
              "  text-align: right;\n",
              "  font-size: 16px;\n",
              "  font-family: Courier;\n",
              "  font-weight: bolder;\n",
              "  color: red;\n",
              "  opacity: 0.9;\n",
              "  background-color:rgba(0, 0, 0, 0.0);\n",
              "}\n",
              "</style>\n",
              "<table bgcolor=\"4b64aa\">\n",
              "<tr>\t<td><table bgcolor=\"96c8ff\"><tr>\n",
              "\t<td>2<span class=\"up\">0</span><span class=\"down\">-3</span></td>\n",
              "\t<td>2<span class=\"up\">1</span><span class=\"down\">-2</span></td>\n",
              "\t<td>2<span class=\"up\">2</span><span class=\"down\">-1</span></td>\n",
              "</tr></table>\n",
              "<span class=\"up\">0</span><span class=\"down\">-3</span></td></tr>\n",
              "<tr>\t<td><table bgcolor=\"96c8ff\"><tr>\n",
              "\t<td>2<span class=\"up\">0</span><span class=\"down\">-3</span></td>\n",
              "\t<td>2<span class=\"up\">1</span><span class=\"down\">-2</span></td>\n",
              "\t<td>2<span class=\"up\">2</span><span class=\"down\">-1</span></td>\n",
              "</tr></table>\n",
              "<span class=\"up\">1</span><span class=\"down\">-2</span></td></tr>\n",
              "<tr>\t<td><table bgcolor=\"96c8ff\"><tr>\n",
              "\t<td>2<span class=\"up\">0</span><span class=\"down\">-3</span></td>\n",
              "\t<td>2<span class=\"up\">1</span><span class=\"down\">-2</span></td>\n",
              "\t<td>2<span class=\"up\">2</span><span class=\"down\">-1</span></td>\n",
              "</tr></table>\n",
              "<span class=\"up\">2</span><span class=\"down\">-1</span></td></tr>\n",
              "</table>\n"
            ],
            "text/plain": [
              "<IPython.core.display.HTML object>"
            ]
          },
          "metadata": {
            "tags": []
          }
        }
      ]
    },
    {
      "cell_type": "markdown",
      "metadata": {
        "id": "4StEYPrOGuf8"
      },
      "source": [
        "##34. How to find the index of n'th repetition of an item in an array"
      ]
    },
    {
      "cell_type": "markdown",
      "metadata": {
        "id": "HH0-Bll3SGtJ"
      },
      "source": [
        "**Problem:**\n",
        "Find the index of 5th repetition of number 1 in x."
      ]
    },
    {
      "cell_type": "code",
      "metadata": {
        "id": "Vn9zpTF3Guf8",
        "outputId": "0836e49e-5be3-46ba-dd7d-3fb54f3b2ec3",
        "colab": {
          "base_uri": "https://localhost:8080/",
          "height": 127
        }
      },
      "source": [
        "import numpy as np\n",
        "\n",
        "# Input:\n",
        "x = np.array([1, 2, 1, 1, 3, 4, 3, 1, 1, 2, 1, 1, 2])\n",
        "n = 5\n",
        "\n",
        "# Enter your code here\n",
        "idx = np.where(x == 1)[0][n-1]\n",
        "\n",
        "print('initial array')\n",
        "visualize_array(x)\n",
        "print('index of the ', n, '-th repetition of 1 is ', idx)"
      ],
      "execution_count": 113,
      "outputs": [
        {
          "output_type": "stream",
          "name": "stdout",
          "text": [
            "initial array\n"
          ]
        },
        {
          "output_type": "display_data",
          "data": {
            "text/plain": [
              "<IPython.core.display.HTML object>"
            ],
            "text/html": [
              "\n",
              "<style>\n",
              "table {\n",
              "  border-collapse: collapse;\n",
              "}\n",
              "\n",
              "td {\n",
              "  border: 3px solid #666666;\n",
              "  min-width:30px;\n",
              "  height: 30px;\n",
              "  position: relative;\n",
              "  text-align:center;\n",
              "  color: #474747;\n",
              "  font-size:20px;\n",
              "  font-weight: bolder;\n",
              "  padding: 19px;\n",
              "}\n",
              "\n",
              ".up{\n",
              "  position: absolute;\n",
              "  right: 0;\n",
              "  top: 0;\n",
              "  background: white;\n",
              "  text-align: right;\n",
              "  font-size: 16px;\n",
              "  font-family: Courier;\n",
              "  font-weight: bolder;\n",
              "  color: blue;\n",
              "  opacity: 1.0;\n",
              "  background-color:rgba(0, 0, 0, 0.0);\n",
              "}\n",
              "\n",
              ".down{\n",
              "  position: absolute;\n",
              "  right: 0;\n",
              "  bottom: 0;\n",
              "  background: white;\n",
              "  text-align: right;\n",
              "  font-size: 16px;\n",
              "  font-family: Courier;\n",
              "  font-weight: bolder;\n",
              "  color: red;\n",
              "  opacity: 0.9;\n",
              "  background-color:rgba(0, 0, 0, 0.0);\n",
              "}\n",
              "</style>\n",
              "<table bgcolor=\"96c8ff\"><tr>\n",
              "\t<td>1<span class=\"up\">0</span><span class=\"down\">-13</span></td>\n",
              "\t<td>2<span class=\"up\">1</span><span class=\"down\">-12</span></td>\n",
              "\t<td>1<span class=\"up\">2</span><span class=\"down\">-11</span></td>\n",
              "\t<td>1<span class=\"up\">3</span><span class=\"down\">-10</span></td>\n",
              "\t<td>3<span class=\"up\">4</span><span class=\"down\">-9</span></td>\n",
              "\t<td>4<span class=\"up\">5</span><span class=\"down\">-8</span></td>\n",
              "\t<td>3<span class=\"up\">6</span><span class=\"down\">-7</span></td>\n",
              "\t<td>1<span class=\"up\">7</span><span class=\"down\">-6</span></td>\n",
              "\t<td>1<span class=\"up\">8</span><span class=\"down\">-5</span></td>\n",
              "\t<td>2<span class=\"up\">9</span><span class=\"down\">-4</span></td>\n",
              "\t<td>1<span class=\"up\">10</span><span class=\"down\">-3</span></td>\n",
              "\t<td>1<span class=\"up\">11</span><span class=\"down\">-2</span></td>\n",
              "\t<td>2<span class=\"up\">12</span><span class=\"down\">-1</span></td>\n",
              "</tr></table>\n"
            ]
          },
          "metadata": {}
        },
        {
          "output_type": "stream",
          "name": "stdout",
          "text": [
            "index of the  5 -th repetition of 1 is  8\n"
          ]
        }
      ]
    },
    {
      "cell_type": "code",
      "metadata": {
        "id": "BzmK3sWJGuf9",
        "cellView": "form",
        "colab": {
          "base_uri": "https://localhost:8080/",
          "height": 125
        },
        "outputId": "42c15c54-6deb-42f8-bdea-cdb2cfb35431"
      },
      "source": [
        "#@title Solution A (double click to see the source code)\n",
        "\n",
        "import numpy as np\n",
        "\n",
        "# Input:\n",
        "x = np.array([1, 2, 1, 1, 3, 4, 3, 1, 1, 2, 1, 1, 2]) #@param\n",
        "n = 5 #@param\n",
        "\n",
        "# Solution:\n",
        "idx = [i for i, v in enumerate(x) if v == 1][n-1]\n",
        "\n",
        "print('initial array')\n",
        "visualize_array(x)\n",
        "print('index of the ', n, '-th repetition of 1 is ', idx)"
      ],
      "execution_count": null,
      "outputs": [
        {
          "output_type": "stream",
          "text": [
            "initial array\n"
          ],
          "name": "stdout"
        },
        {
          "output_type": "display_data",
          "data": {
            "text/html": [
              "\n",
              "<style>\n",
              "table {\n",
              "  border-collapse: collapse;\n",
              "}\n",
              "\n",
              "td {\n",
              "  border: 3px solid #666666;\n",
              "  min-width:30px;\n",
              "  height: 30px;\n",
              "  position: relative; \n",
              "  text-align:center; \n",
              "  color: #474747;\n",
              "  font-size:20px;\n",
              "  font-weight: bolder;\n",
              "  padding: 19px;\n",
              "}\n",
              "\n",
              ".up{\n",
              "  position: absolute; \n",
              "  right: 0;\n",
              "  top: 0;\n",
              "  background: white;\n",
              "  text-align: right;\n",
              "  font-size: 16px;\n",
              "  font-family: Courier;\n",
              "  font-weight: bolder;\n",
              "  color: blue;\n",
              "  opacity: 1.0;\n",
              "  background-color:rgba(0, 0, 0, 0.0);\n",
              "}\n",
              "\n",
              ".down{\n",
              "  position: absolute; \n",
              "  right: 0;\n",
              "  bottom: 0;\n",
              "  background: white;\n",
              "  text-align: right;\n",
              "  font-size: 16px;\n",
              "  font-family: Courier;\n",
              "  font-weight: bolder;\n",
              "  color: red;\n",
              "  opacity: 0.9;\n",
              "  background-color:rgba(0, 0, 0, 0.0);\n",
              "}\n",
              "</style>\n",
              "<table bgcolor=\"96c8ff\"><tr>\n",
              "\t<td>1<span class=\"up\">0</span><span class=\"down\">-13</span></td>\n",
              "\t<td>2<span class=\"up\">1</span><span class=\"down\">-12</span></td>\n",
              "\t<td>1<span class=\"up\">2</span><span class=\"down\">-11</span></td>\n",
              "\t<td>1<span class=\"up\">3</span><span class=\"down\">-10</span></td>\n",
              "\t<td>3<span class=\"up\">4</span><span class=\"down\">-9</span></td>\n",
              "\t<td>4<span class=\"up\">5</span><span class=\"down\">-8</span></td>\n",
              "\t<td>3<span class=\"up\">6</span><span class=\"down\">-7</span></td>\n",
              "\t<td>1<span class=\"up\">7</span><span class=\"down\">-6</span></td>\n",
              "\t<td>1<span class=\"up\">8</span><span class=\"down\">-5</span></td>\n",
              "\t<td>2<span class=\"up\">9</span><span class=\"down\">-4</span></td>\n",
              "\t<td>1<span class=\"up\">10</span><span class=\"down\">-3</span></td>\n",
              "\t<td>1<span class=\"up\">11</span><span class=\"down\">-2</span></td>\n",
              "\t<td>2<span class=\"up\">12</span><span class=\"down\">-1</span></td>\n",
              "</tr></table>\n"
            ],
            "text/plain": [
              "<IPython.core.display.HTML object>"
            ]
          },
          "metadata": {
            "tags": []
          }
        },
        {
          "output_type": "stream",
          "text": [
            "index of the  5 -th repetition of 1 is  8\n"
          ],
          "name": "stdout"
        }
      ]
    },
    {
      "cell_type": "code",
      "metadata": {
        "id": "yJkBjq2KGuf-",
        "cellView": "form"
      },
      "source": [
        "#@title Solution B (double click to see the source code)\n",
        "\n",
        "import numpy as np\n",
        "\n",
        "# Input:\n",
        "x = np.array([1, 2, 1, 1, 3, 4, 3, 1, 1, 2, 1, 1, 2]) #@param\n",
        "n = 5 #@param\n",
        "\n",
        "# Solution:\n",
        "idx = np.where(x == 1)[0][n-1]\n",
        "\n",
        "print('initial array')\n",
        "visualize_array(x)\n",
        "print('index of the ', n, '-th repetition of 1 is ', idx)"
      ],
      "execution_count": null,
      "outputs": []
    },
    {
      "cell_type": "markdown",
      "metadata": {
        "id": "mOlTgouBGugC"
      },
      "source": [
        "##35. How to create a numpy array sequence given only the starting point, length and the step?\n",
        "\n",
        "\n"
      ]
    },
    {
      "cell_type": "markdown",
      "metadata": {
        "id": "Ker271OrG0Tv"
      },
      "source": [
        "**Problem:**\n",
        "Create a numpy array of given length that starts with given number and has a given step between consecutive numbers."
      ]
    },
    {
      "cell_type": "code",
      "metadata": {
        "id": "wU5n3oz2GugC",
        "outputId": "576c689b-a057-4f3c-8aea-857bb56b06dd",
        "colab": {
          "base_uri": "https://localhost:8080/",
          "height": 91
        }
      },
      "source": [
        "import numpy as np\n",
        "\n",
        "# Input\n",
        "length = 10\n",
        "start  = 5\n",
        "step   = 3\n",
        "\n",
        "# Enter your code here\n",
        "arr = np.arange(start, start + step * length, step)\n",
        "\n",
        "# Output\n",
        "visualize_array(arr)"
      ],
      "execution_count": 114,
      "outputs": [
        {
          "output_type": "display_data",
          "data": {
            "text/plain": [
              "<IPython.core.display.HTML object>"
            ],
            "text/html": [
              "\n",
              "<style>\n",
              "table {\n",
              "  border-collapse: collapse;\n",
              "}\n",
              "\n",
              "td {\n",
              "  border: 3px solid #666666;\n",
              "  min-width:30px;\n",
              "  height: 30px;\n",
              "  position: relative;\n",
              "  text-align:center;\n",
              "  color: #474747;\n",
              "  font-size:20px;\n",
              "  font-weight: bolder;\n",
              "  padding: 19px;\n",
              "}\n",
              "\n",
              ".up{\n",
              "  position: absolute;\n",
              "  right: 0;\n",
              "  top: 0;\n",
              "  background: white;\n",
              "  text-align: right;\n",
              "  font-size: 16px;\n",
              "  font-family: Courier;\n",
              "  font-weight: bolder;\n",
              "  color: blue;\n",
              "  opacity: 1.0;\n",
              "  background-color:rgba(0, 0, 0, 0.0);\n",
              "}\n",
              "\n",
              ".down{\n",
              "  position: absolute;\n",
              "  right: 0;\n",
              "  bottom: 0;\n",
              "  background: white;\n",
              "  text-align: right;\n",
              "  font-size: 16px;\n",
              "  font-family: Courier;\n",
              "  font-weight: bolder;\n",
              "  color: red;\n",
              "  opacity: 0.9;\n",
              "  background-color:rgba(0, 0, 0, 0.0);\n",
              "}\n",
              "</style>\n",
              "<table bgcolor=\"96c8ff\"><tr>\n",
              "\t<td>5<span class=\"up\">0</span><span class=\"down\">-10</span></td>\n",
              "\t<td>8<span class=\"up\">1</span><span class=\"down\">-9</span></td>\n",
              "\t<td>11<span class=\"up\">2</span><span class=\"down\">-8</span></td>\n",
              "\t<td>14<span class=\"up\">3</span><span class=\"down\">-7</span></td>\n",
              "\t<td>17<span class=\"up\">4</span><span class=\"down\">-6</span></td>\n",
              "\t<td>20<span class=\"up\">5</span><span class=\"down\">-5</span></td>\n",
              "\t<td>23<span class=\"up\">6</span><span class=\"down\">-4</span></td>\n",
              "\t<td>26<span class=\"up\">7</span><span class=\"down\">-3</span></td>\n",
              "\t<td>29<span class=\"up\">8</span><span class=\"down\">-2</span></td>\n",
              "\t<td>32<span class=\"up\">9</span><span class=\"down\">-1</span></td>\n",
              "</tr></table>\n"
            ]
          },
          "metadata": {}
        }
      ]
    },
    {
      "cell_type": "code",
      "metadata": {
        "id": "Z8lqpMPLGugD",
        "cellView": "form",
        "colab": {
          "base_uri": "https://localhost:8080/",
          "height": 91
        },
        "outputId": "f6ade33d-7d41-4562-eba3-e3470952dcd1"
      },
      "source": [
        "#@title Solution (double click to see the source code)\n",
        "\n",
        "import numpy as np\n",
        "\n",
        "# Input\n",
        "length = 10 #@param\n",
        "start  = 5 #@param\n",
        "step   = 3 #@param\n",
        "\n",
        "# Solution:\n",
        "arr = np.arange(start, start + step * length, step)\n",
        "\n",
        "# Output\n",
        "visualize_array(arr)"
      ],
      "execution_count": null,
      "outputs": [
        {
          "output_type": "display_data",
          "data": {
            "text/html": [
              "\n",
              "<style>\n",
              "table {\n",
              "  border-collapse: collapse;\n",
              "}\n",
              "\n",
              "td {\n",
              "  border: 3px solid #666666;\n",
              "  min-width:30px;\n",
              "  height: 30px;\n",
              "  position: relative; \n",
              "  text-align:center; \n",
              "  color: #474747;\n",
              "  font-size:20px;\n",
              "  font-weight: bolder;\n",
              "  padding: 19px;\n",
              "}\n",
              "\n",
              ".up{\n",
              "  position: absolute; \n",
              "  right: 0;\n",
              "  top: 0;\n",
              "  background: white;\n",
              "  text-align: right;\n",
              "  font-size: 16px;\n",
              "  font-family: Courier;\n",
              "  font-weight: bolder;\n",
              "  color: blue;\n",
              "  opacity: 1.0;\n",
              "  background-color:rgba(0, 0, 0, 0.0);\n",
              "}\n",
              "\n",
              ".down{\n",
              "  position: absolute; \n",
              "  right: 0;\n",
              "  bottom: 0;\n",
              "  background: white;\n",
              "  text-align: right;\n",
              "  font-size: 16px;\n",
              "  font-family: Courier;\n",
              "  font-weight: bolder;\n",
              "  color: red;\n",
              "  opacity: 0.9;\n",
              "  background-color:rgba(0, 0, 0, 0.0);\n",
              "}\n",
              "</style>\n",
              "<table bgcolor=\"96c8ff\"><tr>\n",
              "\t<td>5<span class=\"up\">0</span><span class=\"down\">-10</span></td>\n",
              "\t<td>8<span class=\"up\">1</span><span class=\"down\">-9</span></td>\n",
              "\t<td>11<span class=\"up\">2</span><span class=\"down\">-8</span></td>\n",
              "\t<td>14<span class=\"up\">3</span><span class=\"down\">-7</span></td>\n",
              "\t<td>17<span class=\"up\">4</span><span class=\"down\">-6</span></td>\n",
              "\t<td>20<span class=\"up\">5</span><span class=\"down\">-5</span></td>\n",
              "\t<td>23<span class=\"up\">6</span><span class=\"down\">-4</span></td>\n",
              "\t<td>26<span class=\"up\">7</span><span class=\"down\">-3</span></td>\n",
              "\t<td>29<span class=\"up\">8</span><span class=\"down\">-2</span></td>\n",
              "\t<td>32<span class=\"up\">9</span><span class=\"down\">-1</span></td>\n",
              "</tr></table>\n"
            ],
            "text/plain": [
              "<IPython.core.display.HTML object>"
            ]
          },
          "metadata": {
            "tags": []
          }
        }
      ]
    },
    {
      "cell_type": "markdown",
      "metadata": {
        "id": "5k-3N29iSCpf"
      },
      "source": [
        "#Pro"
      ]
    },
    {
      "cell_type": "markdown",
      "metadata": {
        "id": "qorRGZnWGuep"
      },
      "source": [
        "##1. How to compute the softmax score?"
      ]
    },
    {
      "cell_type": "markdown",
      "metadata": {
        "id": "FHc13ofuU-rg"
      },
      "source": [
        "**Problem:**\n",
        "Compute the softmax score of given array\n",
        "$$\n",
        "\\sigma(\\vec{x})_i = \\frac{e^{x_i}}{\\sum_j e^{x_j}}\n",
        "$$"
      ]
    },
    {
      "cell_type": "code",
      "metadata": {
        "id": "AWLJLBB2Guep"
      },
      "source": [
        "import numpy as np\n",
        "\n",
        "# Input\n",
        "x = np.array([1,2,3,4,5,6,7,8,9,10])\n",
        "\n",
        "# Enter your code here\n",
        "s_max =\n",
        "\n",
        "# Output\n",
        "print('initial array')\n",
        "visualize_array(x)\n",
        "print('softmax')\n",
        "visualize_array(s_max.round(3))"
      ],
      "execution_count": null,
      "outputs": []
    },
    {
      "cell_type": "code",
      "metadata": {
        "id": "gM8IzZgUGuer",
        "cellView": "form",
        "colab": {
          "base_uri": "https://localhost:8080/",
          "height": 199
        },
        "outputId": "b1a52763-6dea-4f4a-e6e7-3b4e4f3330f4"
      },
      "source": [
        "#@title Solution (double click to see the source code)\n",
        "\n",
        "import numpy as np\n",
        "\n",
        "# Input\n",
        "x = np.array([1,2,3,4,5,6,7,8,9,10]) #@param\n",
        "\n",
        "# Solution\n",
        "e_arr = np.exp(x - np.max(x))\n",
        "s_max = e_arr / e_arr.sum(axis=0)\n",
        "\n",
        "# Output\n",
        "print('initial array')\n",
        "visualize_array(x)\n",
        "print('softmax')\n",
        "visualize_array(s_max.round(3))"
      ],
      "execution_count": null,
      "outputs": [
        {
          "output_type": "stream",
          "text": [
            "initial array\n"
          ],
          "name": "stdout"
        },
        {
          "output_type": "display_data",
          "data": {
            "text/html": [
              "\n",
              "<style>\n",
              "table {\n",
              "  border-collapse: collapse;\n",
              "}\n",
              "\n",
              "td {\n",
              "  border: 3px solid #666666;\n",
              "  min-width:30px;\n",
              "  height: 30px;\n",
              "  position: relative; \n",
              "  text-align:center; \n",
              "  color: #474747;\n",
              "  font-size:20px;\n",
              "  font-weight: bolder;\n",
              "  padding: 19px;\n",
              "}\n",
              "\n",
              ".up{\n",
              "  position: absolute; \n",
              "  right: 0;\n",
              "  top: 0;\n",
              "  background: white;\n",
              "  text-align: right;\n",
              "  font-size: 16px;\n",
              "  font-family: Courier;\n",
              "  font-weight: bolder;\n",
              "  color: blue;\n",
              "  opacity: 1.0;\n",
              "  background-color:rgba(0, 0, 0, 0.0);\n",
              "}\n",
              "\n",
              ".down{\n",
              "  position: absolute; \n",
              "  right: 0;\n",
              "  bottom: 0;\n",
              "  background: white;\n",
              "  text-align: right;\n",
              "  font-size: 16px;\n",
              "  font-family: Courier;\n",
              "  font-weight: bolder;\n",
              "  color: red;\n",
              "  opacity: 0.9;\n",
              "  background-color:rgba(0, 0, 0, 0.0);\n",
              "}\n",
              "</style>\n",
              "<table bgcolor=\"96c8ff\"><tr>\n",
              "\t<td>1<span class=\"up\">0</span><span class=\"down\">-10</span></td>\n",
              "\t<td>2<span class=\"up\">1</span><span class=\"down\">-9</span></td>\n",
              "\t<td>3<span class=\"up\">2</span><span class=\"down\">-8</span></td>\n",
              "\t<td>4<span class=\"up\">3</span><span class=\"down\">-7</span></td>\n",
              "\t<td>5<span class=\"up\">4</span><span class=\"down\">-6</span></td>\n",
              "\t<td>6<span class=\"up\">5</span><span class=\"down\">-5</span></td>\n",
              "\t<td>7<span class=\"up\">6</span><span class=\"down\">-4</span></td>\n",
              "\t<td>8<span class=\"up\">7</span><span class=\"down\">-3</span></td>\n",
              "\t<td>9<span class=\"up\">8</span><span class=\"down\">-2</span></td>\n",
              "\t<td>10<span class=\"up\">9</span><span class=\"down\">-1</span></td>\n",
              "</tr></table>\n"
            ],
            "text/plain": [
              "<IPython.core.display.HTML object>"
            ]
          },
          "metadata": {
            "tags": []
          }
        },
        {
          "output_type": "stream",
          "text": [
            "softmax\n"
          ],
          "name": "stdout"
        },
        {
          "output_type": "display_data",
          "data": {
            "text/html": [
              "\n",
              "<style>\n",
              "table {\n",
              "  border-collapse: collapse;\n",
              "}\n",
              "\n",
              "td {\n",
              "  border: 3px solid #666666;\n",
              "  min-width:30px;\n",
              "  height: 30px;\n",
              "  position: relative; \n",
              "  text-align:center; \n",
              "  color: #474747;\n",
              "  font-size:20px;\n",
              "  font-weight: bolder;\n",
              "  padding: 19px;\n",
              "}\n",
              "\n",
              ".up{\n",
              "  position: absolute; \n",
              "  right: 0;\n",
              "  top: 0;\n",
              "  background: white;\n",
              "  text-align: right;\n",
              "  font-size: 16px;\n",
              "  font-family: Courier;\n",
              "  font-weight: bolder;\n",
              "  color: blue;\n",
              "  opacity: 1.0;\n",
              "  background-color:rgba(0, 0, 0, 0.0);\n",
              "}\n",
              "\n",
              ".down{\n",
              "  position: absolute; \n",
              "  right: 0;\n",
              "  bottom: 0;\n",
              "  background: white;\n",
              "  text-align: right;\n",
              "  font-size: 16px;\n",
              "  font-family: Courier;\n",
              "  font-weight: bolder;\n",
              "  color: red;\n",
              "  opacity: 0.9;\n",
              "  background-color:rgba(0, 0, 0, 0.0);\n",
              "}\n",
              "</style>\n",
              "<table bgcolor=\"96c8ff\"><tr>\n",
              "\t<td>0.0<span class=\"up\">0</span><span class=\"down\">-10</span></td>\n",
              "\t<td>0.0<span class=\"up\">1</span><span class=\"down\">-9</span></td>\n",
              "\t<td>0.001<span class=\"up\">2</span><span class=\"down\">-8</span></td>\n",
              "\t<td>0.002<span class=\"up\">3</span><span class=\"down\">-7</span></td>\n",
              "\t<td>0.004<span class=\"up\">4</span><span class=\"down\">-6</span></td>\n",
              "\t<td>0.012<span class=\"up\">5</span><span class=\"down\">-5</span></td>\n",
              "\t<td>0.031<span class=\"up\">6</span><span class=\"down\">-4</span></td>\n",
              "\t<td>0.086<span class=\"up\">7</span><span class=\"down\">-3</span></td>\n",
              "\t<td>0.233<span class=\"up\">8</span><span class=\"down\">-2</span></td>\n",
              "\t<td>0.632<span class=\"up\">9</span><span class=\"down\">-1</span></td>\n",
              "</tr></table>\n"
            ],
            "text/plain": [
              "<IPython.core.display.HTML object>"
            ]
          },
          "metadata": {
            "tags": []
          }
        }
      ]
    },
    {
      "cell_type": "markdown",
      "metadata": {
        "id": "9kQOi4OuGue1"
      },
      "source": [
        "##2. How to filter a numpy array based on two or more conditions?"
      ]
    },
    {
      "cell_type": "markdown",
      "metadata": {
        "id": "sCOsCcgoblzD"
      },
      "source": [
        "**Problem:**\n",
        "Filter the rows of given array so that value in the 3rd column (index 2) > 1.5 and\n",
        "value in the 1st column (index 0) < 5.0"
      ]
    },
    {
      "cell_type": "code",
      "metadata": {
        "id": "a0Oq4vVWGue3"
      },
      "source": [
        "import numpy as np\n",
        "\n",
        "# Input\n",
        "matr = np.array([[8, 8, 3, 7, 7],\n",
        "                 [0, 4, 2, 5, 2],\n",
        "                 [2, 2, 1, 0, 8],\n",
        "                 [4, 0, 9, 6, 2],\n",
        "                 [4, 1, 5, 3, 4]])\n",
        "\n",
        "# Enter your code here\n",
        "filtered =\n",
        "\n",
        "# Output\n",
        "print('initial matrix')\n",
        "visualize_array(matr)\n",
        "print('filtered matrix')\n",
        "visualize_array(filtered)"
      ],
      "execution_count": null,
      "outputs": []
    },
    {
      "cell_type": "code",
      "metadata": {
        "id": "3X4wTgEBGue4",
        "cellView": "form",
        "colab": {
          "base_uri": "https://localhost:8080/",
          "height": 954
        },
        "outputId": "50bc8ad0-18af-4b82-ee00-e22ea3042b75"
      },
      "source": [
        "#@title Solution (double click to see the source code)\n",
        "\n",
        "import numpy as np\n",
        "\n",
        "# Input\n",
        "matr = np.array([[8, 8, 3, 7, 7], [0, 4, 2, 5, 2], [2, 2, 1, 0, 8], [4, 0, 9, 6, 2], [4, 1, 5, 3, 4]]) #@param\n",
        "\n",
        "# Solution\n",
        "condition = (matr[:, 2] > 1) & (matr[:, 0] < 5)\n",
        "filtered = matr[condition]\n",
        "\n",
        "# Output\n",
        "print('initial matrix')\n",
        "visualize_array(matr)\n",
        "print('filtered matrix')\n",
        "visualize_array(filtered)"
      ],
      "execution_count": null,
      "outputs": [
        {
          "output_type": "stream",
          "text": [
            "initial matrix\n"
          ],
          "name": "stdout"
        },
        {
          "output_type": "display_data",
          "data": {
            "text/html": [
              "\n",
              "<style>\n",
              "table {\n",
              "  border-collapse: collapse;\n",
              "}\n",
              "\n",
              "td {\n",
              "  border: 3px solid #666666;\n",
              "  min-width:30px;\n",
              "  height: 30px;\n",
              "  position: relative; \n",
              "  text-align:center; \n",
              "  color: #474747;\n",
              "  font-size:20px;\n",
              "  font-weight: bolder;\n",
              "  padding: 19px;\n",
              "}\n",
              "\n",
              ".up{\n",
              "  position: absolute; \n",
              "  right: 0;\n",
              "  top: 0;\n",
              "  background: white;\n",
              "  text-align: right;\n",
              "  font-size: 16px;\n",
              "  font-family: Courier;\n",
              "  font-weight: bolder;\n",
              "  color: blue;\n",
              "  opacity: 1.0;\n",
              "  background-color:rgba(0, 0, 0, 0.0);\n",
              "}\n",
              "\n",
              ".down{\n",
              "  position: absolute; \n",
              "  right: 0;\n",
              "  bottom: 0;\n",
              "  background: white;\n",
              "  text-align: right;\n",
              "  font-size: 16px;\n",
              "  font-family: Courier;\n",
              "  font-weight: bolder;\n",
              "  color: red;\n",
              "  opacity: 0.9;\n",
              "  background-color:rgba(0, 0, 0, 0.0);\n",
              "}\n",
              "</style>\n",
              "<table bgcolor=\"4b64aa\">\n",
              "<tr>\t<td><table bgcolor=\"96c8ff\"><tr>\n",
              "\t<td>8<span class=\"up\">0</span><span class=\"down\">-5</span></td>\n",
              "\t<td>8<span class=\"up\">1</span><span class=\"down\">-4</span></td>\n",
              "\t<td>3<span class=\"up\">2</span><span class=\"down\">-3</span></td>\n",
              "\t<td>7<span class=\"up\">3</span><span class=\"down\">-2</span></td>\n",
              "\t<td>7<span class=\"up\">4</span><span class=\"down\">-1</span></td>\n",
              "</tr></table>\n",
              "<span class=\"up\">0</span><span class=\"down\">-5</span></td></tr>\n",
              "<tr>\t<td><table bgcolor=\"96c8ff\"><tr>\n",
              "\t<td>0<span class=\"up\">0</span><span class=\"down\">-5</span></td>\n",
              "\t<td>4<span class=\"up\">1</span><span class=\"down\">-4</span></td>\n",
              "\t<td>2<span class=\"up\">2</span><span class=\"down\">-3</span></td>\n",
              "\t<td>5<span class=\"up\">3</span><span class=\"down\">-2</span></td>\n",
              "\t<td>2<span class=\"up\">4</span><span class=\"down\">-1</span></td>\n",
              "</tr></table>\n",
              "<span class=\"up\">1</span><span class=\"down\">-4</span></td></tr>\n",
              "<tr>\t<td><table bgcolor=\"96c8ff\"><tr>\n",
              "\t<td>2<span class=\"up\">0</span><span class=\"down\">-5</span></td>\n",
              "\t<td>2<span class=\"up\">1</span><span class=\"down\">-4</span></td>\n",
              "\t<td>1<span class=\"up\">2</span><span class=\"down\">-3</span></td>\n",
              "\t<td>0<span class=\"up\">3</span><span class=\"down\">-2</span></td>\n",
              "\t<td>8<span class=\"up\">4</span><span class=\"down\">-1</span></td>\n",
              "</tr></table>\n",
              "<span class=\"up\">2</span><span class=\"down\">-3</span></td></tr>\n",
              "<tr>\t<td><table bgcolor=\"96c8ff\"><tr>\n",
              "\t<td>4<span class=\"up\">0</span><span class=\"down\">-5</span></td>\n",
              "\t<td>0<span class=\"up\">1</span><span class=\"down\">-4</span></td>\n",
              "\t<td>9<span class=\"up\">2</span><span class=\"down\">-3</span></td>\n",
              "\t<td>6<span class=\"up\">3</span><span class=\"down\">-2</span></td>\n",
              "\t<td>2<span class=\"up\">4</span><span class=\"down\">-1</span></td>\n",
              "</tr></table>\n",
              "<span class=\"up\">3</span><span class=\"down\">-2</span></td></tr>\n",
              "<tr>\t<td><table bgcolor=\"96c8ff\"><tr>\n",
              "\t<td>4<span class=\"up\">0</span><span class=\"down\">-5</span></td>\n",
              "\t<td>1<span class=\"up\">1</span><span class=\"down\">-4</span></td>\n",
              "\t<td>5<span class=\"up\">2</span><span class=\"down\">-3</span></td>\n",
              "\t<td>3<span class=\"up\">3</span><span class=\"down\">-2</span></td>\n",
              "\t<td>4<span class=\"up\">4</span><span class=\"down\">-1</span></td>\n",
              "</tr></table>\n",
              "<span class=\"up\">4</span><span class=\"down\">-1</span></td></tr>\n",
              "</table>\n"
            ],
            "text/plain": [
              "<IPython.core.display.HTML object>"
            ]
          },
          "metadata": {
            "tags": []
          }
        },
        {
          "output_type": "stream",
          "text": [
            "filtered matrix\n"
          ],
          "name": "stdout"
        },
        {
          "output_type": "display_data",
          "data": {
            "text/html": [
              "\n",
              "<style>\n",
              "table {\n",
              "  border-collapse: collapse;\n",
              "}\n",
              "\n",
              "td {\n",
              "  border: 3px solid #666666;\n",
              "  min-width:30px;\n",
              "  height: 30px;\n",
              "  position: relative; \n",
              "  text-align:center; \n",
              "  color: #474747;\n",
              "  font-size:20px;\n",
              "  font-weight: bolder;\n",
              "  padding: 19px;\n",
              "}\n",
              "\n",
              ".up{\n",
              "  position: absolute; \n",
              "  right: 0;\n",
              "  top: 0;\n",
              "  background: white;\n",
              "  text-align: right;\n",
              "  font-size: 16px;\n",
              "  font-family: Courier;\n",
              "  font-weight: bolder;\n",
              "  color: blue;\n",
              "  opacity: 1.0;\n",
              "  background-color:rgba(0, 0, 0, 0.0);\n",
              "}\n",
              "\n",
              ".down{\n",
              "  position: absolute; \n",
              "  right: 0;\n",
              "  bottom: 0;\n",
              "  background: white;\n",
              "  text-align: right;\n",
              "  font-size: 16px;\n",
              "  font-family: Courier;\n",
              "  font-weight: bolder;\n",
              "  color: red;\n",
              "  opacity: 0.9;\n",
              "  background-color:rgba(0, 0, 0, 0.0);\n",
              "}\n",
              "</style>\n",
              "<table bgcolor=\"4b64aa\">\n",
              "<tr>\t<td><table bgcolor=\"96c8ff\"><tr>\n",
              "\t<td>0<span class=\"up\">0</span><span class=\"down\">-5</span></td>\n",
              "\t<td>4<span class=\"up\">1</span><span class=\"down\">-4</span></td>\n",
              "\t<td>2<span class=\"up\">2</span><span class=\"down\">-3</span></td>\n",
              "\t<td>5<span class=\"up\">3</span><span class=\"down\">-2</span></td>\n",
              "\t<td>2<span class=\"up\">4</span><span class=\"down\">-1</span></td>\n",
              "</tr></table>\n",
              "<span class=\"up\">0</span><span class=\"down\">-3</span></td></tr>\n",
              "<tr>\t<td><table bgcolor=\"96c8ff\"><tr>\n",
              "\t<td>4<span class=\"up\">0</span><span class=\"down\">-5</span></td>\n",
              "\t<td>0<span class=\"up\">1</span><span class=\"down\">-4</span></td>\n",
              "\t<td>9<span class=\"up\">2</span><span class=\"down\">-3</span></td>\n",
              "\t<td>6<span class=\"up\">3</span><span class=\"down\">-2</span></td>\n",
              "\t<td>2<span class=\"up\">4</span><span class=\"down\">-1</span></td>\n",
              "</tr></table>\n",
              "<span class=\"up\">1</span><span class=\"down\">-2</span></td></tr>\n",
              "<tr>\t<td><table bgcolor=\"96c8ff\"><tr>\n",
              "\t<td>4<span class=\"up\">0</span><span class=\"down\">-5</span></td>\n",
              "\t<td>1<span class=\"up\">1</span><span class=\"down\">-4</span></td>\n",
              "\t<td>5<span class=\"up\">2</span><span class=\"down\">-3</span></td>\n",
              "\t<td>3<span class=\"up\">3</span><span class=\"down\">-2</span></td>\n",
              "\t<td>4<span class=\"up\">4</span><span class=\"down\">-1</span></td>\n",
              "</tr></table>\n",
              "<span class=\"up\">2</span><span class=\"down\">-1</span></td></tr>\n",
              "</table>\n"
            ],
            "text/plain": [
              "<IPython.core.display.HTML object>"
            ]
          },
          "metadata": {
            "tags": []
          }
        }
      ]
    },
    {
      "cell_type": "markdown",
      "metadata": {
        "id": "kqPnkUvtGue4"
      },
      "source": [
        "##3. How to drop rows that contain a missing value from a numpy array?"
      ]
    },
    {
      "cell_type": "markdown",
      "metadata": {
        "id": "7sskEqnJgRw-"
      },
      "source": [
        "**Problem:**\n",
        "Select the rows of given 2D array that do not have any nan value."
      ]
    },
    {
      "cell_type": "code",
      "metadata": {
        "id": "Tasceh8cGue5"
      },
      "source": [
        "import numpy as np\n",
        "\n",
        "# Input\n",
        "matr = np.array([[1.,    1., 1.,    1., 1.],\n",
        "                 [2.,    2., 2.,    2., 2.],\n",
        "                 [3.,    3., np.nan,3., 3.],\n",
        "                 [np.nan,4., 4.,    4., 4.],\n",
        "                 [5.,    5., 5.,    5., 5.]])\n",
        "\n",
        "# Enter your code here\n",
        "filtered =\n",
        "\n",
        "# Output\n",
        "print('initial matrix')\n",
        "visualize_array(matr)\n",
        "print('filtered matrix')\n",
        "visualize_array(filtered)"
      ],
      "execution_count": null,
      "outputs": []
    },
    {
      "cell_type": "code",
      "metadata": {
        "id": "O5CqDtWsGue6",
        "cellView": "form",
        "colab": {
          "base_uri": "https://localhost:8080/",
          "height": 954
        },
        "outputId": "c59f27cc-363f-4353-e5a3-2d461875e422"
      },
      "source": [
        "#@title Solution A (double click to see the source code)\n",
        "\n",
        "import numpy as np\n",
        "\n",
        "# Input\n",
        "matr = np.array([[1., 1., 1., 1., 1.], [2., 2., 2., 2., 2.], [3., 3., np.nan, 3., 3.], [np.nan, 4., 4., 4., 4.], [5., 5., 5., 5., 5.]]) #@param\n",
        "\n",
        "# Solution\n",
        "any_nan_in_row = np.array([~np.any(np.isnan(row)) for row in matr])\n",
        "filtered = matr[any_nan_in_row]\n",
        "\n",
        "# Output\n",
        "print('initial matrix')\n",
        "visualize_array(matr)\n",
        "print('filtered matrix')\n",
        "visualize_array(filtered)"
      ],
      "execution_count": null,
      "outputs": [
        {
          "output_type": "stream",
          "text": [
            "initial matrix\n"
          ],
          "name": "stdout"
        },
        {
          "output_type": "display_data",
          "data": {
            "text/html": [
              "\n",
              "<style>\n",
              "table {\n",
              "  border-collapse: collapse;\n",
              "}\n",
              "\n",
              "td {\n",
              "  border: 3px solid #666666;\n",
              "  min-width:30px;\n",
              "  height: 30px;\n",
              "  position: relative; \n",
              "  text-align:center; \n",
              "  color: #474747;\n",
              "  font-size:20px;\n",
              "  font-weight: bolder;\n",
              "  padding: 19px;\n",
              "}\n",
              "\n",
              ".up{\n",
              "  position: absolute; \n",
              "  right: 0;\n",
              "  top: 0;\n",
              "  background: white;\n",
              "  text-align: right;\n",
              "  font-size: 16px;\n",
              "  font-family: Courier;\n",
              "  font-weight: bolder;\n",
              "  color: blue;\n",
              "  opacity: 1.0;\n",
              "  background-color:rgba(0, 0, 0, 0.0);\n",
              "}\n",
              "\n",
              ".down{\n",
              "  position: absolute; \n",
              "  right: 0;\n",
              "  bottom: 0;\n",
              "  background: white;\n",
              "  text-align: right;\n",
              "  font-size: 16px;\n",
              "  font-family: Courier;\n",
              "  font-weight: bolder;\n",
              "  color: red;\n",
              "  opacity: 0.9;\n",
              "  background-color:rgba(0, 0, 0, 0.0);\n",
              "}\n",
              "</style>\n",
              "<table bgcolor=\"4b64aa\">\n",
              "<tr>\t<td><table bgcolor=\"96c8ff\"><tr>\n",
              "\t<td>1.0<span class=\"up\">0</span><span class=\"down\">-5</span></td>\n",
              "\t<td>1.0<span class=\"up\">1</span><span class=\"down\">-4</span></td>\n",
              "\t<td>1.0<span class=\"up\">2</span><span class=\"down\">-3</span></td>\n",
              "\t<td>1.0<span class=\"up\">3</span><span class=\"down\">-2</span></td>\n",
              "\t<td>1.0<span class=\"up\">4</span><span class=\"down\">-1</span></td>\n",
              "</tr></table>\n",
              "<span class=\"up\">0</span><span class=\"down\">-5</span></td></tr>\n",
              "<tr>\t<td><table bgcolor=\"96c8ff\"><tr>\n",
              "\t<td>2.0<span class=\"up\">0</span><span class=\"down\">-5</span></td>\n",
              "\t<td>2.0<span class=\"up\">1</span><span class=\"down\">-4</span></td>\n",
              "\t<td>2.0<span class=\"up\">2</span><span class=\"down\">-3</span></td>\n",
              "\t<td>2.0<span class=\"up\">3</span><span class=\"down\">-2</span></td>\n",
              "\t<td>2.0<span class=\"up\">4</span><span class=\"down\">-1</span></td>\n",
              "</tr></table>\n",
              "<span class=\"up\">1</span><span class=\"down\">-4</span></td></tr>\n",
              "<tr>\t<td><table bgcolor=\"96c8ff\"><tr>\n",
              "\t<td>3.0<span class=\"up\">0</span><span class=\"down\">-5</span></td>\n",
              "\t<td>3.0<span class=\"up\">1</span><span class=\"down\">-4</span></td>\n",
              "\t<td>nan<span class=\"up\">2</span><span class=\"down\">-3</span></td>\n",
              "\t<td>3.0<span class=\"up\">3</span><span class=\"down\">-2</span></td>\n",
              "\t<td>3.0<span class=\"up\">4</span><span class=\"down\">-1</span></td>\n",
              "</tr></table>\n",
              "<span class=\"up\">2</span><span class=\"down\">-3</span></td></tr>\n",
              "<tr>\t<td><table bgcolor=\"96c8ff\"><tr>\n",
              "\t<td>nan<span class=\"up\">0</span><span class=\"down\">-5</span></td>\n",
              "\t<td>4.0<span class=\"up\">1</span><span class=\"down\">-4</span></td>\n",
              "\t<td>4.0<span class=\"up\">2</span><span class=\"down\">-3</span></td>\n",
              "\t<td>4.0<span class=\"up\">3</span><span class=\"down\">-2</span></td>\n",
              "\t<td>4.0<span class=\"up\">4</span><span class=\"down\">-1</span></td>\n",
              "</tr></table>\n",
              "<span class=\"up\">3</span><span class=\"down\">-2</span></td></tr>\n",
              "<tr>\t<td><table bgcolor=\"96c8ff\"><tr>\n",
              "\t<td>5.0<span class=\"up\">0</span><span class=\"down\">-5</span></td>\n",
              "\t<td>5.0<span class=\"up\">1</span><span class=\"down\">-4</span></td>\n",
              "\t<td>5.0<span class=\"up\">2</span><span class=\"down\">-3</span></td>\n",
              "\t<td>5.0<span class=\"up\">3</span><span class=\"down\">-2</span></td>\n",
              "\t<td>5.0<span class=\"up\">4</span><span class=\"down\">-1</span></td>\n",
              "</tr></table>\n",
              "<span class=\"up\">4</span><span class=\"down\">-1</span></td></tr>\n",
              "</table>\n"
            ],
            "text/plain": [
              "<IPython.core.display.HTML object>"
            ]
          },
          "metadata": {
            "tags": []
          }
        },
        {
          "output_type": "stream",
          "text": [
            "filtered matrix\n"
          ],
          "name": "stdout"
        },
        {
          "output_type": "display_data",
          "data": {
            "text/html": [
              "\n",
              "<style>\n",
              "table {\n",
              "  border-collapse: collapse;\n",
              "}\n",
              "\n",
              "td {\n",
              "  border: 3px solid #666666;\n",
              "  min-width:30px;\n",
              "  height: 30px;\n",
              "  position: relative; \n",
              "  text-align:center; \n",
              "  color: #474747;\n",
              "  font-size:20px;\n",
              "  font-weight: bolder;\n",
              "  padding: 19px;\n",
              "}\n",
              "\n",
              ".up{\n",
              "  position: absolute; \n",
              "  right: 0;\n",
              "  top: 0;\n",
              "  background: white;\n",
              "  text-align: right;\n",
              "  font-size: 16px;\n",
              "  font-family: Courier;\n",
              "  font-weight: bolder;\n",
              "  color: blue;\n",
              "  opacity: 1.0;\n",
              "  background-color:rgba(0, 0, 0, 0.0);\n",
              "}\n",
              "\n",
              ".down{\n",
              "  position: absolute; \n",
              "  right: 0;\n",
              "  bottom: 0;\n",
              "  background: white;\n",
              "  text-align: right;\n",
              "  font-size: 16px;\n",
              "  font-family: Courier;\n",
              "  font-weight: bolder;\n",
              "  color: red;\n",
              "  opacity: 0.9;\n",
              "  background-color:rgba(0, 0, 0, 0.0);\n",
              "}\n",
              "</style>\n",
              "<table bgcolor=\"4b64aa\">\n",
              "<tr>\t<td><table bgcolor=\"96c8ff\"><tr>\n",
              "\t<td>1.0<span class=\"up\">0</span><span class=\"down\">-5</span></td>\n",
              "\t<td>1.0<span class=\"up\">1</span><span class=\"down\">-4</span></td>\n",
              "\t<td>1.0<span class=\"up\">2</span><span class=\"down\">-3</span></td>\n",
              "\t<td>1.0<span class=\"up\">3</span><span class=\"down\">-2</span></td>\n",
              "\t<td>1.0<span class=\"up\">4</span><span class=\"down\">-1</span></td>\n",
              "</tr></table>\n",
              "<span class=\"up\">0</span><span class=\"down\">-3</span></td></tr>\n",
              "<tr>\t<td><table bgcolor=\"96c8ff\"><tr>\n",
              "\t<td>2.0<span class=\"up\">0</span><span class=\"down\">-5</span></td>\n",
              "\t<td>2.0<span class=\"up\">1</span><span class=\"down\">-4</span></td>\n",
              "\t<td>2.0<span class=\"up\">2</span><span class=\"down\">-3</span></td>\n",
              "\t<td>2.0<span class=\"up\">3</span><span class=\"down\">-2</span></td>\n",
              "\t<td>2.0<span class=\"up\">4</span><span class=\"down\">-1</span></td>\n",
              "</tr></table>\n",
              "<span class=\"up\">1</span><span class=\"down\">-2</span></td></tr>\n",
              "<tr>\t<td><table bgcolor=\"96c8ff\"><tr>\n",
              "\t<td>5.0<span class=\"up\">0</span><span class=\"down\">-5</span></td>\n",
              "\t<td>5.0<span class=\"up\">1</span><span class=\"down\">-4</span></td>\n",
              "\t<td>5.0<span class=\"up\">2</span><span class=\"down\">-3</span></td>\n",
              "\t<td>5.0<span class=\"up\">3</span><span class=\"down\">-2</span></td>\n",
              "\t<td>5.0<span class=\"up\">4</span><span class=\"down\">-1</span></td>\n",
              "</tr></table>\n",
              "<span class=\"up\">2</span><span class=\"down\">-1</span></td></tr>\n",
              "</table>\n"
            ],
            "text/plain": [
              "<IPython.core.display.HTML object>"
            ]
          },
          "metadata": {
            "tags": []
          }
        }
      ]
    },
    {
      "cell_type": "code",
      "metadata": {
        "id": "3xc9E98hGue6",
        "cellView": "form"
      },
      "source": [
        "#@title Solution B (double click to see the source code)\n",
        "\n",
        "import numpy as np\n",
        "\n",
        "# Input\n",
        "matr = np.array([[1., 1., 1., 1., 1.], [2., 2., 2., 2., 2.], [3., 3., np.nan, 3., 3.], [np.nan, 4., 4., 4., 4.], [5., 5., 5., 5., 5.]]) #@param\n",
        "\n",
        "# Solution\n",
        "filtered = matr[np.sum(np.isnan(matr), axis = 1) == 0]\n",
        "\n",
        "# Output\n",
        "print('initial matrix')\n",
        "visualize_array(matr)\n",
        "print('filtered matrix')\n",
        "visualize_array(filtered)"
      ],
      "execution_count": null,
      "outputs": []
    },
    {
      "cell_type": "markdown",
      "metadata": {
        "id": "dNQ9GskaGufJ"
      },
      "source": [
        "##4. How to do probabilistic sampling in numpy?"
      ]
    },
    {
      "cell_type": "markdown",
      "metadata": {
        "id": "R20zbyO5MNQu"
      },
      "source": [
        "**Problem:**\n",
        "Alice, Bess, and Cody live in one room in dorm.\n",
        "Every day they randomly choose who will clean the room.\n",
        "But Alice had bad luck in a card game and now she ows to Bess and Cody, thus this month she will clean the room twice as often as any of them.\n",
        "Generate a random schedule \"who cleans the room today\" for 30 days, consider that Alice should clean it twice as often as Bess or Cody."
      ]
    },
    {
      "cell_type": "code",
      "metadata": {
        "id": "Qh1xSOqJGufJ"
      },
      "source": [
        "import numpy as np\n",
        "\n",
        "# Input\n",
        "arr = np.array(['Alice', 'Bess', 'Cody'])\n",
        "probabilities = np.array([0.5, 0.25, 0.25])\n",
        "days = 30\n",
        "\n",
        "# Enter your code here\n",
        "cleaner =\n",
        "\n",
        "# Output\n",
        "from google.colab import data_table\n",
        "import pandas as pd\n",
        "dt = data_table.DataTable(pd.DataFrame(cleaner[np.newaxis,:]))\n",
        "import IPython\n",
        "display(IPython.display.HTML(dt._repr_html_()))"
      ],
      "execution_count": null,
      "outputs": []
    },
    {
      "cell_type": "code",
      "metadata": {
        "id": "IqynbvWWGufK",
        "cellView": "form",
        "colab": {
          "base_uri": "https://localhost:8080/",
          "height": 97
        },
        "outputId": "278edcf3-646e-42c3-8939-6c36309b3c78"
      },
      "source": [
        "#@title Solution (double click to see the source code)\n",
        "\n",
        "import numpy as np\n",
        "\n",
        "# Input\n",
        "names = np.array(['Alice', 'Bess', 'Cody']) #@param\n",
        "probabilities = np.array([0.5, 0.25, 0.25]) #@param\n",
        "days = 30 #@param\n",
        "\n",
        "# Solution\n",
        "cleaner = np.random.choice(names, days, p=probabilities)\n",
        "\n",
        "# Output\n",
        "from google.colab import data_table\n",
        "import pandas as pd\n",
        "dt = data_table.DataTable(pd.DataFrame(cleaner[np.newaxis,:]))\n",
        "import IPython\n",
        "display(IPython.display.HTML(dt._repr_html_()))"
      ],
      "execution_count": null,
      "outputs": [
        {
          "output_type": "display_data",
          "data": {
            "text/html": [
              "<div>\n",
              "<style scoped>\n",
              "    .dataframe tbody tr th:only-of-type {\n",
              "        vertical-align: middle;\n",
              "    }\n",
              "\n",
              "    .dataframe tbody tr th {\n",
              "        vertical-align: top;\n",
              "    }\n",
              "\n",
              "    .dataframe thead th {\n",
              "        text-align: right;\n",
              "    }\n",
              "</style>\n",
              "<table border=\"1\" class=\"dataframe\">\n",
              "  <thead>\n",
              "    <tr style=\"text-align: right;\">\n",
              "      <th></th>\n",
              "      <th>0</th>\n",
              "      <th>1</th>\n",
              "      <th>2</th>\n",
              "      <th>3</th>\n",
              "      <th>4</th>\n",
              "      <th>5</th>\n",
              "      <th>6</th>\n",
              "      <th>7</th>\n",
              "      <th>8</th>\n",
              "      <th>9</th>\n",
              "      <th>10</th>\n",
              "      <th>11</th>\n",
              "      <th>12</th>\n",
              "      <th>13</th>\n",
              "      <th>14</th>\n",
              "      <th>15</th>\n",
              "      <th>16</th>\n",
              "      <th>17</th>\n",
              "      <th>18</th>\n",
              "      <th>19</th>\n",
              "      <th>20</th>\n",
              "      <th>21</th>\n",
              "      <th>22</th>\n",
              "      <th>23</th>\n",
              "      <th>24</th>\n",
              "      <th>25</th>\n",
              "      <th>26</th>\n",
              "      <th>27</th>\n",
              "      <th>28</th>\n",
              "      <th>29</th>\n",
              "    </tr>\n",
              "  </thead>\n",
              "  <tbody>\n",
              "    <tr>\n",
              "      <th>0</th>\n",
              "      <td>Bess</td>\n",
              "      <td>Alice</td>\n",
              "      <td>Cody</td>\n",
              "      <td>Cody</td>\n",
              "      <td>Bess</td>\n",
              "      <td>Alice</td>\n",
              "      <td>Alice</td>\n",
              "      <td>Bess</td>\n",
              "      <td>Cody</td>\n",
              "      <td>Bess</td>\n",
              "      <td>Bess</td>\n",
              "      <td>Alice</td>\n",
              "      <td>Bess</td>\n",
              "      <td>Alice</td>\n",
              "      <td>Cody</td>\n",
              "      <td>Alice</td>\n",
              "      <td>Cody</td>\n",
              "      <td>Alice</td>\n",
              "      <td>Bess</td>\n",
              "      <td>Alice</td>\n",
              "      <td>Cody</td>\n",
              "      <td>Bess</td>\n",
              "      <td>Cody</td>\n",
              "      <td>Cody</td>\n",
              "      <td>Alice</td>\n",
              "      <td>Cody</td>\n",
              "      <td>Cody</td>\n",
              "      <td>Cody</td>\n",
              "      <td>Bess</td>\n",
              "      <td>Bess</td>\n",
              "    </tr>\n",
              "  </tbody>\n",
              "</table>\n",
              "</div>"
            ],
            "text/plain": [
              "<IPython.core.display.HTML object>"
            ]
          },
          "metadata": {
            "tags": []
          }
        }
      ]
    },
    {
      "cell_type": "markdown",
      "metadata": {
        "id": "rg9FqXOvGufq"
      },
      "source": [
        "##5. How to rank items in a multidimensional array using numpy?"
      ]
    },
    {
      "cell_type": "markdown",
      "metadata": {
        "id": "YI_kqDsT8I9r"
      },
      "source": [
        "**Problem:**\n",
        "Create a rank array of the same shape as a given numeric array, i.e. new array should contain numbers that correspond to the position of each item of the initial array if it had been flattened and sorted.\n",
        "\n",
        "**Explanation:**\n",
        "*   Suppose\n",
        "```python\n",
        "a = np.array([[ 65,  31,  57,  36,  27],\n",
        "              [ 18,  93,  77, 150, 151]])\n",
        "```\n",
        "*   Flatten initial array [ 65,  31,  57,  36,  27,  18,  93,  77, 150, 151]\n",
        "*   Sort it [ 18,  27,  31,  36,  57,  65,  77,  93, 150, 151]\n",
        "*   Consider 18, it has index 0 in the sorted array\n",
        "*   Place 0 instead of 18 into initial array\n",
        "*   Consider all the rest numbers same way"
      ]
    },
    {
      "cell_type": "code",
      "metadata": {
        "id": "B7-cGZJEGufq"
      },
      "source": [
        "import numpy as np\n",
        "\n",
        "# Input:\n",
        "a = np.array([[ 65,  31,  57,  36,  27],\n",
        "              [ 18,  93,  77, 150, 151]])\n",
        "\n",
        "# Enter your code here\n",
        "result =\n",
        "\n",
        "# Output\n",
        "print('initial matrix')\n",
        "visualize_array(a)\n",
        "print('result')\n",
        "visualize_array(result)"
      ],
      "execution_count": null,
      "outputs": []
    },
    {
      "cell_type": "code",
      "metadata": {
        "id": "wOrC_yz6Gufr",
        "cellView": "form",
        "colab": {
          "base_uri": "https://localhost:8080/",
          "height": 517
        },
        "outputId": "ae4ff78a-6e42-4662-abf1-d56bd84dcc42"
      },
      "source": [
        "#@title Solution (double click to see the source code)\n",
        "\n",
        "import numpy as np\n",
        "\n",
        "# Input:\n",
        "a = np.array([[ 65,  31,  57,  36,  27], [ 18,  93,  77, 150, 151]]) #@param\n",
        "\n",
        "# Solution\n",
        "result = a.ravel().argsort().argsort().reshape(a.shape)\n",
        "\n",
        "# Output\n",
        "print('initial matrix')\n",
        "visualize_array(a)\n",
        "print('result')\n",
        "visualize_array(result)"
      ],
      "execution_count": null,
      "outputs": [
        {
          "output_type": "stream",
          "text": [
            "initial matrix\n"
          ],
          "name": "stdout"
        },
        {
          "output_type": "display_data",
          "data": {
            "text/html": [
              "\n",
              "<style>\n",
              "table {\n",
              "  border-collapse: collapse;\n",
              "}\n",
              "\n",
              "td {\n",
              "  border: 3px solid #666666;\n",
              "  min-width:30px;\n",
              "  height: 30px;\n",
              "  position: relative; \n",
              "  text-align:center; \n",
              "  color: #474747;\n",
              "  font-size:20px;\n",
              "  font-weight: bolder;\n",
              "  padding: 19px;\n",
              "}\n",
              "\n",
              ".up{\n",
              "  position: absolute; \n",
              "  right: 0;\n",
              "  top: 0;\n",
              "  background: white;\n",
              "  text-align: right;\n",
              "  font-size: 16px;\n",
              "  font-family: Courier;\n",
              "  font-weight: bolder;\n",
              "  color: blue;\n",
              "  opacity: 1.0;\n",
              "  background-color:rgba(0, 0, 0, 0.0);\n",
              "}\n",
              "\n",
              ".down{\n",
              "  position: absolute; \n",
              "  right: 0;\n",
              "  bottom: 0;\n",
              "  background: white;\n",
              "  text-align: right;\n",
              "  font-size: 16px;\n",
              "  font-family: Courier;\n",
              "  font-weight: bolder;\n",
              "  color: red;\n",
              "  opacity: 0.9;\n",
              "  background-color:rgba(0, 0, 0, 0.0);\n",
              "}\n",
              "</style>\n",
              "<table bgcolor=\"4b64aa\">\n",
              "<tr>\t<td><table bgcolor=\"96c8ff\"><tr>\n",
              "\t<td>65<span class=\"up\">0</span><span class=\"down\">-5</span></td>\n",
              "\t<td>31<span class=\"up\">1</span><span class=\"down\">-4</span></td>\n",
              "\t<td>57<span class=\"up\">2</span><span class=\"down\">-3</span></td>\n",
              "\t<td>36<span class=\"up\">3</span><span class=\"down\">-2</span></td>\n",
              "\t<td>27<span class=\"up\">4</span><span class=\"down\">-1</span></td>\n",
              "</tr></table>\n",
              "<span class=\"up\">0</span><span class=\"down\">-2</span></td></tr>\n",
              "<tr>\t<td><table bgcolor=\"96c8ff\"><tr>\n",
              "\t<td>18<span class=\"up\">0</span><span class=\"down\">-5</span></td>\n",
              "\t<td>93<span class=\"up\">1</span><span class=\"down\">-4</span></td>\n",
              "\t<td>77<span class=\"up\">2</span><span class=\"down\">-3</span></td>\n",
              "\t<td>150<span class=\"up\">3</span><span class=\"down\">-2</span></td>\n",
              "\t<td>151<span class=\"up\">4</span><span class=\"down\">-1</span></td>\n",
              "</tr></table>\n",
              "<span class=\"up\">1</span><span class=\"down\">-1</span></td></tr>\n",
              "</table>\n"
            ],
            "text/plain": [
              "<IPython.core.display.HTML object>"
            ]
          },
          "metadata": {
            "tags": []
          }
        },
        {
          "output_type": "stream",
          "text": [
            "result\n"
          ],
          "name": "stdout"
        },
        {
          "output_type": "display_data",
          "data": {
            "text/html": [
              "\n",
              "<style>\n",
              "table {\n",
              "  border-collapse: collapse;\n",
              "}\n",
              "\n",
              "td {\n",
              "  border: 3px solid #666666;\n",
              "  min-width:30px;\n",
              "  height: 30px;\n",
              "  position: relative; \n",
              "  text-align:center; \n",
              "  color: #474747;\n",
              "  font-size:20px;\n",
              "  font-weight: bolder;\n",
              "  padding: 19px;\n",
              "}\n",
              "\n",
              ".up{\n",
              "  position: absolute; \n",
              "  right: 0;\n",
              "  top: 0;\n",
              "  background: white;\n",
              "  text-align: right;\n",
              "  font-size: 16px;\n",
              "  font-family: Courier;\n",
              "  font-weight: bolder;\n",
              "  color: blue;\n",
              "  opacity: 1.0;\n",
              "  background-color:rgba(0, 0, 0, 0.0);\n",
              "}\n",
              "\n",
              ".down{\n",
              "  position: absolute; \n",
              "  right: 0;\n",
              "  bottom: 0;\n",
              "  background: white;\n",
              "  text-align: right;\n",
              "  font-size: 16px;\n",
              "  font-family: Courier;\n",
              "  font-weight: bolder;\n",
              "  color: red;\n",
              "  opacity: 0.9;\n",
              "  background-color:rgba(0, 0, 0, 0.0);\n",
              "}\n",
              "</style>\n",
              "<table bgcolor=\"4b64aa\">\n",
              "<tr>\t<td><table bgcolor=\"96c8ff\"><tr>\n",
              "\t<td>5<span class=\"up\">0</span><span class=\"down\">-5</span></td>\n",
              "\t<td>2<span class=\"up\">1</span><span class=\"down\">-4</span></td>\n",
              "\t<td>4<span class=\"up\">2</span><span class=\"down\">-3</span></td>\n",
              "\t<td>3<span class=\"up\">3</span><span class=\"down\">-2</span></td>\n",
              "\t<td>1<span class=\"up\">4</span><span class=\"down\">-1</span></td>\n",
              "</tr></table>\n",
              "<span class=\"up\">0</span><span class=\"down\">-2</span></td></tr>\n",
              "<tr>\t<td><table bgcolor=\"96c8ff\"><tr>\n",
              "\t<td>0<span class=\"up\">0</span><span class=\"down\">-5</span></td>\n",
              "\t<td>7<span class=\"up\">1</span><span class=\"down\">-4</span></td>\n",
              "\t<td>6<span class=\"up\">2</span><span class=\"down\">-3</span></td>\n",
              "\t<td>8<span class=\"up\">3</span><span class=\"down\">-2</span></td>\n",
              "\t<td>9<span class=\"up\">4</span><span class=\"down\">-1</span></td>\n",
              "</tr></table>\n",
              "<span class=\"up\">1</span><span class=\"down\">-1</span></td></tr>\n",
              "</table>\n"
            ],
            "text/plain": [
              "<IPython.core.display.HTML object>"
            ]
          },
          "metadata": {
            "tags": []
          }
        }
      ]
    },
    {
      "cell_type": "markdown",
      "metadata": {
        "id": "uKxqEB2PGufu"
      },
      "source": [
        "##6. How to compute the min-by-max for each row for a numpy array 2d?"
      ]
    },
    {
      "cell_type": "markdown",
      "metadata": {
        "id": "S3RXbTTA0Uhg"
      },
      "source": [
        "**Problem:**\n",
        "Compute the min divided by max for each row of the given 2d numpy array."
      ]
    },
    {
      "cell_type": "code",
      "metadata": {
        "id": "zIdFC7F6Gufu"
      },
      "source": [
        "import numpy as np\n",
        "\n",
        "# Input\n",
        "a = np.array([[9, 9, 4],\n",
        "              [8, 8, 1],\n",
        "              [5, 3, 6]])\n",
        "\n",
        "# Enter your code here\n",
        "result =\n",
        "\n",
        "# Output\n",
        "print('initial matrix')\n",
        "visualize_array(a)\n",
        "print('result')\n",
        "visualize_array(result.round(2))"
      ],
      "execution_count": null,
      "outputs": []
    },
    {
      "cell_type": "code",
      "metadata": {
        "id": "-IPuGdudGufw",
        "cellView": "form",
        "colab": {
          "base_uri": "https://localhost:8080/",
          "height": 469
        },
        "outputId": "bdac7b59-249b-4bbf-88d3-0c8485ceddc6"
      },
      "source": [
        "#@title Solution (double click to see the source code)\n",
        "\n",
        "import numpy as np\n",
        "\n",
        "# Input\n",
        "a = np.array([[9, 9, 4], [8, 8, 1], [5, 3, 6]]) #@param\n",
        "\n",
        "# Solution\n",
        "result = np.apply_along_axis(lambda x: np.min(x)/np.max(x), arr=a, axis=1)\n",
        "\n",
        "# Output\n",
        "print('initial matrix')\n",
        "visualize_array(a)\n",
        "print('result')\n",
        "visualize_array(result.round(2))"
      ],
      "execution_count": null,
      "outputs": [
        {
          "output_type": "stream",
          "text": [
            "initial matrix\n"
          ],
          "name": "stdout"
        },
        {
          "output_type": "display_data",
          "data": {
            "text/html": [
              "\n",
              "<style>\n",
              "table {\n",
              "  border-collapse: collapse;\n",
              "}\n",
              "\n",
              "td {\n",
              "  border: 3px solid #666666;\n",
              "  min-width:30px;\n",
              "  height: 30px;\n",
              "  position: relative; \n",
              "  text-align:center; \n",
              "  color: #474747;\n",
              "  font-size:20px;\n",
              "  font-weight: bolder;\n",
              "  padding: 19px;\n",
              "}\n",
              "\n",
              ".up{\n",
              "  position: absolute; \n",
              "  right: 0;\n",
              "  top: 0;\n",
              "  background: white;\n",
              "  text-align: right;\n",
              "  font-size: 16px;\n",
              "  font-family: Courier;\n",
              "  font-weight: bolder;\n",
              "  color: blue;\n",
              "  opacity: 1.0;\n",
              "  background-color:rgba(0, 0, 0, 0.0);\n",
              "}\n",
              "\n",
              ".down{\n",
              "  position: absolute; \n",
              "  right: 0;\n",
              "  bottom: 0;\n",
              "  background: white;\n",
              "  text-align: right;\n",
              "  font-size: 16px;\n",
              "  font-family: Courier;\n",
              "  font-weight: bolder;\n",
              "  color: red;\n",
              "  opacity: 0.9;\n",
              "  background-color:rgba(0, 0, 0, 0.0);\n",
              "}\n",
              "</style>\n",
              "<table bgcolor=\"4b64aa\">\n",
              "<tr>\t<td><table bgcolor=\"96c8ff\"><tr>\n",
              "\t<td>9<span class=\"up\">0</span><span class=\"down\">-3</span></td>\n",
              "\t<td>9<span class=\"up\">1</span><span class=\"down\">-2</span></td>\n",
              "\t<td>4<span class=\"up\">2</span><span class=\"down\">-1</span></td>\n",
              "</tr></table>\n",
              "<span class=\"up\">0</span><span class=\"down\">-3</span></td></tr>\n",
              "<tr>\t<td><table bgcolor=\"96c8ff\"><tr>\n",
              "\t<td>8<span class=\"up\">0</span><span class=\"down\">-3</span></td>\n",
              "\t<td>8<span class=\"up\">1</span><span class=\"down\">-2</span></td>\n",
              "\t<td>1<span class=\"up\">2</span><span class=\"down\">-1</span></td>\n",
              "</tr></table>\n",
              "<span class=\"up\">1</span><span class=\"down\">-2</span></td></tr>\n",
              "<tr>\t<td><table bgcolor=\"96c8ff\"><tr>\n",
              "\t<td>5<span class=\"up\">0</span><span class=\"down\">-3</span></td>\n",
              "\t<td>3<span class=\"up\">1</span><span class=\"down\">-2</span></td>\n",
              "\t<td>6<span class=\"up\">2</span><span class=\"down\">-1</span></td>\n",
              "</tr></table>\n",
              "<span class=\"up\">2</span><span class=\"down\">-1</span></td></tr>\n",
              "</table>\n"
            ],
            "text/plain": [
              "<IPython.core.display.HTML object>"
            ]
          },
          "metadata": {
            "tags": []
          }
        },
        {
          "output_type": "stream",
          "text": [
            "result\n"
          ],
          "name": "stdout"
        },
        {
          "output_type": "display_data",
          "data": {
            "text/html": [
              "\n",
              "<style>\n",
              "table {\n",
              "  border-collapse: collapse;\n",
              "}\n",
              "\n",
              "td {\n",
              "  border: 3px solid #666666;\n",
              "  min-width:30px;\n",
              "  height: 30px;\n",
              "  position: relative; \n",
              "  text-align:center; \n",
              "  color: #474747;\n",
              "  font-size:20px;\n",
              "  font-weight: bolder;\n",
              "  padding: 19px;\n",
              "}\n",
              "\n",
              ".up{\n",
              "  position: absolute; \n",
              "  right: 0;\n",
              "  top: 0;\n",
              "  background: white;\n",
              "  text-align: right;\n",
              "  font-size: 16px;\n",
              "  font-family: Courier;\n",
              "  font-weight: bolder;\n",
              "  color: blue;\n",
              "  opacity: 1.0;\n",
              "  background-color:rgba(0, 0, 0, 0.0);\n",
              "}\n",
              "\n",
              ".down{\n",
              "  position: absolute; \n",
              "  right: 0;\n",
              "  bottom: 0;\n",
              "  background: white;\n",
              "  text-align: right;\n",
              "  font-size: 16px;\n",
              "  font-family: Courier;\n",
              "  font-weight: bolder;\n",
              "  color: red;\n",
              "  opacity: 0.9;\n",
              "  background-color:rgba(0, 0, 0, 0.0);\n",
              "}\n",
              "</style>\n",
              "<table bgcolor=\"96c8ff\"><tr>\n",
              "\t<td>0.44<span class=\"up\">0</span><span class=\"down\">-3</span></td>\n",
              "\t<td>0.12<span class=\"up\">1</span><span class=\"down\">-2</span></td>\n",
              "\t<td>0.5<span class=\"up\">2</span><span class=\"down\">-1</span></td>\n",
              "</tr></table>\n"
            ],
            "text/plain": [
              "<IPython.core.display.HTML object>"
            ]
          },
          "metadata": {
            "tags": []
          }
        }
      ]
    },
    {
      "cell_type": "markdown",
      "metadata": {
        "id": "JsbODT13Gufw"
      },
      "source": [
        "##7. How to find the duplicate records in a numpy array?"
      ]
    },
    {
      "cell_type": "markdown",
      "metadata": {
        "id": "lcFuh49ptL4O"
      },
      "source": [
        "**Problem:**\n",
        "Find the duplicate entries (2nd occurrence onwards) in the given numpy array and mark them as `True`. First time occurrences should be marked as `False`."
      ]
    },
    {
      "cell_type": "code",
      "metadata": {
        "id": "bteDv31VGufw"
      },
      "source": [
        "import numpy as np\n",
        "\n",
        "# Input\n",
        "arr = np.array([0, 0, 3, 0, 2, 4, 2, 2, 2, 2])\n",
        "\n",
        "# Enter your code here\n",
        "out =\n",
        "\n",
        "# Output\n",
        "print('initial matrix')\n",
        "visualize_array(arr)\n",
        "print('result')\n",
        "visualize_array(out)"
      ],
      "execution_count": null,
      "outputs": []
    },
    {
      "cell_type": "code",
      "metadata": {
        "id": "ZfrKPrcUGufy",
        "cellView": "form",
        "colab": {
          "base_uri": "https://localhost:8080/",
          "height": 199
        },
        "outputId": "96d86c98-57bd-46ac-9f22-d6a24a95a237"
      },
      "source": [
        "#@title Solution (double click to see the source code)\n",
        "\n",
        "import numpy as np\n",
        "\n",
        "# Input\n",
        "arr = np.array([0, 0, 3, 0, 2, 4, 2, 2, 2, 2]) #@param\n",
        "\n",
        "# Solution:\n",
        "out = np.full(arr.shape[0], True)\n",
        "unique_positions = np.unique(arr, return_index=True)[1]\n",
        "out[unique_positions] = False\n",
        "\n",
        "# Output\n",
        "print('initial matrix')\n",
        "visualize_array(arr)\n",
        "print('result')\n",
        "visualize_array(out)"
      ],
      "execution_count": null,
      "outputs": [
        {
          "output_type": "stream",
          "text": [
            "initial matrix\n"
          ],
          "name": "stdout"
        },
        {
          "output_type": "display_data",
          "data": {
            "text/html": [
              "\n",
              "<style>\n",
              "table {\n",
              "  border-collapse: collapse;\n",
              "}\n",
              "\n",
              "td {\n",
              "  border: 3px solid #666666;\n",
              "  min-width:30px;\n",
              "  height: 30px;\n",
              "  position: relative; \n",
              "  text-align:center; \n",
              "  color: #474747;\n",
              "  font-size:20px;\n",
              "  font-weight: bolder;\n",
              "  padding: 19px;\n",
              "}\n",
              "\n",
              ".up{\n",
              "  position: absolute; \n",
              "  right: 0;\n",
              "  top: 0;\n",
              "  background: white;\n",
              "  text-align: right;\n",
              "  font-size: 16px;\n",
              "  font-family: Courier;\n",
              "  font-weight: bolder;\n",
              "  color: blue;\n",
              "  opacity: 1.0;\n",
              "  background-color:rgba(0, 0, 0, 0.0);\n",
              "}\n",
              "\n",
              ".down{\n",
              "  position: absolute; \n",
              "  right: 0;\n",
              "  bottom: 0;\n",
              "  background: white;\n",
              "  text-align: right;\n",
              "  font-size: 16px;\n",
              "  font-family: Courier;\n",
              "  font-weight: bolder;\n",
              "  color: red;\n",
              "  opacity: 0.9;\n",
              "  background-color:rgba(0, 0, 0, 0.0);\n",
              "}\n",
              "</style>\n",
              "<table bgcolor=\"96c8ff\"><tr>\n",
              "\t<td>0<span class=\"up\">0</span><span class=\"down\">-10</span></td>\n",
              "\t<td>0<span class=\"up\">1</span><span class=\"down\">-9</span></td>\n",
              "\t<td>3<span class=\"up\">2</span><span class=\"down\">-8</span></td>\n",
              "\t<td>0<span class=\"up\">3</span><span class=\"down\">-7</span></td>\n",
              "\t<td>2<span class=\"up\">4</span><span class=\"down\">-6</span></td>\n",
              "\t<td>4<span class=\"up\">5</span><span class=\"down\">-5</span></td>\n",
              "\t<td>2<span class=\"up\">6</span><span class=\"down\">-4</span></td>\n",
              "\t<td>2<span class=\"up\">7</span><span class=\"down\">-3</span></td>\n",
              "\t<td>2<span class=\"up\">8</span><span class=\"down\">-2</span></td>\n",
              "\t<td>2<span class=\"up\">9</span><span class=\"down\">-1</span></td>\n",
              "</tr></table>\n"
            ],
            "text/plain": [
              "<IPython.core.display.HTML object>"
            ]
          },
          "metadata": {
            "tags": []
          }
        },
        {
          "output_type": "stream",
          "text": [
            "result\n"
          ],
          "name": "stdout"
        },
        {
          "output_type": "display_data",
          "data": {
            "text/html": [
              "\n",
              "<style>\n",
              "table {\n",
              "  border-collapse: collapse;\n",
              "}\n",
              "\n",
              "td {\n",
              "  border: 3px solid #666666;\n",
              "  min-width:30px;\n",
              "  height: 30px;\n",
              "  position: relative; \n",
              "  text-align:center; \n",
              "  color: #474747;\n",
              "  font-size:20px;\n",
              "  font-weight: bolder;\n",
              "  padding: 19px;\n",
              "}\n",
              "\n",
              ".up{\n",
              "  position: absolute; \n",
              "  right: 0;\n",
              "  top: 0;\n",
              "  background: white;\n",
              "  text-align: right;\n",
              "  font-size: 16px;\n",
              "  font-family: Courier;\n",
              "  font-weight: bolder;\n",
              "  color: blue;\n",
              "  opacity: 1.0;\n",
              "  background-color:rgba(0, 0, 0, 0.0);\n",
              "}\n",
              "\n",
              ".down{\n",
              "  position: absolute; \n",
              "  right: 0;\n",
              "  bottom: 0;\n",
              "  background: white;\n",
              "  text-align: right;\n",
              "  font-size: 16px;\n",
              "  font-family: Courier;\n",
              "  font-weight: bolder;\n",
              "  color: red;\n",
              "  opacity: 0.9;\n",
              "  background-color:rgba(0, 0, 0, 0.0);\n",
              "}\n",
              "</style>\n",
              "<table bgcolor=\"96c8ff\"><tr>\n",
              "\t<td>False<span class=\"up\">0</span><span class=\"down\">-10</span></td>\n",
              "\t<td>True<span class=\"up\">1</span><span class=\"down\">-9</span></td>\n",
              "\t<td>False<span class=\"up\">2</span><span class=\"down\">-8</span></td>\n",
              "\t<td>True<span class=\"up\">3</span><span class=\"down\">-7</span></td>\n",
              "\t<td>False<span class=\"up\">4</span><span class=\"down\">-6</span></td>\n",
              "\t<td>False<span class=\"up\">5</span><span class=\"down\">-5</span></td>\n",
              "\t<td>True<span class=\"up\">6</span><span class=\"down\">-4</span></td>\n",
              "\t<td>True<span class=\"up\">7</span><span class=\"down\">-3</span></td>\n",
              "\t<td>True<span class=\"up\">8</span><span class=\"down\">-2</span></td>\n",
              "\t<td>True<span class=\"up\">9</span><span class=\"down\">-1</span></td>\n",
              "</tr></table>\n"
            ],
            "text/plain": [
              "<IPython.core.display.HTML object>"
            ]
          },
          "metadata": {
            "tags": []
          }
        }
      ]
    },
    {
      "cell_type": "markdown",
      "metadata": {
        "id": "bHaZarCyGuf2"
      },
      "source": [
        "##8. How to compute the euclidean distance between two arrays?"
      ]
    },
    {
      "cell_type": "markdown",
      "metadata": {
        "id": "_SrkTAm2X6NE"
      },
      "source": [
        "**Problem:**\n",
        "Compute the euclidean distance between two arrays."
      ]
    },
    {
      "cell_type": "code",
      "metadata": {
        "id": "Nl75OrQ3Guf2"
      },
      "source": [
        "import numpy as np\n",
        "\n",
        "# Input\n",
        "a = np.array([1,2,3,4,5])\n",
        "b = np.array([4,5,6,7,8])\n",
        "\n",
        "# Enter your code here\n",
        "dist =\n",
        "\n",
        "# Output\n",
        "print('a')\n",
        "visualize_array(a)\n",
        "print('b')\n",
        "visualize_array(b)\n",
        "print('Euclidean distance: ', dist)"
      ],
      "execution_count": null,
      "outputs": []
    },
    {
      "cell_type": "code",
      "metadata": {
        "id": "t5WWK9TnGuf2",
        "cellView": "form",
        "colab": {
          "base_uri": "https://localhost:8080/",
          "height": 216
        },
        "outputId": "99d3f293-f5bb-4203-daf7-9e27288044a9"
      },
      "source": [
        "#@title Solution (double click to see the source code)\n",
        "\n",
        "import numpy as np\n",
        "\n",
        "# Input\n",
        "a = np.array([1,2,3,4,5]) #@param\n",
        "b = np.array([4,5,6,7,8]) #@param\n",
        "\n",
        "# Solution\n",
        "dist = np.linalg.norm(a-b)\n",
        "\n",
        "# Output\n",
        "print('a')\n",
        "visualize_array(a)\n",
        "print('b')\n",
        "visualize_array(b)\n",
        "print('Euclidean distance: ', dist)"
      ],
      "execution_count": null,
      "outputs": [
        {
          "output_type": "stream",
          "text": [
            "a\n"
          ],
          "name": "stdout"
        },
        {
          "output_type": "display_data",
          "data": {
            "text/html": [
              "\n",
              "<style>\n",
              "table {\n",
              "  border-collapse: collapse;\n",
              "}\n",
              "\n",
              "td {\n",
              "  border: 3px solid #666666;\n",
              "  min-width:30px;\n",
              "  height: 30px;\n",
              "  position: relative; \n",
              "  text-align:center; \n",
              "  color: #474747;\n",
              "  font-size:20px;\n",
              "  font-weight: bolder;\n",
              "  padding: 19px;\n",
              "}\n",
              "\n",
              ".up{\n",
              "  position: absolute; \n",
              "  right: 0;\n",
              "  top: 0;\n",
              "  background: white;\n",
              "  text-align: right;\n",
              "  font-size: 16px;\n",
              "  font-family: Courier;\n",
              "  font-weight: bolder;\n",
              "  color: blue;\n",
              "  opacity: 1.0;\n",
              "  background-color:rgba(0, 0, 0, 0.0);\n",
              "}\n",
              "\n",
              ".down{\n",
              "  position: absolute; \n",
              "  right: 0;\n",
              "  bottom: 0;\n",
              "  background: white;\n",
              "  text-align: right;\n",
              "  font-size: 16px;\n",
              "  font-family: Courier;\n",
              "  font-weight: bolder;\n",
              "  color: red;\n",
              "  opacity: 0.9;\n",
              "  background-color:rgba(0, 0, 0, 0.0);\n",
              "}\n",
              "</style>\n",
              "<table bgcolor=\"96c8ff\"><tr>\n",
              "\t<td>1<span class=\"up\">0</span><span class=\"down\">-5</span></td>\n",
              "\t<td>2<span class=\"up\">1</span><span class=\"down\">-4</span></td>\n",
              "\t<td>3<span class=\"up\">2</span><span class=\"down\">-3</span></td>\n",
              "\t<td>4<span class=\"up\">3</span><span class=\"down\">-2</span></td>\n",
              "\t<td>5<span class=\"up\">4</span><span class=\"down\">-1</span></td>\n",
              "</tr></table>\n"
            ],
            "text/plain": [
              "<IPython.core.display.HTML object>"
            ]
          },
          "metadata": {
            "tags": []
          }
        },
        {
          "output_type": "stream",
          "text": [
            "b\n"
          ],
          "name": "stdout"
        },
        {
          "output_type": "display_data",
          "data": {
            "text/html": [
              "\n",
              "<style>\n",
              "table {\n",
              "  border-collapse: collapse;\n",
              "}\n",
              "\n",
              "td {\n",
              "  border: 3px solid #666666;\n",
              "  min-width:30px;\n",
              "  height: 30px;\n",
              "  position: relative; \n",
              "  text-align:center; \n",
              "  color: #474747;\n",
              "  font-size:20px;\n",
              "  font-weight: bolder;\n",
              "  padding: 19px;\n",
              "}\n",
              "\n",
              ".up{\n",
              "  position: absolute; \n",
              "  right: 0;\n",
              "  top: 0;\n",
              "  background: white;\n",
              "  text-align: right;\n",
              "  font-size: 16px;\n",
              "  font-family: Courier;\n",
              "  font-weight: bolder;\n",
              "  color: blue;\n",
              "  opacity: 1.0;\n",
              "  background-color:rgba(0, 0, 0, 0.0);\n",
              "}\n",
              "\n",
              ".down{\n",
              "  position: absolute; \n",
              "  right: 0;\n",
              "  bottom: 0;\n",
              "  background: white;\n",
              "  text-align: right;\n",
              "  font-size: 16px;\n",
              "  font-family: Courier;\n",
              "  font-weight: bolder;\n",
              "  color: red;\n",
              "  opacity: 0.9;\n",
              "  background-color:rgba(0, 0, 0, 0.0);\n",
              "}\n",
              "</style>\n",
              "<table bgcolor=\"96c8ff\"><tr>\n",
              "\t<td>4<span class=\"up\">0</span><span class=\"down\">-5</span></td>\n",
              "\t<td>5<span class=\"up\">1</span><span class=\"down\">-4</span></td>\n",
              "\t<td>6<span class=\"up\">2</span><span class=\"down\">-3</span></td>\n",
              "\t<td>7<span class=\"up\">3</span><span class=\"down\">-2</span></td>\n",
              "\t<td>8<span class=\"up\">4</span><span class=\"down\">-1</span></td>\n",
              "</tr></table>\n"
            ],
            "text/plain": [
              "<IPython.core.display.HTML object>"
            ]
          },
          "metadata": {
            "tags": []
          }
        },
        {
          "output_type": "stream",
          "text": [
            "Euclidean distance:  6.708203932499369\n"
          ],
          "name": "stdout"
        }
      ]
    },
    {
      "cell_type": "markdown",
      "metadata": {
        "id": "H_7_9ryIGugA"
      },
      "source": [
        "##9. How to compute the moving average of a numpy array?"
      ]
    },
    {
      "cell_type": "markdown",
      "metadata": {
        "id": "lhnE_wmZqpmy"
      },
      "source": [
        "**Problem:**\n",
        "Compute the moving average.\n",
        "Window size and 1D array are given."
      ]
    },
    {
      "cell_type": "code",
      "metadata": {
        "id": "B_EtmOPaGugA"
      },
      "source": [
        "import numpy as np\n",
        "\n",
        "# Input\n",
        "arr = np.array([8, 8, 3, 7, 7, 0, 4, 2, 5, 2])\n",
        "wnd = 3\n",
        "\n",
        "# Enter your code here\n",
        "avg =\n",
        "\n",
        "# Output\n",
        "print('input')\n",
        "visualize_array(arr)\n",
        "print('average')\n",
        "visualize_array(avg.round(2))"
      ],
      "execution_count": null,
      "outputs": []
    },
    {
      "cell_type": "code",
      "metadata": {
        "id": "4lNSuKyOGugB",
        "cellView": "form",
        "colab": {
          "base_uri": "https://localhost:8080/",
          "height": 199
        },
        "outputId": "08787aeb-23fc-48a5-e1a9-7953a5749256"
      },
      "source": [
        "#@title Solution A (double click to see the source code)\n",
        "\n",
        "import numpy as np\n",
        "\n",
        "# Input\n",
        "arr = np.array([8, 8, 3, 7, 7, 0, 4, 2, 5, 2]) #@param\n",
        "wnd = 3 #@param\n",
        "\n",
        "# Solution\n",
        "avg = np.cumsum(arr, dtype=float)\n",
        "avg[wnd:] = avg[wnd:] - avg[:-wnd]\n",
        "avg = avg[wnd-1:]/wnd\n",
        "\n",
        "# Output\n",
        "print('input')\n",
        "visualize_array(arr)\n",
        "print('average')\n",
        "visualize_array(avg.round(2))"
      ],
      "execution_count": null,
      "outputs": [
        {
          "output_type": "stream",
          "text": [
            "input\n"
          ],
          "name": "stdout"
        },
        {
          "output_type": "display_data",
          "data": {
            "text/html": [
              "\n",
              "<style>\n",
              "table {\n",
              "  border-collapse: collapse;\n",
              "}\n",
              "\n",
              "td {\n",
              "  border: 3px solid #666666;\n",
              "  min-width:30px;\n",
              "  height: 30px;\n",
              "  position: relative; \n",
              "  text-align:center; \n",
              "  color: #474747;\n",
              "  font-size:20px;\n",
              "  font-weight: bolder;\n",
              "  padding: 19px;\n",
              "}\n",
              "\n",
              ".up{\n",
              "  position: absolute; \n",
              "  right: 0;\n",
              "  top: 0;\n",
              "  background: white;\n",
              "  text-align: right;\n",
              "  font-size: 16px;\n",
              "  font-family: Courier;\n",
              "  font-weight: bolder;\n",
              "  color: blue;\n",
              "  opacity: 1.0;\n",
              "  background-color:rgba(0, 0, 0, 0.0);\n",
              "}\n",
              "\n",
              ".down{\n",
              "  position: absolute; \n",
              "  right: 0;\n",
              "  bottom: 0;\n",
              "  background: white;\n",
              "  text-align: right;\n",
              "  font-size: 16px;\n",
              "  font-family: Courier;\n",
              "  font-weight: bolder;\n",
              "  color: red;\n",
              "  opacity: 0.9;\n",
              "  background-color:rgba(0, 0, 0, 0.0);\n",
              "}\n",
              "</style>\n",
              "<table bgcolor=\"96c8ff\"><tr>\n",
              "\t<td>8<span class=\"up\">0</span><span class=\"down\">-10</span></td>\n",
              "\t<td>8<span class=\"up\">1</span><span class=\"down\">-9</span></td>\n",
              "\t<td>3<span class=\"up\">2</span><span class=\"down\">-8</span></td>\n",
              "\t<td>7<span class=\"up\">3</span><span class=\"down\">-7</span></td>\n",
              "\t<td>7<span class=\"up\">4</span><span class=\"down\">-6</span></td>\n",
              "\t<td>0<span class=\"up\">5</span><span class=\"down\">-5</span></td>\n",
              "\t<td>4<span class=\"up\">6</span><span class=\"down\">-4</span></td>\n",
              "\t<td>2<span class=\"up\">7</span><span class=\"down\">-3</span></td>\n",
              "\t<td>5<span class=\"up\">8</span><span class=\"down\">-2</span></td>\n",
              "\t<td>2<span class=\"up\">9</span><span class=\"down\">-1</span></td>\n",
              "</tr></table>\n"
            ],
            "text/plain": [
              "<IPython.core.display.HTML object>"
            ]
          },
          "metadata": {
            "tags": []
          }
        },
        {
          "output_type": "stream",
          "text": [
            "average\n"
          ],
          "name": "stdout"
        },
        {
          "output_type": "display_data",
          "data": {
            "text/html": [
              "\n",
              "<style>\n",
              "table {\n",
              "  border-collapse: collapse;\n",
              "}\n",
              "\n",
              "td {\n",
              "  border: 3px solid #666666;\n",
              "  min-width:30px;\n",
              "  height: 30px;\n",
              "  position: relative; \n",
              "  text-align:center; \n",
              "  color: #474747;\n",
              "  font-size:20px;\n",
              "  font-weight: bolder;\n",
              "  padding: 19px;\n",
              "}\n",
              "\n",
              ".up{\n",
              "  position: absolute; \n",
              "  right: 0;\n",
              "  top: 0;\n",
              "  background: white;\n",
              "  text-align: right;\n",
              "  font-size: 16px;\n",
              "  font-family: Courier;\n",
              "  font-weight: bolder;\n",
              "  color: blue;\n",
              "  opacity: 1.0;\n",
              "  background-color:rgba(0, 0, 0, 0.0);\n",
              "}\n",
              "\n",
              ".down{\n",
              "  position: absolute; \n",
              "  right: 0;\n",
              "  bottom: 0;\n",
              "  background: white;\n",
              "  text-align: right;\n",
              "  font-size: 16px;\n",
              "  font-family: Courier;\n",
              "  font-weight: bolder;\n",
              "  color: red;\n",
              "  opacity: 0.9;\n",
              "  background-color:rgba(0, 0, 0, 0.0);\n",
              "}\n",
              "</style>\n",
              "<table bgcolor=\"96c8ff\"><tr>\n",
              "\t<td>6.33<span class=\"up\">0</span><span class=\"down\">-8</span></td>\n",
              "\t<td>6.0<span class=\"up\">1</span><span class=\"down\">-7</span></td>\n",
              "\t<td>5.67<span class=\"up\">2</span><span class=\"down\">-6</span></td>\n",
              "\t<td>4.67<span class=\"up\">3</span><span class=\"down\">-5</span></td>\n",
              "\t<td>3.67<span class=\"up\">4</span><span class=\"down\">-4</span></td>\n",
              "\t<td>2.0<span class=\"up\">5</span><span class=\"down\">-3</span></td>\n",
              "\t<td>3.67<span class=\"up\">6</span><span class=\"down\">-2</span></td>\n",
              "\t<td>3.0<span class=\"up\">7</span><span class=\"down\">-1</span></td>\n",
              "</tr></table>\n"
            ],
            "text/plain": [
              "<IPython.core.display.HTML object>"
            ]
          },
          "metadata": {
            "tags": []
          }
        }
      ]
    },
    {
      "cell_type": "code",
      "metadata": {
        "id": "bFKOZQUMGugC",
        "cellView": "form"
      },
      "source": [
        "#@title Solution B (double click to see the source code)\n",
        "\n",
        "import numpy as np\n",
        "\n",
        "# Input\n",
        "arr = np.array([8, 8, 3, 7, 7, 0, 4, 2, 5, 2]) #@param\n",
        "wnd = 3 #@param\n",
        "\n",
        "# Solution\n",
        "avg = np.convolve(arr, np.ones(wnd)/wnd, mode='valid')\n",
        "\n",
        "# Output\n",
        "print('input')\n",
        "visualize_array(arr)\n",
        "print('average')\n",
        "visualize_array(avg.round(2))"
      ],
      "execution_count": null,
      "outputs": []
    },
    {
      "cell_type": "markdown",
      "metadata": {
        "id": "e5UnbqaVOmYV"
      },
      "source": [
        "#Expert"
      ]
    },
    {
      "cell_type": "markdown",
      "metadata": {
        "id": "HVRcza403G8p"
      },
      "source": [
        "## Minesweeper."
      ]
    },
    {
      "cell_type": "markdown",
      "metadata": {
        "id": "KSWp5dmzthKU"
      },
      "source": [
        "* Write a function that by given `field_width` and `field_height` generates 2D numpy array that contains exactly `num_mines` of ones and the rest elements are zero."
      ]
    },
    {
      "cell_type": "code",
      "metadata": {
        "id": "8PD92BcwumFy"
      },
      "source": [
        "import numpy as np\n",
        "from itertools import product\n",
        "\n",
        "def generate_mines(field_width, field_height, num_mines):\n",
        "  # Enter your code here\n",
        "\n",
        "field_width = 5\n",
        "field_height = 3\n",
        "num_mines = 3\n",
        "field_mask = generate_mines(field_width, field_height, num_mines)\n",
        "visualize_array(field_mask)"
      ],
      "execution_count": null,
      "outputs": []
    },
    {
      "cell_type": "code",
      "metadata": {
        "id": "Fk7TM2z-t7u6",
        "cellView": "form",
        "colab": {
          "base_uri": "https://localhost:8080/",
          "height": 365
        },
        "outputId": "f362bdc7-5069-4d55-eb89-83d5dccf06b8"
      },
      "source": [
        "#@title Solution (double-click to see the code)\n",
        "\n",
        "import numpy as np\n",
        "from itertools import product\n",
        "\n",
        "def generate_mines(field_width, field_height, num_mines):\n",
        "  # generate random mines positions\n",
        "  all_positions = list(product(range(field_height), range(field_width)))\n",
        "  np.random.shuffle(all_positions)\n",
        "  all_positions = np.array(all_positions[:num_mines])\n",
        "\n",
        "  #create field\n",
        "  field = np.zeros(shape=(field_height, field_width), dtype=int)\n",
        "  field[all_positions.T[0], all_positions.T[1]] = 1\n",
        "  return field\n",
        "\n",
        "field_width = 5 #@param\n",
        "field_height = 3 #@param\n",
        "num_mines = 3 #@param\n",
        "field = generate_mines(field_width, field_height, num_mines)\n",
        "visualize_array(field)"
      ],
      "execution_count": null,
      "outputs": [
        {
          "output_type": "display_data",
          "data": {
            "text/html": [
              "\n",
              "<style>\n",
              "table {\n",
              "  border-collapse: collapse;\n",
              "}\n",
              "\n",
              "td {\n",
              "  border: 3px solid #666666;\n",
              "  min-width:30px;\n",
              "  height: 30px;\n",
              "  position: relative; \n",
              "  text-align:center; \n",
              "  color: #474747;\n",
              "  font-size:20px;\n",
              "  font-weight: bolder;\n",
              "  padding: 19px;\n",
              "}\n",
              "\n",
              ".up{\n",
              "  position: absolute; \n",
              "  right: 0;\n",
              "  top: 0;\n",
              "  background: white;\n",
              "  text-align: right;\n",
              "  font-size: 16px;\n",
              "  font-family: Courier;\n",
              "  font-weight: bolder;\n",
              "  color: blue;\n",
              "  opacity: 1.0;\n",
              "  background-color:rgba(0, 0, 0, 0.0);\n",
              "}\n",
              "\n",
              ".down{\n",
              "  position: absolute; \n",
              "  right: 0;\n",
              "  bottom: 0;\n",
              "  background: white;\n",
              "  text-align: right;\n",
              "  font-size: 16px;\n",
              "  font-family: Courier;\n",
              "  font-weight: bolder;\n",
              "  color: red;\n",
              "  opacity: 0.9;\n",
              "  background-color:rgba(0, 0, 0, 0.0);\n",
              "}\n",
              "</style>\n",
              "<table bgcolor=\"4b64aa\">\n",
              "<tr>\t<td><table bgcolor=\"96c8ff\"><tr>\n",
              "\t<td>1<span class=\"up\">0</span><span class=\"down\">-5</span></td>\n",
              "\t<td>0<span class=\"up\">1</span><span class=\"down\">-4</span></td>\n",
              "\t<td>0<span class=\"up\">2</span><span class=\"down\">-3</span></td>\n",
              "\t<td>1<span class=\"up\">3</span><span class=\"down\">-2</span></td>\n",
              "\t<td>0<span class=\"up\">4</span><span class=\"down\">-1</span></td>\n",
              "</tr></table>\n",
              "<span class=\"up\">0</span><span class=\"down\">-3</span></td></tr>\n",
              "<tr>\t<td><table bgcolor=\"96c8ff\"><tr>\n",
              "\t<td>0<span class=\"up\">0</span><span class=\"down\">-5</span></td>\n",
              "\t<td>0<span class=\"up\">1</span><span class=\"down\">-4</span></td>\n",
              "\t<td>0<span class=\"up\">2</span><span class=\"down\">-3</span></td>\n",
              "\t<td>0<span class=\"up\">3</span><span class=\"down\">-2</span></td>\n",
              "\t<td>1<span class=\"up\">4</span><span class=\"down\">-1</span></td>\n",
              "</tr></table>\n",
              "<span class=\"up\">1</span><span class=\"down\">-2</span></td></tr>\n",
              "<tr>\t<td><table bgcolor=\"96c8ff\"><tr>\n",
              "\t<td>0<span class=\"up\">0</span><span class=\"down\">-5</span></td>\n",
              "\t<td>0<span class=\"up\">1</span><span class=\"down\">-4</span></td>\n",
              "\t<td>0<span class=\"up\">2</span><span class=\"down\">-3</span></td>\n",
              "\t<td>0<span class=\"up\">3</span><span class=\"down\">-2</span></td>\n",
              "\t<td>0<span class=\"up\">4</span><span class=\"down\">-1</span></td>\n",
              "</tr></table>\n",
              "<span class=\"up\">2</span><span class=\"down\">-1</span></td></tr>\n",
              "</table>\n"
            ],
            "text/plain": [
              "<IPython.core.display.HTML object>"
            ]
          },
          "metadata": {
            "tags": []
          }
        }
      ]
    },
    {
      "cell_type": "markdown",
      "metadata": {
        "id": "PICuuZJSvdQw"
      },
      "source": [
        "* Given a `field_mask` -- array of zeros and ones (0 - no mine, 1 - mine) generate array `field` that contains number of neighbouring mines. Cells where the actual mines are positioned fill with -1 (negative one)."
      ]
    },
    {
      "cell_type": "code",
      "metadata": {
        "id": "qr6yhuFiwT6R"
      },
      "source": [
        "import numpy as np\n",
        "from scipy import signal\n",
        "\n",
        "def mask_to_field(field_mask):\n",
        "  # Enter your code here\n",
        "\n",
        "field_width = 5\n",
        "field_height = 3\n",
        "num_mines = 5\n",
        "field_mask = generate_mines(field_width, field_height, num_mines)\n",
        "field = mask_to_field(field_mask)\n",
        "visualize_array(field)"
      ],
      "execution_count": null,
      "outputs": []
    },
    {
      "cell_type": "code",
      "metadata": {
        "id": "VEtiD1a2vtHh",
        "cellView": "form",
        "colab": {
          "base_uri": "https://localhost:8080/",
          "height": 365
        },
        "outputId": "f1d1b8e6-8300-4666-d366-0026b606b29b"
      },
      "source": [
        "#@title Solution (double-click to see the code)\n",
        "\n",
        "import numpy as np\n",
        "from scipy import signal\n",
        "\n",
        "def mask_to_field(field_mask):\n",
        "  # count neighbours with convolution\n",
        "  ker = np.ones(shape=(3, 3), dtype=np.uint8)\n",
        "  neighbours = signal.convolve2d(field_mask, ker, mode='same', boundary='fill', fillvalue=0)\n",
        "\n",
        "  # final result\n",
        "  neighbours[field_mask == 1] = -1\n",
        "  return neighbours\n",
        "\n",
        "field_width = 5 #@param\n",
        "field_height = 3 #@param\n",
        "num_mines = 3 #@param\n",
        "field_mask = generate_mines(field_width, field_height, num_mines)\n",
        "field = mask_to_field(field_mask)\n",
        "visualize_array(field)"
      ],
      "execution_count": null,
      "outputs": [
        {
          "output_type": "display_data",
          "data": {
            "text/html": [
              "\n",
              "<style>\n",
              "table {\n",
              "  border-collapse: collapse;\n",
              "}\n",
              "\n",
              "td {\n",
              "  border: 3px solid #666666;\n",
              "  min-width:30px;\n",
              "  height: 30px;\n",
              "  position: relative; \n",
              "  text-align:center; \n",
              "  color: #474747;\n",
              "  font-size:20px;\n",
              "  font-weight: bolder;\n",
              "  padding: 19px;\n",
              "}\n",
              "\n",
              ".up{\n",
              "  position: absolute; \n",
              "  right: 0;\n",
              "  top: 0;\n",
              "  background: white;\n",
              "  text-align: right;\n",
              "  font-size: 16px;\n",
              "  font-family: Courier;\n",
              "  font-weight: bolder;\n",
              "  color: blue;\n",
              "  opacity: 1.0;\n",
              "  background-color:rgba(0, 0, 0, 0.0);\n",
              "}\n",
              "\n",
              ".down{\n",
              "  position: absolute; \n",
              "  right: 0;\n",
              "  bottom: 0;\n",
              "  background: white;\n",
              "  text-align: right;\n",
              "  font-size: 16px;\n",
              "  font-family: Courier;\n",
              "  font-weight: bolder;\n",
              "  color: red;\n",
              "  opacity: 0.9;\n",
              "  background-color:rgba(0, 0, 0, 0.0);\n",
              "}\n",
              "</style>\n",
              "<table bgcolor=\"4b64aa\">\n",
              "<tr>\t<td><table bgcolor=\"96c8ff\"><tr>\n",
              "\t<td>1<span class=\"up\">0</span><span class=\"down\">-5</span></td>\n",
              "\t<td>-1<span class=\"up\">1</span><span class=\"down\">-4</span></td>\n",
              "\t<td>1<span class=\"up\">2</span><span class=\"down\">-3</span></td>\n",
              "\t<td>0<span class=\"up\">3</span><span class=\"down\">-2</span></td>\n",
              "\t<td>0<span class=\"up\">4</span><span class=\"down\">-1</span></td>\n",
              "</tr></table>\n",
              "<span class=\"up\">0</span><span class=\"down\">-3</span></td></tr>\n",
              "<tr>\t<td><table bgcolor=\"96c8ff\"><tr>\n",
              "\t<td>3<span class=\"up\">0</span><span class=\"down\">-5</span></td>\n",
              "\t<td>3<span class=\"up\">1</span><span class=\"down\">-4</span></td>\n",
              "\t<td>2<span class=\"up\">2</span><span class=\"down\">-3</span></td>\n",
              "\t<td>0<span class=\"up\">3</span><span class=\"down\">-2</span></td>\n",
              "\t<td>0<span class=\"up\">4</span><span class=\"down\">-1</span></td>\n",
              "</tr></table>\n",
              "<span class=\"up\">1</span><span class=\"down\">-2</span></td></tr>\n",
              "<tr>\t<td><table bgcolor=\"96c8ff\"><tr>\n",
              "\t<td>-1<span class=\"up\">0</span><span class=\"down\">-5</span></td>\n",
              "\t<td>-1<span class=\"up\">1</span><span class=\"down\">-4</span></td>\n",
              "\t<td>1<span class=\"up\">2</span><span class=\"down\">-3</span></td>\n",
              "\t<td>0<span class=\"up\">3</span><span class=\"down\">-2</span></td>\n",
              "\t<td>0<span class=\"up\">4</span><span class=\"down\">-1</span></td>\n",
              "</tr></table>\n",
              "<span class=\"up\">2</span><span class=\"down\">-1</span></td></tr>\n",
              "</table>\n"
            ],
            "text/plain": [
              "<IPython.core.display.HTML object>"
            ]
          },
          "metadata": {
            "tags": []
          }
        }
      ]
    },
    {
      "cell_type": "markdown",
      "metadata": {
        "id": "g90oSj-gwy-P"
      },
      "source": [
        "* Run the following visualization to test your code"
      ]
    },
    {
      "cell_type": "code",
      "metadata": {
        "id": "zoRJ_ryLC5lQ",
        "cellView": "form",
        "colab": {
          "base_uri": "https://localhost:8080/",
          "height": 339
        },
        "outputId": "a3563273-6cf6-4ecb-a2c0-2f91351706e7"
      },
      "source": [
        "#@title Visualization\n",
        "\n",
        "import numpy as np\n",
        "\n",
        "field_width = 5 #@param\n",
        "field_height = 3 #@param\n",
        "num_mines = 3 #@param\n",
        "field_mask = generate_mines(field_width, field_height, num_mines)\n",
        "field = mask_to_field(field_mask)\n",
        "\n",
        "main_str = '''\n",
        "<style>\n",
        "  td {\n",
        "  border: 3px solid #666666;\n",
        "  min-width:30px;\n",
        "  height: 30px;\n",
        "  position: relative;\n",
        "  text-align:center;\n",
        "  color: #474747;\n",
        "  font-size:20px;\n",
        "  font-weight: bolder;\n",
        "  padding: 19px;\n",
        "  background-color: navy;\n",
        "}\n",
        "</style>\n",
        "\n",
        "<script>\n",
        "\n",
        "var data = ''' + field.tolist().__str__() + ''';\n",
        "\n",
        "var field_objs = [];\n",
        "\n",
        "function loose()\n",
        "{\n",
        "  document.getElementById(\"message\").innerHTML = 'You loose';\n",
        "  field_objs = [];\n",
        "}\n",
        "\n",
        "function check_win()\n",
        "{\n",
        "  var flag = false;\n",
        "  for (var y = 0; y < data.length; y++)\n",
        "     for (var x = 0; x < data[0].length; x++)\n",
        "         if (data[y][x] > 0)\n",
        "            flag = true;\n",
        "\n",
        "  if (!flag)\n",
        "  {\n",
        "    document.getElementById(\"message\").innerHTML = 'WINNER';\n",
        "    field_objs = [];\n",
        "  }\n",
        "}\n",
        "\n",
        "function process(x, y)\n",
        "{\n",
        "  obj = field_objs[y][x];\n",
        "  obj.style.backgroundColor = 'white';\n",
        "  if (data[y][x] != 0)\n",
        "  {\n",
        "    if (data[y][x] > 0)\n",
        "    {\n",
        "      obj.innerHTML = data[y][x];\n",
        "      data[y][x] = -5;\n",
        "      check_win();\n",
        "    }\n",
        "    if (data[y][x] == -1)\n",
        "    {\n",
        "      obj.innerHTML = '<img width=50 src=\"https://upload.wikimedia.org/wikipedia/commons/thumb/e/e0/Explosion.svg/200px-Explosion.svg.png\"></img>';\n",
        "      loose();\n",
        "    }\n",
        "  } else {\n",
        "      data[y][x] = -5;\n",
        "      if (x + 1 < data[0].length)\n",
        "          process(x + 1, y);\n",
        "      if (x - 1 >= 0)\n",
        "          process(x - 1, y);\n",
        "      if (y + 1 < data.length)\n",
        "          process(x, y + 1);\n",
        "      if (y - 1 >= 0)\n",
        "          process(x, y - 1);\n",
        "  }\n",
        "}\n",
        "</script>\n",
        "\n",
        "<div id=\"message\" style=\"font-size:50px;\"></div>\n",
        "<table id=\"field\">\n",
        "'''\n",
        "for y in range(field_height):\n",
        "  main_str += '<tr>\\n\\t'\n",
        "  for x in range(field_width):\n",
        "    main_str += '<td onclick=\"process(' + str(x) + ', ' + str(y) + ')\"></td>\\n\\t'\n",
        "  main_str += '</tr>'\n",
        "main_str += '''\n",
        "</table>\n",
        "\n",
        "<script>\n",
        "var table = document.getElementById(\"field\");\n",
        "var rows = table.getElementsByTagName(\"tr\");\n",
        "for (var i = 0; i < rows.length; i++)\n",
        "{\n",
        "    var cells = rows[i].getElementsByTagName(\"td\");\n",
        "    field_objs.push(cells);\n",
        "}\n",
        "</script>\n",
        "'''\n",
        "\n",
        "import IPython\n",
        "display(IPython.display.HTML(main_str))"
      ],
      "execution_count": null,
      "outputs": [
        {
          "output_type": "display_data",
          "data": {
            "text/html": [
              "\n",
              "<style>\n",
              "  td {\n",
              "  border: 3px solid #666666;\n",
              "  min-width:30px;\n",
              "  height: 30px;\n",
              "  position: relative; \n",
              "  text-align:center; \n",
              "  color: #474747;\n",
              "  font-size:20px;\n",
              "  font-weight: bolder;\n",
              "  padding: 19px;\n",
              "  background-color: navy;\n",
              "}\n",
              "</style>\n",
              "\n",
              "<script>\n",
              "\n",
              "var data = [[1, -1, 2, -1, 2], [1, 1, 2, 2, -1], [0, 0, 0, 1, 1]];\n",
              "\n",
              "var field_objs = [];\n",
              "\n",
              "function loose()\n",
              "{\n",
              "  document.getElementById(\"message\").innerHTML = 'You loose';\n",
              "  field_objs = [];\n",
              "}\n",
              "\n",
              "function check_win()\n",
              "{\n",
              "  var flag = false;\n",
              "  for (var y = 0; y < data.length; y++)\n",
              "     for (var x = 0; x < data[0].length; x++)\n",
              "         if (data[y][x] > 0)\n",
              "            flag = true;\n",
              "\n",
              "  if (!flag)\n",
              "  {\n",
              "    document.getElementById(\"message\").innerHTML = 'WINNER';\n",
              "    field_objs = [];\n",
              "  }\n",
              "}\n",
              "\n",
              "function process(x, y)\n",
              "{\n",
              "  obj = field_objs[y][x];\n",
              "  obj.style.backgroundColor = 'white';\n",
              "  if (data[y][x] != 0)\n",
              "  {\n",
              "    if (data[y][x] > 0)\n",
              "    {\n",
              "      obj.innerHTML = data[y][x];\n",
              "      data[y][x] = -5;\n",
              "      check_win();\n",
              "    }\n",
              "    if (data[y][x] == -1)\n",
              "    {\n",
              "      obj.innerHTML = '<img width=50 src=\"https://upload.wikimedia.org/wikipedia/commons/thumb/e/e0/Explosion.svg/200px-Explosion.svg.png\"></img>';\n",
              "      loose();\n",
              "    }\n",
              "  } else {\n",
              "      data[y][x] = -5;\n",
              "      if (x + 1 < data[0].length)\n",
              "          process(x + 1, y);\n",
              "      if (x - 1 >= 0)\n",
              "          process(x - 1, y);\n",
              "      if (y + 1 < data.length)\n",
              "          process(x, y + 1);\n",
              "      if (y - 1 >= 0)\n",
              "          process(x, y - 1);\n",
              "  }\n",
              "}\n",
              "</script>\n",
              "\n",
              "<div id=\"message\" style=\"font-size:50px;\"></div>\n",
              "<table id=\"field\">\n",
              "<tr>\n",
              "\t<td onclick=\"process(0, 0)\"></td>\n",
              "\t<td onclick=\"process(1, 0)\"></td>\n",
              "\t<td onclick=\"process(2, 0)\"></td>\n",
              "\t<td onclick=\"process(3, 0)\"></td>\n",
              "\t<td onclick=\"process(4, 0)\"></td>\n",
              "\t</tr><tr>\n",
              "\t<td onclick=\"process(0, 1)\"></td>\n",
              "\t<td onclick=\"process(1, 1)\"></td>\n",
              "\t<td onclick=\"process(2, 1)\"></td>\n",
              "\t<td onclick=\"process(3, 1)\"></td>\n",
              "\t<td onclick=\"process(4, 1)\"></td>\n",
              "\t</tr><tr>\n",
              "\t<td onclick=\"process(0, 2)\"></td>\n",
              "\t<td onclick=\"process(1, 2)\"></td>\n",
              "\t<td onclick=\"process(2, 2)\"></td>\n",
              "\t<td onclick=\"process(3, 2)\"></td>\n",
              "\t<td onclick=\"process(4, 2)\"></td>\n",
              "\t</tr>\n",
              "</table>\n",
              "\n",
              "<script>\n",
              "var table = document.getElementById(\"field\");\n",
              "var rows = table.getElementsByTagName(\"tr\");\n",
              "for (var i = 0; i < rows.length; i++) \n",
              "{\n",
              "    var cells = rows[i].getElementsByTagName(\"td\");\n",
              "    field_objs.push(cells);\n",
              "}\n",
              "</script>\n"
            ],
            "text/plain": [
              "<IPython.core.display.HTML object>"
            ]
          },
          "metadata": {
            "tags": []
          }
        }
      ]
    },
    {
      "cell_type": "markdown",
      "metadata": {
        "id": "KKVOjoeNkVDE"
      },
      "source": [
        "##Obesity Rate"
      ]
    },
    {
      "cell_type": "markdown",
      "metadata": {
        "id": "FC83A2HCi9LC"
      },
      "source": [
        "Let's explore the problem of obesity in USA.\n",
        "* First run the following code to load the dataset. You will get a numpy array `arr` that contains percentage of people having body mass index too high and `state` that contains corresponding abbreviations of the states. You may check the following [Wikipedia page](https://en.wikipedia.org/wiki/List_of_U.S._state_abbreviations) to get the full names."
      ]
    },
    {
      "cell_type": "code",
      "metadata": {
        "id": "7VKxudtjSrO2",
        "colab": {
          "base_uri": "https://localhost:8080/",
          "height": 170
        },
        "outputId": "9b11693b-6f2b-4143-87df-fd3640961239"
      },
      "source": [
        "import pandas as pd\n",
        "import numpy as np\n",
        "df = pd.read_json('https://vega.github.io/vega-datasets/data/obesity.json')\n",
        "arr = df['rate'].to_numpy()\n",
        "state = df['state'].to_numpy()\n",
        "print(arr)\n",
        "print(state)"
      ],
      "execution_count": null,
      "outputs": [
        {
          "output_type": "stream",
          "text": [
            "[0.187 0.198 0.133 0.175 0.151 0.1   0.125 0.171 0.172 0.133 0.108 0.142\n",
            " 0.167 0.201 0.175 0.159 0.169 0.177 0.141 0.163 0.117 0.182 0.153 0.195\n",
            " 0.189 0.134 0.163 0.133 0.151 0.145 0.13  0.139 0.169 0.164 0.175 0.135\n",
            " 0.152 0.169 0.132 0.167 0.139 0.184 0.159 0.14  0.146 0.157 0.139 0.183\n",
            " 0.16  0.143]\n",
            "['AL' 'AK' 'AZ' 'AR' 'CA' 'CO' 'CT' 'DE' 'FL' 'GA' 'HI' 'ID' 'IL' 'IN'\n",
            " 'IA' 'KS' 'KY' 'LA' 'ME' 'MD' 'MA' 'MI' 'MN' 'MS' 'MO' 'MT' 'NE' 'NV'\n",
            " 'NH' 'NJ' 'NM' 'NY' 'NC' 'ND' 'OH' 'OK' 'OR' 'PA' 'RI' 'SC' 'SD' 'TN'\n",
            " 'TX' 'UT' 'VT' 'VA' 'WA' 'WV' 'WI' 'WY']\n"
          ],
          "name": "stdout"
        }
      ]
    },
    {
      "cell_type": "markdown",
      "metadata": {
        "id": "4oQbOJZZlQdA"
      },
      "source": [
        "Analyze the data.\n",
        "* Print the total number of states considered in the given dataset;\n",
        "* Print the number of states without obesity at all;\n",
        "* Find the state with the highest obesity rate;\n",
        "* Find the state with the lowest obesity rate;\n",
        "* Print states that have obesity rate no larger than $0.12$;\n"
      ]
    },
    {
      "cell_type": "code",
      "metadata": {
        "id": "EQ_hbldKnH7L"
      },
      "source": [
        "#Enter your code here"
      ],
      "execution_count": null,
      "outputs": []
    },
    {
      "cell_type": "code",
      "metadata": {
        "id": "MejI86SvPxi8",
        "colab": {
          "base_uri": "https://localhost:8080/",
          "height": 102
        },
        "cellView": "form",
        "outputId": "9b5f8a0d-5e53-48fd-9c44-11a4682d2177"
      },
      "source": [
        "#@title Solution (double-click to see the code)\n",
        "\n",
        "print(\"The total number of states considered in the given dataset\", arr.shape[0])\n",
        "print(\"Number states without obesity: \", np.sum(d_rate == 0))\n",
        "print(\"The highest obesity \", np.max(arr), \" is in \", state[np.argmax(arr)])\n",
        "print(\"The lowest obesity \", np.min(arr), \" is in \", state[np.argmin(arr)])\n",
        "print(\"States with obesity <= 0.2: \", state[arr <= 0.12])"
      ],
      "execution_count": null,
      "outputs": [
        {
          "output_type": "stream",
          "text": [
            "The total number of states considered in the given dataset 50\n",
            "Number states without obesity:  0\n",
            "The highest obesity  0.201  is in  IN\n",
            "The lowest obesity  0.1  is in  CO\n",
            "States with obesity <= 0.2:  ['CO' 'HI' 'MA']\n"
          ],
          "name": "stdout"
        }
      ]
    },
    {
      "cell_type": "markdown",
      "metadata": {
        "id": "dG5OZiDAMkmb"
      },
      "source": [
        "##What Is the Average Weight of US Cars?"
      ]
    },
    {
      "cell_type": "markdown",
      "metadata": {
        "id": "LWGiY6gyyVD8"
      },
      "source": [
        "Let's explore US cars.\n",
        "\n",
        "* First run the following code to load the dataset. You will get a bunch of numpy arrays\n",
        "  - `name` -- car type, e.g. \"Daewoo\"\n",
        "  - `cylinders` -- number of cylinders, e.g. 8, 4, etc.\n",
        "  - `horsepower` -- car power\n",
        "  - `weight` -- weight of the car in lbs\n",
        "  - `acceleration` -- acceleration of the car"
      ]
    },
    {
      "cell_type": "code",
      "metadata": {
        "id": "dlE0QMn4xiyE"
      },
      "source": [
        "import pandas as pd\n",
        "import numpy as np\n",
        "\n",
        "df = pd.read_json('https://vega.github.io/vega-datasets/data/cars.json')\n",
        "name = df['Name'].to_numpy()\n",
        "cylinders = df['Cylinders'].to_numpy()\n",
        "horsepower = df['Horsepower'].to_numpy()\n",
        "weight = df['Weight_in_lbs'].to_numpy()\n",
        "acceleration = df['Acceleration'].to_numpy()"
      ],
      "execution_count": null,
      "outputs": []
    },
    {
      "cell_type": "markdown",
      "metadata": {
        "id": "Ecj_TcSn0aPc"
      },
      "source": [
        "Analyze the data\n",
        "\n",
        "* Check if data contains `nan`. If the column you are working with contains `nan`s, you will have to take this into account. you are completely free to choose a stratagy to deel with nans.\n",
        "* Convert pounds (lbs) to kilograms (kg), $1$ lbs = $0.45$ kg\n",
        "* Find the heaviest car\n",
        "* Find the lightest car\n",
        "* Find the average weight of the car\n",
        "* How many cylinders can a car have?\n",
        "* Find minimal and maximal weight for each number of cylinders.\n",
        "* If car $A$ has more cyliders than car $B$, is it necessarily heavier?\n",
        "* Find the most powerful car. How many cylinders does it have?\n",
        "* If car $A$ has more cyliders than car $B$, is it necessarily more powerful?\n",
        "* What is the biggest acceleration the car is capable of?\n",
        "* Any other interesting information you can extract"
      ]
    },
    {
      "cell_type": "code",
      "metadata": {
        "id": "1wlMFngn0hl7"
      },
      "source": [
        "#Enter your code here"
      ],
      "execution_count": null,
      "outputs": []
    },
    {
      "cell_type": "code",
      "metadata": {
        "id": "r9qPL5f640qm",
        "colab": {
          "base_uri": "https://localhost:8080/",
          "height": 478
        },
        "cellView": "form",
        "outputId": "a5a61e30-da88-46e8-df1c-80d68d42a073"
      },
      "source": [
        "#@title Solution (double-click to see the code)\n",
        "\n",
        "arrays = [cylinders, horsepower, weight, acceleration]\n",
        "names = ['cylinders', 'horsepower', 'weight', 'acceleration']\n",
        "for a,n in zip(arrays, names):\n",
        "  if np.isnan(a).any():\n",
        "    print(n, \" contains nans\")\n",
        "\n",
        "weight_kg = weight * 0.45 # convert to kg\n",
        "print(\"Minimum weight: \", weight_kg.min(), \" kg\")\n",
        "print(\"Maximum weight: \", weight_kg.max(), \" kg\")\n",
        "print(\"Mean weight: \", weight_kg.mean(), \" kg\")\n",
        "\n",
        "possible_cylinders = np.unique(cylinders)\n",
        "print(\"Cars can have \", possible_cylinders, \" cylinders\")\n",
        "\n",
        "for c in possible_cylinders:\n",
        "  print(\"=== cars with \", c, \" cylinders ===\")\n",
        "  w = weight_kg[cylinders == c]\n",
        "  print(\"Minimum weight: \", w.min(), \" kg\")\n",
        "  print(\"Maximum weight: \", w.max(), \" kg\")\n",
        "  print(\"Mean weight: \", w.mean(), \" kg\")\n",
        "\n",
        "sorted_weights = weight_kg[np.argsort(cylinders)]\n",
        "if np.all(np.diff(sorted_weights) >= 0):\n",
        "  print('cars with more cylinders are always heavier')\n",
        "else:\n",
        "  print('cars with more cylinders are NOT always heavier')"
      ],
      "execution_count": null,
      "outputs": [
        {
          "output_type": "stream",
          "text": [
            "horsepower  contains nans\n",
            "Minimum weight:  725.85  kg\n",
            "Maximum weight:  2313.0  kg\n",
            "Mean weight:  1340.7362068965515  kg\n",
            "Cars can have  [3 4 5 6 8]  cylinders\n",
            "=== cars with  3  cylinders ===\n",
            "Minimum weight:  955.8000000000001  kg\n",
            "Maximum weight:  1224.0  kg\n",
            "Mean weight:  1079.325  kg\n",
            "=== cars with  4  cylinders ===\n",
            "Minimum weight:  725.85  kg\n",
            "Maximum weight:  1471.5  kg\n",
            "Mean weight:  1040.708695652174  kg\n",
            "=== cars with  5  cylinders ===\n",
            "Minimum weight:  1273.5  kg\n",
            "Maximum weight:  1588.5  kg\n",
            "Mean weight:  1396.5  kg\n",
            "=== cars with  6  cylinders ===\n",
            "Minimum weight:  1112.4  kg\n",
            "Maximum weight:  1758.15  kg\n",
            "Mean weight:  1439.201785714286  kg\n",
            "=== cars with  8  cylinders ===\n",
            "Minimum weight:  1388.7  kg\n",
            "Maximum weight:  2313.0  kg\n",
            "Mean weight:  1847.3374999999999  kg\n",
            "cars with more cylinders are NOT always heavier\n"
          ],
          "name": "stdout"
        }
      ]
    },
    {
      "cell_type": "markdown",
      "metadata": {
        "id": "MaSBbH4S6tsg"
      },
      "source": [
        "##Selecting Random Points"
      ]
    },
    {
      "cell_type": "markdown",
      "metadata": {
        "id": "dA1rz6WFB3we"
      },
      "source": [
        "You are given `N` random 2D points `X`. You should select `M` of them and place into variable `Y`."
      ]
    },
    {
      "cell_type": "code",
      "metadata": {
        "id": "quRHM171CN7Z"
      },
      "source": [
        "import numpy as np\n",
        "\n",
        "# Input\n",
        "N = 10 # Number of random points\n",
        "M = 5  # Select this number of them\n",
        "\n",
        "mean = [0, 0]\n",
        "cov = [[1, 2], [2, 5]]\n",
        "X = np.random.multivariate_normal(mean, cov, N)\n",
        "\n",
        "# Enter your code here\n",
        "Y =\n",
        "\n",
        "# Plotting\n",
        "import matplotlib.pyplot as plt\n",
        "import seaborn; seaborn.set()\n",
        "plt.scatter(X[:, 0], X[:, 1], facecolor='blue', s=200, alpha=0.2)\n",
        "plt.scatter(Y[:, 0], Y[:, 1], facecolor='red', s=200, alpha=0.2);"
      ],
      "execution_count": null,
      "outputs": []
    },
    {
      "cell_type": "code",
      "metadata": {
        "id": "BPA6bhf76u07",
        "colab": {
          "base_uri": "https://localhost:8080/",
          "height": 268
        },
        "cellView": "form",
        "outputId": "ea2f2a27-bc9f-4db8-a53b-3de5a2b87bc5"
      },
      "source": [
        "#@title Solution (double-click to see the code)\n",
        "\n",
        "import numpy as np\n",
        "\n",
        "N = 10 # Number of random points\n",
        "M = 5  # Select this number of them\n",
        "\n",
        "mean = [0, 0]\n",
        "cov = [[1, 2], [2, 5]]\n",
        "X = np.random.multivariate_normal(mean, cov, N)\n",
        "\n",
        "indices = np.random.choice(X.shape[0], M, replace=False)\n",
        "Y = X[indices]\n",
        "\n",
        "import matplotlib.pyplot as plt\n",
        "import seaborn; seaborn.set()\n",
        "plt.scatter(X[:, 0], X[:, 1], facecolor='blue', s=200, alpha=0.2)\n",
        "plt.scatter(Y[:, 0], Y[:, 1], facecolor='red', s=200, alpha=0.2);"
      ],
      "execution_count": null,
      "outputs": [
        {
          "output_type": "display_data",
          "data": {
            "image/png": "[encoded data removed]",
            "text/plain": [
              "<Figure size 432x288 with 1 Axes>"
            ]
          },
          "metadata": {
            "tags": []
          }
        }
      ]
    },
    {
      "cell_type": "markdown",
      "metadata": {
        "id": "qUjJ6UqI-RnC"
      },
      "source": [
        "##Binning Data"
      ]
    },
    {
      "cell_type": "markdown",
      "metadata": {
        "id": "EAi-6Ehh9hMj"
      },
      "source": [
        "Given a bunch of random numbers `x` and bins `bins` create a histogram. You need to calculate `counts` -- an array of numbers that represent how many of `x`-s fall into range from `bins[i-1]` to `bins[i]`. You may want to use [`numpy.searchsorted` function](https://numpy.org/doc/stable/reference/generated/numpy.searchsorted.html)."
      ]
    },
    {
      "cell_type": "code",
      "metadata": {
        "id": "gOmvBQXL7od1"
      },
      "source": [
        "import numpy as np\n",
        "\n",
        "# input\n",
        "x = np.random.randn(100)\n",
        "bins = np.linspace(-5, 5, 20)\n",
        "\n",
        "# Enter your code here\n",
        "counts =\n",
        "\n",
        "\n",
        "# Plotting\n",
        "import matplotlib.pyplot as plt\n",
        "fig = plt.figure(figsize=(12,6))\n",
        "ax = fig.add_subplot(1,2,1)\n",
        "ax.plot(bins, counts, drawstyle='steps')\n",
        "ax = fig.add_subplot(1,2,2)\n",
        "ax.hist(x, bins, histtype='step');\n",
        "plt.show()"
      ],
      "execution_count": null,
      "outputs": []
    },
    {
      "cell_type": "code",
      "metadata": {
        "id": "2SMKhZAv-PSd",
        "colab": {
          "base_uri": "https://localhost:8080/",
          "height": 394
        },
        "cellView": "form",
        "outputId": "249d071d-e579-4845-f52c-eb8eb10335c8"
      },
      "source": [
        "#@title Solution (double-click to see the code)\n",
        "\n",
        "import numpy as np\n",
        "\n",
        "# input\n",
        "x = np.random.randn(100)\n",
        "bins = np.linspace(-5, 5, 20)\n",
        "\n",
        "# Solution\n",
        "counts = np.zeros_like(bins)   # compute a histogram by hand\n",
        "i = np.searchsorted(bins, x)   # find the appropriate bin for each x\n",
        "np.add.at(counts, i, 1)        # add 1 to each of these bins\n",
        "print(bins.shape, counts.shape)\n",
        "\n",
        "\n",
        "# Plotting\n",
        "import matplotlib.pyplot as plt\n",
        "fig = plt.figure(figsize=(12,6))\n",
        "ax = fig.add_subplot(1,2,1)\n",
        "ax.plot(bins, counts, drawstyle='steps')\n",
        "ax = fig.add_subplot(1,2,2)\n",
        "ax.hist(x, bins, histtype='step');\n",
        "plt.show()"
      ],
      "execution_count": null,
      "outputs": [
        {
          "output_type": "stream",
          "text": [
            "(20,) (20,)\n"
          ],
          "name": "stdout"
        },
        {
          "output_type": "display_data",
          "data": {
            "image/png": "[encoded data removed]",
            "text/plain": [
              "<Figure size 864x432 with 2 Axes>"
            ]
          },
          "metadata": {
            "tags": []
          }
        }
      ]
    },
    {
      "cell_type": "markdown",
      "metadata": {
        "id": "gEmjtrJBkBO8"
      },
      "source": [
        "## K-nearest neighbours"
      ]
    },
    {
      "cell_type": "markdown",
      "metadata": {
        "id": "EuV89q1Kk-Py"
      },
      "source": [
        "Complete function `get_nearest` so that it returns an array that contains coordinates of `N` nearest neighbours of `X`, i.e. the `i`-th element of the returned array shoud be `np.array` with `N` elements, each contains coordinates of the nearest neighbour.\n",
        "\n",
        "* Complete the function `get_nearest`\n",
        "* Check that your output coincides with the output of the hidden solution\n",
        "* Run the \"Visualize\" block to see how it works"
      ]
    },
    {
      "cell_type": "code",
      "metadata": {
        "id": "mer04v4Wisp7"
      },
      "source": [
        "import numpy as np\n",
        "\n",
        "def get_nearest(X, N):\n",
        "  # Enter your code here\n",
        "\n",
        "\n",
        "# Input\n",
        "X = np.array([[0.3, 0.1], [0.9, 0.3], [0.5, 0.1], [0.1, 0.9]])\n",
        "labels = ['Original point', 'first neighbour', 'second neighbour', 'third neighbour', 'fourth neighbour']\n",
        "N = len(labels) - 1\n",
        "nn = get_nearest(X, N)\n",
        "\n",
        "# Output\n",
        "from google.colab import data_table\n",
        "import pandas as pd\n",
        "arr = np.array([str((x[0], x[1])) for x in X])\n",
        "arr2 = np.array([[str((x[0], x[1])) for x in n] for n in nn])\n",
        "np.vstack([arr.T, arr2.T])\n",
        "dt = data_table.DataTable(pd.DataFrame(np.vstack([arr.T, arr2.T]), index=labels))#, index=['Name', 'Problems solved']))\n",
        "import IPython\n",
        "display(IPython.display.HTML(dt._repr_html_()))\n"
      ],
      "execution_count": null,
      "outputs": []
    },
    {
      "cell_type": "code",
      "metadata": {
        "id": "e_4F-1Hf1vHg",
        "cellView": "form",
        "colab": {
          "base_uri": "https://localhost:8080/",
          "height": 204
        },
        "outputId": "2641567a-8bf4-464e-d662-2fbc6eb806a5"
      },
      "source": [
        "#@title Solution (double click to see the source code)\n",
        "\n",
        "import numpy as np\n",
        "\n",
        "def get_nearest(X, N):\n",
        "  dist_sq = np.sum((X[:,np.newaxis,:] - X[np.newaxis,:,:]) ** 2, axis=-1)\n",
        "  nearest = np.argsort(dist_sq, axis=1)\n",
        "  return X[nearest[:, :N]]\n",
        "\n",
        "# Input\n",
        "X = np.array([[0.3, 0.1], [0.9, 0.3], [0.5, 0.1], [0.1, 0.9]]) #@param\n",
        "labels = ['Original point', 'first neighbour', 'second neighbour', 'third neighbour', 'fourth neighbour']  #@param\n",
        "N = len(labels) - 1\n",
        "nn = get_nearest(X, N)\n",
        "\n",
        "# Output\n",
        "from google.colab import data_table\n",
        "import pandas as pd\n",
        "arr = np.array([str((x[0], x[1])) for x in X])\n",
        "arr2 = np.array([[str((x[0], x[1])) for x in n] for n in nn])\n",
        "np.vstack([arr.T, arr2.T])\n",
        "dt = data_table.DataTable(pd.DataFrame(np.vstack([arr.T, arr2.T]), index=labels))#, index=['Name', 'Problems solved']))\n",
        "import IPython\n",
        "display(IPython.display.HTML(dt._repr_html_()))"
      ],
      "execution_count": null,
      "outputs": [
        {
          "output_type": "display_data",
          "data": {
            "text/html": [
              "<div>\n",
              "<style scoped>\n",
              "    .dataframe tbody tr th:only-of-type {\n",
              "        vertical-align: middle;\n",
              "    }\n",
              "\n",
              "    .dataframe tbody tr th {\n",
              "        vertical-align: top;\n",
              "    }\n",
              "\n",
              "    .dataframe thead th {\n",
              "        text-align: right;\n",
              "    }\n",
              "</style>\n",
              "<table border=\"1\" class=\"dataframe\">\n",
              "  <thead>\n",
              "    <tr style=\"text-align: right;\">\n",
              "      <th></th>\n",
              "      <th>0</th>\n",
              "      <th>1</th>\n",
              "      <th>2</th>\n",
              "      <th>3</th>\n",
              "    </tr>\n",
              "  </thead>\n",
              "  <tbody>\n",
              "    <tr>\n",
              "      <th>Original point</th>\n",
              "      <td>(0.3, 0.1)</td>\n",
              "      <td>(0.9, 0.3)</td>\n",
              "      <td>(0.5, 0.1)</td>\n",
              "      <td>(0.1, 0.9)</td>\n",
              "    </tr>\n",
              "    <tr>\n",
              "      <th>first neighbour</th>\n",
              "      <td>(0.3, 0.1)</td>\n",
              "      <td>(0.9, 0.3)</td>\n",
              "      <td>(0.5, 0.1)</td>\n",
              "      <td>(0.1, 0.9)</td>\n",
              "    </tr>\n",
              "    <tr>\n",
              "      <th>second neighbour</th>\n",
              "      <td>(0.5, 0.1)</td>\n",
              "      <td>(0.5, 0.1)</td>\n",
              "      <td>(0.3, 0.1)</td>\n",
              "      <td>(0.3, 0.1)</td>\n",
              "    </tr>\n",
              "    <tr>\n",
              "      <th>third neighbour</th>\n",
              "      <td>(0.9, 0.3)</td>\n",
              "      <td>(0.3, 0.1)</td>\n",
              "      <td>(0.9, 0.3)</td>\n",
              "      <td>(0.5, 0.1)</td>\n",
              "    </tr>\n",
              "    <tr>\n",
              "      <th>fourth neighbour</th>\n",
              "      <td>(0.1, 0.9)</td>\n",
              "      <td>(0.1, 0.9)</td>\n",
              "      <td>(0.1, 0.9)</td>\n",
              "      <td>(0.9, 0.3)</td>\n",
              "    </tr>\n",
              "  </tbody>\n",
              "</table>\n",
              "</div>"
            ],
            "text/plain": [
              "<IPython.core.display.HTML object>"
            ]
          },
          "metadata": {
            "tags": []
          }
        }
      ]
    },
    {
      "cell_type": "code",
      "metadata": {
        "id": "0ogImI2JkGdO",
        "cellView": "form"
      },
      "source": [
        "#@title Visualize get_nearest\n",
        "\n",
        "import numpy as np\n",
        "\n",
        "X = np.random.rand(30, 2) #@param\n",
        "\n",
        "\n",
        "import plotly.graph_objects as go\n",
        "\n",
        "fig = go.Figure()\n",
        "\n",
        "def add_plot(fig, X, N):\n",
        "  lst = get_nearest(X, N)\n",
        "  xfit, yfit = [], []\n",
        "  for (Xi, lst) in zip(X, get_nearest(X, N+1)):\n",
        "    for Xj in lst:\n",
        "      xfit.append(Xi[0]); xfit.append(Xj[0]); xfit.append(None)\n",
        "      yfit.append(Xi[1]); yfit.append(Xj[1]); yfit.append(None)\n",
        "\n",
        "  fig.add_trace(go.Scatter(mode=\"lines+markers\",\n",
        "      visible=False, line=dict(color=\"#00CED1\", width=3),\n",
        "      name= str(N) + \"-nearest neighbours\", marker=dict(color=\"#000000\"),\n",
        "      x=xfit, y=yfit))\n",
        "\n",
        "def make_steps(Nmax):\n",
        "  steps = []\n",
        "  for i in range(Nmax):\n",
        "    step = dict(method=\"restyle\",\n",
        "    args=[\"visible\", [False] * (Nmax + 1)],\n",
        "    label=str(i))\n",
        "    step[\"args\"][1][i] = True  # Toggle i'th trace to \"visible\"\n",
        "    steps.append(step)\n",
        "  return steps\n",
        "\n",
        "Nmax = 10\n",
        "for i in range(Nmax + 1):\n",
        "  add_plot(fig, X, i)\n",
        "fig.data[0].visible = True\n",
        "\n",
        "sliders = [dict(active=0, currentvalue={\"prefix\": \"Nearest neighbours: \"}, pad={\"t\": 50}, steps=make_steps(Nmax+1))]\n",
        "fig.update_layout(\n",
        "    width=600, height=600,\n",
        "    sliders=sliders,\n",
        "    #yaxis = {'range': [0.0, 1.0], 'autorange':False},\n",
        "    #xaxis = {'range': [0.0, 1.0], 'autorange':False}\n",
        ")\n",
        "fig.show()"
      ],
      "execution_count": null,
      "outputs": []
    }
  ]
}